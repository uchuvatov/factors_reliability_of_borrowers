{
 "cells": [
  {
   "cell_type": "markdown",
   "metadata": {},
   "source": [
    "# Исследование надёжности заёмщиков\n",
    "\n",
    "Заказчик — кредитный отдел банка. Необходимо определить наличие влияния семейного положения и количества детей клиента на факт погашения кредита в срок. Входные данные от банка — статистика о платёжеспособности клиентов.\n",
    "\n",
    "Результаты исследования будут учтены при построении модели **кредитного скоринга** — специальной системы, которая оценивает способность потенциального заёмщика вернуть кредит банку."
   ]
  },
  {
   "cell_type": "markdown",
   "metadata": {},
   "source": [
    "## Загрузка и изучение данных"
   ]
  },
  {
   "cell_type": "code",
   "execution_count": 1,
   "metadata": {},
   "outputs": [],
   "source": [
    "import matplotlib.pyplot as plt\n",
    "import pandas as pd \n",
    "\n",
    "from collections import Counter\n",
    "from pymystem3 import Mystem"
   ]
  },
  {
   "cell_type": "code",
   "execution_count": 2,
   "metadata": {},
   "outputs": [],
   "source": [
    "df = pd.read_csv(r'C:\\Users\\lebeda\\Yandex_Practicum\\Yandex_projects\\data_sets\\prjkt_2(sp4)\\data.csv')\n",
    "#чтение предоставленного файла "
   ]
  },
  {
   "cell_type": "code",
   "execution_count": 3,
   "metadata": {},
   "outputs": [
    {
     "data": {
      "text/html": [
       "<div>\n",
       "<style scoped>\n",
       "    .dataframe tbody tr th:only-of-type {\n",
       "        vertical-align: middle;\n",
       "    }\n",
       "\n",
       "    .dataframe tbody tr th {\n",
       "        vertical-align: top;\n",
       "    }\n",
       "\n",
       "    .dataframe thead th {\n",
       "        text-align: right;\n",
       "    }\n",
       "</style>\n",
       "<table border=\"1\" class=\"dataframe\">\n",
       "  <thead>\n",
       "    <tr style=\"text-align: right;\">\n",
       "      <th></th>\n",
       "      <th>children</th>\n",
       "      <th>days_employed</th>\n",
       "      <th>dob_years</th>\n",
       "      <th>education</th>\n",
       "      <th>education_id</th>\n",
       "      <th>family_status</th>\n",
       "      <th>family_status_id</th>\n",
       "      <th>gender</th>\n",
       "      <th>income_type</th>\n",
       "      <th>debt</th>\n",
       "      <th>total_income</th>\n",
       "      <th>purpose</th>\n",
       "    </tr>\n",
       "  </thead>\n",
       "  <tbody>\n",
       "    <tr>\n",
       "      <td>0</td>\n",
       "      <td>1</td>\n",
       "      <td>-8437.673028</td>\n",
       "      <td>42</td>\n",
       "      <td>высшее</td>\n",
       "      <td>0</td>\n",
       "      <td>женат / замужем</td>\n",
       "      <td>0</td>\n",
       "      <td>F</td>\n",
       "      <td>сотрудник</td>\n",
       "      <td>0</td>\n",
       "      <td>253875.639453</td>\n",
       "      <td>покупка жилья</td>\n",
       "    </tr>\n",
       "    <tr>\n",
       "      <td>1</td>\n",
       "      <td>1</td>\n",
       "      <td>-4024.803754</td>\n",
       "      <td>36</td>\n",
       "      <td>среднее</td>\n",
       "      <td>1</td>\n",
       "      <td>женат / замужем</td>\n",
       "      <td>0</td>\n",
       "      <td>F</td>\n",
       "      <td>сотрудник</td>\n",
       "      <td>0</td>\n",
       "      <td>112080.014102</td>\n",
       "      <td>приобретение автомобиля</td>\n",
       "    </tr>\n",
       "    <tr>\n",
       "      <td>2</td>\n",
       "      <td>0</td>\n",
       "      <td>-5623.422610</td>\n",
       "      <td>33</td>\n",
       "      <td>Среднее</td>\n",
       "      <td>1</td>\n",
       "      <td>женат / замужем</td>\n",
       "      <td>0</td>\n",
       "      <td>M</td>\n",
       "      <td>сотрудник</td>\n",
       "      <td>0</td>\n",
       "      <td>145885.952297</td>\n",
       "      <td>покупка жилья</td>\n",
       "    </tr>\n",
       "    <tr>\n",
       "      <td>3</td>\n",
       "      <td>3</td>\n",
       "      <td>-4124.747207</td>\n",
       "      <td>32</td>\n",
       "      <td>среднее</td>\n",
       "      <td>1</td>\n",
       "      <td>женат / замужем</td>\n",
       "      <td>0</td>\n",
       "      <td>M</td>\n",
       "      <td>сотрудник</td>\n",
       "      <td>0</td>\n",
       "      <td>267628.550329</td>\n",
       "      <td>дополнительное образование</td>\n",
       "    </tr>\n",
       "    <tr>\n",
       "      <td>4</td>\n",
       "      <td>0</td>\n",
       "      <td>340266.072047</td>\n",
       "      <td>53</td>\n",
       "      <td>среднее</td>\n",
       "      <td>1</td>\n",
       "      <td>гражданский брак</td>\n",
       "      <td>1</td>\n",
       "      <td>F</td>\n",
       "      <td>пенсионер</td>\n",
       "      <td>0</td>\n",
       "      <td>158616.077870</td>\n",
       "      <td>сыграть свадьбу</td>\n",
       "    </tr>\n",
       "    <tr>\n",
       "      <td>5</td>\n",
       "      <td>0</td>\n",
       "      <td>-926.185831</td>\n",
       "      <td>27</td>\n",
       "      <td>высшее</td>\n",
       "      <td>0</td>\n",
       "      <td>гражданский брак</td>\n",
       "      <td>1</td>\n",
       "      <td>M</td>\n",
       "      <td>компаньон</td>\n",
       "      <td>0</td>\n",
       "      <td>255763.565419</td>\n",
       "      <td>покупка жилья</td>\n",
       "    </tr>\n",
       "    <tr>\n",
       "      <td>6</td>\n",
       "      <td>0</td>\n",
       "      <td>-2879.202052</td>\n",
       "      <td>43</td>\n",
       "      <td>высшее</td>\n",
       "      <td>0</td>\n",
       "      <td>женат / замужем</td>\n",
       "      <td>0</td>\n",
       "      <td>F</td>\n",
       "      <td>компаньон</td>\n",
       "      <td>0</td>\n",
       "      <td>240525.971920</td>\n",
       "      <td>операции с жильем</td>\n",
       "    </tr>\n",
       "    <tr>\n",
       "      <td>7</td>\n",
       "      <td>0</td>\n",
       "      <td>-152.779569</td>\n",
       "      <td>50</td>\n",
       "      <td>СРЕДНЕЕ</td>\n",
       "      <td>1</td>\n",
       "      <td>женат / замужем</td>\n",
       "      <td>0</td>\n",
       "      <td>M</td>\n",
       "      <td>сотрудник</td>\n",
       "      <td>0</td>\n",
       "      <td>135823.934197</td>\n",
       "      <td>образование</td>\n",
       "    </tr>\n",
       "    <tr>\n",
       "      <td>8</td>\n",
       "      <td>2</td>\n",
       "      <td>-6929.865299</td>\n",
       "      <td>35</td>\n",
       "      <td>ВЫСШЕЕ</td>\n",
       "      <td>0</td>\n",
       "      <td>гражданский брак</td>\n",
       "      <td>1</td>\n",
       "      <td>F</td>\n",
       "      <td>сотрудник</td>\n",
       "      <td>0</td>\n",
       "      <td>95856.832424</td>\n",
       "      <td>на проведение свадьбы</td>\n",
       "    </tr>\n",
       "    <tr>\n",
       "      <td>9</td>\n",
       "      <td>0</td>\n",
       "      <td>-2188.756445</td>\n",
       "      <td>41</td>\n",
       "      <td>среднее</td>\n",
       "      <td>1</td>\n",
       "      <td>женат / замужем</td>\n",
       "      <td>0</td>\n",
       "      <td>M</td>\n",
       "      <td>сотрудник</td>\n",
       "      <td>0</td>\n",
       "      <td>144425.938277</td>\n",
       "      <td>покупка жилья для семьи</td>\n",
       "    </tr>\n",
       "  </tbody>\n",
       "</table>\n",
       "</div>"
      ],
      "text/plain": [
       "   children  days_employed  dob_years education  education_id  \\\n",
       "0         1   -8437.673028         42    высшее             0   \n",
       "1         1   -4024.803754         36   среднее             1   \n",
       "2         0   -5623.422610         33   Среднее             1   \n",
       "3         3   -4124.747207         32   среднее             1   \n",
       "4         0  340266.072047         53   среднее             1   \n",
       "5         0    -926.185831         27    высшее             0   \n",
       "6         0   -2879.202052         43    высшее             0   \n",
       "7         0    -152.779569         50   СРЕДНЕЕ             1   \n",
       "8         2   -6929.865299         35    ВЫСШЕЕ             0   \n",
       "9         0   -2188.756445         41   среднее             1   \n",
       "\n",
       "      family_status  family_status_id gender income_type  debt   total_income  \\\n",
       "0   женат / замужем                 0      F   сотрудник     0  253875.639453   \n",
       "1   женат / замужем                 0      F   сотрудник     0  112080.014102   \n",
       "2   женат / замужем                 0      M   сотрудник     0  145885.952297   \n",
       "3   женат / замужем                 0      M   сотрудник     0  267628.550329   \n",
       "4  гражданский брак                 1      F   пенсионер     0  158616.077870   \n",
       "5  гражданский брак                 1      M   компаньон     0  255763.565419   \n",
       "6   женат / замужем                 0      F   компаньон     0  240525.971920   \n",
       "7   женат / замужем                 0      M   сотрудник     0  135823.934197   \n",
       "8  гражданский брак                 1      F   сотрудник     0   95856.832424   \n",
       "9   женат / замужем                 0      M   сотрудник     0  144425.938277   \n",
       "\n",
       "                      purpose  \n",
       "0               покупка жилья  \n",
       "1     приобретение автомобиля  \n",
       "2               покупка жилья  \n",
       "3  дополнительное образование  \n",
       "4             сыграть свадьбу  \n",
       "5               покупка жилья  \n",
       "6           операции с жильем  \n",
       "7                 образование  \n",
       "8       на проведение свадьбы  \n",
       "9     покупка жилья для семьи  "
      ]
     },
     "execution_count": 3,
     "metadata": {},
     "output_type": "execute_result"
    }
   ],
   "source": [
    "df.head(10) #вывод первых 10 строк массива df для получения общего представленя о содержании таблицы"
   ]
  },
  {
   "cell_type": "code",
   "execution_count": 4,
   "metadata": {
    "scrolled": false
   },
   "outputs": [
    {
     "name": "stdout",
     "output_type": "stream",
     "text": [
      "<class 'pandas.core.frame.DataFrame'>\n",
      "RangeIndex: 21525 entries, 0 to 21524\n",
      "Data columns (total 12 columns):\n",
      "children            21525 non-null int64\n",
      "days_employed       19351 non-null float64\n",
      "dob_years           21525 non-null int64\n",
      "education           21525 non-null object\n",
      "education_id        21525 non-null int64\n",
      "family_status       21525 non-null object\n",
      "family_status_id    21525 non-null int64\n",
      "gender              21525 non-null object\n",
      "income_type         21525 non-null object\n",
      "debt                21525 non-null int64\n",
      "total_income        19351 non-null float64\n",
      "purpose             21525 non-null object\n",
      "dtypes: float64(2), int64(5), object(5)\n",
      "memory usage: 2.0+ MB\n"
     ]
    }
   ],
   "source": [
    "df.info(10)#получение cводной информации о содержании таблицы"
   ]
  },
  {
   "cell_type": "code",
   "execution_count": 5,
   "metadata": {
    "scrolled": false
   },
   "outputs": [
    {
     "data": {
      "text/html": [
       "<div>\n",
       "<style scoped>\n",
       "    .dataframe tbody tr th:only-of-type {\n",
       "        vertical-align: middle;\n",
       "    }\n",
       "\n",
       "    .dataframe tbody tr th {\n",
       "        vertical-align: top;\n",
       "    }\n",
       "\n",
       "    .dataframe thead th {\n",
       "        text-align: right;\n",
       "    }\n",
       "</style>\n",
       "<table border=\"1\" class=\"dataframe\">\n",
       "  <thead>\n",
       "    <tr style=\"text-align: right;\">\n",
       "      <th></th>\n",
       "      <th>children</th>\n",
       "      <th>days_employed</th>\n",
       "      <th>dob_years</th>\n",
       "      <th>education</th>\n",
       "      <th>education_id</th>\n",
       "      <th>family_status</th>\n",
       "      <th>family_status_id</th>\n",
       "      <th>gender</th>\n",
       "      <th>income_type</th>\n",
       "      <th>debt</th>\n",
       "      <th>total_income</th>\n",
       "      <th>purpose</th>\n",
       "    </tr>\n",
       "  </thead>\n",
       "  <tbody>\n",
       "    <tr>\n",
       "      <td>count</td>\n",
       "      <td>21525.000000</td>\n",
       "      <td>19351.000000</td>\n",
       "      <td>21525.000000</td>\n",
       "      <td>21525</td>\n",
       "      <td>21525.000000</td>\n",
       "      <td>21525</td>\n",
       "      <td>21525.000000</td>\n",
       "      <td>21525</td>\n",
       "      <td>21525</td>\n",
       "      <td>21525.000000</td>\n",
       "      <td>1.935100e+04</td>\n",
       "      <td>21525</td>\n",
       "    </tr>\n",
       "    <tr>\n",
       "      <td>unique</td>\n",
       "      <td>NaN</td>\n",
       "      <td>NaN</td>\n",
       "      <td>NaN</td>\n",
       "      <td>15</td>\n",
       "      <td>NaN</td>\n",
       "      <td>5</td>\n",
       "      <td>NaN</td>\n",
       "      <td>3</td>\n",
       "      <td>8</td>\n",
       "      <td>NaN</td>\n",
       "      <td>NaN</td>\n",
       "      <td>38</td>\n",
       "    </tr>\n",
       "    <tr>\n",
       "      <td>top</td>\n",
       "      <td>NaN</td>\n",
       "      <td>NaN</td>\n",
       "      <td>NaN</td>\n",
       "      <td>среднее</td>\n",
       "      <td>NaN</td>\n",
       "      <td>женат / замужем</td>\n",
       "      <td>NaN</td>\n",
       "      <td>F</td>\n",
       "      <td>сотрудник</td>\n",
       "      <td>NaN</td>\n",
       "      <td>NaN</td>\n",
       "      <td>свадьба</td>\n",
       "    </tr>\n",
       "    <tr>\n",
       "      <td>freq</td>\n",
       "      <td>NaN</td>\n",
       "      <td>NaN</td>\n",
       "      <td>NaN</td>\n",
       "      <td>13750</td>\n",
       "      <td>NaN</td>\n",
       "      <td>12380</td>\n",
       "      <td>NaN</td>\n",
       "      <td>14236</td>\n",
       "      <td>11119</td>\n",
       "      <td>NaN</td>\n",
       "      <td>NaN</td>\n",
       "      <td>797</td>\n",
       "    </tr>\n",
       "    <tr>\n",
       "      <td>mean</td>\n",
       "      <td>0.538908</td>\n",
       "      <td>63046.497661</td>\n",
       "      <td>43.293380</td>\n",
       "      <td>NaN</td>\n",
       "      <td>0.817236</td>\n",
       "      <td>NaN</td>\n",
       "      <td>0.972544</td>\n",
       "      <td>NaN</td>\n",
       "      <td>NaN</td>\n",
       "      <td>0.080883</td>\n",
       "      <td>1.674223e+05</td>\n",
       "      <td>NaN</td>\n",
       "    </tr>\n",
       "    <tr>\n",
       "      <td>std</td>\n",
       "      <td>1.381587</td>\n",
       "      <td>140827.311974</td>\n",
       "      <td>12.574584</td>\n",
       "      <td>NaN</td>\n",
       "      <td>0.548138</td>\n",
       "      <td>NaN</td>\n",
       "      <td>1.420324</td>\n",
       "      <td>NaN</td>\n",
       "      <td>NaN</td>\n",
       "      <td>0.272661</td>\n",
       "      <td>1.029716e+05</td>\n",
       "      <td>NaN</td>\n",
       "    </tr>\n",
       "    <tr>\n",
       "      <td>min</td>\n",
       "      <td>-1.000000</td>\n",
       "      <td>-18388.949901</td>\n",
       "      <td>0.000000</td>\n",
       "      <td>NaN</td>\n",
       "      <td>0.000000</td>\n",
       "      <td>NaN</td>\n",
       "      <td>0.000000</td>\n",
       "      <td>NaN</td>\n",
       "      <td>NaN</td>\n",
       "      <td>0.000000</td>\n",
       "      <td>2.066726e+04</td>\n",
       "      <td>NaN</td>\n",
       "    </tr>\n",
       "    <tr>\n",
       "      <td>25%</td>\n",
       "      <td>0.000000</td>\n",
       "      <td>-2747.423625</td>\n",
       "      <td>33.000000</td>\n",
       "      <td>NaN</td>\n",
       "      <td>1.000000</td>\n",
       "      <td>NaN</td>\n",
       "      <td>0.000000</td>\n",
       "      <td>NaN</td>\n",
       "      <td>NaN</td>\n",
       "      <td>0.000000</td>\n",
       "      <td>1.030532e+05</td>\n",
       "      <td>NaN</td>\n",
       "    </tr>\n",
       "    <tr>\n",
       "      <td>50%</td>\n",
       "      <td>0.000000</td>\n",
       "      <td>-1203.369529</td>\n",
       "      <td>42.000000</td>\n",
       "      <td>NaN</td>\n",
       "      <td>1.000000</td>\n",
       "      <td>NaN</td>\n",
       "      <td>0.000000</td>\n",
       "      <td>NaN</td>\n",
       "      <td>NaN</td>\n",
       "      <td>0.000000</td>\n",
       "      <td>1.450179e+05</td>\n",
       "      <td>NaN</td>\n",
       "    </tr>\n",
       "    <tr>\n",
       "      <td>75%</td>\n",
       "      <td>1.000000</td>\n",
       "      <td>-291.095954</td>\n",
       "      <td>53.000000</td>\n",
       "      <td>NaN</td>\n",
       "      <td>1.000000</td>\n",
       "      <td>NaN</td>\n",
       "      <td>1.000000</td>\n",
       "      <td>NaN</td>\n",
       "      <td>NaN</td>\n",
       "      <td>0.000000</td>\n",
       "      <td>2.034351e+05</td>\n",
       "      <td>NaN</td>\n",
       "    </tr>\n",
       "    <tr>\n",
       "      <td>max</td>\n",
       "      <td>20.000000</td>\n",
       "      <td>401755.400475</td>\n",
       "      <td>75.000000</td>\n",
       "      <td>NaN</td>\n",
       "      <td>4.000000</td>\n",
       "      <td>NaN</td>\n",
       "      <td>4.000000</td>\n",
       "      <td>NaN</td>\n",
       "      <td>NaN</td>\n",
       "      <td>1.000000</td>\n",
       "      <td>2.265604e+06</td>\n",
       "      <td>NaN</td>\n",
       "    </tr>\n",
       "  </tbody>\n",
       "</table>\n",
       "</div>"
      ],
      "text/plain": [
       "            children  days_employed     dob_years education  education_id  \\\n",
       "count   21525.000000   19351.000000  21525.000000     21525  21525.000000   \n",
       "unique           NaN            NaN           NaN        15           NaN   \n",
       "top              NaN            NaN           NaN   среднее           NaN   \n",
       "freq             NaN            NaN           NaN     13750           NaN   \n",
       "mean        0.538908   63046.497661     43.293380       NaN      0.817236   \n",
       "std         1.381587  140827.311974     12.574584       NaN      0.548138   \n",
       "min        -1.000000  -18388.949901      0.000000       NaN      0.000000   \n",
       "25%         0.000000   -2747.423625     33.000000       NaN      1.000000   \n",
       "50%         0.000000   -1203.369529     42.000000       NaN      1.000000   \n",
       "75%         1.000000    -291.095954     53.000000       NaN      1.000000   \n",
       "max        20.000000  401755.400475     75.000000       NaN      4.000000   \n",
       "\n",
       "          family_status  family_status_id gender income_type          debt  \\\n",
       "count             21525      21525.000000  21525       21525  21525.000000   \n",
       "unique                5               NaN      3           8           NaN   \n",
       "top     женат / замужем               NaN      F   сотрудник           NaN   \n",
       "freq              12380               NaN  14236       11119           NaN   \n",
       "mean                NaN          0.972544    NaN         NaN      0.080883   \n",
       "std                 NaN          1.420324    NaN         NaN      0.272661   \n",
       "min                 NaN          0.000000    NaN         NaN      0.000000   \n",
       "25%                 NaN          0.000000    NaN         NaN      0.000000   \n",
       "50%                 NaN          0.000000    NaN         NaN      0.000000   \n",
       "75%                 NaN          1.000000    NaN         NaN      0.000000   \n",
       "max                 NaN          4.000000    NaN         NaN      1.000000   \n",
       "\n",
       "        total_income  purpose  \n",
       "count   1.935100e+04    21525  \n",
       "unique           NaN       38  \n",
       "top              NaN  свадьба  \n",
       "freq             NaN      797  \n",
       "mean    1.674223e+05      NaN  \n",
       "std     1.029716e+05      NaN  \n",
       "min     2.066726e+04      NaN  \n",
       "25%     1.030532e+05      NaN  \n",
       "50%     1.450179e+05      NaN  \n",
       "75%     2.034351e+05      NaN  \n",
       "max     2.265604e+06      NaN  "
      ]
     },
     "execution_count": 5,
     "metadata": {},
     "output_type": "execute_result"
    }
   ],
   "source": [
    "df.describe(include = 'all')#получение статистик"
   ]
  },
  {
   "cell_type": "markdown",
   "metadata": {},
   "source": [
    "Согласно пердложенному описанию данных таблица отображает следующую информацию (по колонкам соответсвенно):\n",
    "\n",
    "    children — количество детей в семье\n",
    "    days_employed — общий трудовой стаж в днях\n",
    "    dob_years — возраст клиента в годах\n",
    "    education — уровень образования клиента\n",
    "    education_id — идентификатор уровня образования\n",
    "    family_status — семейное положение\n",
    "    family_status_id — идентификатор семейного положения\n",
    "    gender — пол клиента\n",
    "    income_type — тип занятости\n",
    "    debt — имел ли задолженность по возврату кредитов\n",
    "    total_income — ежемесячный доход\n",
    "    purpose — цель получения кредита\n",
    "\n",
    "Таблица включает 21525 строк и 12 столбцов и представлена такими типами данны как object, int64, float64 (в зависимсости от описываемого столбца). \n",
    "\n",
    "По отдельным столбцам (days_employed, total_income) присутствуют пропуски данных.\n",
    "\n",
    "Значения колонки days_employed представлены в неудобном для восприятия формате - вещественные числа(отрицательные и положительные), кроме того в пятой строке видно наличие артефакта - 340266.072047 дней - что соответсвует более чем 900 годам трудового стажа.\n",
    "\n",
    "Значения колонки education записаны в разном регистре .\n",
    "\n",
    "Значения колонки purpose не унифицированы (при идентичных по смыслу целях получения кредита формулировки могут отличаться).\n",
    "\n",
    "В таблице отсутствую данные, позволяющие точно идентифицировать клиента (личный учётный номер(ID), блок \"фамилия, имя, отчетсво\", номер мобильного телефона или адрес регистрации), что, возможно, может сказаться на их дальнейшей обработке. "
   ]
  },
  {
   "cell_type": "code",
   "execution_count": 6,
   "metadata": {
    "scrolled": false
   },
   "outputs": [
    {
     "data": {
      "text/plain": [
       "Index(['children', 'days_employed', 'dob_years', 'education', 'education_id',\n",
       "       'family_status', 'family_status_id', 'gender', 'income_type', 'debt',\n",
       "       'total_income', 'purpose'],\n",
       "      dtype='object')"
      ]
     },
     "execution_count": 6,
     "metadata": {},
     "output_type": "execute_result"
    }
   ],
   "source": [
    "df.columns #получение перечня названий столбцов таблицы"
   ]
  },
  {
   "cell_type": "markdown",
   "metadata": {},
   "source": [
    "Замечания к стилю оформления названий столбцов отсутсвтуют (латиница, нижний регистр, \"змеиный стиль\", отсутсвие пробелов и отступов)."
   ]
  },
  {
   "cell_type": "markdown",
   "metadata": {},
   "source": [
    "**Вывод**"
   ]
  },
  {
   "cell_type": "markdown",
   "metadata": {},
   "source": [
    "Каждая строка таблицы содержит информацию о потенциальном клиенте-кридитозаемщик. В колонках можно выделить следующие блоки  информации: общая информация о клиенте (возраст, пол, уровень образования), семейное положение (количество детей, статус семеных отношений),информация о трудовой деятелности (стаж работы, тип занятости), прочие данные,  необходимые банку для оценки возможности выдачи кредита (уровень дохода, цель кредита, наличие просрочек погашения кредита).\n",
    "\n",
    "Необходимо обработать пропуски данных, проверить наличие дубликатов, проанализировать тип данных и устранить проблемы, связанные с унификацией значений отдельных столбцов. "
   ]
  },
  {
   "cell_type": "markdown",
   "metadata": {},
   "source": [
    "## Предобработка данных"
   ]
  },
  {
   "cell_type": "markdown",
   "metadata": {},
   "source": [
    "### Обработка пропусков"
   ]
  },
  {
   "cell_type": "code",
   "execution_count": 7,
   "metadata": {
    "scrolled": false
   },
   "outputs": [
    {
     "data": {
      "text/plain": [
       "children               0\n",
       "days_employed       2174\n",
       "dob_years              0\n",
       "education              0\n",
       "education_id           0\n",
       "family_status          0\n",
       "family_status_id       0\n",
       "gender                 0\n",
       "income_type            0\n",
       "debt                   0\n",
       "total_income        2174\n",
       "purpose                0\n",
       "dtype: int64"
      ]
     },
     "execution_count": 7,
     "metadata": {},
     "output_type": "execute_result"
    }
   ],
   "source": [
    "df.isna().sum() #определим колличество пропущенных значений в столбцах "
   ]
  },
  {
   "cell_type": "markdown",
   "metadata": {},
   "source": [
    "В подтверждение информации, полученной на этапе ознакомления с данными, имеем по 2174 пропуска в двух столбцах:\n",
    "'days_employed' и 'total_income' "
   ]
  },
  {
   "cell_type": "markdown",
   "metadata": {},
   "source": [
    "Выдвинем и проверим предположение, что пропуски в 'days_employed' и 'total_income' находятся в одних и тех же строках и между ними существует какая-либо взаимосвязь."
   ]
  },
  {
   "cell_type": "markdown",
   "metadata": {},
   "source": [
    "Для точного подтверждения совпадения отсутсвия данных в столбцах 'days_employed' и 'total_income' в одних и тех же строках по всей таблице проведем логическое сложение по двум столбцам  c применением булиевых значений наличия/отсутсвия значений и применим метод подсчета уникальных значений к полученной серии. Если количество значений True(логическая сумма для пустых значений) будет равна вышеполученным значениям количества пропусков в обоих столбцах, то есть 2174 - предположение верно, если больше - значит пропущенные значения находятся в разных строках."
   ]
  },
  {
   "cell_type": "code",
   "execution_count": 8,
   "metadata": {},
   "outputs": [
    {
     "data": {
      "text/plain": [
       "False    19351\n",
       "True      2174\n",
       "dtype: int64"
      ]
     },
     "execution_count": 8,
     "metadata": {},
     "output_type": "execute_result"
    }
   ],
   "source": [
    "(df.days_employed.isna() & df.total_income.isna()).value_counts()"
   ]
  },
  {
   "cell_type": "markdown",
   "metadata": {},
   "source": [
    "Предположение верно, 2174 значения пропущены в столбцах 'days_employed' и 'total_income' в одних и тех же строках.\n",
    "\n",
    "Наличие подобного рода связи в исследуемом массиве данных может быть результатом некорректной обработки получаемых от клиентов данных (различие в банковском ПО или его версиях и настройках в разных отделениях банка, различие в служебных инструкциях и индивидуальные особенности банковских служащих, некорректная работа web-форм для on-line обслуживания клиентов) и последующего их объединения в общий статистический файл в целом по банку или его структурному подразделению."
   ]
  },
  {
   "cell_type": "markdown",
   "metadata": {},
   "source": [
    "Проведем экспересс - анализ на наличие в столбцах пропусков-плейсхолдеров. Ввиду большого объема данных попробуем найти пропуски такого типа  методом value_count() в тех столбцах, где вероятность получения длинного списка уникальных значений мала: типы показателей и значения их индфикатора id. А стобцы с большим объемом числовых записей ('days_employed', \t'dob_years', 'total_income') исследуем на значения минимумов, максимумов и нулей, как пердполагаемых плейсхолдеров."
   ]
  },
  {
   "cell_type": "code",
   "execution_count": 9,
   "metadata": {
    "scrolled": true
   },
   "outputs": [
    {
     "data": {
      "text/plain": [
       "'children'"
      ]
     },
     "metadata": {},
     "output_type": "display_data"
    },
    {
     "data": {
      "text/plain": [
       " 0     14149\n",
       " 1      4818\n",
       " 2      2055\n",
       " 3       330\n",
       " 20       76\n",
       "-1        47\n",
       " 4        41\n",
       " 5         9\n",
       "Name: children, dtype: int64"
      ]
     },
     "metadata": {},
     "output_type": "display_data"
    },
    {
     "data": {
      "text/plain": [
       "'education'"
      ]
     },
     "metadata": {},
     "output_type": "display_data"
    },
    {
     "data": {
      "text/plain": [
       "среднее                13750\n",
       "высшее                  4718\n",
       "СРЕДНЕЕ                  772\n",
       "Среднее                  711\n",
       "неоконченное высшее      668\n",
       "ВЫСШЕЕ                   274\n",
       "Высшее                   268\n",
       "начальное                250\n",
       "Неоконченное высшее       47\n",
       "НЕОКОНЧЕННОЕ ВЫСШЕЕ       29\n",
       "НАЧАЛЬНОЕ                 17\n",
       "Начальное                 15\n",
       "ученая степень             4\n",
       "УЧЕНАЯ СТЕПЕНЬ             1\n",
       "Ученая степень             1\n",
       "Name: education, dtype: int64"
      ]
     },
     "metadata": {},
     "output_type": "display_data"
    },
    {
     "data": {
      "text/plain": [
       "'education_id'"
      ]
     },
     "metadata": {},
     "output_type": "display_data"
    },
    {
     "data": {
      "text/plain": [
       "1    15233\n",
       "0     5260\n",
       "2      744\n",
       "3      282\n",
       "4        6\n",
       "Name: education_id, dtype: int64"
      ]
     },
     "metadata": {},
     "output_type": "display_data"
    },
    {
     "data": {
      "text/plain": [
       "'family_status_id'"
      ]
     },
     "metadata": {},
     "output_type": "display_data"
    },
    {
     "data": {
      "text/plain": [
       "0    12380\n",
       "1     4177\n",
       "4     2813\n",
       "3     1195\n",
       "2      960\n",
       "Name: family_status_id, dtype: int64"
      ]
     },
     "metadata": {},
     "output_type": "display_data"
    },
    {
     "data": {
      "text/plain": [
       "'family_status'"
      ]
     },
     "metadata": {},
     "output_type": "display_data"
    },
    {
     "data": {
      "text/plain": [
       "женат / замужем          12380\n",
       "гражданский брак          4177\n",
       "Не женат / не замужем     2813\n",
       "в разводе                 1195\n",
       "вдовец / вдова             960\n",
       "Name: family_status, dtype: int64"
      ]
     },
     "metadata": {},
     "output_type": "display_data"
    },
    {
     "data": {
      "text/plain": [
       "'gender'"
      ]
     },
     "metadata": {},
     "output_type": "display_data"
    },
    {
     "data": {
      "text/plain": [
       "F      14236\n",
       "M       7288\n",
       "XNA        1\n",
       "Name: gender, dtype: int64"
      ]
     },
     "metadata": {},
     "output_type": "display_data"
    },
    {
     "data": {
      "text/plain": [
       "'income_type'"
      ]
     },
     "metadata": {},
     "output_type": "display_data"
    },
    {
     "data": {
      "text/plain": [
       "сотрудник          11119\n",
       "компаньон           5085\n",
       "пенсионер           3856\n",
       "госслужащий         1459\n",
       "безработный            2\n",
       "предприниматель        2\n",
       "студент                1\n",
       "в декрете              1\n",
       "Name: income_type, dtype: int64"
      ]
     },
     "metadata": {},
     "output_type": "display_data"
    },
    {
     "data": {
      "text/plain": [
       "'debt'"
      ]
     },
     "metadata": {},
     "output_type": "display_data"
    },
    {
     "data": {
      "text/plain": [
       "0    19784\n",
       "1     1741\n",
       "Name: debt, dtype: int64"
      ]
     },
     "metadata": {},
     "output_type": "display_data"
    },
    {
     "data": {
      "text/plain": [
       "'purpose'"
      ]
     },
     "metadata": {},
     "output_type": "display_data"
    },
    {
     "data": {
      "text/plain": [
       "свадьба                                   797\n",
       "на проведение свадьбы                     777\n",
       "сыграть свадьбу                           774\n",
       "операции с недвижимостью                  676\n",
       "покупка коммерческой недвижимости         664\n",
       "операции с жильем                         653\n",
       "покупка жилья для сдачи                   653\n",
       "операции с коммерческой недвижимостью     651\n",
       "жилье                                     647\n",
       "покупка жилья                             647\n",
       "покупка жилья для семьи                   641\n",
       "строительство собственной недвижимости    635\n",
       "недвижимость                              634\n",
       "операции со своей недвижимостью           630\n",
       "строительство жилой недвижимости          626\n",
       "покупка недвижимости                      624\n",
       "покупка своего жилья                      620\n",
       "строительство недвижимости                620\n",
       "ремонт жилью                              612\n",
       "покупка жилой недвижимости                607\n",
       "на покупку своего автомобиля              505\n",
       "заняться высшим образованием              496\n",
       "автомобиль                                495\n",
       "сделка с подержанным автомобилем          489\n",
       "свой автомобиль                           480\n",
       "на покупку подержанного автомобиля        479\n",
       "автомобили                                478\n",
       "на покупку автомобиля                     472\n",
       "приобретение автомобиля                   462\n",
       "дополнительное образование                462\n",
       "сделка с автомобилем                      455\n",
       "высшее образование                        453\n",
       "получение дополнительного образования     447\n",
       "образование                               447\n",
       "получение образования                     443\n",
       "профильное образование                    436\n",
       "получение высшего образования             426\n",
       "заняться образованием                     412\n",
       "Name: purpose, dtype: int64"
      ]
     },
     "metadata": {},
     "output_type": "display_data"
    }
   ],
   "source": [
    "lower_list = ['children', 'education', 'education_id','family_status_id', 'family_status', 'gender', 'income_type', 'debt', 'purpose']\n",
    "\n",
    "for i in lower_list:\n",
    "    display(i)\n",
    "    display(df[i].value_counts())\n",
    "    "
   ]
  },
  {
   "cell_type": "markdown",
   "metadata": {},
   "source": [
    "Просморт на предмет пропусков-плейсхолдеров выявил следующие особенности: \n",
    "\n",
    "1- в столбце 'children' два явных \"артефакта\": 76 записей со значением \"20\", 47 записей со значеним \"-1\": если гворить о значении \"-1\", то тут явно видна ошибка с занесением (например использование знака \"минус\" в качестве дефиса), для значения \"20\" не всё очевидно, это могут буть и реальные семьи(например, с приемными детьми), а может быть и ошибка, ведь между значениями в пять и двадцать детей других значений нет - четко определить границу истинности таких данных сложно.\n",
    "\n",
    "2- в столбце пола клиента 'gender' присутствует значение 'XNA', что вероятно соответствует ошибке; \n",
    "\n",
    "3 -  количество \"номеров\" идентификатор 'education_id' и 'family_status_id' совпадает с количетвом уникальных значений столбцов 'education', 'family_status' без учета регистра - что может означать отсутствие дубликатов (обнаруженное наличие разного регистра в записях данных можно использовать для дальнейше обработке и определении дубликатов).\n",
    "\n",
    "\n",
    "Для чистоты возможных исследований в зависимости от количества детей и пола заемщика обработаем данные следующим образом: отрицательные значения по количеству детей приведем к положительным, для занчений - 20 проведем удаление строк, для строки, содержащей значение пола клиента 'XNA' также проведем удаление (потеря данных 77/21525 * 100 = 0,36%)."
   ]
  },
  {
   "cell_type": "code",
   "execution_count": 10,
   "metadata": {
    "scrolled": false
   },
   "outputs": [],
   "source": [
    "df = df[df['children'] != 20].reset_index(drop=True)\n",
    "df = df[df['gender'] != 'XNA'].reset_index(drop=True)\n",
    "df.loc[df['children'] == -1, 'children'] = df['children'].abs()"
   ]
  },
  {
   "cell_type": "code",
   "execution_count": 11,
   "metadata": {},
   "outputs": [
    {
     "data": {
      "text/plain": [
       "F    14189\n",
       "M     7259\n",
       "Name: gender, dtype: int64"
      ]
     },
     "execution_count": 11,
     "metadata": {},
     "output_type": "execute_result"
    }
   ],
   "source": [
    "df['gender'].value_counts()"
   ]
  },
  {
   "cell_type": "code",
   "execution_count": 12,
   "metadata": {},
   "outputs": [
    {
     "data": {
      "text/plain": [
       "0    14148\n",
       "1     4865\n",
       "2     2055\n",
       "3      330\n",
       "4       41\n",
       "5        9\n",
       "Name: children, dtype: int64"
      ]
     },
     "execution_count": 12,
     "metadata": {},
     "output_type": "execute_result"
    }
   ],
   "source": [
    "df['children'].value_counts()#проверка уникальных значений"
   ]
  },
  {
   "cell_type": "markdown",
   "metadata": {},
   "source": [
    "Анализ столбцов 'days_employed', 'dob_years', 'total_income' на значения минимумов, максимумов и нулей, как пердполагаемых плейсхолдеров (часто повторяющихся и имеющих \"характерный\" вид -  несколько одинаковых цифровых знаков)."
   ]
  },
  {
   "cell_type": "code",
   "execution_count": 13,
   "metadata": {
    "scrolled": false
   },
   "outputs": [
    {
     "data": {
      "text/html": [
       "<div>\n",
       "<style scoped>\n",
       "    .dataframe tbody tr th:only-of-type {\n",
       "        vertical-align: middle;\n",
       "    }\n",
       "\n",
       "    .dataframe tbody tr th {\n",
       "        vertical-align: top;\n",
       "    }\n",
       "\n",
       "    .dataframe thead th {\n",
       "        text-align: right;\n",
       "    }\n",
       "</style>\n",
       "<table border=\"1\" class=\"dataframe\">\n",
       "  <thead>\n",
       "    <tr style=\"text-align: right;\">\n",
       "      <th></th>\n",
       "      <th>name</th>\n",
       "      <th>maximum</th>\n",
       "      <th>maximum_count</th>\n",
       "      <th>minimum</th>\n",
       "      <th>minimum_count</th>\n",
       "      <th>zero_count</th>\n",
       "    </tr>\n",
       "  </thead>\n",
       "  <tbody>\n",
       "    <tr>\n",
       "      <td>0</td>\n",
       "      <td>days_employed</td>\n",
       "      <td>4.017554e+05</td>\n",
       "      <td>1</td>\n",
       "      <td>-18388.949901</td>\n",
       "      <td>1</td>\n",
       "      <td>0</td>\n",
       "    </tr>\n",
       "    <tr>\n",
       "      <td>1</td>\n",
       "      <td>dob_years</td>\n",
       "      <td>7.500000e+01</td>\n",
       "      <td>1</td>\n",
       "      <td>0.000000</td>\n",
       "      <td>100</td>\n",
       "      <td>100</td>\n",
       "    </tr>\n",
       "    <tr>\n",
       "      <td>2</td>\n",
       "      <td>total_income</td>\n",
       "      <td>2.265604e+06</td>\n",
       "      <td>1</td>\n",
       "      <td>20667.263793</td>\n",
       "      <td>1</td>\n",
       "      <td>0</td>\n",
       "    </tr>\n",
       "  </tbody>\n",
       "</table>\n",
       "</div>"
      ],
      "text/plain": [
       "            name       maximum  maximum_count       minimum  minimum_count  \\\n",
       "0  days_employed  4.017554e+05              1 -18388.949901              1   \n",
       "1      dob_years  7.500000e+01              1      0.000000            100   \n",
       "2   total_income  2.265604e+06              1  20667.263793              1   \n",
       "\n",
       "   zero_count  \n",
       "0           0  \n",
       "1         100  \n",
       "2           0  "
      ]
     },
     "execution_count": 13,
     "metadata": {},
     "output_type": "execute_result"
    }
   ],
   "source": [
    "maximum = [df['days_employed'].max(), df['dob_years'].max(), df['total_income'].max()] \n",
    "maximum_count = [df[df['days_employed'] == df['days_employed'].max()]['days_employed'].count(),\n",
    "                df[df['dob_years'] == df['dob_years'].max()]['dob_years'].count(),\n",
    "                df[df['total_income'] == df['total_income'].max()]['total_income'].count()]\n",
    "minimum = [df['days_employed'].min(), df['dob_years'].min(), df['total_income'].min()]\n",
    "minimum_count = [df[df['days_employed'] == df['days_employed'].min()]['days_employed'].count(),\n",
    "                df[df['dob_years'] == df['dob_years'].min()]['dob_years'].count(),\n",
    "                df[df['total_income'] == df['total_income'].min()]['total_income'].count()]\n",
    "zero_count = [df[df['days_employed'] == 0]['days_employed'].count(),\n",
    "             df[df['dob_years'] == 0]['dob_years'].count(),\n",
    "             df[df['total_income'] == 0]['total_income'].count()]\n",
    "\n",
    "pd.DataFrame({'name':['days_employed','dob_years','total_income'],#создание сводной таблицы \n",
    "              'maximum': maximum,\n",
    "              'maximum_count': maximum_count,\n",
    "              'minimum': minimum,\n",
    "              'minimum_count' : minimum_count,\n",
    "              'zero_count' : zero_count})"
   ]
  },
  {
   "cell_type": "markdown",
   "metadata": {},
   "source": [
    "Также проведем анализ неграничных значений столбцов 'days_employed', 'dob_years', 'total_income' на предмет частоты повторения уникальных значений."
   ]
  },
  {
   "cell_type": "code",
   "execution_count": 14,
   "metadata": {
    "scrolled": false
   },
   "outputs": [
    {
     "data": {
      "text/plain": [
       "-986.927316       1\n",
       "-7373.150635      1\n",
       "-4906.125062      1\n",
       "-1893.222792      1\n",
       "-849.764227       1\n",
       "-1741.489608      1\n",
       "-5135.928528      1\n",
       "-1453.358707      1\n",
       "-4977.646061      1\n",
       " 396078.542064    1\n",
       "Name: days_employed, dtype: int64"
      ]
     },
     "execution_count": 14,
     "metadata": {},
     "output_type": "execute_result"
    }
   ],
   "source": [
    " df['days_employed'].value_counts().head(10)"
   ]
  },
  {
   "cell_type": "code",
   "execution_count": 15,
   "metadata": {},
   "outputs": [
    {
     "data": {
      "text/plain": [
       "35    615\n",
       "40    605\n",
       "41    605\n",
       "34    600\n",
       "38    597\n",
       "42    594\n",
       "33    579\n",
       "39    572\n",
       "31    558\n",
       "36    553\n",
       "Name: dob_years, dtype: int64"
      ]
     },
     "execution_count": 15,
     "metadata": {},
     "output_type": "execute_result"
    }
   ],
   "source": [
    " df['dob_years'].value_counts().head(10)"
   ]
  },
  {
   "cell_type": "code",
   "execution_count": 16,
   "metadata": {
    "scrolled": false
   },
   "outputs": [
    {
     "data": {
      "text/plain": [
       "1.128744e+05    1\n",
       "1.339123e+05    1\n",
       "1.820367e+05    1\n",
       "1.224220e+05    1\n",
       "1.982718e+05    1\n",
       "1.091136e+05    1\n",
       "1.643202e+05    1\n",
       "9.105355e+04    1\n",
       "1.043819e+05    1\n",
       "1.091628e+06    1\n",
       "Name: total_income, dtype: int64"
      ]
     },
     "execution_count": 16,
     "metadata": {},
     "output_type": "execute_result"
    }
   ],
   "source": [
    " df['total_income'].value_counts().head(10)"
   ]
  },
  {
   "cell_type": "markdown",
   "metadata": {},
   "source": [
    "Анализ представленной таблицы и повторений уникальных значений позволяет сделать заключение о том, то в качестве плейсхолдеров из всех рассматриваемых столбцов существуют 100 строк со значением в столбце возраста заёмщика 'dob_years' равным нулю (такое значение противоречит нормальным значениям возраста). Возраст уникальная характеристика заемщика, теоритически заполнить пропуски, обозначенные нулями можно на основании значений стажа, но в данных по стажу также могут содержаться пропуски. Ввиду малого количества значений пропусков в столбце 'dob_years' по отношению к общему количеству данных ((100+77)/21525*100 = 0,83%) выполним их удалениие."
   ]
  },
  {
   "cell_type": "code",
   "execution_count": 17,
   "metadata": {
    "scrolled": false
   },
   "outputs": [
    {
     "name": "stdout",
     "output_type": "stream",
     "text": [
      "<class 'pandas.core.frame.DataFrame'>\n",
      "RangeIndex: 21348 entries, 0 to 21347\n",
      "Data columns (total 12 columns):\n",
      "children            21348 non-null int64\n",
      "days_employed       19193 non-null float64\n",
      "dob_years           21348 non-null int64\n",
      "education           21348 non-null object\n",
      "education_id        21348 non-null int64\n",
      "family_status       21348 non-null object\n",
      "family_status_id    21348 non-null int64\n",
      "gender              21348 non-null object\n",
      "income_type         21348 non-null object\n",
      "debt                21348 non-null int64\n",
      "total_income        19193 non-null float64\n",
      "purpose             21348 non-null object\n",
      "dtypes: float64(2), int64(5), object(5)\n",
      "memory usage: 2.0+ MB\n"
     ]
    }
   ],
   "source": [
    "df = df[df['dob_years'] != 0].reset_index(drop=True) #создание таблицы без нулевых значений возраста\n",
    "df.info() #число строк должно уменьшиться и составить на 177 меньше, то есть 21348"
   ]
  },
  {
   "cell_type": "code",
   "execution_count": 18,
   "metadata": {},
   "outputs": [
    {
     "data": {
      "text/plain": [
       "0"
      ]
     },
     "execution_count": 18,
     "metadata": {},
     "output_type": "execute_result"
    }
   ],
   "source": [
    "df[df['dob_years'] == 0]['dob_years'].count() #проверка на наличие пустых значений возраста"
   ]
  },
  {
   "cell_type": "code",
   "execution_count": 19,
   "metadata": {
    "scrolled": false
   },
   "outputs": [
    {
     "data": {
      "text/plain": [
       "children               0\n",
       "days_employed       2155\n",
       "dob_years              0\n",
       "education              0\n",
       "education_id           0\n",
       "family_status          0\n",
       "family_status_id       0\n",
       "gender                 0\n",
       "income_type            0\n",
       "debt                   0\n",
       "total_income        2155\n",
       "purpose                0\n",
       "dtype: int64"
      ]
     },
     "execution_count": 19,
     "metadata": {},
     "output_type": "execute_result"
    }
   ],
   "source": [
    "df.isna().sum() #определим колличество оставшихся явных пропусков"
   ]
  },
  {
   "cell_type": "markdown",
   "metadata": {},
   "source": [
    "Далее рассмотрим вариант заполнения явных пропусков, 2155 оставшихся после проведенных операций пропущеных значения составляет от общего количества строк 21525 - 10%, поэтому удаление строк с пропущенными значениями может сказаться на общем выводе исследования. Замена пропусков на нули в столбцах со значениями трудового стажа и совокупного дохода выглядит некорректно.\n",
    "\n",
    "Для замены пропусков будем исходить из следующей стратегии: пердположим, что трудовой стаж в первую очередь должен быть связан с возрастом заемщика и, возможно, его значение как-либо заисит от пенсионного статуса (хотя значения стажа также могут сильно зависить от целого ряда причин (профессия, вредность, регион приобретения стажа) которые в текущем исследовании не описываются). А для заполнения пропусков в столбе 'total_income' исследуем его связь с уровнем образования и статусом занятости."
   ]
  },
  {
   "cell_type": "markdown",
   "metadata": {},
   "source": [
    "---"
   ]
  },
  {
   "cell_type": "markdown",
   "metadata": {},
   "source": [
    "*Анализ связи трудового стажа с возрастом клиента и заполнение пропусков в столбце 'days_employed'*"
   ]
  },
  {
   "cell_type": "markdown",
   "metadata": {},
   "source": [
    "При первичном анализе данных таблицы было обнаружено, что значения трудового стажа пердставляют из себя вещественные числа, и при этом имеют как положительные, так и отрицательные значения. При этом положительные значения справедливы для клиентов со статусом \"пенсионер\" 'income_type'. Проверим эту зависимость."
   ]
  },
  {
   "cell_type": "code",
   "execution_count": 20,
   "metadata": {
    "scrolled": true
   },
   "outputs": [
    {
     "data": {
      "text/html": [
       "<div>\n",
       "<style scoped>\n",
       "    .dataframe tbody tr th:only-of-type {\n",
       "        vertical-align: middle;\n",
       "    }\n",
       "\n",
       "    .dataframe tbody tr th {\n",
       "        vertical-align: top;\n",
       "    }\n",
       "\n",
       "    .dataframe thead th {\n",
       "        text-align: right;\n",
       "    }\n",
       "</style>\n",
       "<table border=\"1\" class=\"dataframe\">\n",
       "  <thead>\n",
       "    <tr style=\"text-align: right;\">\n",
       "      <th></th>\n",
       "      <th>children</th>\n",
       "      <th>days_employed</th>\n",
       "      <th>dob_years</th>\n",
       "      <th>education</th>\n",
       "      <th>education_id</th>\n",
       "      <th>family_status</th>\n",
       "      <th>family_status_id</th>\n",
       "      <th>gender</th>\n",
       "      <th>income_type</th>\n",
       "      <th>debt</th>\n",
       "      <th>total_income</th>\n",
       "      <th>purpose</th>\n",
       "    </tr>\n",
       "  </thead>\n",
       "  <tbody>\n",
       "  </tbody>\n",
       "</table>\n",
       "</div>"
      ],
      "text/plain": [
       "Empty DataFrame\n",
       "Columns: [children, days_employed, dob_years, education, education_id, family_status, family_status_id, gender, income_type, debt, total_income, purpose]\n",
       "Index: []"
      ]
     },
     "execution_count": 20,
     "metadata": {},
     "output_type": "execute_result"
    }
   ],
   "source": [
    "df[(df['days_employed'] < 0) & ((df['income_type'] == 'пенсионер'))]\n",
    "#проверка условия отсутствия отрицательного трудового стажа для клиентов, достигших пенсионного возраста"
   ]
  },
  {
   "cell_type": "code",
   "execution_count": 21,
   "metadata": {
    "scrolled": true
   },
   "outputs": [
    {
     "data": {
      "text/html": [
       "<div>\n",
       "<style scoped>\n",
       "    .dataframe tbody tr th:only-of-type {\n",
       "        vertical-align: middle;\n",
       "    }\n",
       "\n",
       "    .dataframe tbody tr th {\n",
       "        vertical-align: top;\n",
       "    }\n",
       "\n",
       "    .dataframe thead th {\n",
       "        text-align: right;\n",
       "    }\n",
       "</style>\n",
       "<table border=\"1\" class=\"dataframe\">\n",
       "  <thead>\n",
       "    <tr style=\"text-align: right;\">\n",
       "      <th></th>\n",
       "      <th>children</th>\n",
       "      <th>days_employed</th>\n",
       "      <th>dob_years</th>\n",
       "      <th>education</th>\n",
       "      <th>education_id</th>\n",
       "      <th>family_status</th>\n",
       "      <th>family_status_id</th>\n",
       "      <th>gender</th>\n",
       "      <th>income_type</th>\n",
       "      <th>debt</th>\n",
       "      <th>total_income</th>\n",
       "      <th>purpose</th>\n",
       "    </tr>\n",
       "  </thead>\n",
       "  <tbody>\n",
       "    <tr>\n",
       "      <td>3112</td>\n",
       "      <td>1</td>\n",
       "      <td>337524.466835</td>\n",
       "      <td>31</td>\n",
       "      <td>среднее</td>\n",
       "      <td>1</td>\n",
       "      <td>женат / замужем</td>\n",
       "      <td>0</td>\n",
       "      <td>M</td>\n",
       "      <td>безработный</td>\n",
       "      <td>1</td>\n",
       "      <td>59956.991984</td>\n",
       "      <td>покупка жилья для сдачи</td>\n",
       "    </tr>\n",
       "    <tr>\n",
       "      <td>14671</td>\n",
       "      <td>0</td>\n",
       "      <td>395302.838654</td>\n",
       "      <td>45</td>\n",
       "      <td>Высшее</td>\n",
       "      <td>0</td>\n",
       "      <td>гражданский брак</td>\n",
       "      <td>1</td>\n",
       "      <td>F</td>\n",
       "      <td>безработный</td>\n",
       "      <td>0</td>\n",
       "      <td>202722.511368</td>\n",
       "      <td>ремонт жилью</td>\n",
       "    </tr>\n",
       "  </tbody>\n",
       "</table>\n",
       "</div>"
      ],
      "text/plain": [
       "       children  days_employed  dob_years education  education_id  \\\n",
       "3112          1  337524.466835         31   среднее             1   \n",
       "14671         0  395302.838654         45    Высшее             0   \n",
       "\n",
       "          family_status  family_status_id gender  income_type  debt  \\\n",
       "3112    женат / замужем                 0      M  безработный     1   \n",
       "14671  гражданский брак                 1      F  безработный     0   \n",
       "\n",
       "        total_income                  purpose  \n",
       "3112    59956.991984  покупка жилья для сдачи  \n",
       "14671  202722.511368             ремонт жилью  "
      ]
     },
     "execution_count": 21,
     "metadata": {},
     "output_type": "execute_result"
    }
   ],
   "source": [
    "df[(df['days_employed'] >= 0) & (df['income_type'] != 'пенсионер')]\n",
    "#проверка условия отсутствия неотрицательного трудового стажа для клиентов без статуса \"пенсионер\""
   ]
  },
  {
   "cell_type": "markdown",
   "metadata": {},
   "source": [
    "Предположение оказалось верным: среди клиентов-пенсионеров нет тех, у кого бы был отрицательный трудовой стаж, а среди клиентов с положительным трудовым стажем нет клиентов не относящихся к \"пенсионерам\", и только два клиента имеют статус \"безработных\" (возможно при получении данных от клиентов для столбца 'income_type' значение \"безработный\" отождествлялась со статусом \"пенсионер\"). Если статус клиента \"пенсионер\" то для замены пропуском по трудовому стажу справедливо использовать только положительные значения. И наоборот если клиент не является пенсионером, то его трудовой стаж должен быть указан в отрицательных единицах."
   ]
  },
  {
   "cell_type": "code",
   "execution_count": 22,
   "metadata": {
    "scrolled": false
   },
   "outputs": [
    {
     "data": {
      "text/plain": [
       "408"
      ]
     },
     "execution_count": 22,
     "metadata": {},
     "output_type": "execute_result"
    }
   ],
   "source": [
    "df[(df['income_type'] == 'пенсионер') & (df['days_employed'].isna())]['income_type'].count()\n",
    "#количество пропусков в столбце 'days_employed' для клиентов с типом занятости 'income_type' \"пенсионер\""
   ]
  },
  {
   "cell_type": "markdown",
   "metadata": {},
   "source": [
    "Оценим также наличие в 'days_employed' таких артефактов, замеченных при первичном анализе, как значения явно выбивающиеся за нормальные пределы для указонных единиц измерения - часы. Учитывая продолжительность жизни и максимально возможный трудовой стаж (в период от 14 до 65 лет) абсолютное значение величины трудового стажа не может превышать 65-14 = 51 год или 18627 дней."
   ]
  },
  {
   "cell_type": "code",
   "execution_count": 23,
   "metadata": {
    "scrolled": false
   },
   "outputs": [
    {
     "data": {
      "text/plain": [
       "3419"
      ]
     },
     "execution_count": 23,
     "metadata": {},
     "output_type": "execute_result"
    }
   ],
   "source": [
    "df[(df['days_employed'].abs() >= 18627) & (df['income_type'] == 'пенсионер')]['days_employed'].count()\n",
    "#проверим справедливо ли наличие подобного рода значений только для пенсионеров"
   ]
  },
  {
   "cell_type": "code",
   "execution_count": 24,
   "metadata": {
    "scrolled": false
   },
   "outputs": [
    {
     "data": {
      "text/plain": [
       "3419"
      ]
     },
     "execution_count": 24,
     "metadata": {},
     "output_type": "execute_result"
    }
   ],
   "source": [
    "df[df['income_type'] == 'пенсионер']['days_employed'].count() #общее количество записей стажа для пенсионеров"
   ]
  },
  {
   "cell_type": "code",
   "execution_count": 25,
   "metadata": {
    "scrolled": false
   },
   "outputs": [
    {
     "data": {
      "text/html": [
       "<div>\n",
       "<style scoped>\n",
       "    .dataframe tbody tr th:only-of-type {\n",
       "        vertical-align: middle;\n",
       "    }\n",
       "\n",
       "    .dataframe tbody tr th {\n",
       "        vertical-align: top;\n",
       "    }\n",
       "\n",
       "    .dataframe thead th {\n",
       "        text-align: right;\n",
       "    }\n",
       "</style>\n",
       "<table border=\"1\" class=\"dataframe\">\n",
       "  <thead>\n",
       "    <tr style=\"text-align: right;\">\n",
       "      <th></th>\n",
       "      <th>children</th>\n",
       "      <th>days_employed</th>\n",
       "      <th>dob_years</th>\n",
       "      <th>education</th>\n",
       "      <th>education_id</th>\n",
       "      <th>family_status</th>\n",
       "      <th>family_status_id</th>\n",
       "      <th>gender</th>\n",
       "      <th>income_type</th>\n",
       "      <th>debt</th>\n",
       "      <th>total_income</th>\n",
       "      <th>purpose</th>\n",
       "    </tr>\n",
       "  </thead>\n",
       "  <tbody>\n",
       "    <tr>\n",
       "      <td>3112</td>\n",
       "      <td>1</td>\n",
       "      <td>337524.466835</td>\n",
       "      <td>31</td>\n",
       "      <td>среднее</td>\n",
       "      <td>1</td>\n",
       "      <td>женат / замужем</td>\n",
       "      <td>0</td>\n",
       "      <td>M</td>\n",
       "      <td>безработный</td>\n",
       "      <td>1</td>\n",
       "      <td>59956.991984</td>\n",
       "      <td>покупка жилья для сдачи</td>\n",
       "    </tr>\n",
       "    <tr>\n",
       "      <td>14671</td>\n",
       "      <td>0</td>\n",
       "      <td>395302.838654</td>\n",
       "      <td>45</td>\n",
       "      <td>Высшее</td>\n",
       "      <td>0</td>\n",
       "      <td>гражданский брак</td>\n",
       "      <td>1</td>\n",
       "      <td>F</td>\n",
       "      <td>безработный</td>\n",
       "      <td>0</td>\n",
       "      <td>202722.511368</td>\n",
       "      <td>ремонт жилью</td>\n",
       "    </tr>\n",
       "  </tbody>\n",
       "</table>\n",
       "</div>"
      ],
      "text/plain": [
       "       children  days_employed  dob_years education  education_id  \\\n",
       "3112          1  337524.466835         31   среднее             1   \n",
       "14671         0  395302.838654         45    Высшее             0   \n",
       "\n",
       "          family_status  family_status_id gender  income_type  debt  \\\n",
       "3112    женат / замужем                 0      M  безработный     1   \n",
       "14671  гражданский брак                 1      F  безработный     0   \n",
       "\n",
       "        total_income                  purpose  \n",
       "3112    59956.991984  покупка жилья для сдачи  \n",
       "14671  202722.511368             ремонт жилью  "
      ]
     },
     "execution_count": 25,
     "metadata": {},
     "output_type": "execute_result"
    }
   ],
   "source": [
    "df[(df['days_employed'].abs() >= 18627) & (df['income_type'] != 'пенсионер')]\n",
    "#проверим, справедливо ли наличие подобного рода высоких значений для остальных категорий занятости \n",
    "#df[(df['income_type'] == 'пенсионер') & (df['days_employed'].abs() >= 18627)].count()"
   ]
  },
  {
   "cell_type": "markdown",
   "metadata": {},
   "source": [
    "Из представленого миниисследования можно заключить, что все положительные значения для стажа - это значения для клиентов со статусом пенсионер (и двух безработных, которые ими же, возможно, и являются). Для клиентов с другими типом занятости  'days_employed' значения на 2-3 порядка ниже и представлены исключительно отрицательными значениями. Можно предположить, что либо при записи стажа для пенсионеров был ошибочно изменен порядок значений (например увеличен на 2), либо запись значений произведена в других единицах, не днях, а, например, в часах. Вероятно, существует свой \"особый\" порядок заполнения стажа для клиентов с разным типом занятости (что косвенно также подтверждается записью в стаж отрицательных значений для \"непинсионеров\").\n",
    "\n",
    "Будем руководствоваться следующим предположением: стаж для клиентов, не являющихся пенсионерами, записан в часах отностиельно даты выгрузки файла или занесениия данных в таблицу (возможно он даже динамически менятся в базе данных сайта с наступлением новых суток), тогда для более молодых клентов стаж будет больше (в абсолютных значениях меньше), так как начало их тудовой деятельности находится ближе к дате формирования данных. Для клиентов-пенсионеров можно выдвинуть две версии: 1) стаж закрыт,  он не увеличивается, и он, что важно, может быть точно подсчитан в часах, и расчет его проведен от точки начала трудовой деятельности к дате выхода на пенсию; 2) стаж также подсчитан от точки начала трудовой деятельности к дате выхода на пенсию, плюс вермя в часах от даты выхода на пенсию к текущей дате. Первое предположение выглядит более рациональным, так как собственно отражает саму величину стажа чётко в часах без поправки на текущее время. Вероятно это сделано, чтобы строго различать клиентов и их возможности. \n",
    "\n",
    "Для проверки этой гипотезы поделим предоставленные занчения стажа для пенсионеров на 8760 (число дней году) и узнаем средний стаж к моменту выхода на пенсию. Если пердположить что трудовой стаж для к выходу на пенсию для женщих - 37 лет (55-18), для мужчин - 42 года(60-18), то средний стаж в целом должен определяться величиной около 41 года."
   ]
  },
  {
   "cell_type": "code",
   "execution_count": 26,
   "metadata": {
    "scrolled": false
   },
   "outputs": [
    {
     "data": {
      "text/plain": [
       "41.66943384835783"
      ]
     },
     "execution_count": 26,
     "metadata": {},
     "output_type": "execute_result"
    }
   ],
   "source": [
    "(df[df['income_type'] == 'пенсионер']['days_employed'] / 8760).mean()\n",
    "#средний стаж к моменту выхода на пенсю в годах(без учёта \"високосности\" лет)"
   ]
  },
  {
   "cell_type": "markdown",
   "metadata": {},
   "source": [
    "Предположение верно."
   ]
  },
  {
   "cell_type": "markdown",
   "metadata": {},
   "source": [
    "Для заполнения пропусков в столбце 'days_employed' медианными значениями в соответствии с возрастом приведем значния стажа к единому образцу: положительные значения, выраженные в часах. Для этого умножим на \"-1\" отрицательные значения, а для клиентов с типами занятости \"пенсионер\" и \"безработный\" значния столбца занятости поделим на 24."
   ]
  },
  {
   "cell_type": "code",
   "execution_count": 27,
   "metadata": {
    "scrolled": false
   },
   "outputs": [],
   "source": [
    "df.loc[df['income_type'] == 'пенсионер', 'days_employed'] = df['days_employed'] / 24\n",
    "df.loc[df['income_type'] == 'безработный', 'days_employed'] = df['days_employed'] / 24\n",
    "df.loc[df['days_employed'] < 0, 'days_employed'] = df['days_employed'].abs() "
   ]
  },
  {
   "cell_type": "markdown",
   "metadata": {},
   "source": [
    "Для заполнения пропусков в столбце 'days_employed' медианными значениями в соответствии с возрастом приведем значния стажа к единому образцу: положительные значения, выраженные в часах. Для этого приведём к модулю отрицательные значения, а для клиентов с типами занятости \"пенсионер\" и \"безработный\" значния столбца занятости поделим на 24."
   ]
  },
  {
   "cell_type": "markdown",
   "metadata": {},
   "source": [
    "Произведем замену пропусков 'days_employed' на основании медианных значений стажа для сгруппированных по возрастам данных."
   ]
  },
  {
   "cell_type": "code",
   "execution_count": 28,
   "metadata": {
    "scrolled": false
   },
   "outputs": [
    {
     "name": "stdout",
     "output_type": "stream",
     "text": [
      "<class 'pandas.core.frame.DataFrame'>\n",
      "RangeIndex: 21348 entries, 0 to 21347\n",
      "Data columns (total 12 columns):\n",
      "children            21348 non-null int64\n",
      "days_employed       21348 non-null float64\n",
      "dob_years           21348 non-null int64\n",
      "education           21348 non-null object\n",
      "education_id        21348 non-null int64\n",
      "family_status       21348 non-null object\n",
      "family_status_id    21348 non-null int64\n",
      "gender              21348 non-null object\n",
      "income_type         21348 non-null object\n",
      "debt                21348 non-null int64\n",
      "total_income        19193 non-null float64\n",
      "purpose             21348 non-null object\n",
      "dtypes: float64(2), int64(5), object(5)\n",
      "memory usage: 2.0+ MB\n"
     ]
    },
    {
     "data": {
      "text/html": [
       "<div>\n",
       "<style scoped>\n",
       "    .dataframe tbody tr th:only-of-type {\n",
       "        vertical-align: middle;\n",
       "    }\n",
       "\n",
       "    .dataframe tbody tr th {\n",
       "        vertical-align: top;\n",
       "    }\n",
       "\n",
       "    .dataframe thead th {\n",
       "        text-align: right;\n",
       "    }\n",
       "</style>\n",
       "<table border=\"1\" class=\"dataframe\">\n",
       "  <thead>\n",
       "    <tr style=\"text-align: right;\">\n",
       "      <th></th>\n",
       "      <th>children</th>\n",
       "      <th>days_employed</th>\n",
       "      <th>dob_years</th>\n",
       "      <th>education</th>\n",
       "      <th>education_id</th>\n",
       "      <th>family_status</th>\n",
       "      <th>family_status_id</th>\n",
       "      <th>gender</th>\n",
       "      <th>income_type</th>\n",
       "      <th>debt</th>\n",
       "      <th>total_income</th>\n",
       "      <th>purpose</th>\n",
       "    </tr>\n",
       "  </thead>\n",
       "  <tbody>\n",
       "  </tbody>\n",
       "</table>\n",
       "</div>"
      ],
      "text/plain": [
       "Empty DataFrame\n",
       "Columns: [children, days_employed, dob_years, education, education_id, family_status, family_status_id, gender, income_type, debt, total_income, purpose]\n",
       "Index: []"
      ]
     },
     "execution_count": 28,
     "metadata": {},
     "output_type": "execute_result"
    }
   ],
   "source": [
    "df['days_employed'] = df['days_employed'].fillna(df.groupby('dob_years')['days_employed'].transform('median'))\n",
    "df.info()\n",
    "df[df['days_employed'].isna()]# проверка отсутствия пропусков в столбце 'days_employed'"
   ]
  },
  {
   "cell_type": "markdown",
   "metadata": {},
   "source": [
    "Замена произведена."
   ]
  },
  {
   "cell_type": "markdown",
   "metadata": {},
   "source": [
    "---\n"
   ]
  },
  {
   "cell_type": "markdown",
   "metadata": {},
   "source": [
    "*Анализ связи дохода с уровнем образования и типом занятости клинета и заполнение пропусков в столбце 'total_income'*\n"
   ]
  },
  {
   "cell_type": "markdown",
   "metadata": {},
   "source": [
    "Для заполнения пропусков в столбе 'total_income' исследуем его связь с уровнем образования и статусом занятости.\n"
   ]
  },
  {
   "cell_type": "code",
   "execution_count": 29,
   "metadata": {
    "scrolled": true
   },
   "outputs": [
    {
     "data": {
      "text/plain": [
       "[0, 1, 2, 3, 4]"
      ]
     },
     "metadata": {},
     "output_type": "display_data"
    }
   ],
   "source": [
    "education_id = sorted(df['education_id'].unique()) \n",
    "#создадим список индикаторов образования медианное значение дохода в которых мы хотим найти\n",
    "display(education_id)"
   ]
  },
  {
   "cell_type": "markdown",
   "metadata": {},
   "source": [
    "Индикаторов образования 4: 0 - высшее, 1 - среднее, 2 - неокончнное высшее, 3 - начальное, 4 - ученая степень.\n"
   ]
  },
  {
   "cell_type": "code",
   "execution_count": 30,
   "metadata": {
    "scrolled": false
   },
   "outputs": [
    {
     "data": {
      "text/plain": [
       "[175410.87691919974,\n",
       " 136470.30537097054,\n",
       " 160401.1307841331,\n",
       " 117137.35282495995,\n",
       " 157259.8985551767]"
      ]
     },
     "metadata": {},
     "output_type": "display_data"
    }
   ],
   "source": [
    "median_income_list1 = [] #пустой список для получения списка медианных значений дохода \n",
    "\n",
    "for i in range(len(education_id)): #цикл для вычисления медианных значений\n",
    "    a = df[df['education_id'] == education_id[i]]['total_income'].median()\n",
    "    median_income_list1.append(a)\n",
    "display(median_income_list1)"
   ]
  },
  {
   "cell_type": "markdown",
   "metadata": {},
   "source": [
    "Связь очевидна: чем выше уровень образования - тем выше уровень дохода; самый большой доход у клиентов с вышим образованием, самый низкий - у людей с начальным. Но разброс данных невелик - всего в несколько десятков тысяч. Возможно для значений дохода не так важен уровень образования, как то, кем человек работает и как устроился в жизни.\n",
    "Проверим медианный уровень дохода для разных типов занятости в столбце 'income_type'."
   ]
  },
  {
   "cell_type": "code",
   "execution_count": 31,
   "metadata": {
    "scrolled": false
   },
   "outputs": [
    {
     "data": {
      "text/plain": [
       "['безработный',\n",
       " 'в декрете',\n",
       " 'госслужащий',\n",
       " 'компаньон',\n",
       " 'пенсионер',\n",
       " 'предприниматель',\n",
       " 'сотрудник',\n",
       " 'студент']"
      ]
     },
     "metadata": {},
     "output_type": "display_data"
    }
   ],
   "source": [
    "income_type_id = sorted(df['income_type'].unique())\n",
    "#создадим список индикаторов типа занятости\n",
    "display(income_type_id)"
   ]
  },
  {
   "cell_type": "code",
   "execution_count": 32,
   "metadata": {
    "scrolled": false
   },
   "outputs": [
    {
     "data": {
      "text/plain": [
       "[131339.7516762103,\n",
       " 53829.13072905995,\n",
       " 150475.72029029814,\n",
       " 172357.95096577113,\n",
       " 118480.8374078531,\n",
       " 499163.1449470857,\n",
       " 142601.2047183938,\n",
       " 98201.62531401133]"
      ]
     },
     "metadata": {},
     "output_type": "display_data"
    }
   ],
   "source": [
    "median_income_list2 = [] #пустой список для получения списка медианных значений дохода \n",
    "\n",
    "for i in range(len(income_type_id)): #цикл для вычисления медианных значений\n",
    "    a = df[df['income_type'] == income_type_id[i]]['total_income'].median()\n",
    "    median_income_list2.append(a)\n",
    "    \n",
    "display(median_income_list2)"
   ]
  },
  {
   "cell_type": "markdown",
   "metadata": {},
   "source": [
    "Здесь степень разброса значений больше (в несколько сотен тысяч) и гораздо точнее отражает окружающую действительность.\n",
    "Самый большой доход у предпринимателей, самый маленький - у лиц в декрете и студентов.\n",
    "\n",
    "Полученный список медианного уровня дохода в зависимости от уровня образования можно использовать для заполнения пропусков в столбце 'total_income' вероятнее выгоднее для получения данных блихзких к реальности."
   ]
  },
  {
   "cell_type": "markdown",
   "metadata": {},
   "source": [
    "Произведем замену пропусков 'total_income' на основании медианных значений дохода для сгруппированных по типу занятости данных.\n",
    "\n"
   ]
  },
  {
   "cell_type": "code",
   "execution_count": 33,
   "metadata": {
    "scrolled": false
   },
   "outputs": [
    {
     "name": "stdout",
     "output_type": "stream",
     "text": [
      "<class 'pandas.core.frame.DataFrame'>\n",
      "RangeIndex: 21348 entries, 0 to 21347\n",
      "Data columns (total 12 columns):\n",
      "children            21348 non-null int64\n",
      "days_employed       21348 non-null float64\n",
      "dob_years           21348 non-null int64\n",
      "education           21348 non-null object\n",
      "education_id        21348 non-null int64\n",
      "family_status       21348 non-null object\n",
      "family_status_id    21348 non-null int64\n",
      "gender              21348 non-null object\n",
      "income_type         21348 non-null object\n",
      "debt                21348 non-null int64\n",
      "total_income        21348 non-null float64\n",
      "purpose             21348 non-null object\n",
      "dtypes: float64(2), int64(5), object(5)\n",
      "memory usage: 2.0+ MB\n"
     ]
    },
    {
     "data": {
      "text/html": [
       "<div>\n",
       "<style scoped>\n",
       "    .dataframe tbody tr th:only-of-type {\n",
       "        vertical-align: middle;\n",
       "    }\n",
       "\n",
       "    .dataframe tbody tr th {\n",
       "        vertical-align: top;\n",
       "    }\n",
       "\n",
       "    .dataframe thead th {\n",
       "        text-align: right;\n",
       "    }\n",
       "</style>\n",
       "<table border=\"1\" class=\"dataframe\">\n",
       "  <thead>\n",
       "    <tr style=\"text-align: right;\">\n",
       "      <th></th>\n",
       "      <th>children</th>\n",
       "      <th>days_employed</th>\n",
       "      <th>dob_years</th>\n",
       "      <th>education</th>\n",
       "      <th>education_id</th>\n",
       "      <th>family_status</th>\n",
       "      <th>family_status_id</th>\n",
       "      <th>gender</th>\n",
       "      <th>income_type</th>\n",
       "      <th>debt</th>\n",
       "      <th>total_income</th>\n",
       "      <th>purpose</th>\n",
       "    </tr>\n",
       "  </thead>\n",
       "  <tbody>\n",
       "  </tbody>\n",
       "</table>\n",
       "</div>"
      ],
      "text/plain": [
       "Empty DataFrame\n",
       "Columns: [children, days_employed, dob_years, education, education_id, family_status, family_status_id, gender, income_type, debt, total_income, purpose]\n",
       "Index: []"
      ]
     },
     "execution_count": 33,
     "metadata": {},
     "output_type": "execute_result"
    }
   ],
   "source": [
    "df['total_income'] = df['total_income'].fillna(df.groupby('income_type')['total_income'].transform('median'))\n",
    "df.info()\n",
    "df[df['total_income'].isna()]\n"
   ]
  },
  {
   "cell_type": "markdown",
   "metadata": {},
   "source": [
    "Замена произведена. Пропуски в таблице отсутсвуют."
   ]
  },
  {
   "cell_type": "markdown",
   "metadata": {},
   "source": [
    "**Вывод**"
   ]
  },
  {
   "cell_type": "markdown",
   "metadata": {},
   "source": [
    "При исследовании таблицы  было обнаружено явных 2174 пропуска по столбцам 'days_employed' и 'total_income', и пропуски, которые можно отнести к плейсхолдерам по столбцам 'gender' (значение \"XNA\") и 'dob_years'(значение 0), которые ввиду малого количества данных по отношению к исходной таблицы были удалены. Кроме того, были испралены явные и неявные ошибки в столбце 'children', значения столбца 'days_employed' были приведены к единому формату.\n",
    "\n",
    "\n",
    "Для замены пропусков в столбце 'days_employed' были использованы медианные значения стажа для сгрупированных по столбцу 'dob_years' - возраст заемщика.\n",
    "\n",
    "Для замены пропусков в столбце 'total_income' были использованы медианные значения дохода для сгрупированных по столбцу 'income_type' - тип занятости. \n",
    "\n",
    "Пропуски заполнены."
   ]
  },
  {
   "cell_type": "markdown",
   "metadata": {},
   "source": [
    "### Замена типа данных"
   ]
  },
  {
   "cell_type": "markdown",
   "metadata": {},
   "source": [
    "Значения о стаже 'days_employed' и доходе 'total_income' клиента приведены в таблице в формате 'float64'. Для удобного отображения и последующего использования приведем их к типу 'int'. На выходе получем округленные для целочисленных значений дни и рубли. Так как данные в обоих столбцах данные однородны и представляют из себя числовые символы, то для замены типа данных используем метод astype()."
   ]
  },
  {
   "cell_type": "code",
   "execution_count": 34,
   "metadata": {},
   "outputs": [],
   "source": [
    "df = df.astype({'days_employed': 'int', 'total_income': 'int'})"
   ]
  },
  {
   "cell_type": "markdown",
   "metadata": {},
   "source": [
    "**Вывод**"
   ]
  },
  {
   "cell_type": "markdown",
   "metadata": {},
   "source": [
    "При анализе типа данных используемых для столбцов, было выявлено что для days_employed и total_income используются данные типа 'float'. Для более удобного использования данные приведены к целочисленному типу 'int' при помощи метода astype()."
   ]
  },
  {
   "cell_type": "code",
   "execution_count": 35,
   "metadata": {
    "scrolled": false
   },
   "outputs": [
    {
     "name": "stdout",
     "output_type": "stream",
     "text": [
      "<class 'pandas.core.frame.DataFrame'>\n",
      "RangeIndex: 21348 entries, 0 to 21347\n",
      "Data columns (total 12 columns):\n",
      "children            21348 non-null int64\n",
      "days_employed       21348 non-null int32\n",
      "dob_years           21348 non-null int64\n",
      "education           21348 non-null object\n",
      "education_id        21348 non-null int64\n",
      "family_status       21348 non-null object\n",
      "family_status_id    21348 non-null int64\n",
      "gender              21348 non-null object\n",
      "income_type         21348 non-null object\n",
      "debt                21348 non-null int64\n",
      "total_income        21348 non-null int32\n",
      "purpose             21348 non-null object\n",
      "dtypes: int32(2), int64(5), object(5)\n",
      "memory usage: 1.8+ MB\n"
     ]
    }
   ],
   "source": [
    "df.info()"
   ]
  },
  {
   "cell_type": "markdown",
   "metadata": {},
   "source": [
    "### Обработка дубликатов"
   ]
  },
  {
   "cell_type": "markdown",
   "metadata": {},
   "source": [
    "Проведем анализ данных на наличие дубликатов: полных и неявных. Основными причинами появления дубликатов могут быть повторные внесения данных в таблицу, неправильное соединение данных из разных источников, ошибки при занесении информаци."
   ]
  },
  {
   "cell_type": "code",
   "execution_count": 36,
   "metadata": {},
   "outputs": [
    {
     "data": {
      "text/plain": [
       "54"
      ]
     },
     "execution_count": 36,
     "metadata": {},
     "output_type": "execute_result"
    }
   ],
   "source": [
    "df.duplicated().sum() #проверка на наличие полных дубликатов"
   ]
  },
  {
   "cell_type": "markdown",
   "metadata": {},
   "source": [
    "При поиске дубликатов было отмечено, что значения в разных регистрах записаны только для столбцов 'education' и 'family_status'. Приведем их к нижнему регистру."
   ]
  },
  {
   "cell_type": "code",
   "execution_count": 37,
   "metadata": {
    "scrolled": true
   },
   "outputs": [],
   "source": [
    "df['education'] = df['education'].str.lower()\n",
    "df['family_status'] = df['family_status'].str.lower()"
   ]
  },
  {
   "cell_type": "code",
   "execution_count": 38,
   "metadata": {},
   "outputs": [
    {
     "data": {
      "text/plain": [
       "71"
      ]
     },
     "execution_count": 38,
     "metadata": {},
     "output_type": "execute_result"
    }
   ],
   "source": [
    "df.duplicated().sum() #проверка на наличие полных дубликатов"
   ]
  },
  {
   "cell_type": "markdown",
   "metadata": {},
   "source": [
    "Обнаружена 71 строка-дубликат с учётом приведения текстовой информации к нижнему регистру, удалим их из таблицы."
   ]
  },
  {
   "cell_type": "code",
   "execution_count": 39,
   "metadata": {},
   "outputs": [
    {
     "data": {
      "text/plain": [
       "0"
      ]
     },
     "execution_count": 39,
     "metadata": {},
     "output_type": "execute_result"
    }
   ],
   "source": [
    "df = df.drop_duplicates().reset_index(drop=True)# удаление дубликатов\n",
    "df.duplicated().sum()"
   ]
  },
  {
   "cell_type": "markdown",
   "metadata": {},
   "source": [
    "**Вывод**"
   ]
  },
  {
   "cell_type": "markdown",
   "metadata": {},
   "source": [
    "Поиск дубликатов осуществлялся методами duplicated() и sum(). Приведение отдельных столбцов к нижнему регистру позволило выявить дополнительные дубликаты.\n",
    "\n",
    "Произведено удаление дубликатов - 71 строки."
   ]
  },
  {
   "cell_type": "markdown",
   "metadata": {},
   "source": [
    "### Лемматизация"
   ]
  },
  {
   "cell_type": "markdown",
   "metadata": {},
   "source": [
    "Для анализа данных на основании целей кредита проведем лемматизацию столбца 'purpose' для приведения к словарной форме слов, образующих значение цели кредита."
   ]
  },
  {
   "cell_type": "markdown",
   "metadata": {},
   "source": [
    "Для лемматизации используем русскоязычный лемматизатор Mystem библиотеки pymystem3. Для того, чтобы ускорить лемматизацию без многократного (для каждой строки) вызова лемматизаотора из внешнего файла объеденим все цели кредита в один список с помощю какого-либо символа (например, _ ) проведем однократную лемматизацию списка, после чего создаим серию лемм для каждой строчки, разделив полученный список по уже используемому ранее символу."
   ]
  },
  {
   "cell_type": "code",
   "execution_count": 40,
   "metadata": {},
   "outputs": [],
   "source": [
    "purpose_list = '_'.join(df['purpose'].tolist())"
   ]
  },
  {
   "cell_type": "code",
   "execution_count": 41,
   "metadata": {},
   "outputs": [],
   "source": [
    "purpose_lemma_list = Mystem().lemmatize(purpose_list)"
   ]
  },
  {
   "cell_type": "code",
   "execution_count": 42,
   "metadata": {},
   "outputs": [],
   "source": [
    "df['purpose_lemma'] = ''.join(purpose_lemma_list).split(sep='_')"
   ]
  },
  {
   "cell_type": "code",
   "execution_count": 43,
   "metadata": {},
   "outputs": [
    {
     "data": {
      "text/html": [
       "<div>\n",
       "<style scoped>\n",
       "    .dataframe tbody tr th:only-of-type {\n",
       "        vertical-align: middle;\n",
       "    }\n",
       "\n",
       "    .dataframe tbody tr th {\n",
       "        vertical-align: top;\n",
       "    }\n",
       "\n",
       "    .dataframe thead th {\n",
       "        text-align: right;\n",
       "    }\n",
       "</style>\n",
       "<table border=\"1\" class=\"dataframe\">\n",
       "  <thead>\n",
       "    <tr style=\"text-align: right;\">\n",
       "      <th></th>\n",
       "      <th>children</th>\n",
       "      <th>days_employed</th>\n",
       "      <th>dob_years</th>\n",
       "      <th>education</th>\n",
       "      <th>education_id</th>\n",
       "      <th>family_status</th>\n",
       "      <th>family_status_id</th>\n",
       "      <th>gender</th>\n",
       "      <th>income_type</th>\n",
       "      <th>debt</th>\n",
       "      <th>total_income</th>\n",
       "      <th>purpose</th>\n",
       "      <th>purpose_lemma</th>\n",
       "    </tr>\n",
       "  </thead>\n",
       "  <tbody>\n",
       "    <tr>\n",
       "      <td>0</td>\n",
       "      <td>1</td>\n",
       "      <td>8437</td>\n",
       "      <td>42</td>\n",
       "      <td>высшее</td>\n",
       "      <td>0</td>\n",
       "      <td>женат / замужем</td>\n",
       "      <td>0</td>\n",
       "      <td>F</td>\n",
       "      <td>сотрудник</td>\n",
       "      <td>0</td>\n",
       "      <td>253875</td>\n",
       "      <td>покупка жилья</td>\n",
       "      <td>покупка жилье</td>\n",
       "    </tr>\n",
       "    <tr>\n",
       "      <td>1</td>\n",
       "      <td>1</td>\n",
       "      <td>4024</td>\n",
       "      <td>36</td>\n",
       "      <td>среднее</td>\n",
       "      <td>1</td>\n",
       "      <td>женат / замужем</td>\n",
       "      <td>0</td>\n",
       "      <td>F</td>\n",
       "      <td>сотрудник</td>\n",
       "      <td>0</td>\n",
       "      <td>112080</td>\n",
       "      <td>приобретение автомобиля</td>\n",
       "      <td>приобретение автомобиль</td>\n",
       "    </tr>\n",
       "    <tr>\n",
       "      <td>2</td>\n",
       "      <td>0</td>\n",
       "      <td>5623</td>\n",
       "      <td>33</td>\n",
       "      <td>среднее</td>\n",
       "      <td>1</td>\n",
       "      <td>женат / замужем</td>\n",
       "      <td>0</td>\n",
       "      <td>M</td>\n",
       "      <td>сотрудник</td>\n",
       "      <td>0</td>\n",
       "      <td>145885</td>\n",
       "      <td>покупка жилья</td>\n",
       "      <td>покупка жилье</td>\n",
       "    </tr>\n",
       "    <tr>\n",
       "      <td>3</td>\n",
       "      <td>3</td>\n",
       "      <td>4124</td>\n",
       "      <td>32</td>\n",
       "      <td>среднее</td>\n",
       "      <td>1</td>\n",
       "      <td>женат / замужем</td>\n",
       "      <td>0</td>\n",
       "      <td>M</td>\n",
       "      <td>сотрудник</td>\n",
       "      <td>0</td>\n",
       "      <td>267628</td>\n",
       "      <td>дополнительное образование</td>\n",
       "      <td>дополнительный образование</td>\n",
       "    </tr>\n",
       "    <tr>\n",
       "      <td>4</td>\n",
       "      <td>0</td>\n",
       "      <td>14177</td>\n",
       "      <td>53</td>\n",
       "      <td>среднее</td>\n",
       "      <td>1</td>\n",
       "      <td>гражданский брак</td>\n",
       "      <td>1</td>\n",
       "      <td>F</td>\n",
       "      <td>пенсионер</td>\n",
       "      <td>0</td>\n",
       "      <td>158616</td>\n",
       "      <td>сыграть свадьбу</td>\n",
       "      <td>сыграть свадьба</td>\n",
       "    </tr>\n",
       "  </tbody>\n",
       "</table>\n",
       "</div>"
      ],
      "text/plain": [
       "   children  days_employed  dob_years education  education_id  \\\n",
       "0         1           8437         42    высшее             0   \n",
       "1         1           4024         36   среднее             1   \n",
       "2         0           5623         33   среднее             1   \n",
       "3         3           4124         32   среднее             1   \n",
       "4         0          14177         53   среднее             1   \n",
       "\n",
       "      family_status  family_status_id gender income_type  debt  total_income  \\\n",
       "0   женат / замужем                 0      F   сотрудник     0        253875   \n",
       "1   женат / замужем                 0      F   сотрудник     0        112080   \n",
       "2   женат / замужем                 0      M   сотрудник     0        145885   \n",
       "3   женат / замужем                 0      M   сотрудник     0        267628   \n",
       "4  гражданский брак                 1      F   пенсионер     0        158616   \n",
       "\n",
       "                      purpose               purpose_lemma  \n",
       "0               покупка жилья               покупка жилье  \n",
       "1     приобретение автомобиля     приобретение автомобиль  \n",
       "2               покупка жилья               покупка жилье  \n",
       "3  дополнительное образование  дополнительный образование  \n",
       "4             сыграть свадьбу             сыграть свадьба  "
      ]
     },
     "execution_count": 43,
     "metadata": {},
     "output_type": "execute_result"
    }
   ],
   "source": [
    "df.head()"
   ]
  },
  {
   "cell_type": "markdown",
   "metadata": {},
   "source": [
    "Для целей подсчета упоминания уникальных лемм выделим леммы по одиночным словам и проведем их подсчет с сортировкой по убыванию."
   ]
  },
  {
   "cell_type": "code",
   "execution_count": 44,
   "metadata": {},
   "outputs": [],
   "source": [
    "single_word_lemmas = ' '.join(df['purpose_lemma'].tolist()).split(sep=' ') #получение списка лемм из отдельных слов"
   ]
  },
  {
   "cell_type": "code",
   "execution_count": 45,
   "metadata": {
    "scrolled": true
   },
   "outputs": [],
   "source": [
    "unique_lemmas = sorted(Counter(single_word_lemmas).items(), key=lambda x: x[1], reverse=True)\n",
    "# получение отсортированного  по убыванию словаря с подсчитанным колличеством упоминаний уникальных лемм"
   ]
  },
  {
   "cell_type": "code",
   "execution_count": 46,
   "metadata": {
    "scrolled": true
   },
   "outputs": [],
   "source": [
    "unique_lemmas_name = [] \n",
    "unique_lemmas_count = []\n",
    "for i in range(0, len(unique_lemmas)):\n",
    "    unique_lemmas_name.append(unique_lemmas[i][0])\n",
    "    unique_lemmas_count.append(unique_lemmas[i][1])"
   ]
  },
  {
   "cell_type": "code",
   "execution_count": 47,
   "metadata": {
    "scrolled": true
   },
   "outputs": [
    {
     "data": {
      "text/plain": [
       "[('недвижимость', 6306),\n",
       " ('покупка', 5851),\n",
       " ('жилье', 4421),\n",
       " ('автомобиль', 4268),\n",
       " ('образование', 3980),\n",
       " ('с', 2891),\n",
       " ('операция', 2583),\n",
       " ('свадьба', 2301),\n",
       " ('свой', 2219),\n",
       " ('на', 2200),\n",
       " ('строительство', 1866),\n",
       " ('высокий', 1360),\n",
       " ('получение', 1306),\n",
       " ('коммерческий', 1299),\n",
       " ('для', 1284),\n",
       " ('жилой', 1221),\n",
       " ('сделка', 934),\n",
       " ('заниматься', 900),\n",
       " ('дополнительный', 898),\n",
       " ('подержать', 840),\n",
       " ('проведение', 760),\n",
       " ('сыграть', 756),\n",
       " ('сдача', 648),\n",
       " ('семья', 636),\n",
       " ('собственный', 627),\n",
       " ('со', 626),\n",
       " ('ремонт', 603),\n",
       " ('приобретение', 459),\n",
       " ('профильный', 433),\n",
       " ('подержанный', 112),\n",
       " ('автомобиль\\n', 1)]"
      ]
     },
     "execution_count": 47,
     "metadata": {},
     "output_type": "execute_result"
    }
   ],
   "source": [
    "unique_lemmas\n",
    "# получение отсортированного  по убыванию словаря с подсчитанных колличеством упоминаний уникальных лемм"
   ]
  },
  {
   "cell_type": "code",
   "execution_count": 48,
   "metadata": {},
   "outputs": [
    {
     "data": {
      "text/plain": [
       "(-1.1015910139855987,\n",
       " 1.100075762570956,\n",
       " -1.100296636597653,\n",
       " 1.1037833230159244)"
      ]
     },
     "execution_count": 48,
     "metadata": {},
     "output_type": "execute_result"
    },
    {
     "data": {
      "image/png": "[encoded data removed]",
      "text/plain": [
       "<Figure size 576x576 with 1 Axes>"
      ]
     },
     "metadata": {},
     "output_type": "display_data"
    }
   ],
   "source": [
    "fig, ax = plt.subplots(figsize=(8,8), constrained_layout=True)\n",
    "ax.pie(unique_lemmas_count, labels=unique_lemmas_name, autopct='%1.0f%%')\n",
    "ax.axis(\"equal\")"
   ]
  },
  {
   "cell_type": "markdown",
   "metadata": {},
   "source": [
    "**Вывод**"
   ]
  },
  {
   "cell_type": "markdown",
   "metadata": {},
   "source": [
    "Создан новый столбец с леммами для каждой строки. После знаков пробела и переноса строки на первом месте идут упоминания о сделках с недвижимостью, затем - автомобили, что, вероятно, соответствует действительности исходя из ценовых категорий этих товаров. Если исключить из перечня полученных лем вспомогательные по смысловой нагрузке слова, то в первую тройку целей кредита водут покупка недвижимости, приобретение автомобиля, и получение образовательных услуг, что отражает действительность."
   ]
  },
  {
   "cell_type": "markdown",
   "metadata": {},
   "source": [
    "### Категоризация данных"
   ]
  },
  {
   "cell_type": "markdown",
   "metadata": {},
   "source": [
    "Для анализа данных по отдельным группам произведём категоризацию данных, это даст возможность создавать запросы по отдельным категориям и выявлять закономерности между ними.\n",
    "\n",
    "При знакомстве с содержимым файла было отмечено соответствия столцов  значений уровня образования 'education' и его идентификатора 'education_id', а также семейного статуса 'family_status' и его идентификатра 'family_status_id', то есть эти данные уже по сути категоризованы по своим идентификаторам.\n",
    "\n",
    "Выделим в  отдельные словари словари категории данных по уровню образования и семейному статусу."
   ]
  },
  {
   "cell_type": "code",
   "execution_count": 49,
   "metadata": {
    "scrolled": true
   },
   "outputs": [
    {
     "data": {
      "text/html": [
       "<div>\n",
       "<style scoped>\n",
       "    .dataframe tbody tr th:only-of-type {\n",
       "        vertical-align: middle;\n",
       "    }\n",
       "\n",
       "    .dataframe tbody tr th {\n",
       "        vertical-align: top;\n",
       "    }\n",
       "\n",
       "    .dataframe thead th {\n",
       "        text-align: right;\n",
       "    }\n",
       "</style>\n",
       "<table border=\"1\" class=\"dataframe\">\n",
       "  <thead>\n",
       "    <tr style=\"text-align: right;\">\n",
       "      <th></th>\n",
       "      <th>education</th>\n",
       "      <th>education_id</th>\n",
       "    </tr>\n",
       "  </thead>\n",
       "  <tbody>\n",
       "    <tr>\n",
       "      <td>0</td>\n",
       "      <td>высшее</td>\n",
       "      <td>0</td>\n",
       "    </tr>\n",
       "    <tr>\n",
       "      <td>1</td>\n",
       "      <td>среднее</td>\n",
       "      <td>1</td>\n",
       "    </tr>\n",
       "    <tr>\n",
       "      <td>2</td>\n",
       "      <td>неоконченное высшее</td>\n",
       "      <td>2</td>\n",
       "    </tr>\n",
       "    <tr>\n",
       "      <td>3</td>\n",
       "      <td>начальное</td>\n",
       "      <td>3</td>\n",
       "    </tr>\n",
       "    <tr>\n",
       "      <td>4</td>\n",
       "      <td>ученая степень</td>\n",
       "      <td>4</td>\n",
       "    </tr>\n",
       "  </tbody>\n",
       "</table>\n",
       "</div>"
      ],
      "text/plain": [
       "             education  education_id\n",
       "0               высшее             0\n",
       "1              среднее             1\n",
       "2  неоконченное высшее             2\n",
       "3            начальное             3\n",
       "4       ученая степень             4"
      ]
     },
     "execution_count": 49,
     "metadata": {},
     "output_type": "execute_result"
    }
   ],
   "source": [
    "education_dict = df[['education', 'education_id']].drop_duplicates().reset_index(drop=True)\n",
    "education_dict"
   ]
  },
  {
   "cell_type": "code",
   "execution_count": 50,
   "metadata": {
    "scrolled": false
   },
   "outputs": [
    {
     "data": {
      "text/html": [
       "<div>\n",
       "<style scoped>\n",
       "    .dataframe tbody tr th:only-of-type {\n",
       "        vertical-align: middle;\n",
       "    }\n",
       "\n",
       "    .dataframe tbody tr th {\n",
       "        vertical-align: top;\n",
       "    }\n",
       "\n",
       "    .dataframe thead th {\n",
       "        text-align: right;\n",
       "    }\n",
       "</style>\n",
       "<table border=\"1\" class=\"dataframe\">\n",
       "  <thead>\n",
       "    <tr style=\"text-align: right;\">\n",
       "      <th></th>\n",
       "      <th>family_status</th>\n",
       "      <th>family_status_id</th>\n",
       "    </tr>\n",
       "  </thead>\n",
       "  <tbody>\n",
       "    <tr>\n",
       "      <td>0</td>\n",
       "      <td>женат / замужем</td>\n",
       "      <td>0</td>\n",
       "    </tr>\n",
       "    <tr>\n",
       "      <td>1</td>\n",
       "      <td>гражданский брак</td>\n",
       "      <td>1</td>\n",
       "    </tr>\n",
       "    <tr>\n",
       "      <td>2</td>\n",
       "      <td>вдовец / вдова</td>\n",
       "      <td>2</td>\n",
       "    </tr>\n",
       "    <tr>\n",
       "      <td>3</td>\n",
       "      <td>в разводе</td>\n",
       "      <td>3</td>\n",
       "    </tr>\n",
       "    <tr>\n",
       "      <td>4</td>\n",
       "      <td>не женат / не замужем</td>\n",
       "      <td>4</td>\n",
       "    </tr>\n",
       "  </tbody>\n",
       "</table>\n",
       "</div>"
      ],
      "text/plain": [
       "           family_status  family_status_id\n",
       "0        женат / замужем                 0\n",
       "1       гражданский брак                 1\n",
       "2         вдовец / вдова                 2\n",
       "3              в разводе                 3\n",
       "4  не женат / не замужем                 4"
      ]
     },
     "execution_count": 50,
     "metadata": {},
     "output_type": "execute_result"
    }
   ],
   "source": [
    "family_dict = df[['family_status', 'family_status_id']].drop_duplicates().reset_index(drop=True)\n",
    "family_dict"
   ]
  },
  {
   "cell_type": "markdown",
   "metadata": {},
   "source": [
    "Для получения зависимостей возврата кредита в срок от наличия детей, уровня дохода и целей и следует выделить отдельные категории данных:\n",
    "\n",
    "по уровню дохода - низкий, средний, высокий(в том числе в значениях дохода)\n",
    "\n",
    "по цели кредита - на основании лемм цели"
   ]
  },
  {
   "cell_type": "markdown",
   "metadata": {},
   "source": [
    "Создадим функцию для категоризации данных по уровню дохода, выделив следующие условные уровни дохода: до 50000 (можно трактовать как низкий уровень), 50000-100000, 100000-200000, 200000-500000, >500000 (можно трактовать как сверхвысокие доходы). При выделенни таких категорий необходимо принимать во внимание высокую степень расслоения населения по уровню доходов. Учитывая примерные размеры минимальной оплаты труда и наличие на содержании, например, 1-2 детей, можно отностиельно чётко сказать, что доходы в 50000 и менее можно отнести к низким, они хоть как-то могут обеспечивать базовые потребности человека. Дохододы в 500000 более характерны для небольшой социальной прослойки, но они имеют место быть. Ежесуточная норма расхода (доход на 1 день) явно превышает размеры минимальной оплаты труда, доходы в 500000 и более можно без колебаний отнести к высоким и даже сверх высоким. Четко же определить границы среднего дохода не представляется возможным: это зависит и от потребностей конкретного человека и от места его проживания. Выделим условно три подгруппы среднего дохода между обозначенными низкими и высокими доходами таким образом, что их границы будут увеличиваться относительно предыдущей группы примерно в 2 раза."
   ]
  },
  {
   "cell_type": "code",
   "execution_count": 51,
   "metadata": {
    "scrolled": false
   },
   "outputs": [],
   "source": [
    "def income_group(income):\n",
    "    if income <= 50000:\n",
    "        return '<= 50000'\n",
    "    elif 50000 < income <=100000:\n",
    "        return '50000-100000'\n",
    "    elif 100000 < income <=200000:\n",
    "        return '100000-200000'\n",
    "    elif 200000 < income <=500000:\n",
    "        return '200000-500000'\n",
    "    else:\n",
    "        return '>500000'\n",
    "\n",
    "df['income_group'] = df['total_income'].apply(income_group)"
   ]
  },
  {
   "cell_type": "markdown",
   "metadata": {},
   "source": [
    "Создадим функцию для категоризации данных по цели кредита. В словаре лемм можно однозначно выделить следующие основные цели кредита: образование, автомобиль, свадьба, операции с жилой недвижимостью, операции с коммерческой недвижимостью, иные операции с недвижимостью."
   ]
  },
  {
   "cell_type": "code",
   "execution_count": 52,
   "metadata": {
    "scrolled": false
   },
   "outputs": [],
   "source": [
    "def purpose_group(lemmas):\n",
    "    if 'свадьба' in lemmas:\n",
    "        return 'свадьба'\n",
    "    elif 'автомобиль' in lemmas:\n",
    "        return 'автомобиль'\n",
    "    elif 'образование' in lemmas:\n",
    "        return 'образование'\n",
    "    elif ('жилье' or 'жилой') in lemmas:\n",
    "        return 'операции с жилой недвижимостью'\n",
    "    elif ('коммерческий' in lemmas) & ('недвижимость' in lemmas):\n",
    "        return 'операции с коммерческой недвижимостью'\n",
    "    elif 'недвижимость' in lemmas:\n",
    "        return 'иные операции с недвижимостью'\n",
    "    else:\n",
    "        return 'иное'\n",
    "\n",
    "df['purpose_group'] = df['purpose_lemma'].apply(purpose_group)"
   ]
  },
  {
   "cell_type": "markdown",
   "metadata": {},
   "source": [
    "Категорированная таблица для анализа может выглядить следующим образом."
   ]
  },
  {
   "cell_type": "code",
   "execution_count": 53,
   "metadata": {
    "scrolled": false
   },
   "outputs": [
    {
     "data": {
      "text/html": [
       "<div>\n",
       "<style scoped>\n",
       "    .dataframe tbody tr th:only-of-type {\n",
       "        vertical-align: middle;\n",
       "    }\n",
       "\n",
       "    .dataframe tbody tr th {\n",
       "        vertical-align: top;\n",
       "    }\n",
       "\n",
       "    .dataframe thead th {\n",
       "        text-align: right;\n",
       "    }\n",
       "</style>\n",
       "<table border=\"1\" class=\"dataframe\">\n",
       "  <thead>\n",
       "    <tr style=\"text-align: right;\">\n",
       "      <th></th>\n",
       "      <th>children</th>\n",
       "      <th>days_employed</th>\n",
       "      <th>dob_years</th>\n",
       "      <th>education_id</th>\n",
       "      <th>family_status_id</th>\n",
       "      <th>gender</th>\n",
       "      <th>income_type</th>\n",
       "      <th>debt</th>\n",
       "      <th>total_income</th>\n",
       "      <th>income_group</th>\n",
       "      <th>purpose_group</th>\n",
       "    </tr>\n",
       "  </thead>\n",
       "  <tbody>\n",
       "    <tr>\n",
       "      <td>0</td>\n",
       "      <td>1</td>\n",
       "      <td>8437</td>\n",
       "      <td>42</td>\n",
       "      <td>0</td>\n",
       "      <td>0</td>\n",
       "      <td>F</td>\n",
       "      <td>сотрудник</td>\n",
       "      <td>0</td>\n",
       "      <td>253875</td>\n",
       "      <td>200000-500000</td>\n",
       "      <td>операции с жилой недвижимостью</td>\n",
       "    </tr>\n",
       "    <tr>\n",
       "      <td>1</td>\n",
       "      <td>1</td>\n",
       "      <td>4024</td>\n",
       "      <td>36</td>\n",
       "      <td>1</td>\n",
       "      <td>0</td>\n",
       "      <td>F</td>\n",
       "      <td>сотрудник</td>\n",
       "      <td>0</td>\n",
       "      <td>112080</td>\n",
       "      <td>100000-200000</td>\n",
       "      <td>автомобиль</td>\n",
       "    </tr>\n",
       "    <tr>\n",
       "      <td>2</td>\n",
       "      <td>0</td>\n",
       "      <td>5623</td>\n",
       "      <td>33</td>\n",
       "      <td>1</td>\n",
       "      <td>0</td>\n",
       "      <td>M</td>\n",
       "      <td>сотрудник</td>\n",
       "      <td>0</td>\n",
       "      <td>145885</td>\n",
       "      <td>100000-200000</td>\n",
       "      <td>операции с жилой недвижимостью</td>\n",
       "    </tr>\n",
       "    <tr>\n",
       "      <td>3</td>\n",
       "      <td>3</td>\n",
       "      <td>4124</td>\n",
       "      <td>32</td>\n",
       "      <td>1</td>\n",
       "      <td>0</td>\n",
       "      <td>M</td>\n",
       "      <td>сотрудник</td>\n",
       "      <td>0</td>\n",
       "      <td>267628</td>\n",
       "      <td>200000-500000</td>\n",
       "      <td>образование</td>\n",
       "    </tr>\n",
       "    <tr>\n",
       "      <td>4</td>\n",
       "      <td>0</td>\n",
       "      <td>14177</td>\n",
       "      <td>53</td>\n",
       "      <td>1</td>\n",
       "      <td>1</td>\n",
       "      <td>F</td>\n",
       "      <td>пенсионер</td>\n",
       "      <td>0</td>\n",
       "      <td>158616</td>\n",
       "      <td>100000-200000</td>\n",
       "      <td>свадьба</td>\n",
       "    </tr>\n",
       "  </tbody>\n",
       "</table>\n",
       "</div>"
      ],
      "text/plain": [
       "   children  days_employed  dob_years  education_id  family_status_id gender  \\\n",
       "0         1           8437         42             0                 0      F   \n",
       "1         1           4024         36             1                 0      F   \n",
       "2         0           5623         33             1                 0      M   \n",
       "3         3           4124         32             1                 0      M   \n",
       "4         0          14177         53             1                 1      F   \n",
       "\n",
       "  income_type  debt  total_income   income_group  \\\n",
       "0   сотрудник     0        253875  200000-500000   \n",
       "1   сотрудник     0        112080  100000-200000   \n",
       "2   сотрудник     0        145885  100000-200000   \n",
       "3   сотрудник     0        267628  200000-500000   \n",
       "4   пенсионер     0        158616  100000-200000   \n",
       "\n",
       "                    purpose_group  \n",
       "0  операции с жилой недвижимостью  \n",
       "1                      автомобиль  \n",
       "2  операции с жилой недвижимостью  \n",
       "3                     образование  \n",
       "4                         свадьба  "
      ]
     },
     "execution_count": 53,
     "metadata": {},
     "output_type": "execute_result"
    }
   ],
   "source": [
    "df_analis = df[['children', 'days_employed', 'dob_years',  'education_id', 'family_status_id', 'gender', 'income_type', 'debt', 'total_income', 'income_group', 'purpose_group']]\n",
    "df_analis.head()"
   ]
  },
  {
   "cell_type": "markdown",
   "metadata": {},
   "source": [
    "**Вывод**"
   ]
  },
  {
   "cell_type": "markdown",
   "metadata": {},
   "source": [
    "Проведена категоризация данных, выделены три дополнительные категории: по наличию детей, по уровню дохода, по унифицированной цели кредита. При необходимости в сущетвующей таблице также можно выделить группы по возрасту,а на основе данных о типе занятости выделить группы на наличие или отсутствие статуса \"пенсионера\"."
   ]
  },
  {
   "cell_type": "markdown",
   "metadata": {},
   "source": [
    "## Оценка зависимости возврата крелита в скрок от различных факторов"
   ]
  },
  {
   "cell_type": "markdown",
   "metadata": {},
   "source": [
    "### Оценка зависимости между наличием детей и возвратом кредита в срок"
   ]
  },
  {
   "cell_type": "code",
   "execution_count": 54,
   "metadata": {
    "scrolled": false
   },
   "outputs": [
    {
     "data": {
      "text/html": [
       "<div>\n",
       "<style scoped>\n",
       "    .dataframe tbody tr th:only-of-type {\n",
       "        vertical-align: middle;\n",
       "    }\n",
       "\n",
       "    .dataframe tbody tr th {\n",
       "        vertical-align: top;\n",
       "    }\n",
       "\n",
       "    .dataframe thead tr th {\n",
       "        text-align: left;\n",
       "    }\n",
       "\n",
       "    .dataframe thead tr:last-of-type th {\n",
       "        text-align: right;\n",
       "    }\n",
       "</style>\n",
       "<table border=\"1\" class=\"dataframe\">\n",
       "  <thead>\n",
       "    <tr>\n",
       "      <th></th>\n",
       "      <th colspan=\"3\" halign=\"left\">debt</th>\n",
       "    </tr>\n",
       "    <tr>\n",
       "      <th></th>\n",
       "      <th>sum</th>\n",
       "      <th>count</th>\n",
       "      <th>mean</th>\n",
       "    </tr>\n",
       "    <tr>\n",
       "      <th>children</th>\n",
       "      <th></th>\n",
       "      <th></th>\n",
       "      <th></th>\n",
       "    </tr>\n",
       "  </thead>\n",
       "  <tbody>\n",
       "    <tr>\n",
       "      <td>0</td>\n",
       "      <td>1058</td>\n",
       "      <td>14021</td>\n",
       "      <td>0.075458</td>\n",
       "    </tr>\n",
       "    <tr>\n",
       "      <td>1</td>\n",
       "      <td>442</td>\n",
       "      <td>4839</td>\n",
       "      <td>0.091341</td>\n",
       "    </tr>\n",
       "    <tr>\n",
       "      <td>2</td>\n",
       "      <td>194</td>\n",
       "      <td>2039</td>\n",
       "      <td>0.095145</td>\n",
       "    </tr>\n",
       "    <tr>\n",
       "      <td>3</td>\n",
       "      <td>27</td>\n",
       "      <td>328</td>\n",
       "      <td>0.082317</td>\n",
       "    </tr>\n",
       "    <tr>\n",
       "      <td>4</td>\n",
       "      <td>4</td>\n",
       "      <td>41</td>\n",
       "      <td>0.097561</td>\n",
       "    </tr>\n",
       "    <tr>\n",
       "      <td>5</td>\n",
       "      <td>0</td>\n",
       "      <td>9</td>\n",
       "      <td>0.000000</td>\n",
       "    </tr>\n",
       "  </tbody>\n",
       "</table>\n",
       "</div>"
      ],
      "text/plain": [
       "          debt                 \n",
       "           sum  count      mean\n",
       "children                       \n",
       "0         1058  14021  0.075458\n",
       "1          442   4839  0.091341\n",
       "2          194   2039  0.095145\n",
       "3           27    328  0.082317\n",
       "4            4     41  0.097561\n",
       "5            0      9  0.000000"
      ]
     },
     "execution_count": 54,
     "metadata": {},
     "output_type": "execute_result"
    }
   ],
   "source": [
    "children_dep = df.groupby('children').agg({'debt' : ['sum', 'count', 'mean']})\n",
    "children_dep"
   ]
  },
  {
   "cell_type": "markdown",
   "metadata": {},
   "source": [
    "**Вывод**"
   ]
  },
  {
   "cell_type": "markdown",
   "metadata": {},
   "source": [
    "Для семей с 5 детьми исходя из данных характерно отсутствие просрочек вообще, однако, такие данные могут быть необъективны, так как в таблицу из более чем 20000 строк попали только 9 заемщиков с таким количеством детей. Следующая по возрастанию числа просрочек идет категория бездетных клиентов. Это очевидно, учитывая тот факт что, у таких заемщиков нет обязательных статей расхода на содержание и воспитание детей. Делее по возрастанию идет следующая зависимость: чем больше детей, тем больше просрочек, что можно также объяснить прямой зависимостью расходов от количества детей. Выбивается из этого ряда только значение в отношении заемщиков с 3 детьми -  тут просрочек мньше примерно на 1 процент по отношению к другим категориям с детьми, однако число таких заемщиков также невилико около 1,5% от общего числа. Таким образом, вероятно, что при наличии равного числа записей по клиентам с разным колличеством детей существует некая тенденция роста колличетва просрочек от колличества детей."
   ]
  },
  {
   "cell_type": "markdown",
   "metadata": {},
   "source": [
    "### Оценка зависимости между семейным положением и возвратом кредита в срок"
   ]
  },
  {
   "cell_type": "code",
   "execution_count": 55,
   "metadata": {
    "scrolled": false
   },
   "outputs": [
    {
     "data": {
      "text/plain": [
       "family_status          debt\n",
       "в разводе              0        92.9%\n",
       "                       1         7.1%\n",
       "вдовец / вдова         0       93.47%\n",
       "                       1        6.53%\n",
       "гражданский брак       0        90.7%\n",
       "                       1         9.3%\n",
       "женат / замужем        0       92.45%\n",
       "                       1        7.55%\n",
       "не женат / не замужем  0       90.23%\n",
       "                       1        9.77%\n",
       "Name: debt, dtype: object"
      ]
     },
     "execution_count": 55,
     "metadata": {},
     "output_type": "execute_result"
    }
   ],
   "source": [
    "family_status_dep = df.groupby('family_status')['debt'].value_counts(normalize=True).mul(100).round(2).astype(str) + '%'\n",
    "family_status_dep"
   ]
  },
  {
   "cell_type": "markdown",
   "metadata": {},
   "source": [
    "**Вывод**"
   ]
  },
  {
   "cell_type": "markdown",
   "metadata": {},
   "source": [
    "Из данных видно, что самыми большими объемами просрочек обладают категории заемщиков, которые не состоят в официальных отношениях (граждансикй брак, не женатые/не замужем). Формально у обоих категорий отсутствуют обязательства перед членами их семей, что вероятно может привести не к такому тщательному планированию своих расходов(как следствие - низкой платжной дисциплине). Далее идут категории клиентов которые состоят или состояли в официальном браке. Самое малое число просрочек среди категории \"вдовец/вдова\". Заемщик, вынужденный в одиночку обеспечивать всю семью, должен четко осозновать свои возможности, такие кредиты вероятно более спланированы. Далее идут заемщики \"в разводе\" и в официальном браке, они примерно равны по числу просрочек. Обязательства перед семьей, текущей или бывшей, также ведут к более тщательному планированию кредита."
   ]
  },
  {
   "cell_type": "markdown",
   "metadata": {},
   "source": [
    "### Оценка зависимости между уровнем дохода и возвратом кредита в срок"
   ]
  },
  {
   "cell_type": "code",
   "execution_count": 56,
   "metadata": {},
   "outputs": [
    {
     "data": {
      "text/html": [
       "<div>\n",
       "<style scoped>\n",
       "    .dataframe tbody tr th:only-of-type {\n",
       "        vertical-align: middle;\n",
       "    }\n",
       "\n",
       "    .dataframe tbody tr th {\n",
       "        vertical-align: top;\n",
       "    }\n",
       "\n",
       "    .dataframe thead tr th {\n",
       "        text-align: left;\n",
       "    }\n",
       "\n",
       "    .dataframe thead tr:last-of-type th {\n",
       "        text-align: right;\n",
       "    }\n",
       "</style>\n",
       "<table border=\"1\" class=\"dataframe\">\n",
       "  <thead>\n",
       "    <tr>\n",
       "      <th></th>\n",
       "      <th colspan=\"3\" halign=\"left\">debt</th>\n",
       "    </tr>\n",
       "    <tr>\n",
       "      <th></th>\n",
       "      <th>sum</th>\n",
       "      <th>count</th>\n",
       "      <th>mean</th>\n",
       "    </tr>\n",
       "    <tr>\n",
       "      <th>income_group</th>\n",
       "      <th></th>\n",
       "      <th></th>\n",
       "      <th></th>\n",
       "    </tr>\n",
       "  </thead>\n",
       "  <tbody>\n",
       "    <tr>\n",
       "      <td>100000-200000</td>\n",
       "      <td>1017</td>\n",
       "      <td>11828</td>\n",
       "      <td>0.085982</td>\n",
       "    </tr>\n",
       "    <tr>\n",
       "      <td>200000-500000</td>\n",
       "      <td>341</td>\n",
       "      <td>4798</td>\n",
       "      <td>0.071071</td>\n",
       "    </tr>\n",
       "    <tr>\n",
       "      <td>50000-100000</td>\n",
       "      <td>330</td>\n",
       "      <td>4059</td>\n",
       "      <td>0.081301</td>\n",
       "    </tr>\n",
       "    <tr>\n",
       "      <td>&lt;= 50000</td>\n",
       "      <td>23</td>\n",
       "      <td>370</td>\n",
       "      <td>0.062162</td>\n",
       "    </tr>\n",
       "    <tr>\n",
       "      <td>&gt;500000</td>\n",
       "      <td>14</td>\n",
       "      <td>222</td>\n",
       "      <td>0.063063</td>\n",
       "    </tr>\n",
       "  </tbody>\n",
       "</table>\n",
       "</div>"
      ],
      "text/plain": [
       "               debt                 \n",
       "                sum  count      mean\n",
       "income_group                        \n",
       "100000-200000  1017  11828  0.085982\n",
       "200000-500000   341   4798  0.071071\n",
       "50000-100000    330   4059  0.081301\n",
       "<= 50000         23    370  0.062162\n",
       ">500000          14    222  0.063063"
      ]
     },
     "execution_count": 56,
     "metadata": {},
     "output_type": "execute_result"
    }
   ],
   "source": [
    "income_dep = df.groupby('income_group').agg({'debt' : ['sum', 'count', 'mean']})\n",
    "income_dep"
   ]
  },
  {
   "cell_type": "markdown",
   "metadata": {},
   "source": [
    "**Вывод**"
   ]
  },
  {
   "cell_type": "markdown",
   "metadata": {},
   "source": [
    "Как это ни странно, самой маленькой долей просрочек по кредитам имеют клиенты либо с самым малым уровнем доходов, либо с самым большим. Вероятно первые берут кредит осознанно, ориентируясь чётко на свой доход и уровень своих расходов, такие кредиты более продуманы и просчитаны; вероятно, такие кредиты описываются небольшой суммой периодических платежей, а максимальная сумма кредита для клиентов с малыми доходами невилика. Для клиентов же со сверхбольшими доходами характерно наличие определенного уровня достатка и возможности приобретения материальных благ без кредитов, а при необходимости их получения скорее всего уровень доходов позволяет покрывать ежемесячные платежи даже больших номиналов без ущерба для бюджета. Похожая ситуация с соседней высокой категорией доходов 200000-500000. В средних же категориях 50000-100000, 100000-200000 ситуация обстоит хуже всего. Вероятно клиенты, относящиеся к таким категориям пытаюся обзавестись \"атрибутами достатка\", предметами роскоши (допонительные объекты недвижимости, автомобили) или пытаются повысить свой уровень дохода, вкладывая средства в какие-либо бизнесс модели(покупа - аренда жилья), а банк предоставляет им такие возможности в виде крупных лимитов по кредиту. По сути это - так называемый \"средний класс\", который пытается повысить свое благосостояние."
   ]
  },
  {
   "cell_type": "markdown",
   "metadata": {},
   "source": [
    "### Оценка зависимости целей кредита на его возврат в срок"
   ]
  },
  {
   "cell_type": "code",
   "execution_count": 57,
   "metadata": {
    "scrolled": true
   },
   "outputs": [
    {
     "data": {
      "text/html": [
       "<div>\n",
       "<style scoped>\n",
       "    .dataframe tbody tr th:only-of-type {\n",
       "        vertical-align: middle;\n",
       "    }\n",
       "\n",
       "    .dataframe tbody tr th {\n",
       "        vertical-align: top;\n",
       "    }\n",
       "\n",
       "    .dataframe thead th {\n",
       "        text-align: right;\n",
       "    }\n",
       "</style>\n",
       "<table border=\"1\" class=\"dataframe\">\n",
       "  <thead>\n",
       "    <tr style=\"text-align: right;\">\n",
       "      <th></th>\n",
       "      <th>debt</th>\n",
       "    </tr>\n",
       "    <tr>\n",
       "      <th>purpose_group</th>\n",
       "      <th></th>\n",
       "    </tr>\n",
       "  </thead>\n",
       "  <tbody>\n",
       "    <tr>\n",
       "      <td>автомобиль</td>\n",
       "      <td>0.093230</td>\n",
       "    </tr>\n",
       "    <tr>\n",
       "      <td>иные операции с недвижимостью</td>\n",
       "      <td>0.074496</td>\n",
       "    </tr>\n",
       "    <tr>\n",
       "      <td>образование</td>\n",
       "      <td>0.092714</td>\n",
       "    </tr>\n",
       "    <tr>\n",
       "      <td>операции с жилой недвижимостью</td>\n",
       "      <td>0.069215</td>\n",
       "    </tr>\n",
       "    <tr>\n",
       "      <td>операции с коммерческой недвижимостью</td>\n",
       "      <td>0.075443</td>\n",
       "    </tr>\n",
       "    <tr>\n",
       "      <td>свадьба</td>\n",
       "      <td>0.078661</td>\n",
       "    </tr>\n",
       "  </tbody>\n",
       "</table>\n",
       "</div>"
      ],
      "text/plain": [
       "                                           debt\n",
       "purpose_group                                  \n",
       "автомобиль                             0.093230\n",
       "иные операции с недвижимостью          0.074496\n",
       "образование                            0.092714\n",
       "операции с жилой недвижимостью         0.069215\n",
       "операции с коммерческой недвижимостью  0.075443\n",
       "свадьба                                0.078661"
      ]
     },
     "execution_count": 57,
     "metadata": {},
     "output_type": "execute_result"
    }
   ],
   "source": [
    "purpose_dep = df.pivot_table(index=['purpose_group'], values='debt', aggfunc='mean')\n",
    "purpose_dep"
   ]
  },
  {
   "cell_type": "markdown",
   "metadata": {},
   "source": [
    "**Вывод**"
   ]
  },
  {
   "cell_type": "markdown",
   "metadata": {},
   "source": [
    "Из данных видно, что наименьший уровень процента прострочек связан с операциями с жилой недвижимостью, что вероятно связано  с рядом факторов: если клиент покупает жилье для себя, своего проживания, то он вынужден планировать свой бюджет так, чтобы это жилье не потерять, если жилье покупается в инвестиционных целях - это как правило взвешенная, продуманная, покупка, вероятно это не единственное жилье клиента, кроме того, иногода, оно сразу может приносить доход. Далее по возрастанию количетсва просрочек с разницей примерно в 0,5 % от жилой недвижимости идут операции с коммерческой и иной недвижимостью, которые также представляются как взвешенные спланированные операции. Верхние строки с одиноковыми показателями приходятся на покупки автомобилей и оплату образования, высокая частота просрочек в этих категориях может быть связана с тем что их часто можно отнести к эмоциональным покупкам, когда человек не может рационально оценить все факторы и последствия покупок: автомобиль после покупки становится \"тяжел\" в содержании, он может быть поврежден и утрачен, а мотивация ученика может быть снижена в процессе обучения(в связи трудностями с усваиванием материала, например, или невысокой успеваимостью). На средних позициях находится кредиты связанные с проведеним свадеб, которые также в некотором роде можно отнести к эмоциональным покупкам (средства на разовые мероприятия)."
   ]
  },
  {
   "cell_type": "markdown",
   "metadata": {},
   "source": [
    "## Общий вывод"
   ]
  },
  {
   "cell_type": "markdown",
   "metadata": {},
   "source": [
    "Для построения модели кредитного скоринга по заданию кредитного отдела банка было проведено исследование на предмет зависимости факта погашения кредита от таких харктеристик заемщика как:\n",
    "\n",
    "- Колличество детей\n",
    "- Семейное положение\n",
    "- Уровень дохода\n",
    "- Цель кредита\n",
    "\n",
    "База для исследования - массив данных, файл формата '.csv', содержащий информацию о  праметрах, описывающих клиентов: общая информация о клиенте (возраст, пол, уровень образования), семейное положение (количество детей, статус семеных отношений),информация о трудовой деятельности (стаж работы, тип занятости), прочие важные данные, необходимые банку для оценки возможности выдачи кредита (уровень дохода, цель кредита, наличие просрочек погашения кредита).\n",
    "\n",
    "После ознакомления с предоставленными данными была произведена их предобработка, которая включала следующие этапы и результаты их выполнения:\n",
    "\n",
    "1. Поиск и обработка пропусков и ошибочных данных:\n",
    "\n",
    "   1.1. Поиск и обработка неявных пропусков- плейсхолдеров и ошибок: в столбце 'gender' обнаружено и удалено ошибочное значение 'XNA'; в столбце 'children'  обнаружено: 76 записей со значением \"20\" (удалены, в связи с невозможностью точной идентификации их как истинных), 47 записей со значеним \"-1\" (определены как записи с явной ошибкой, обработаны и заменены, путем смены знака числа на противоположный); в столбце 'dob_years' обнаружено 100 строк со значение, равным нулю (определены как ошибочные без возможности замещения - удалены). Общая потеря данных составила 177 строк из 21525 или 0,82% и является несущественной.\n",
    "   \n",
    "   1.2. Поиск и обработка явных пропусков - незаполненных значений: после удаления ошибочных данных количество пропусков составило 2155 значений в каждом из столбцов 'days_employed' и 'total_income'. Для заполнения пропусков были видвинуты и подтверждены гипотезы зависимости данных от : 'days_employed' - от 'dob_years' (стаж от возраста), 'total_income' - от 'income_type' (доход от типа занятоси). В обоих случаях проведены замены на основе медианных значений собственных столбцов в соответсвии со сгруппированными данными столбцов, зависимость от которых была доказана. Также в столбце 'days_employed' был исследован и изменен формат записи данных для приведения их единому виду.\n",
    "   \n",
    "   \n",
    "2. Изменение типа данных:  при анализе типа данных используемых для столбцов, было выявлено, что для days_employed и total_income используются данные типа 'float'. Для более удобного использования данные приведены к целочисленному типу 'int'.\n",
    "\n",
    "\n",
    "3. Поиск и замена дубликатов: выявлено 54 полных дубликата, с учётом приведения к нижнему регистру данных в столбцах с нечисловой информацией - 71. Строки удалены. Итого, общая потеря данных 177+71 = 248 строк из 21525 или 1,15%.\n",
    "\n",
    "\n",
    "4. Лемматизация значений столбца 'purpose' для определения целей кредита на основании словарных форм слов в словосочетании, её (цель) выражающем. Было выделено шесть основных по смыслу целей получаемых кредитов:  образование, автомобиль, свадьба, операции с жилой недвижимостью, операции с коммерческой недвижимостью, иные операции с недвижимостью.\n",
    "\n",
    "\n",
    "5. Категоризация данных - определении конкретных групп данных и их границ, по которым будет производится само исследование. Для категоризации данных по количеству детей и семейному статусу - использованы значения соответствующих столбцов, для категоризации данных по уровню дохода было выделено 5 подгупп (<=50000, 50000-100000, 100000-200000, 200000-500000, >500000) на основании анализа информации о минимальном размере оплаты труда и возможном социально-экономическом поведении заёмщика, для категоризации по целям кредита за основу были взяты полученные и обозначенные 6 основных целей.\n",
    "\n",
    "По завершению предобработки данных был проведен собственно сам анализ. Методика оценки заключалась в получении для каждой из ислледуемых характеристик соотношения доли имевших место просрочек по кредиту (столбец 'debt') для кажого значения группы к общему количеству записей в группе. \n",
    "\n",
    "Были получены следующие выводы"
   ]
  },
  {
   "cell_type": "markdown",
   "metadata": {},
   "source": [
    "**Зависимость просрочек платежей от колиичетсва детей в семье**: \n",
    "\n",
    "В целом наблюдается пряммая зависимость уровня числа просрочек от количества детей клиента: чем детей больше, тем выше вероятность факта просрочки платежей, для бездетных клиетов доля числа просрочек меньше всего.  Однако в фактически предоставленных данных отмечаются некоторые выбросы: так для клиентов с 5 детьми просрочки отсутствуют, а для клиентов с 3 детьми количество просрочек меньше, чем для клиентов с 2 и 4 детьми это можно обяснить малым колличеством наблюдений в конкретных значениях группы (например количетво клиентов в с 5 детьми в предоставленной таблице - 5 на более чем 21000 строк)"
   ]
  },
  {
   "cell_type": "code",
   "execution_count": 58,
   "metadata": {},
   "outputs": [],
   "source": [
    "def dep_debt(col): #функция посторения столбчатых графиков\n",
    "    col_dep =  df.pivot_table(index=[col], values='debt', aggfunc='mean').round(3).reset_index().sort_values(by='debt')\n",
    "    fig, ax = plt.subplots()\n",
    "    ax.bar(col_dep[col].astype('str'), col_dep['debt'])\n",
    "     \n",
    "    rects = ax.patches\n",
    "    \n",
    "    labels = [i for i in col_dep['debt']]\n",
    "    \n",
    "    for rect, label in zip(rects, labels):\n",
    "        height = rect.get_height()\n",
    "        ax.text(rect.get_x() + rect.get_width() / 2, height, label, ha=\"center\", va=\"bottom\")\n",
    "    \n",
    "    plt.title('Dependence debt from '+col)\n",
    "    plt.xlabel(col)\n",
    "    plt.ylabel('debt_mean')\n",
    "    \n",
    "   \n",
    "    fig.set_figwidth(15)\n",
    "    fig.set_figheight(4)\n",
    "    plt.show()"
   ]
  },
  {
   "cell_type": "code",
   "execution_count": 59,
   "metadata": {
    "scrolled": false
   },
   "outputs": [
    {
     "data": {
      "image/png": "[encoded data removed]",
      "text/plain": [
       "<Figure size 1080x288 with 1 Axes>"
      ]
     },
     "metadata": {
      "needs_background": "light"
     },
     "output_type": "display_data"
    }
   ],
   "source": [
    "dep_debt('children')"
   ]
  },
  {
   "cell_type": "markdown",
   "metadata": {},
   "source": [
    "**Зависимость просрочек платежей от семейного положения**: \n",
    "\n",
    "Наибольшее число просрочек связано с клиентами без официально оформленных семейных отношений (не в браке, гражданский брак в порядке убывания). Самыми дисциплинированными являются люди, имеющие или имевшие когда-либо официально оформленные семейные отношения ввиду четкого планирования собственно бюджета из-зиа своих обязательств перед своими бывшими и текущими семьями. Особо следует отметь лиц, потерявших своих близких - в таких обстоятельствах жизни они являются самыми ответственными заемщиками."
   ]
  },
  {
   "cell_type": "code",
   "execution_count": 60,
   "metadata": {
    "scrolled": false
   },
   "outputs": [
    {
     "data": {
      "image/png": "[encoded data removed]",
      "text/plain": [
       "<Figure size 1080x288 with 1 Axes>"
      ]
     },
     "metadata": {
      "needs_background": "light"
     },
     "output_type": "display_data"
    }
   ],
   "source": [
    "dep_debt('family_status')"
   ]
  },
  {
   "cell_type": "markdown",
   "metadata": {},
   "source": [
    "**Зависимость просрочек платежей от уровня дохода**: \n",
    "\n",
    "Клиенты с самым малым (<=50000) и с самым высоким (>500000) уровнем дохода допускают меньше всего просрочекЖ первые в силу оганичения возможностей в части получения больших сумм кредита и невысоких сумм периодических платежей, а также строго планирования бюджета, вторые - в силу широких возможностей в части покрытия свокй долговой нагрузки. В средних группах по доходу наблюдается пропорциональный рост просрочек с ростом выделенных границ дохода, что вероятно вызвано дополнительными возникающими  запросами и потребностями заемщиков."
   ]
  },
  {
   "cell_type": "code",
   "execution_count": 61,
   "metadata": {},
   "outputs": [
    {
     "data": {
      "image/png": "[encoded data removed]",
      "text/plain": [
       "<Figure size 1080x288 with 1 Axes>"
      ]
     },
     "metadata": {
      "needs_background": "light"
     },
     "output_type": "display_data"
    }
   ],
   "source": [
    "dep_debt('income_group')"
   ]
  },
  {
   "cell_type": "markdown",
   "metadata": {},
   "source": [
    "**Зависимость просрочек платежей от целей кредита**: \n",
    "\n",
    "Самыми надежными являются кредиты взятые на недвижимость, особенно на жилую - это \"уникальные\" дорогие покупки, которые требуют хорошо расчитаного подхода в покрытии расходов на них, они обладают высокой инвестиционной привлекательностью, а их потеря или просрочка погашения по ним могут привести к тяжёлым последствиям для самого заёмщика. Самой высокой долей просрочек обладают кредиты на автомобиль, образование и савдьбу - эмоцианольно-мотивационные покупки которые легко оформить, последующий совокупный положительный эффект от их приобретения может упасть в виду суъективных особенностей самого замщика."
   ]
  },
  {
   "cell_type": "code",
   "execution_count": 62,
   "metadata": {},
   "outputs": [
    {
     "data": {
      "image/png": "[encoded data removed]",
      "text/plain": [
       "<Figure size 1080x288 with 1 Axes>"
      ]
     },
     "metadata": {
      "needs_background": "light"
     },
     "output_type": "display_data"
    }
   ],
   "source": [
    "dep_debt('purpose_group')"
   ]
  }
 ],
 "metadata": {
  "ExecuteTimeLog": [
   {
    "duration": 701,
    "start_time": "2021-12-09T08:57:43.227Z"
   },
   {
    "duration": 58,
    "start_time": "2021-12-09T09:04:07.842Z"
   },
   {
    "duration": 50,
    "start_time": "2021-12-09T09:05:34.418Z"
   },
   {
    "duration": 12,
    "start_time": "2021-12-09T09:05:35.853Z"
   },
   {
    "duration": 11,
    "start_time": "2021-12-09T09:06:59.567Z"
   },
   {
    "duration": 13,
    "start_time": "2021-12-09T09:09:48.018Z"
   },
   {
    "duration": 11,
    "start_time": "2021-12-09T09:11:24.285Z"
   },
   {
    "duration": 884,
    "start_time": "2021-12-09T12:01:00.010Z"
   },
   {
    "duration": 51,
    "start_time": "2021-12-09T12:01:14.953Z"
   },
   {
    "duration": 14,
    "start_time": "2021-12-09T12:01:15.071Z"
   },
   {
    "duration": 15,
    "start_time": "2021-12-09T12:01:15.087Z"
   },
   {
    "duration": 254,
    "start_time": "2021-12-09T12:01:15.105Z"
   },
   {
    "duration": 4,
    "start_time": "2021-12-09T12:01:31.363Z"
   },
   {
    "duration": 4,
    "start_time": "2021-12-09T12:10:55.993Z"
   },
   {
    "duration": -86,
    "start_time": "2021-12-09T13:22:06.343Z"
   },
   {
    "duration": 5880,
    "start_time": "2021-12-09T13:22:49.871Z"
   },
   {
    "duration": 258,
    "start_time": "2021-12-09T13:23:13.131Z"
   },
   {
    "duration": 5,
    "start_time": "2021-12-09T13:23:22.007Z"
   },
   {
    "duration": 5,
    "start_time": "2021-12-09T13:23:51.073Z"
   },
   {
    "duration": 4,
    "start_time": "2021-12-09T13:45:47.515Z"
   },
   {
    "duration": 4,
    "start_time": "2021-12-09T13:46:20.828Z"
   },
   {
    "duration": 7,
    "start_time": "2021-12-09T13:47:19.351Z"
   },
   {
    "duration": 18,
    "start_time": "2021-12-09T13:51:19.446Z"
   },
   {
    "duration": 11,
    "start_time": "2021-12-09T13:51:33.420Z"
   },
   {
    "duration": 10,
    "start_time": "2021-12-09T13:52:45.878Z"
   },
   {
    "duration": 256,
    "start_time": "2021-12-09T14:04:07.896Z"
   },
   {
    "duration": 245,
    "start_time": "2021-12-09T14:04:36.444Z"
   },
   {
    "duration": 10,
    "start_time": "2021-12-09T14:07:15.504Z"
   },
   {
    "duration": 11,
    "start_time": "2021-12-09T14:07:34.264Z"
   },
   {
    "duration": 10,
    "start_time": "2021-12-09T14:07:46.448Z"
   },
   {
    "duration": 9,
    "start_time": "2021-12-09T14:07:56.492Z"
   },
   {
    "duration": 19,
    "start_time": "2021-12-09T14:08:16.050Z"
   },
   {
    "duration": 391,
    "start_time": "2021-12-09T14:09:51.518Z"
   },
   {
    "duration": 209,
    "start_time": "2021-12-09T14:13:59.609Z"
   },
   {
    "duration": 19,
    "start_time": "2021-12-09T14:14:31.255Z"
   },
   {
    "duration": 10,
    "start_time": "2021-12-09T14:14:59.476Z"
   },
   {
    "duration": 275,
    "start_time": "2021-12-09T14:16:59.015Z"
   },
   {
    "duration": 250,
    "start_time": "2021-12-09T14:17:30.335Z"
   },
   {
    "duration": 7,
    "start_time": "2021-12-09T14:19:37.241Z"
   },
   {
    "duration": 250,
    "start_time": "2021-12-09T14:20:53.619Z"
   },
   {
    "duration": 6,
    "start_time": "2021-12-09T14:21:00.834Z"
   },
   {
    "duration": 22,
    "start_time": "2021-12-09T14:22:32.172Z"
   },
   {
    "duration": 24,
    "start_time": "2021-12-09T14:26:58.443Z"
   },
   {
    "duration": 6,
    "start_time": "2021-12-09T14:32:03.326Z"
   },
   {
    "duration": 18,
    "start_time": "2021-12-09T14:33:55.423Z"
   },
   {
    "duration": 16,
    "start_time": "2021-12-09T14:43:17.640Z"
   },
   {
    "duration": 24,
    "start_time": "2021-12-09T14:44:13.280Z"
   },
   {
    "duration": 16,
    "start_time": "2021-12-09T14:44:45.570Z"
   },
   {
    "duration": 288,
    "start_time": "2021-12-09T14:45:46.861Z"
   },
   {
    "duration": 300,
    "start_time": "2021-12-09T14:45:54.677Z"
   },
   {
    "duration": 11,
    "start_time": "2021-12-09T14:46:20.703Z"
   },
   {
    "duration": 22,
    "start_time": "2021-12-09T14:46:41.982Z"
   },
   {
    "duration": 15,
    "start_time": "2021-12-09T14:46:43.882Z"
   },
   {
    "duration": 14,
    "start_time": "2021-12-09T14:46:49.195Z"
   },
   {
    "duration": 9,
    "start_time": "2021-12-09T14:47:04.577Z"
   },
   {
    "duration": 10,
    "start_time": "2021-12-09T14:47:54.959Z"
   },
   {
    "duration": 15,
    "start_time": "2021-12-09T14:48:30.397Z"
   },
   {
    "duration": 16,
    "start_time": "2021-12-09T14:48:45.290Z"
   },
   {
    "duration": 13,
    "start_time": "2021-12-09T14:50:15.444Z"
   },
   {
    "duration": 10,
    "start_time": "2021-12-09T14:50:28.764Z"
   },
   {
    "duration": 16,
    "start_time": "2021-12-09T14:51:12.916Z"
   },
   {
    "duration": 30,
    "start_time": "2021-12-09T14:53:17.132Z"
   },
   {
    "duration": 15,
    "start_time": "2021-12-09T15:04:15.532Z"
   },
   {
    "duration": 15,
    "start_time": "2021-12-09T15:04:19.114Z"
   },
   {
    "duration": 31,
    "start_time": "2021-12-09T15:04:36.150Z"
   },
   {
    "duration": 279,
    "start_time": "2021-12-09T15:05:06.392Z"
   },
   {
    "duration": 33,
    "start_time": "2021-12-09T15:05:18.161Z"
   },
   {
    "duration": 26,
    "start_time": "2021-12-09T15:07:23.166Z"
   },
   {
    "duration": 3898,
    "start_time": "2021-12-09T15:33:50.820Z"
   },
   {
    "duration": 298,
    "start_time": "2021-12-09T15:35:28.226Z"
   },
   {
    "duration": 36,
    "start_time": "2021-12-09T15:36:17.091Z"
   },
   {
    "duration": 3301,
    "start_time": "2021-12-09T15:37:45.788Z"
   },
   {
    "duration": 265,
    "start_time": "2021-12-09T15:38:14.161Z"
   },
   {
    "duration": 3251,
    "start_time": "2021-12-09T15:38:19.863Z"
   },
   {
    "duration": 6,
    "start_time": "2021-12-09T15:38:35.606Z"
   },
   {
    "duration": 256,
    "start_time": "2021-12-09T15:40:31.463Z"
   },
   {
    "duration": 247,
    "start_time": "2021-12-09T15:40:45.867Z"
   },
   {
    "duration": 263,
    "start_time": "2021-12-09T15:41:19.446Z"
   },
   {
    "duration": 9,
    "start_time": "2021-12-09T15:41:44.869Z"
   },
   {
    "duration": 6,
    "start_time": "2021-12-09T15:41:58.906Z"
   },
   {
    "duration": 271,
    "start_time": "2021-12-09T15:43:55.597Z"
   },
   {
    "duration": 278,
    "start_time": "2021-12-09T15:44:01.584Z"
   },
   {
    "duration": 6,
    "start_time": "2021-12-09T15:44:22.982Z"
   },
   {
    "duration": 337,
    "start_time": "2021-12-09T15:44:35.157Z"
   },
   {
    "duration": 263,
    "start_time": "2021-12-09T15:44:53.629Z"
   },
   {
    "duration": 274,
    "start_time": "2021-12-09T15:45:31.463Z"
   },
   {
    "duration": 7,
    "start_time": "2021-12-09T15:45:36.290Z"
   },
   {
    "duration": 16,
    "start_time": "2021-12-09T15:51:52.913Z"
   },
   {
    "duration": 249,
    "start_time": "2021-12-09T15:52:01.113Z"
   },
   {
    "duration": 15,
    "start_time": "2021-12-09T15:52:13.604Z"
   },
   {
    "duration": 15,
    "start_time": "2021-12-09T15:52:33.795Z"
   },
   {
    "duration": 284,
    "start_time": "2021-12-09T18:53:32.297Z"
   },
   {
    "duration": 82,
    "start_time": "2021-12-09T18:54:06.564Z"
   },
   {
    "duration": 232,
    "start_time": "2021-12-09T18:54:13.408Z"
   },
   {
    "duration": 234,
    "start_time": "2021-12-09T18:54:43.009Z"
   },
   {
    "duration": 231,
    "start_time": "2021-12-09T18:55:28.552Z"
   },
   {
    "duration": 320,
    "start_time": "2021-12-09T18:55:46.248Z"
   },
   {
    "duration": 407,
    "start_time": "2021-12-09T18:56:20.811Z"
   },
   {
    "duration": 629,
    "start_time": "2021-12-09T18:56:37.291Z"
   },
   {
    "duration": 18,
    "start_time": "2021-12-09T18:56:37.922Z"
   },
   {
    "duration": 12,
    "start_time": "2021-12-09T18:56:37.942Z"
   },
   {
    "duration": 9,
    "start_time": "2021-12-09T18:56:37.956Z"
   },
   {
    "duration": 22,
    "start_time": "2021-12-09T18:56:37.966Z"
   },
   {
    "duration": 16,
    "start_time": "2021-12-09T18:56:37.989Z"
   },
   {
    "duration": 15,
    "start_time": "2021-12-09T18:56:38.007Z"
   },
   {
    "duration": 6,
    "start_time": "2021-12-09T18:56:38.024Z"
   },
   {
    "duration": 32,
    "start_time": "2021-12-09T18:56:38.032Z"
   },
   {
    "duration": 18,
    "start_time": "2021-12-09T18:56:50.043Z"
   },
   {
    "duration": 7,
    "start_time": "2021-12-09T18:57:19.964Z"
   },
   {
    "duration": 7,
    "start_time": "2021-12-09T18:58:57.824Z"
   },
   {
    "duration": 8,
    "start_time": "2021-12-09T18:59:57.028Z"
   },
   {
    "duration": 8,
    "start_time": "2021-12-09T19:01:08.317Z"
   },
   {
    "duration": 7,
    "start_time": "2021-12-09T19:01:23.167Z"
   },
   {
    "duration": 7,
    "start_time": "2021-12-09T19:01:32.236Z"
   },
   {
    "duration": 7,
    "start_time": "2021-12-09T19:01:59.451Z"
   },
   {
    "duration": 8,
    "start_time": "2021-12-09T19:02:41.684Z"
   },
   {
    "duration": 277,
    "start_time": "2021-12-09T19:03:25.324Z"
   },
   {
    "duration": 19,
    "start_time": "2021-12-09T19:03:34.056Z"
   },
   {
    "duration": 6,
    "start_time": "2021-12-09T19:04:04.199Z"
   },
   {
    "duration": 7,
    "start_time": "2021-12-09T19:04:32.258Z"
   },
   {
    "duration": 2782,
    "start_time": "2021-12-09T19:05:51.124Z"
   },
   {
    "duration": 6190,
    "start_time": "2021-12-09T19:06:43.116Z"
   },
   {
    "duration": 7,
    "start_time": "2021-12-09T19:07:18.789Z"
   },
   {
    "duration": 52,
    "start_time": "2021-12-09T19:09:07.978Z"
   },
   {
    "duration": 12,
    "start_time": "2021-12-09T19:09:08.032Z"
   },
   {
    "duration": 11,
    "start_time": "2021-12-09T19:09:08.047Z"
   },
   {
    "duration": 7,
    "start_time": "2021-12-09T19:09:08.060Z"
   },
   {
    "duration": 18,
    "start_time": "2021-12-09T19:09:08.069Z"
   },
   {
    "duration": 23,
    "start_time": "2021-12-09T19:09:08.089Z"
   },
   {
    "duration": 21,
    "start_time": "2021-12-09T19:09:08.114Z"
   },
   {
    "duration": 12,
    "start_time": "2021-12-09T19:09:08.138Z"
   },
   {
    "duration": 12,
    "start_time": "2021-12-09T19:09:08.152Z"
   },
   {
    "duration": 288,
    "start_time": "2021-12-09T19:10:09.910Z"
   },
   {
    "duration": 14,
    "start_time": "2021-12-09T19:10:17.070Z"
   },
   {
    "duration": 13,
    "start_time": "2021-12-09T19:10:21.694Z"
   },
   {
    "duration": 6,
    "start_time": "2021-12-09T19:30:53.326Z"
   },
   {
    "duration": 9,
    "start_time": "2021-12-09T19:31:13.068Z"
   },
   {
    "duration": 260,
    "start_time": "2021-12-09T19:31:56.349Z"
   },
   {
    "duration": 9,
    "start_time": "2021-12-09T19:32:13.839Z"
   },
   {
    "duration": 7,
    "start_time": "2021-12-09T19:32:51.875Z"
   },
   {
    "duration": 260,
    "start_time": "2021-12-09T19:33:34.283Z"
   },
   {
    "duration": 7,
    "start_time": "2021-12-09T19:34:40.017Z"
   },
   {
    "duration": 11,
    "start_time": "2021-12-09T19:34:52.509Z"
   },
   {
    "duration": 5,
    "start_time": "2021-12-09T19:35:30.404Z"
   },
   {
    "duration": 5,
    "start_time": "2021-12-09T19:36:07.017Z"
   },
   {
    "duration": 6,
    "start_time": "2021-12-09T19:37:48.584Z"
   },
   {
    "duration": 7,
    "start_time": "2021-12-09T19:38:47.869Z"
   },
   {
    "duration": 9,
    "start_time": "2021-12-09T19:39:13.816Z"
   },
   {
    "duration": 7,
    "start_time": "2021-12-09T19:40:52.180Z"
   },
   {
    "duration": 8,
    "start_time": "2021-12-09T19:44:18.630Z"
   },
   {
    "duration": 9,
    "start_time": "2021-12-09T20:27:39.632Z"
   },
   {
    "duration": 15,
    "start_time": "2021-12-09T20:27:42.959Z"
   },
   {
    "duration": 6,
    "start_time": "2021-12-09T20:46:11.181Z"
   },
   {
    "duration": 22,
    "start_time": "2021-12-09T20:50:09.519Z"
   },
   {
    "duration": 7,
    "start_time": "2021-12-09T20:53:46.606Z"
   },
   {
    "duration": 252,
    "start_time": "2021-12-09T20:55:06.028Z"
   },
   {
    "duration": 10,
    "start_time": "2021-12-09T20:55:28.261Z"
   },
   {
    "duration": 8,
    "start_time": "2021-12-09T21:06:11.970Z"
   },
   {
    "duration": 6,
    "start_time": "2021-12-09T21:06:31.363Z"
   },
   {
    "duration": 6,
    "start_time": "2021-12-09T21:07:27.490Z"
   },
   {
    "duration": 6,
    "start_time": "2021-12-09T21:07:39.686Z"
   },
   {
    "duration": 83,
    "start_time": "2021-12-09T21:18:29.727Z"
   },
   {
    "duration": 23,
    "start_time": "2021-12-09T21:18:44.061Z"
   },
   {
    "duration": 30,
    "start_time": "2021-12-09T21:35:15.029Z"
   },
   {
    "duration": 11,
    "start_time": "2021-12-09T21:35:39.569Z"
   },
   {
    "duration": 23,
    "start_time": "2021-12-09T21:36:05.927Z"
   },
   {
    "duration": 15,
    "start_time": "2021-12-09T21:36:27.486Z"
   },
   {
    "duration": 14,
    "start_time": "2021-12-09T22:02:22.167Z"
   },
   {
    "duration": 25,
    "start_time": "2021-12-09T22:02:52.480Z"
   },
   {
    "duration": 14,
    "start_time": "2021-12-09T22:03:13.629Z"
   },
   {
    "duration": 11,
    "start_time": "2021-12-09T22:03:38.379Z"
   },
   {
    "duration": 11,
    "start_time": "2021-12-09T22:04:13.041Z"
   },
   {
    "duration": 11,
    "start_time": "2021-12-09T22:04:17.472Z"
   },
   {
    "duration": 11,
    "start_time": "2021-12-09T22:04:27.394Z"
   },
   {
    "duration": 17,
    "start_time": "2021-12-09T22:06:32.368Z"
   },
   {
    "duration": 21,
    "start_time": "2021-12-09T22:34:56.165Z"
   },
   {
    "duration": 20,
    "start_time": "2021-12-09T22:36:11.869Z"
   },
   {
    "duration": 15,
    "start_time": "2021-12-09T22:36:49.205Z"
   },
   {
    "duration": 12,
    "start_time": "2021-12-09T22:38:19.837Z"
   },
   {
    "duration": 19,
    "start_time": "2021-12-09T22:38:52.529Z"
   },
   {
    "duration": 86,
    "start_time": "2021-12-09T22:39:46.636Z"
   },
   {
    "duration": 18,
    "start_time": "2021-12-09T22:39:57.440Z"
   },
   {
    "duration": 21,
    "start_time": "2021-12-09T22:40:49.134Z"
   },
   {
    "duration": 20,
    "start_time": "2021-12-09T22:41:26.026Z"
   },
   {
    "duration": 21,
    "start_time": "2021-12-09T22:41:42.397Z"
   },
   {
    "duration": 17,
    "start_time": "2021-12-09T22:45:14.623Z"
   },
   {
    "duration": 22,
    "start_time": "2021-12-09T22:49:09.044Z"
   },
   {
    "duration": 53,
    "start_time": "2021-12-09T22:51:55.163Z"
   },
   {
    "duration": 13,
    "start_time": "2021-12-09T22:51:55.218Z"
   },
   {
    "duration": 13,
    "start_time": "2021-12-09T22:51:55.233Z"
   },
   {
    "duration": 14,
    "start_time": "2021-12-09T22:51:55.250Z"
   },
   {
    "duration": 12,
    "start_time": "2021-12-09T22:51:55.266Z"
   },
   {
    "duration": 12,
    "start_time": "2021-12-09T22:51:55.280Z"
   },
   {
    "duration": 13,
    "start_time": "2021-12-09T22:51:55.294Z"
   },
   {
    "duration": 6,
    "start_time": "2021-12-09T22:51:55.309Z"
   },
   {
    "duration": 79,
    "start_time": "2021-12-09T22:51:55.317Z"
   },
   {
    "duration": 2177,
    "start_time": "2021-12-09T22:51:53.220Z"
   },
   {
    "duration": 2175,
    "start_time": "2021-12-09T22:51:53.223Z"
   },
   {
    "duration": 2170,
    "start_time": "2021-12-09T22:51:53.229Z"
   },
   {
    "duration": 21,
    "start_time": "2021-12-09T22:52:54.014Z"
   },
   {
    "duration": 254,
    "start_time": "2021-12-09T22:54:28.466Z"
   },
   {
    "duration": 406,
    "start_time": "2021-12-09T22:55:24.929Z"
   },
   {
    "duration": 13,
    "start_time": "2021-12-09T22:57:51.642Z"
   },
   {
    "duration": 39,
    "start_time": "2021-12-09T22:59:18.414Z"
   },
   {
    "duration": 35,
    "start_time": "2021-12-09T22:59:53.035Z"
   },
   {
    "duration": 37,
    "start_time": "2021-12-09T23:01:26.258Z"
   },
   {
    "duration": 40,
    "start_time": "2021-12-09T23:02:17.497Z"
   },
   {
    "duration": 41,
    "start_time": "2021-12-09T23:03:13.659Z"
   },
   {
    "duration": 35,
    "start_time": "2021-12-09T23:03:42.429Z"
   },
   {
    "duration": 27,
    "start_time": "2021-12-09T23:04:14.683Z"
   },
   {
    "duration": 11,
    "start_time": "2021-12-09T23:05:14.453Z"
   },
   {
    "duration": 55,
    "start_time": "2021-12-09T23:05:27.603Z"
   },
   {
    "duration": 12,
    "start_time": "2021-12-09T23:05:27.660Z"
   },
   {
    "duration": 13,
    "start_time": "2021-12-09T23:05:27.675Z"
   },
   {
    "duration": 4,
    "start_time": "2021-12-09T23:05:27.690Z"
   },
   {
    "duration": 11,
    "start_time": "2021-12-09T23:05:27.695Z"
   },
   {
    "duration": 15,
    "start_time": "2021-12-09T23:05:27.707Z"
   },
   {
    "duration": 41,
    "start_time": "2021-12-09T23:05:27.723Z"
   },
   {
    "duration": 7,
    "start_time": "2021-12-09T23:05:27.766Z"
   },
   {
    "duration": 15,
    "start_time": "2021-12-09T23:05:27.775Z"
   },
   {
    "duration": 18,
    "start_time": "2021-12-09T23:05:27.791Z"
   },
   {
    "duration": 22,
    "start_time": "2021-12-09T23:05:27.811Z"
   },
   {
    "duration": 11,
    "start_time": "2021-12-09T23:05:27.834Z"
   },
   {
    "duration": 22,
    "start_time": "2021-12-09T23:07:15.979Z"
   },
   {
    "duration": 27,
    "start_time": "2021-12-09T23:08:05.527Z"
   },
   {
    "duration": 54,
    "start_time": "2021-12-09T23:08:10.804Z"
   },
   {
    "duration": 13,
    "start_time": "2021-12-09T23:08:10.860Z"
   },
   {
    "duration": 11,
    "start_time": "2021-12-09T23:08:10.876Z"
   },
   {
    "duration": 27,
    "start_time": "2021-12-09T23:08:10.889Z"
   },
   {
    "duration": 12,
    "start_time": "2021-12-09T23:08:10.918Z"
   },
   {
    "duration": 19,
    "start_time": "2021-12-09T23:08:10.932Z"
   },
   {
    "duration": 13,
    "start_time": "2021-12-09T23:08:10.953Z"
   },
   {
    "duration": 7,
    "start_time": "2021-12-09T23:08:10.968Z"
   },
   {
    "duration": 10,
    "start_time": "2021-12-09T23:08:10.977Z"
   },
   {
    "duration": 19,
    "start_time": "2021-12-09T23:08:10.990Z"
   },
   {
    "duration": 18,
    "start_time": "2021-12-09T23:08:11.011Z"
   },
   {
    "duration": 280,
    "start_time": "2021-12-09T23:08:11.031Z"
   },
   {
    "duration": 645,
    "start_time": "2021-12-10T08:10:22.348Z"
   },
   {
    "duration": 876,
    "start_time": "2021-12-10T08:10:48.198Z"
   },
   {
    "duration": 29,
    "start_time": "2021-12-10T08:10:49.077Z"
   },
   {
    "duration": 19,
    "start_time": "2021-12-10T08:10:49.109Z"
   },
   {
    "duration": 6,
    "start_time": "2021-12-10T08:10:49.131Z"
   },
   {
    "duration": 15,
    "start_time": "2021-12-10T08:10:49.139Z"
   },
   {
    "duration": 25,
    "start_time": "2021-12-10T08:10:49.156Z"
   },
   {
    "duration": 51,
    "start_time": "2021-12-10T08:10:49.184Z"
   },
   {
    "duration": 9,
    "start_time": "2021-12-10T08:10:49.238Z"
   },
   {
    "duration": 17,
    "start_time": "2021-12-10T08:10:49.250Z"
   },
   {
    "duration": 56,
    "start_time": "2021-12-10T08:10:49.269Z"
   },
   {
    "duration": 29,
    "start_time": "2021-12-10T08:10:49.327Z"
   },
   {
    "duration": 435,
    "start_time": "2021-12-10T08:10:49.358Z"
   },
   {
    "duration": 29,
    "start_time": "2021-12-10T08:12:04.620Z"
   },
   {
    "duration": 362,
    "start_time": "2021-12-10T08:14:02.226Z"
   },
   {
    "duration": 356,
    "start_time": "2021-12-10T08:20:37.436Z"
   },
   {
    "duration": 343,
    "start_time": "2021-12-10T08:20:45.034Z"
   },
   {
    "duration": 335,
    "start_time": "2021-12-10T08:35:55.414Z"
   },
   {
    "duration": 8,
    "start_time": "2021-12-10T08:43:00.697Z"
   },
   {
    "duration": 22,
    "start_time": "2021-12-10T08:43:38.906Z"
   },
   {
    "duration": 20,
    "start_time": "2021-12-10T08:44:46.972Z"
   },
   {
    "duration": 24,
    "start_time": "2021-12-10T08:44:54.111Z"
   },
   {
    "duration": 62,
    "start_time": "2021-12-10T08:45:00.054Z"
   },
   {
    "duration": 19,
    "start_time": "2021-12-10T08:45:00.119Z"
   },
   {
    "duration": 35,
    "start_time": "2021-12-10T08:45:00.141Z"
   },
   {
    "duration": 6,
    "start_time": "2021-12-10T08:45:00.180Z"
   },
   {
    "duration": 34,
    "start_time": "2021-12-10T08:45:00.189Z"
   },
   {
    "duration": 22,
    "start_time": "2021-12-10T08:45:00.226Z"
   },
   {
    "duration": 19,
    "start_time": "2021-12-10T08:45:00.250Z"
   },
   {
    "duration": 50,
    "start_time": "2021-12-10T08:45:00.272Z"
   },
   {
    "duration": 15,
    "start_time": "2021-12-10T08:45:00.325Z"
   },
   {
    "duration": 22,
    "start_time": "2021-12-10T08:45:00.343Z"
   },
   {
    "duration": 71,
    "start_time": "2021-12-10T08:45:00.367Z"
   },
   {
    "duration": 25,
    "start_time": "2021-12-10T08:45:00.440Z"
   },
   {
    "duration": 21,
    "start_time": "2021-12-10T08:45:45.347Z"
   },
   {
    "duration": 12,
    "start_time": "2021-12-10T08:46:17.630Z"
   },
   {
    "duration": 11,
    "start_time": "2021-12-10T08:46:25.085Z"
   },
   {
    "duration": 59,
    "start_time": "2021-12-10T08:46:29.277Z"
   },
   {
    "duration": 19,
    "start_time": "2021-12-10T08:46:29.466Z"
   },
   {
    "duration": 17,
    "start_time": "2021-12-10T08:46:29.487Z"
   },
   {
    "duration": 5,
    "start_time": "2021-12-10T08:46:29.598Z"
   },
   {
    "duration": 14,
    "start_time": "2021-12-10T08:46:29.606Z"
   },
   {
    "duration": 21,
    "start_time": "2021-12-10T08:46:29.623Z"
   },
   {
    "duration": 19,
    "start_time": "2021-12-10T08:46:29.647Z"
   },
   {
    "duration": 10,
    "start_time": "2021-12-10T08:46:29.669Z"
   },
   {
    "duration": 15,
    "start_time": "2021-12-10T08:46:29.717Z"
   },
   {
    "duration": 23,
    "start_time": "2021-12-10T08:46:29.735Z"
   },
   {
    "duration": 58,
    "start_time": "2021-12-10T08:46:29.761Z"
   },
   {
    "duration": 26,
    "start_time": "2021-12-10T08:46:29.822Z"
   },
   {
    "duration": 14,
    "start_time": "2021-12-10T08:47:30.755Z"
   },
   {
    "duration": 7,
    "start_time": "2021-12-10T08:47:51.611Z"
   },
   {
    "duration": 7,
    "start_time": "2021-12-10T08:47:56.522Z"
   },
   {
    "duration": 60,
    "start_time": "2021-12-10T08:48:00.609Z"
   },
   {
    "duration": 20,
    "start_time": "2021-12-10T08:48:00.671Z"
   },
   {
    "duration": 34,
    "start_time": "2021-12-10T08:48:00.694Z"
   },
   {
    "duration": 6,
    "start_time": "2021-12-10T08:48:00.731Z"
   },
   {
    "duration": 16,
    "start_time": "2021-12-10T08:48:00.739Z"
   },
   {
    "duration": 65,
    "start_time": "2021-12-10T08:48:00.760Z"
   },
   {
    "duration": 31,
    "start_time": "2021-12-10T08:48:00.829Z"
   },
   {
    "duration": 14,
    "start_time": "2021-12-10T08:48:00.862Z"
   },
   {
    "duration": 50,
    "start_time": "2021-12-10T08:48:00.878Z"
   },
   {
    "duration": 22,
    "start_time": "2021-12-10T08:48:00.930Z"
   },
   {
    "duration": 67,
    "start_time": "2021-12-10T08:48:00.955Z"
   },
   {
    "duration": 6,
    "start_time": "2021-12-10T08:48:01.024Z"
   },
   {
    "duration": 12,
    "start_time": "2021-12-10T08:48:14.692Z"
   },
   {
    "duration": 6,
    "start_time": "2021-12-10T08:48:33.486Z"
   },
   {
    "duration": 59,
    "start_time": "2021-12-10T08:48:39.570Z"
   },
   {
    "duration": 30,
    "start_time": "2021-12-10T08:48:39.633Z"
   },
   {
    "duration": 23,
    "start_time": "2021-12-10T08:48:39.668Z"
   },
   {
    "duration": 24,
    "start_time": "2021-12-10T08:48:39.695Z"
   },
   {
    "duration": 13,
    "start_time": "2021-12-10T08:48:39.721Z"
   },
   {
    "duration": 22,
    "start_time": "2021-12-10T08:48:39.736Z"
   },
   {
    "duration": 55,
    "start_time": "2021-12-10T08:48:39.761Z"
   },
   {
    "duration": 9,
    "start_time": "2021-12-10T08:48:39.819Z"
   },
   {
    "duration": 29,
    "start_time": "2021-12-10T08:48:39.831Z"
   },
   {
    "duration": 31,
    "start_time": "2021-12-10T08:48:39.862Z"
   },
   {
    "duration": 45,
    "start_time": "2021-12-10T08:48:39.895Z"
   },
   {
    "duration": 7,
    "start_time": "2021-12-10T08:48:39.942Z"
   },
   {
    "duration": 12,
    "start_time": "2021-12-10T08:49:37.806Z"
   },
   {
    "duration": 22,
    "start_time": "2021-12-10T08:52:06.558Z"
   },
   {
    "duration": 24,
    "start_time": "2021-12-10T08:58:16.976Z"
   },
   {
    "duration": 11,
    "start_time": "2021-12-10T08:59:24.871Z"
   },
   {
    "duration": 1226,
    "start_time": "2021-12-10T09:01:49.033Z"
   },
   {
    "duration": 10671,
    "start_time": "2021-12-10T09:01:57.686Z"
   },
   {
    "duration": 61,
    "start_time": "2021-12-10T09:02:21.798Z"
   },
   {
    "duration": 18,
    "start_time": "2021-12-10T09:02:21.862Z"
   },
   {
    "duration": 15,
    "start_time": "2021-12-10T09:02:21.883Z"
   },
   {
    "duration": 5,
    "start_time": "2021-12-10T09:02:21.917Z"
   },
   {
    "duration": 13,
    "start_time": "2021-12-10T09:02:21.925Z"
   },
   {
    "duration": 19,
    "start_time": "2021-12-10T09:02:21.953Z"
   },
   {
    "duration": 41,
    "start_time": "2021-12-10T09:02:21.978Z"
   },
   {
    "duration": 9,
    "start_time": "2021-12-10T09:02:22.022Z"
   },
   {
    "duration": 14,
    "start_time": "2021-12-10T09:02:22.034Z"
   },
   {
    "duration": 19,
    "start_time": "2021-12-10T09:02:22.050Z"
   },
   {
    "duration": 66,
    "start_time": "2021-12-10T09:02:22.076Z"
   },
   {
    "duration": 22,
    "start_time": "2021-12-10T09:02:22.145Z"
   },
   {
    "duration": 10764,
    "start_time": "2021-12-10T09:02:22.170Z"
   },
   {
    "duration": 10,
    "start_time": "2021-12-10T09:02:43.786Z"
   },
   {
    "duration": 657,
    "start_time": "2021-12-10T09:04:09.120Z"
   },
   {
    "duration": 548,
    "start_time": "2021-12-10T09:04:45.342Z"
   },
   {
    "duration": 8,
    "start_time": "2021-12-10T09:05:15.497Z"
   },
   {
    "duration": 11,
    "start_time": "2021-12-10T09:07:03.810Z"
   },
   {
    "duration": 60,
    "start_time": "2021-12-10T09:08:08.256Z"
   },
   {
    "duration": 19,
    "start_time": "2021-12-10T09:08:08.406Z"
   },
   {
    "duration": 15,
    "start_time": "2021-12-10T09:08:08.446Z"
   },
   {
    "duration": 6,
    "start_time": "2021-12-10T09:08:08.570Z"
   },
   {
    "duration": 12,
    "start_time": "2021-12-10T09:08:08.604Z"
   },
   {
    "duration": 20,
    "start_time": "2021-12-10T09:08:08.691Z"
   },
   {
    "duration": 20,
    "start_time": "2021-12-10T09:08:08.794Z"
   },
   {
    "duration": 10,
    "start_time": "2021-12-10T09:08:08.877Z"
   },
   {
    "duration": 14,
    "start_time": "2021-12-10T09:08:08.891Z"
   },
   {
    "duration": 20,
    "start_time": "2021-12-10T09:08:08.934Z"
   },
   {
    "duration": 30,
    "start_time": "2021-12-10T09:08:08.978Z"
   },
   {
    "duration": 24,
    "start_time": "2021-12-10T09:08:09.072Z"
   },
   {
    "duration": 11,
    "start_time": "2021-12-10T09:08:09.125Z"
   },
   {
    "duration": 10,
    "start_time": "2021-12-10T09:08:46.607Z"
   },
   {
    "duration": 10,
    "start_time": "2021-12-10T09:12:58.467Z"
   },
   {
    "duration": 10,
    "start_time": "2021-12-10T09:13:04.770Z"
   },
   {
    "duration": 62,
    "start_time": "2021-12-10T09:13:25.431Z"
   },
   {
    "duration": 20,
    "start_time": "2021-12-10T09:13:25.495Z"
   },
   {
    "duration": 21,
    "start_time": "2021-12-10T09:13:25.517Z"
   },
   {
    "duration": 6,
    "start_time": "2021-12-10T09:13:25.542Z"
   },
   {
    "duration": 15,
    "start_time": "2021-12-10T09:13:25.560Z"
   },
   {
    "duration": 37,
    "start_time": "2021-12-10T09:13:25.595Z"
   },
   {
    "duration": 20,
    "start_time": "2021-12-10T09:13:25.635Z"
   },
   {
    "duration": 10,
    "start_time": "2021-12-10T09:13:25.658Z"
   },
   {
    "duration": 52,
    "start_time": "2021-12-10T09:13:25.671Z"
   },
   {
    "duration": 24,
    "start_time": "2021-12-10T09:13:25.726Z"
   },
   {
    "duration": 70,
    "start_time": "2021-12-10T09:13:25.754Z"
   },
   {
    "duration": 27,
    "start_time": "2021-12-10T09:13:25.827Z"
   },
   {
    "duration": 13,
    "start_time": "2021-12-10T09:13:25.858Z"
   },
   {
    "duration": 10,
    "start_time": "2021-12-10T09:14:08.980Z"
   },
   {
    "duration": 113,
    "start_time": "2021-12-10T09:14:36.753Z"
   },
   {
    "duration": 22,
    "start_time": "2021-12-10T09:15:12.760Z"
   },
   {
    "duration": 25,
    "start_time": "2021-12-10T09:15:46.410Z"
   },
   {
    "duration": 23,
    "start_time": "2021-12-10T09:21:20.147Z"
   },
   {
    "duration": 355,
    "start_time": "2021-12-10T09:22:04.271Z"
   },
   {
    "duration": 373,
    "start_time": "2021-12-10T09:22:31.636Z"
   },
   {
    "duration": 62,
    "start_time": "2021-12-10T09:23:22.002Z"
   },
   {
    "duration": 19,
    "start_time": "2021-12-10T09:23:22.067Z"
   },
   {
    "duration": 44,
    "start_time": "2021-12-10T09:23:22.089Z"
   },
   {
    "duration": 6,
    "start_time": "2021-12-10T09:23:22.136Z"
   },
   {
    "duration": 24,
    "start_time": "2021-12-10T09:23:22.148Z"
   },
   {
    "duration": 39,
    "start_time": "2021-12-10T09:23:22.184Z"
   },
   {
    "duration": 24,
    "start_time": "2021-12-10T09:23:22.226Z"
   },
   {
    "duration": 23,
    "start_time": "2021-12-10T09:23:22.252Z"
   },
   {
    "duration": 41,
    "start_time": "2021-12-10T09:23:22.278Z"
   },
   {
    "duration": 32,
    "start_time": "2021-12-10T09:23:22.324Z"
   },
   {
    "duration": 58,
    "start_time": "2021-12-10T09:23:22.359Z"
   },
   {
    "duration": 25,
    "start_time": "2021-12-10T09:23:22.420Z"
   },
   {
    "duration": 769,
    "start_time": "2021-12-10T09:23:22.447Z"
   },
   {
    "duration": 369,
    "start_time": "2021-12-10T09:24:00.199Z"
   },
   {
    "duration": 1554,
    "start_time": "2021-12-10T09:24:14.671Z"
   },
   {
    "duration": 23,
    "start_time": "2021-12-10T09:24:59.928Z"
   },
   {
    "duration": 26,
    "start_time": "2021-12-10T09:28:08.319Z"
   },
   {
    "duration": 688,
    "start_time": "2021-12-10T09:29:02.119Z"
   },
   {
    "duration": 11,
    "start_time": "2021-12-10T09:52:58.087Z"
   },
   {
    "duration": 11,
    "start_time": "2021-12-10T09:54:05.758Z"
   },
   {
    "duration": 121,
    "start_time": "2021-12-10T09:54:35.541Z"
   },
   {
    "duration": 11,
    "start_time": "2021-12-10T09:55:20.598Z"
   },
   {
    "duration": 11,
    "start_time": "2021-12-10T09:55:54.202Z"
   },
   {
    "duration": 9,
    "start_time": "2021-12-10T10:06:08.525Z"
   },
   {
    "duration": 9,
    "start_time": "2021-12-10T10:08:11.709Z"
   },
   {
    "duration": 336,
    "start_time": "2021-12-10T10:10:19.479Z"
   },
   {
    "duration": 315,
    "start_time": "2021-12-10T10:13:05.773Z"
   },
   {
    "duration": 426,
    "start_time": "2021-12-10T10:14:11.994Z"
   },
   {
    "duration": 303,
    "start_time": "2021-12-10T10:14:19.852Z"
   },
   {
    "duration": 424,
    "start_time": "2021-12-10T10:14:25.320Z"
   },
   {
    "duration": 10,
    "start_time": "2021-12-10T10:14:46.548Z"
   },
   {
    "duration": 353,
    "start_time": "2021-12-10T10:15:13.582Z"
   },
   {
    "duration": 9,
    "start_time": "2021-12-10T10:15:32.766Z"
   },
   {
    "duration": 295,
    "start_time": "2021-12-10T10:16:18.969Z"
   },
   {
    "duration": 9,
    "start_time": "2021-12-10T10:17:03.291Z"
   },
   {
    "duration": 8,
    "start_time": "2021-12-10T10:17:42.579Z"
   },
   {
    "duration": 12,
    "start_time": "2021-12-10T10:18:13.742Z"
   },
   {
    "duration": 8098,
    "start_time": "2021-12-10T10:18:45.655Z"
   },
   {
    "duration": 9489,
    "start_time": "2021-12-10T10:18:59.254Z"
   },
   {
    "duration": 1309,
    "start_time": "2021-12-10T10:19:29.545Z"
   },
   {
    "duration": 1269,
    "start_time": "2021-12-10T10:19:29.586Z"
   },
   {
    "duration": 1226,
    "start_time": "2021-12-10T10:19:29.631Z"
   },
   {
    "duration": 1186,
    "start_time": "2021-12-10T10:19:29.672Z"
   },
   {
    "duration": 1146,
    "start_time": "2021-12-10T10:19:29.713Z"
   },
   {
    "duration": 1104,
    "start_time": "2021-12-10T10:19:29.757Z"
   },
   {
    "duration": 1069,
    "start_time": "2021-12-10T10:19:29.793Z"
   },
   {
    "duration": 1037,
    "start_time": "2021-12-10T10:19:29.827Z"
   },
   {
    "duration": 998,
    "start_time": "2021-12-10T10:19:29.867Z"
   },
   {
    "duration": 956,
    "start_time": "2021-12-10T10:19:29.911Z"
   },
   {
    "duration": 923,
    "start_time": "2021-12-10T10:19:29.945Z"
   },
   {
    "duration": 894,
    "start_time": "2021-12-10T10:19:29.976Z"
   },
   {
    "duration": 864,
    "start_time": "2021-12-10T10:19:30.007Z"
   },
   {
    "duration": 1228,
    "start_time": "2021-12-10T10:20:07.467Z"
   },
   {
    "duration": 10,
    "start_time": "2021-12-10T10:20:13.997Z"
   },
   {
    "duration": 21,
    "start_time": "2021-12-10T10:21:28.104Z"
   },
   {
    "duration": 60,
    "start_time": "2021-12-10T10:21:32.811Z"
   },
   {
    "duration": 20,
    "start_time": "2021-12-10T10:21:32.873Z"
   },
   {
    "duration": 31,
    "start_time": "2021-12-10T10:21:32.897Z"
   },
   {
    "duration": 8,
    "start_time": "2021-12-10T10:21:32.931Z"
   },
   {
    "duration": 21,
    "start_time": "2021-12-10T10:21:32.941Z"
   },
   {
    "duration": 50,
    "start_time": "2021-12-10T10:21:32.975Z"
   },
   {
    "duration": 26,
    "start_time": "2021-12-10T10:21:33.027Z"
   },
   {
    "duration": 10,
    "start_time": "2021-12-10T10:21:33.057Z"
   },
   {
    "duration": 14,
    "start_time": "2021-12-10T10:21:33.070Z"
   },
   {
    "duration": 20,
    "start_time": "2021-12-10T10:21:33.117Z"
   },
   {
    "duration": 30,
    "start_time": "2021-12-10T10:21:33.139Z"
   },
   {
    "duration": 61,
    "start_time": "2021-12-10T10:21:33.171Z"
   },
   {
    "duration": 11,
    "start_time": "2021-12-10T10:21:33.234Z"
   },
   {
    "duration": 12,
    "start_time": "2021-12-10T10:22:29.431Z"
   },
   {
    "duration": 14,
    "start_time": "2021-12-10T10:23:33.548Z"
   },
   {
    "duration": 10,
    "start_time": "2021-12-10T10:24:22.463Z"
   },
   {
    "duration": 544,
    "start_time": "2021-12-10T10:24:56.518Z"
   },
   {
    "duration": 12,
    "start_time": "2021-12-10T10:25:12.003Z"
   },
   {
    "duration": 329,
    "start_time": "2021-12-10T10:25:31.978Z"
   },
   {
    "duration": 9,
    "start_time": "2021-12-10T10:25:48.836Z"
   },
   {
    "duration": 9,
    "start_time": "2021-12-10T10:25:55.339Z"
   },
   {
    "duration": 10,
    "start_time": "2021-12-10T10:26:56.160Z"
   },
   {
    "duration": 10,
    "start_time": "2021-12-10T10:27:13.148Z"
   },
   {
    "duration": 113,
    "start_time": "2021-12-10T10:31:16.974Z"
   },
   {
    "duration": 21,
    "start_time": "2021-12-10T10:31:29.240Z"
   },
   {
    "duration": 12,
    "start_time": "2021-12-10T10:31:43.228Z"
   },
   {
    "duration": 9,
    "start_time": "2021-12-10T10:32:27.345Z"
   },
   {
    "duration": 8,
    "start_time": "2021-12-10T10:32:47.430Z"
   },
   {
    "duration": 34,
    "start_time": "2021-12-10T10:33:19.532Z"
   },
   {
    "duration": 7,
    "start_time": "2021-12-10T10:36:04.059Z"
   },
   {
    "duration": 8,
    "start_time": "2021-12-10T10:36:05.099Z"
   },
   {
    "duration": 8,
    "start_time": "2021-12-10T10:37:34.007Z"
   },
   {
    "duration": 378,
    "start_time": "2021-12-10T10:40:35.131Z"
   },
   {
    "duration": 110,
    "start_time": "2021-12-10T11:04:57.437Z"
   },
   {
    "duration": 103,
    "start_time": "2021-12-10T11:12:56.216Z"
   },
   {
    "duration": 348,
    "start_time": "2021-12-10T11:13:10.786Z"
   },
   {
    "duration": 10,
    "start_time": "2021-12-10T11:40:00.230Z"
   },
   {
    "duration": 18,
    "start_time": "2021-12-10T11:40:34.920Z"
   },
   {
    "duration": 61,
    "start_time": "2021-12-10T11:40:55.326Z"
   },
   {
    "duration": 19,
    "start_time": "2021-12-10T11:40:55.394Z"
   },
   {
    "duration": 14,
    "start_time": "2021-12-10T11:40:55.444Z"
   },
   {
    "duration": 6,
    "start_time": "2021-12-10T11:40:55.499Z"
   },
   {
    "duration": 13,
    "start_time": "2021-12-10T11:40:55.557Z"
   },
   {
    "duration": 20,
    "start_time": "2021-12-10T11:40:55.607Z"
   },
   {
    "duration": 21,
    "start_time": "2021-12-10T11:40:55.643Z"
   },
   {
    "duration": 10,
    "start_time": "2021-12-10T11:40:55.683Z"
   },
   {
    "duration": 14,
    "start_time": "2021-12-10T11:40:55.724Z"
   },
   {
    "duration": 20,
    "start_time": "2021-12-10T11:40:55.758Z"
   },
   {
    "duration": 30,
    "start_time": "2021-12-10T11:40:55.817Z"
   },
   {
    "duration": 24,
    "start_time": "2021-12-10T11:40:55.870Z"
   },
   {
    "duration": 9,
    "start_time": "2021-12-10T11:40:55.919Z"
   },
   {
    "duration": 9,
    "start_time": "2021-12-10T11:40:55.965Z"
   },
   {
    "duration": 8,
    "start_time": "2021-12-10T11:40:56.011Z"
   },
   {
    "duration": 9,
    "start_time": "2021-12-10T11:40:56.046Z"
   },
   {
    "duration": 19,
    "start_time": "2021-12-10T11:40:56.089Z"
   },
   {
    "duration": 14,
    "start_time": "2021-12-10T11:54:40.783Z"
   },
   {
    "duration": 61,
    "start_time": "2021-12-10T11:55:52.795Z"
   },
   {
    "duration": 19,
    "start_time": "2021-12-10T11:55:52.859Z"
   },
   {
    "duration": 27,
    "start_time": "2021-12-10T11:55:52.891Z"
   },
   {
    "duration": 6,
    "start_time": "2021-12-10T11:55:52.937Z"
   },
   {
    "duration": 14,
    "start_time": "2021-12-10T11:55:52.997Z"
   },
   {
    "duration": 20,
    "start_time": "2021-12-10T11:55:53.044Z"
   },
   {
    "duration": 20,
    "start_time": "2021-12-10T11:55:53.079Z"
   },
   {
    "duration": 11,
    "start_time": "2021-12-10T11:55:53.120Z"
   },
   {
    "duration": 15,
    "start_time": "2021-12-10T11:55:53.162Z"
   },
   {
    "duration": 19,
    "start_time": "2021-12-10T11:55:53.196Z"
   },
   {
    "duration": 31,
    "start_time": "2021-12-10T11:55:53.247Z"
   },
   {
    "duration": 23,
    "start_time": "2021-12-10T11:55:53.309Z"
   },
   {
    "duration": 9,
    "start_time": "2021-12-10T11:55:53.344Z"
   },
   {
    "duration": 8,
    "start_time": "2021-12-10T11:55:53.389Z"
   },
   {
    "duration": 7,
    "start_time": "2021-12-10T11:55:53.428Z"
   },
   {
    "duration": 8,
    "start_time": "2021-12-10T11:55:53.468Z"
   },
   {
    "duration": 14,
    "start_time": "2021-12-10T11:55:53.511Z"
   },
   {
    "duration": 19,
    "start_time": "2021-12-10T11:56:13.810Z"
   },
   {
    "duration": 15,
    "start_time": "2021-12-10T11:59:09.172Z"
   },
   {
    "duration": 9,
    "start_time": "2021-12-10T11:59:34.071Z"
   },
   {
    "duration": 62,
    "start_time": "2021-12-10T11:59:44.999Z"
   },
   {
    "duration": 20,
    "start_time": "2021-12-10T11:59:45.063Z"
   },
   {
    "duration": 32,
    "start_time": "2021-12-10T11:59:45.089Z"
   },
   {
    "duration": 6,
    "start_time": "2021-12-10T11:59:45.134Z"
   },
   {
    "duration": 13,
    "start_time": "2021-12-10T11:59:45.185Z"
   },
   {
    "duration": 20,
    "start_time": "2021-12-10T11:59:45.242Z"
   },
   {
    "duration": 20,
    "start_time": "2021-12-10T11:59:45.279Z"
   },
   {
    "duration": 9,
    "start_time": "2021-12-10T11:59:45.341Z"
   },
   {
    "duration": 15,
    "start_time": "2021-12-10T11:59:45.375Z"
   },
   {
    "duration": 21,
    "start_time": "2021-12-10T11:59:45.413Z"
   },
   {
    "duration": 31,
    "start_time": "2021-12-10T11:59:45.483Z"
   },
   {
    "duration": 22,
    "start_time": "2021-12-10T11:59:45.556Z"
   },
   {
    "duration": 9,
    "start_time": "2021-12-10T11:59:45.613Z"
   },
   {
    "duration": 8,
    "start_time": "2021-12-10T11:59:45.665Z"
   },
   {
    "duration": 8,
    "start_time": "2021-12-10T11:59:45.726Z"
   },
   {
    "duration": 8,
    "start_time": "2021-12-10T11:59:45.799Z"
   },
   {
    "duration": 16,
    "start_time": "2021-12-10T11:59:45.842Z"
   },
   {
    "duration": 20,
    "start_time": "2021-12-10T12:02:03.194Z"
   },
   {
    "duration": 21,
    "start_time": "2021-12-10T12:02:16.716Z"
   },
   {
    "duration": 61,
    "start_time": "2021-12-10T12:02:25.772Z"
   },
   {
    "duration": 19,
    "start_time": "2021-12-10T12:02:25.836Z"
   },
   {
    "duration": 17,
    "start_time": "2021-12-10T12:02:25.914Z"
   },
   {
    "duration": 7,
    "start_time": "2021-12-10T12:02:25.934Z"
   },
   {
    "duration": 15,
    "start_time": "2021-12-10T12:02:25.945Z"
   },
   {
    "duration": 20,
    "start_time": "2021-12-10T12:02:26.064Z"
   },
   {
    "duration": 26,
    "start_time": "2021-12-10T12:02:26.086Z"
   },
   {
    "duration": 16,
    "start_time": "2021-12-10T12:02:26.115Z"
   },
   {
    "duration": 15,
    "start_time": "2021-12-10T12:02:26.194Z"
   },
   {
    "duration": 23,
    "start_time": "2021-12-10T12:02:26.212Z"
   },
   {
    "duration": 32,
    "start_time": "2021-12-10T12:02:26.238Z"
   },
   {
    "duration": 52,
    "start_time": "2021-12-10T12:02:26.273Z"
   },
   {
    "duration": 10,
    "start_time": "2021-12-10T12:02:26.370Z"
   },
   {
    "duration": 7,
    "start_time": "2021-12-10T12:02:26.383Z"
   },
   {
    "duration": 7,
    "start_time": "2021-12-10T12:02:26.393Z"
   },
   {
    "duration": 9,
    "start_time": "2021-12-10T12:02:26.513Z"
   },
   {
    "duration": 27,
    "start_time": "2021-12-10T12:02:26.525Z"
   },
   {
    "duration": 21,
    "start_time": "2021-12-10T12:02:54.030Z"
   },
   {
    "duration": 22,
    "start_time": "2021-12-10T12:03:08.608Z"
   },
   {
    "duration": 100,
    "start_time": "2021-12-10T12:03:20.357Z"
   },
   {
    "duration": 32,
    "start_time": "2021-12-10T12:03:20.460Z"
   },
   {
    "duration": 37,
    "start_time": "2021-12-10T12:03:20.497Z"
   },
   {
    "duration": 7,
    "start_time": "2021-12-10T12:03:20.539Z"
   },
   {
    "duration": 19,
    "start_time": "2021-12-10T12:03:20.620Z"
   },
   {
    "duration": 23,
    "start_time": "2021-12-10T12:03:20.684Z"
   },
   {
    "duration": 31,
    "start_time": "2021-12-10T12:03:20.725Z"
   },
   {
    "duration": 15,
    "start_time": "2021-12-10T12:03:20.772Z"
   },
   {
    "duration": 16,
    "start_time": "2021-12-10T12:03:20.814Z"
   },
   {
    "duration": 31,
    "start_time": "2021-12-10T12:03:20.850Z"
   },
   {
    "duration": 35,
    "start_time": "2021-12-10T12:03:20.911Z"
   },
   {
    "duration": 31,
    "start_time": "2021-12-10T12:03:20.960Z"
   },
   {
    "duration": 19,
    "start_time": "2021-12-10T12:03:21.009Z"
   },
   {
    "duration": 9,
    "start_time": "2021-12-10T12:03:21.052Z"
   },
   {
    "duration": 10,
    "start_time": "2021-12-10T12:03:21.095Z"
   },
   {
    "duration": 11,
    "start_time": "2021-12-10T12:03:21.139Z"
   },
   {
    "duration": 20,
    "start_time": "2021-12-10T12:03:21.183Z"
   },
   {
    "duration": 62,
    "start_time": "2021-12-10T12:03:45.407Z"
   },
   {
    "duration": 20,
    "start_time": "2021-12-10T12:03:45.471Z"
   },
   {
    "duration": 36,
    "start_time": "2021-12-10T12:03:45.493Z"
   },
   {
    "duration": 5,
    "start_time": "2021-12-10T12:03:45.532Z"
   },
   {
    "duration": 13,
    "start_time": "2021-12-10T12:03:45.574Z"
   },
   {
    "duration": 20,
    "start_time": "2021-12-10T12:03:45.618Z"
   },
   {
    "duration": 20,
    "start_time": "2021-12-10T12:03:45.649Z"
   },
   {
    "duration": 9,
    "start_time": "2021-12-10T12:03:45.692Z"
   },
   {
    "duration": 14,
    "start_time": "2021-12-10T12:03:45.729Z"
   },
   {
    "duration": 21,
    "start_time": "2021-12-10T12:03:45.761Z"
   },
   {
    "duration": 26,
    "start_time": "2021-12-10T12:03:45.817Z"
   },
   {
    "duration": 25,
    "start_time": "2021-12-10T12:03:45.881Z"
   },
   {
    "duration": 11,
    "start_time": "2021-12-10T12:03:45.912Z"
   },
   {
    "duration": 8,
    "start_time": "2021-12-10T12:03:45.952Z"
   },
   {
    "duration": 7,
    "start_time": "2021-12-10T12:03:45.991Z"
   },
   {
    "duration": 9,
    "start_time": "2021-12-10T12:03:46.030Z"
   },
   {
    "duration": 17,
    "start_time": "2021-12-10T12:03:46.077Z"
   },
   {
    "duration": 24,
    "start_time": "2021-12-10T12:04:15.837Z"
   },
   {
    "duration": 22,
    "start_time": "2021-12-10T12:04:59.199Z"
   },
   {
    "duration": 11,
    "start_time": "2021-12-10T12:05:46.666Z"
   },
   {
    "duration": 11,
    "start_time": "2021-12-10T12:05:51.627Z"
   },
   {
    "duration": 62,
    "start_time": "2021-12-10T12:06:08.299Z"
   },
   {
    "duration": 20,
    "start_time": "2021-12-10T12:06:08.363Z"
   },
   {
    "duration": 22,
    "start_time": "2021-12-10T12:06:08.479Z"
   },
   {
    "duration": 18,
    "start_time": "2021-12-10T12:06:08.504Z"
   },
   {
    "duration": 26,
    "start_time": "2021-12-10T12:06:08.526Z"
   },
   {
    "duration": 20,
    "start_time": "2021-12-10T12:06:08.619Z"
   },
   {
    "duration": 29,
    "start_time": "2021-12-10T12:06:08.642Z"
   },
   {
    "duration": 26,
    "start_time": "2021-12-10T12:06:08.675Z"
   },
   {
    "duration": 26,
    "start_time": "2021-12-10T12:06:08.718Z"
   },
   {
    "duration": 45,
    "start_time": "2021-12-10T12:06:08.746Z"
   },
   {
    "duration": 43,
    "start_time": "2021-12-10T12:06:08.794Z"
   },
   {
    "duration": 33,
    "start_time": "2021-12-10T12:06:08.841Z"
   },
   {
    "duration": 20,
    "start_time": "2021-12-10T12:06:08.877Z"
   },
   {
    "duration": 17,
    "start_time": "2021-12-10T12:06:08.905Z"
   },
   {
    "duration": 13,
    "start_time": "2021-12-10T12:06:08.951Z"
   },
   {
    "duration": 13,
    "start_time": "2021-12-10T12:06:08.989Z"
   },
   {
    "duration": 10,
    "start_time": "2021-12-10T12:06:09.032Z"
   },
   {
    "duration": 14,
    "start_time": "2021-12-10T12:08:08.387Z"
   },
   {
    "duration": 11,
    "start_time": "2021-12-10T12:09:17.001Z"
   },
   {
    "duration": 11,
    "start_time": "2021-12-10T12:09:24.930Z"
   },
   {
    "duration": 63,
    "start_time": "2021-12-10T12:09:38.240Z"
   },
   {
    "duration": 20,
    "start_time": "2021-12-10T12:09:38.306Z"
   },
   {
    "duration": 18,
    "start_time": "2021-12-10T12:09:38.333Z"
   },
   {
    "duration": 6,
    "start_time": "2021-12-10T12:09:38.376Z"
   },
   {
    "duration": 13,
    "start_time": "2021-12-10T12:09:38.463Z"
   },
   {
    "duration": 19,
    "start_time": "2021-12-10T12:09:38.487Z"
   },
   {
    "duration": 20,
    "start_time": "2021-12-10T12:09:38.533Z"
   },
   {
    "duration": 9,
    "start_time": "2021-12-10T12:09:38.587Z"
   },
   {
    "duration": 15,
    "start_time": "2021-12-10T12:09:38.629Z"
   },
   {
    "duration": 21,
    "start_time": "2021-12-10T12:09:38.692Z"
   },
   {
    "duration": 35,
    "start_time": "2021-12-10T12:09:38.725Z"
   },
   {
    "duration": 31,
    "start_time": "2021-12-10T12:09:38.781Z"
   },
   {
    "duration": 11,
    "start_time": "2021-12-10T12:09:38.828Z"
   },
   {
    "duration": 8,
    "start_time": "2021-12-10T12:09:38.884Z"
   },
   {
    "duration": 10,
    "start_time": "2021-12-10T12:09:38.946Z"
   },
   {
    "duration": 13,
    "start_time": "2021-12-10T12:09:38.992Z"
   },
   {
    "duration": 65,
    "start_time": "2021-12-10T12:09:46.302Z"
   },
   {
    "duration": 20,
    "start_time": "2021-12-10T12:09:46.431Z"
   },
   {
    "duration": 29,
    "start_time": "2021-12-10T12:09:46.454Z"
   },
   {
    "duration": 6,
    "start_time": "2021-12-10T12:09:46.486Z"
   },
   {
    "duration": 26,
    "start_time": "2021-12-10T12:09:46.494Z"
   },
   {
    "duration": 20,
    "start_time": "2021-12-10T12:09:46.598Z"
   },
   {
    "duration": 22,
    "start_time": "2021-12-10T12:09:46.621Z"
   },
   {
    "duration": 9,
    "start_time": "2021-12-10T12:09:46.646Z"
   },
   {
    "duration": 15,
    "start_time": "2021-12-10T12:09:46.733Z"
   },
   {
    "duration": 35,
    "start_time": "2021-12-10T12:09:46.750Z"
   },
   {
    "duration": 35,
    "start_time": "2021-12-10T12:09:46.789Z"
   },
   {
    "duration": 22,
    "start_time": "2021-12-10T12:09:46.827Z"
   },
   {
    "duration": 10,
    "start_time": "2021-12-10T12:09:46.875Z"
   },
   {
    "duration": 17,
    "start_time": "2021-12-10T12:09:46.888Z"
   },
   {
    "duration": 15,
    "start_time": "2021-12-10T12:09:46.917Z"
   },
   {
    "duration": 9,
    "start_time": "2021-12-10T12:09:47.016Z"
   },
   {
    "duration": 25,
    "start_time": "2021-12-10T12:09:47.028Z"
   },
   {
    "duration": 368,
    "start_time": "2021-12-10T12:34:15.327Z"
   },
   {
    "duration": 307,
    "start_time": "2021-12-10T12:35:01.888Z"
   },
   {
    "duration": 315,
    "start_time": "2021-12-10T12:36:39.968Z"
   },
   {
    "duration": 388,
    "start_time": "2021-12-10T12:39:25.530Z"
   },
   {
    "duration": 62,
    "start_time": "2021-12-10T12:39:46.081Z"
   },
   {
    "duration": 20,
    "start_time": "2021-12-10T12:39:46.146Z"
   },
   {
    "duration": 23,
    "start_time": "2021-12-10T12:39:46.170Z"
   },
   {
    "duration": 8,
    "start_time": "2021-12-10T12:39:46.216Z"
   },
   {
    "duration": 12,
    "start_time": "2021-12-10T12:39:46.227Z"
   },
   {
    "duration": 20,
    "start_time": "2021-12-10T12:39:46.242Z"
   },
   {
    "duration": 63,
    "start_time": "2021-12-10T12:39:46.265Z"
   },
   {
    "duration": 10,
    "start_time": "2021-12-10T12:39:46.331Z"
   },
   {
    "duration": 20,
    "start_time": "2021-12-10T12:39:46.343Z"
   },
   {
    "duration": 64,
    "start_time": "2021-12-10T12:39:46.366Z"
   },
   {
    "duration": 26,
    "start_time": "2021-12-10T12:39:46.433Z"
   },
   {
    "duration": 57,
    "start_time": "2021-12-10T12:39:46.462Z"
   },
   {
    "duration": 10,
    "start_time": "2021-12-10T12:39:46.521Z"
   },
   {
    "duration": 7,
    "start_time": "2021-12-10T12:39:46.534Z"
   },
   {
    "duration": 8,
    "start_time": "2021-12-10T12:39:46.543Z"
   },
   {
    "duration": 9,
    "start_time": "2021-12-10T12:39:46.554Z"
   },
   {
    "duration": 339,
    "start_time": "2021-12-10T12:39:46.567Z"
   },
   {
    "duration": 345,
    "start_time": "2021-12-10T12:40:09.036Z"
   },
   {
    "duration": 13,
    "start_time": "2021-12-10T12:43:26.858Z"
   },
   {
    "duration": 297,
    "start_time": "2021-12-10T12:45:47.385Z"
   },
   {
    "duration": 12,
    "start_time": "2021-12-10T12:46:09.659Z"
   },
   {
    "duration": 11,
    "start_time": "2021-12-10T12:58:08.148Z"
   },
   {
    "duration": 1481,
    "start_time": "2021-12-10T12:58:59.760Z"
   },
   {
    "duration": 1464,
    "start_time": "2021-12-10T12:59:24.145Z"
   },
   {
    "duration": 7620,
    "start_time": "2021-12-10T12:59:33.210Z"
   },
   {
    "duration": 1457,
    "start_time": "2021-12-10T12:59:48.735Z"
   },
   {
    "duration": 1393,
    "start_time": "2021-12-10T12:59:48.800Z"
   },
   {
    "duration": 1373,
    "start_time": "2021-12-10T12:59:48.821Z"
   },
   {
    "duration": 1350,
    "start_time": "2021-12-10T12:59:48.846Z"
   },
   {
    "duration": 1331,
    "start_time": "2021-12-10T12:59:48.866Z"
   },
   {
    "duration": 1299,
    "start_time": "2021-12-10T12:59:48.900Z"
   },
   {
    "duration": 1278,
    "start_time": "2021-12-10T12:59:48.922Z"
   },
   {
    "duration": 1248,
    "start_time": "2021-12-10T12:59:48.953Z"
   },
   {
    "duration": 1217,
    "start_time": "2021-12-10T12:59:48.986Z"
   },
   {
    "duration": 1133,
    "start_time": "2021-12-10T12:59:49.071Z"
   },
   {
    "duration": 1067,
    "start_time": "2021-12-10T12:59:49.138Z"
   },
   {
    "duration": 1039,
    "start_time": "2021-12-10T12:59:49.168Z"
   },
   {
    "duration": 989,
    "start_time": "2021-12-10T12:59:49.219Z"
   },
   {
    "duration": 954,
    "start_time": "2021-12-10T12:59:49.256Z"
   },
   {
    "duration": 923,
    "start_time": "2021-12-10T12:59:49.288Z"
   },
   {
    "duration": 897,
    "start_time": "2021-12-10T12:59:49.315Z"
   },
   {
    "duration": 862,
    "start_time": "2021-12-10T12:59:49.352Z"
   },
   {
    "duration": 839,
    "start_time": "2021-12-10T12:59:49.376Z"
   },
   {
    "duration": 8087,
    "start_time": "2021-12-10T13:01:37.124Z"
   },
   {
    "duration": 11,
    "start_time": "2021-12-10T13:02:14.569Z"
   },
   {
    "duration": 1463,
    "start_time": "2021-12-10T13:02:26.527Z"
   },
   {
    "duration": 10268,
    "start_time": "2021-12-10T13:02:44.374Z"
   },
   {
    "duration": 9,
    "start_time": "2021-12-10T13:03:10.725Z"
   },
   {
    "duration": 10,
    "start_time": "2021-12-10T13:03:11.631Z"
   },
   {
    "duration": 7,
    "start_time": "2021-12-10T13:03:12.406Z"
   },
   {
    "duration": 9,
    "start_time": "2021-12-10T13:03:14.119Z"
   },
   {
    "duration": 12,
    "start_time": "2021-12-10T13:03:19.869Z"
   },
   {
    "duration": 11577,
    "start_time": "2021-12-10T13:03:22.236Z"
   },
   {
    "duration": 8,
    "start_time": "2021-12-10T13:03:39.338Z"
   },
   {
    "duration": 19,
    "start_time": "2021-12-10T13:30:29.935Z"
   },
   {
    "duration": 24,
    "start_time": "2021-12-10T13:30:32.492Z"
   },
   {
    "duration": 15,
    "start_time": "2021-12-10T13:30:37.445Z"
   },
   {
    "duration": 14,
    "start_time": "2021-12-10T13:30:38.034Z"
   },
   {
    "duration": 62,
    "start_time": "2021-12-10T13:30:57.443Z"
   },
   {
    "duration": 20,
    "start_time": "2021-12-10T13:30:57.508Z"
   },
   {
    "duration": 16,
    "start_time": "2021-12-10T13:30:57.531Z"
   },
   {
    "duration": 5,
    "start_time": "2021-12-10T13:30:57.549Z"
   },
   {
    "duration": 12,
    "start_time": "2021-12-10T13:30:57.556Z"
   },
   {
    "duration": 51,
    "start_time": "2021-12-10T13:30:57.571Z"
   },
   {
    "duration": 20,
    "start_time": "2021-12-10T13:30:57.625Z"
   },
   {
    "duration": 9,
    "start_time": "2021-12-10T13:30:57.649Z"
   },
   {
    "duration": 57,
    "start_time": "2021-12-10T13:30:57.661Z"
   },
   {
    "duration": 19,
    "start_time": "2021-12-10T13:30:57.721Z"
   },
   {
    "duration": 26,
    "start_time": "2021-12-10T13:30:57.743Z"
   },
   {
    "duration": 56,
    "start_time": "2021-12-10T13:30:57.772Z"
   },
   {
    "duration": 9,
    "start_time": "2021-12-10T13:30:57.831Z"
   },
   {
    "duration": 8,
    "start_time": "2021-12-10T13:30:57.842Z"
   },
   {
    "duration": 9,
    "start_time": "2021-12-10T13:30:57.853Z"
   },
   {
    "duration": 53,
    "start_time": "2021-12-10T13:30:57.864Z"
   },
   {
    "duration": 11,
    "start_time": "2021-12-10T13:30:57.920Z"
   },
   {
    "duration": 8,
    "start_time": "2021-12-10T13:30:57.934Z"
   },
   {
    "duration": 363,
    "start_time": "2021-12-10T13:36:59.766Z"
   },
   {
    "duration": 11,
    "start_time": "2021-12-10T13:37:11.131Z"
   },
   {
    "duration": 62,
    "start_time": "2021-12-10T13:37:21.921Z"
   },
   {
    "duration": 20,
    "start_time": "2021-12-10T13:37:21.986Z"
   },
   {
    "duration": 20,
    "start_time": "2021-12-10T13:37:22.009Z"
   },
   {
    "duration": 6,
    "start_time": "2021-12-10T13:37:22.032Z"
   },
   {
    "duration": 14,
    "start_time": "2021-12-10T13:37:22.040Z"
   },
   {
    "duration": 69,
    "start_time": "2021-12-10T13:37:22.056Z"
   },
   {
    "duration": 20,
    "start_time": "2021-12-10T13:37:22.128Z"
   },
   {
    "duration": 9,
    "start_time": "2021-12-10T13:37:22.150Z"
   },
   {
    "duration": 16,
    "start_time": "2021-12-10T13:37:22.162Z"
   },
   {
    "duration": 53,
    "start_time": "2021-12-10T13:37:22.181Z"
   },
   {
    "duration": 27,
    "start_time": "2021-12-10T13:37:22.236Z"
   },
   {
    "duration": 55,
    "start_time": "2021-12-10T13:37:22.265Z"
   },
   {
    "duration": 9,
    "start_time": "2021-12-10T13:37:22.322Z"
   },
   {
    "duration": 10,
    "start_time": "2021-12-10T13:37:22.333Z"
   },
   {
    "duration": 9,
    "start_time": "2021-12-10T13:37:22.345Z"
   },
   {
    "duration": 14,
    "start_time": "2021-12-10T13:37:22.356Z"
   },
   {
    "duration": 72,
    "start_time": "2021-12-10T13:37:22.372Z"
   },
   {
    "duration": 7,
    "start_time": "2021-12-10T13:37:22.446Z"
   },
   {
    "duration": 497,
    "start_time": "2021-12-10T13:41:11.546Z"
   },
   {
    "duration": 63,
    "start_time": "2021-12-10T13:41:34.268Z"
   },
   {
    "duration": 19,
    "start_time": "2021-12-10T13:41:34.334Z"
   },
   {
    "duration": 17,
    "start_time": "2021-12-10T13:41:34.355Z"
   },
   {
    "duration": 5,
    "start_time": "2021-12-10T13:41:34.375Z"
   },
   {
    "duration": 41,
    "start_time": "2021-12-10T13:41:34.382Z"
   },
   {
    "duration": 22,
    "start_time": "2021-12-10T13:41:34.425Z"
   },
   {
    "duration": 19,
    "start_time": "2021-12-10T13:41:34.449Z"
   },
   {
    "duration": 50,
    "start_time": "2021-12-10T13:41:34.472Z"
   },
   {
    "duration": 17,
    "start_time": "2021-12-10T13:41:34.525Z"
   },
   {
    "duration": 20,
    "start_time": "2021-12-10T13:41:34.544Z"
   },
   {
    "duration": 68,
    "start_time": "2021-12-10T13:41:34.567Z"
   },
   {
    "duration": 24,
    "start_time": "2021-12-10T13:41:34.637Z"
   },
   {
    "duration": 9,
    "start_time": "2021-12-10T13:41:34.664Z"
   },
   {
    "duration": 45,
    "start_time": "2021-12-10T13:41:34.676Z"
   },
   {
    "duration": 9,
    "start_time": "2021-12-10T13:41:34.724Z"
   },
   {
    "duration": 10,
    "start_time": "2021-12-10T13:41:34.736Z"
   },
   {
    "duration": 301,
    "start_time": "2021-12-10T13:41:34.749Z"
   },
   {
    "duration": 7,
    "start_time": "2021-12-10T13:46:44.842Z"
   },
   {
    "duration": 18,
    "start_time": "2021-12-10T13:47:14.717Z"
   },
   {
    "duration": 375,
    "start_time": "2021-12-10T13:47:41.809Z"
   },
   {
    "duration": 19,
    "start_time": "2021-12-10T13:47:52.355Z"
   },
   {
    "duration": 316,
    "start_time": "2021-12-10T14:21:20.505Z"
   },
   {
    "duration": 116,
    "start_time": "2021-12-10T14:22:47.423Z"
   },
   {
    "duration": 288,
    "start_time": "2021-12-10T14:23:29.159Z"
   },
   {
    "duration": 305,
    "start_time": "2021-12-10T14:24:34.635Z"
   },
   {
    "duration": 64,
    "start_time": "2021-12-10T14:24:40.435Z"
   },
   {
    "duration": 19,
    "start_time": "2021-12-10T14:24:40.502Z"
   },
   {
    "duration": 15,
    "start_time": "2021-12-10T14:24:40.524Z"
   },
   {
    "duration": 5,
    "start_time": "2021-12-10T14:24:40.541Z"
   },
   {
    "duration": 16,
    "start_time": "2021-12-10T14:24:40.549Z"
   },
   {
    "duration": 59,
    "start_time": "2021-12-10T14:24:40.568Z"
   },
   {
    "duration": 22,
    "start_time": "2021-12-10T14:24:40.632Z"
   },
   {
    "duration": 18,
    "start_time": "2021-12-10T14:24:40.658Z"
   },
   {
    "duration": 49,
    "start_time": "2021-12-10T14:24:40.679Z"
   },
   {
    "duration": 19,
    "start_time": "2021-12-10T14:24:40.731Z"
   },
   {
    "duration": 27,
    "start_time": "2021-12-10T14:24:40.753Z"
   },
   {
    "duration": 26,
    "start_time": "2021-12-10T14:24:40.820Z"
   },
   {
    "duration": 9,
    "start_time": "2021-12-10T14:24:40.849Z"
   },
   {
    "duration": 9,
    "start_time": "2021-12-10T14:24:40.861Z"
   },
   {
    "duration": 47,
    "start_time": "2021-12-10T14:24:40.872Z"
   },
   {
    "duration": 9,
    "start_time": "2021-12-10T14:24:40.922Z"
   },
   {
    "duration": 319,
    "start_time": "2021-12-10T14:24:40.933Z"
   },
   {
    "duration": -1013,
    "start_time": "2021-12-10T14:24:42.267Z"
   },
   {
    "duration": 6,
    "start_time": "2021-12-10T14:25:23.706Z"
   },
   {
    "duration": 18,
    "start_time": "2021-12-10T14:25:25.231Z"
   },
   {
    "duration": 10,
    "start_time": "2021-12-10T14:27:55.878Z"
   },
   {
    "duration": 20,
    "start_time": "2021-12-10T14:27:58.211Z"
   },
   {
    "duration": 19,
    "start_time": "2021-12-10T14:28:09.292Z"
   },
   {
    "duration": 63,
    "start_time": "2021-12-10T14:28:20.101Z"
   },
   {
    "duration": 21,
    "start_time": "2021-12-10T14:28:20.168Z"
   },
   {
    "duration": 17,
    "start_time": "2021-12-10T14:28:20.217Z"
   },
   {
    "duration": 6,
    "start_time": "2021-12-10T14:28:20.238Z"
   },
   {
    "duration": 17,
    "start_time": "2021-12-10T14:28:20.248Z"
   },
   {
    "duration": 61,
    "start_time": "2021-12-10T14:28:20.267Z"
   },
   {
    "duration": 20,
    "start_time": "2021-12-10T14:28:20.331Z"
   },
   {
    "duration": 9,
    "start_time": "2021-12-10T14:28:20.355Z"
   },
   {
    "duration": 53,
    "start_time": "2021-12-10T14:28:20.367Z"
   },
   {
    "duration": 22,
    "start_time": "2021-12-10T14:28:20.424Z"
   },
   {
    "duration": 71,
    "start_time": "2021-12-10T14:28:20.449Z"
   },
   {
    "duration": 26,
    "start_time": "2021-12-10T14:28:20.523Z"
   },
   {
    "duration": 11,
    "start_time": "2021-12-10T14:28:20.554Z"
   },
   {
    "duration": 51,
    "start_time": "2021-12-10T14:28:20.568Z"
   },
   {
    "duration": 9,
    "start_time": "2021-12-10T14:28:20.622Z"
   },
   {
    "duration": 11,
    "start_time": "2021-12-10T14:28:20.634Z"
   },
   {
    "duration": 10,
    "start_time": "2021-12-10T14:28:20.648Z"
   },
   {
    "duration": 65,
    "start_time": "2021-12-10T14:28:20.661Z"
   },
   {
    "duration": 9,
    "start_time": "2021-12-10T15:33:02.401Z"
   },
   {
    "duration": 308,
    "start_time": "2021-12-10T15:35:31.902Z"
   },
   {
    "duration": 61,
    "start_time": "2021-12-10T15:35:45.500Z"
   },
   {
    "duration": 19,
    "start_time": "2021-12-10T15:35:45.564Z"
   },
   {
    "duration": 30,
    "start_time": "2021-12-10T15:35:45.587Z"
   },
   {
    "duration": 5,
    "start_time": "2021-12-10T15:35:45.620Z"
   },
   {
    "duration": 12,
    "start_time": "2021-12-10T15:35:45.628Z"
   },
   {
    "duration": 21,
    "start_time": "2021-12-10T15:35:45.642Z"
   },
   {
    "duration": 63,
    "start_time": "2021-12-10T15:35:45.666Z"
   },
   {
    "duration": 8,
    "start_time": "2021-12-10T15:35:45.732Z"
   },
   {
    "duration": 14,
    "start_time": "2021-12-10T15:35:45.743Z"
   },
   {
    "duration": 20,
    "start_time": "2021-12-10T15:35:45.760Z"
   },
   {
    "duration": 27,
    "start_time": "2021-12-10T15:35:45.818Z"
   },
   {
    "duration": 23,
    "start_time": "2021-12-10T15:35:45.848Z"
   },
   {
    "duration": 47,
    "start_time": "2021-12-10T15:35:45.874Z"
   },
   {
    "duration": 8,
    "start_time": "2021-12-10T15:35:45.925Z"
   },
   {
    "duration": 10,
    "start_time": "2021-12-10T15:35:45.936Z"
   },
   {
    "duration": 8,
    "start_time": "2021-12-10T15:35:45.948Z"
   },
   {
    "duration": 10,
    "start_time": "2021-12-10T15:35:45.958Z"
   },
   {
    "duration": 52,
    "start_time": "2021-12-10T15:35:45.971Z"
   },
   {
    "duration": 6,
    "start_time": "2021-12-10T15:35:51.905Z"
   },
   {
    "duration": 10,
    "start_time": "2021-12-10T15:35:52.970Z"
   },
   {
    "duration": 18,
    "start_time": "2021-12-10T15:36:31.440Z"
   },
   {
    "duration": 20,
    "start_time": "2021-12-10T15:38:09.676Z"
   },
   {
    "duration": 21,
    "start_time": "2021-12-10T15:38:12.426Z"
   },
   {
    "duration": 7,
    "start_time": "2021-12-10T16:13:37.105Z"
   },
   {
    "duration": 24,
    "start_time": "2021-12-10T16:13:38.149Z"
   },
   {
    "duration": 19,
    "start_time": "2021-12-10T16:14:10.724Z"
   },
   {
    "duration": 9,
    "start_time": "2021-12-10T16:14:12.538Z"
   },
   {
    "duration": 6,
    "start_time": "2021-12-10T16:15:15.158Z"
   },
   {
    "duration": 99,
    "start_time": "2021-12-10T16:15:39.569Z"
   },
   {
    "duration": 10,
    "start_time": "2021-12-10T16:16:37.662Z"
   },
   {
    "duration": 12,
    "start_time": "2021-12-10T16:17:47.496Z"
   },
   {
    "duration": 33,
    "start_time": "2021-12-10T16:18:13.610Z"
   },
   {
    "duration": 12,
    "start_time": "2021-12-10T16:18:38.430Z"
   },
   {
    "duration": 311,
    "start_time": "2021-12-10T16:20:13.522Z"
   },
   {
    "duration": 10,
    "start_time": "2021-12-10T16:20:56.049Z"
   },
   {
    "duration": 55,
    "start_time": "2021-12-10T16:23:00.193Z"
   },
   {
    "duration": 10,
    "start_time": "2021-12-10T16:23:02.935Z"
   },
   {
    "duration": 6,
    "start_time": "2021-12-10T16:26:11.246Z"
   },
   {
    "duration": 16,
    "start_time": "2021-12-10T16:26:29.950Z"
   },
   {
    "duration": 320,
    "start_time": "2021-12-10T16:27:29.574Z"
   },
   {
    "duration": 16,
    "start_time": "2021-12-10T16:27:37.554Z"
   },
   {
    "duration": 8,
    "start_time": "2021-12-10T16:51:51.138Z"
   },
   {
    "duration": 91,
    "start_time": "2021-12-10T16:53:29.284Z"
   },
   {
    "duration": 23,
    "start_time": "2021-12-10T16:53:39.258Z"
   },
   {
    "duration": 7691,
    "start_time": "2021-12-10T16:55:40.290Z"
   },
   {
    "duration": -174,
    "start_time": "2021-12-10T16:58:03.737Z"
   },
   {
    "duration": -82,
    "start_time": "2021-12-10T16:58:29.995Z"
   },
   {
    "duration": 66,
    "start_time": "2021-12-10T16:58:33.791Z"
   },
   {
    "duration": 19,
    "start_time": "2021-12-10T16:58:33.859Z"
   },
   {
    "duration": 16,
    "start_time": "2021-12-10T16:58:33.882Z"
   },
   {
    "duration": 5,
    "start_time": "2021-12-10T16:58:33.918Z"
   },
   {
    "duration": 20,
    "start_time": "2021-12-10T16:58:33.926Z"
   },
   {
    "duration": 27,
    "start_time": "2021-12-10T16:58:33.949Z"
   },
   {
    "duration": 53,
    "start_time": "2021-12-10T16:58:33.980Z"
   },
   {
    "duration": 12,
    "start_time": "2021-12-10T16:58:34.037Z"
   },
   {
    "duration": 14,
    "start_time": "2021-12-10T16:58:34.052Z"
   },
   {
    "duration": 62,
    "start_time": "2021-12-10T16:58:34.069Z"
   },
   {
    "duration": 27,
    "start_time": "2021-12-10T16:58:34.134Z"
   },
   {
    "duration": 60,
    "start_time": "2021-12-10T16:58:34.163Z"
   },
   {
    "duration": 10,
    "start_time": "2021-12-10T16:58:34.225Z"
   },
   {
    "duration": 8,
    "start_time": "2021-12-10T16:58:34.238Z"
   },
   {
    "duration": 16,
    "start_time": "2021-12-10T16:58:34.248Z"
   },
   {
    "duration": 10,
    "start_time": "2021-12-10T16:58:34.266Z"
   },
   {
    "duration": 43,
    "start_time": "2021-12-10T16:58:34.278Z"
   },
   {
    "duration": 22,
    "start_time": "2021-12-10T16:58:34.324Z"
   },
   {
    "duration": 9,
    "start_time": "2021-12-10T16:58:34.349Z"
   },
   {
    "duration": 8855,
    "start_time": "2021-12-10T16:58:34.360Z"
   },
   {
    "duration": -21,
    "start_time": "2021-12-10T16:58:43.238Z"
   },
   {
    "duration": 6,
    "start_time": "2021-12-10T16:59:49.073Z"
   },
   {
    "duration": 7,
    "start_time": "2021-12-10T17:00:14.394Z"
   },
   {
    "duration": 18,
    "start_time": "2021-12-10T17:06:11.392Z"
   },
   {
    "duration": 18,
    "start_time": "2021-12-10T17:06:57.198Z"
   },
   {
    "duration": 9,
    "start_time": "2021-12-10T17:09:58.057Z"
   },
   {
    "duration": 35,
    "start_time": "2021-12-10T17:11:31.454Z"
   },
   {
    "duration": 304,
    "start_time": "2021-12-10T17:12:26.918Z"
   },
   {
    "duration": 102,
    "start_time": "2021-12-10T17:12:59.321Z"
   },
   {
    "duration": 23,
    "start_time": "2021-12-10T17:13:22.843Z"
   },
   {
    "duration": 314,
    "start_time": "2021-12-10T17:14:30.400Z"
   },
   {
    "duration": 10,
    "start_time": "2021-12-10T17:15:19.885Z"
   },
   {
    "duration": 27,
    "start_time": "2021-12-10T17:16:08.465Z"
   },
   {
    "duration": 41,
    "start_time": "2021-12-10T17:16:59.553Z"
   },
   {
    "duration": 11,
    "start_time": "2021-12-10T17:17:45.992Z"
   },
   {
    "duration": 11,
    "start_time": "2021-12-10T17:18:11.277Z"
   },
   {
    "duration": 11,
    "start_time": "2021-12-10T17:18:21.797Z"
   },
   {
    "duration": 9,
    "start_time": "2021-12-10T17:18:33.658Z"
   },
   {
    "duration": 10,
    "start_time": "2021-12-10T17:18:47.270Z"
   },
   {
    "duration": 10,
    "start_time": "2021-12-10T17:19:03.086Z"
   },
   {
    "duration": 12,
    "start_time": "2021-12-10T17:19:30.919Z"
   },
   {
    "duration": 291,
    "start_time": "2021-12-10T18:11:18.814Z"
   },
   {
    "duration": 166,
    "start_time": "2021-12-10T18:16:15.328Z"
   },
   {
    "duration": 350,
    "start_time": "2021-12-10T18:16:22.910Z"
   },
   {
    "duration": 9,
    "start_time": "2021-12-10T18:17:16.427Z"
   },
   {
    "duration": 34,
    "start_time": "2021-12-10T18:19:26.848Z"
   },
   {
    "duration": 34,
    "start_time": "2021-12-10T18:19:36.385Z"
   },
   {
    "duration": 68,
    "start_time": "2021-12-10T18:19:42.517Z"
   },
   {
    "duration": 39,
    "start_time": "2021-12-10T18:19:42.588Z"
   },
   {
    "duration": 18,
    "start_time": "2021-12-10T18:19:42.632Z"
   },
   {
    "duration": 7,
    "start_time": "2021-12-10T18:19:42.653Z"
   },
   {
    "duration": 57,
    "start_time": "2021-12-10T18:19:42.663Z"
   },
   {
    "duration": 27,
    "start_time": "2021-12-10T18:19:42.723Z"
   },
   {
    "duration": 23,
    "start_time": "2021-12-10T18:19:42.753Z"
   },
   {
    "duration": 10,
    "start_time": "2021-12-10T18:19:42.818Z"
   },
   {
    "duration": 15,
    "start_time": "2021-12-10T18:19:42.830Z"
   },
   {
    "duration": 21,
    "start_time": "2021-12-10T18:19:42.847Z"
   },
   {
    "duration": 65,
    "start_time": "2021-12-10T18:19:42.870Z"
   },
   {
    "duration": 24,
    "start_time": "2021-12-10T18:19:42.937Z"
   },
   {
    "duration": 9,
    "start_time": "2021-12-10T18:19:42.963Z"
   },
   {
    "duration": 7,
    "start_time": "2021-12-10T18:19:43.018Z"
   },
   {
    "duration": 9,
    "start_time": "2021-12-10T18:19:43.027Z"
   },
   {
    "duration": 9,
    "start_time": "2021-12-10T18:19:43.038Z"
   },
   {
    "duration": 7,
    "start_time": "2021-12-10T18:19:43.049Z"
   },
   {
    "duration": 74,
    "start_time": "2021-12-10T18:19:43.058Z"
   },
   {
    "duration": 10,
    "start_time": "2021-12-10T18:19:43.134Z"
   },
   {
    "duration": 10,
    "start_time": "2021-12-10T18:19:43.146Z"
   },
   {
    "duration": 60,
    "start_time": "2021-12-10T18:19:43.158Z"
   },
   {
    "duration": 32,
    "start_time": "2021-12-10T18:20:05.001Z"
   },
   {
    "duration": 61,
    "start_time": "2021-12-10T18:20:17.393Z"
   },
   {
    "duration": 19,
    "start_time": "2021-12-10T18:20:17.457Z"
   },
   {
    "duration": 40,
    "start_time": "2021-12-10T18:20:17.480Z"
   },
   {
    "duration": 6,
    "start_time": "2021-12-10T18:20:17.523Z"
   },
   {
    "duration": 14,
    "start_time": "2021-12-10T18:20:17.531Z"
   },
   {
    "duration": 21,
    "start_time": "2021-12-10T18:20:17.547Z"
   },
   {
    "duration": 65,
    "start_time": "2021-12-10T18:20:17.571Z"
   },
   {
    "duration": 9,
    "start_time": "2021-12-10T18:20:17.640Z"
   },
   {
    "duration": 14,
    "start_time": "2021-12-10T18:20:17.652Z"
   },
   {
    "duration": 49,
    "start_time": "2021-12-10T18:20:17.669Z"
   },
   {
    "duration": 29,
    "start_time": "2021-12-10T18:20:17.720Z"
   },
   {
    "duration": 23,
    "start_time": "2021-12-10T18:20:17.751Z"
   },
   {
    "duration": 42,
    "start_time": "2021-12-10T18:20:17.777Z"
   },
   {
    "duration": 10,
    "start_time": "2021-12-10T18:20:17.822Z"
   },
   {
    "duration": 9,
    "start_time": "2021-12-10T18:20:17.835Z"
   },
   {
    "duration": 10,
    "start_time": "2021-12-10T18:20:17.847Z"
   },
   {
    "duration": 7,
    "start_time": "2021-12-10T18:20:17.860Z"
   },
   {
    "duration": 20,
    "start_time": "2021-12-10T18:20:17.921Z"
   },
   {
    "duration": 9,
    "start_time": "2021-12-10T18:20:17.943Z"
   },
   {
    "duration": 9,
    "start_time": "2021-12-10T18:20:17.955Z"
   },
   {
    "duration": 65,
    "start_time": "2021-12-10T18:20:17.967Z"
   },
   {
    "duration": 303,
    "start_time": "2021-12-10T18:21:40.546Z"
   },
   {
    "duration": 9,
    "start_time": "2021-12-10T18:23:08.499Z"
   },
   {
    "duration": 14,
    "start_time": "2021-12-10T18:24:43.030Z"
   },
   {
    "duration": 9,
    "start_time": "2021-12-10T18:25:08.091Z"
   },
   {
    "duration": 22,
    "start_time": "2021-12-10T18:31:30.453Z"
   },
   {
    "duration": 39,
    "start_time": "2021-12-10T18:32:39.707Z"
   },
   {
    "duration": 37,
    "start_time": "2021-12-10T18:33:05.688Z"
   },
   {
    "duration": 36,
    "start_time": "2021-12-10T18:33:22.370Z"
   },
   {
    "duration": 44,
    "start_time": "2021-12-10T18:33:30.933Z"
   },
   {
    "duration": 28,
    "start_time": "2021-12-10T18:33:53.712Z"
   },
   {
    "duration": 27,
    "start_time": "2021-12-10T18:34:33.600Z"
   },
   {
    "duration": 30,
    "start_time": "2021-12-10T18:34:45.620Z"
   },
   {
    "duration": 43,
    "start_time": "2021-12-10T18:35:21.195Z"
   },
   {
    "duration": 37,
    "start_time": "2021-12-10T18:36:26.972Z"
   },
   {
    "duration": 27,
    "start_time": "2021-12-10T18:38:20.174Z"
   },
   {
    "duration": 96,
    "start_time": "2021-12-10T18:39:08.359Z"
   },
   {
    "duration": 37,
    "start_time": "2021-12-10T18:39:16.542Z"
   },
   {
    "duration": 118,
    "start_time": "2021-12-10T18:40:32.746Z"
   },
   {
    "duration": 302,
    "start_time": "2021-12-10T18:40:43.306Z"
   },
   {
    "duration": 47,
    "start_time": "2021-12-10T18:40:57.405Z"
   },
   {
    "duration": 476,
    "start_time": "2021-12-10T18:41:39.812Z"
   },
   {
    "duration": 48,
    "start_time": "2021-12-10T18:41:50.527Z"
   },
   {
    "duration": 37,
    "start_time": "2021-12-10T18:42:44.007Z"
   },
   {
    "duration": 27,
    "start_time": "2021-12-10T18:44:41.495Z"
   },
   {
    "duration": 188,
    "start_time": "2021-12-10T18:47:38.783Z"
   },
   {
    "duration": 53,
    "start_time": "2021-12-10T18:47:44.057Z"
   },
   {
    "duration": 27,
    "start_time": "2021-12-10T18:50:02.075Z"
   },
   {
    "duration": 17,
    "start_time": "2021-12-10T18:53:39.092Z"
   },
   {
    "duration": 27,
    "start_time": "2021-12-10T18:53:50.401Z"
   },
   {
    "duration": 372,
    "start_time": "2021-12-11T12:08:42.574Z"
   },
   {
    "duration": 371,
    "start_time": "2021-12-11T12:08:47.619Z"
   },
   {
    "duration": 342,
    "start_time": "2021-12-11T12:09:22.512Z"
   },
   {
    "duration": 847,
    "start_time": "2021-12-11T12:09:31.839Z"
   },
   {
    "duration": 30,
    "start_time": "2021-12-11T12:09:32.688Z"
   },
   {
    "duration": 22,
    "start_time": "2021-12-11T12:09:32.722Z"
   },
   {
    "duration": 15,
    "start_time": "2021-12-11T12:09:32.747Z"
   },
   {
    "duration": 17,
    "start_time": "2021-12-11T12:09:32.765Z"
   },
   {
    "duration": 60,
    "start_time": "2021-12-11T12:09:32.785Z"
   },
   {
    "duration": 21,
    "start_time": "2021-12-11T12:09:32.848Z"
   },
   {
    "duration": 9,
    "start_time": "2021-12-11T12:09:32.873Z"
   },
   {
    "duration": 106,
    "start_time": "2021-12-11T12:09:32.926Z"
   },
   {
    "duration": 2375,
    "start_time": "2021-12-11T12:09:30.661Z"
   },
   {
    "duration": 2360,
    "start_time": "2021-12-11T12:09:30.677Z"
   },
   {
    "duration": 2345,
    "start_time": "2021-12-11T12:09:30.694Z"
   },
   {
    "duration": 2332,
    "start_time": "2021-12-11T12:09:30.708Z"
   },
   {
    "duration": 2316,
    "start_time": "2021-12-11T12:09:30.726Z"
   },
   {
    "duration": 2252,
    "start_time": "2021-12-11T12:09:30.791Z"
   },
   {
    "duration": 2236,
    "start_time": "2021-12-11T12:09:30.809Z"
   },
   {
    "duration": 2199,
    "start_time": "2021-12-11T12:09:30.848Z"
   },
   {
    "duration": 2171,
    "start_time": "2021-12-11T12:09:30.877Z"
   },
   {
    "duration": 2141,
    "start_time": "2021-12-11T12:09:30.909Z"
   },
   {
    "duration": 2112,
    "start_time": "2021-12-11T12:09:30.939Z"
   },
   {
    "duration": 2085,
    "start_time": "2021-12-11T12:09:30.967Z"
   },
   {
    "duration": 2022,
    "start_time": "2021-12-11T12:09:31.031Z"
   },
   {
    "duration": 16,
    "start_time": "2021-12-11T12:11:33.705Z"
   },
   {
    "duration": 24,
    "start_time": "2021-12-11T12:11:34.927Z"
   },
   {
    "duration": 15,
    "start_time": "2021-12-11T12:22:31.711Z"
   },
   {
    "duration": 162,
    "start_time": "2021-12-11T12:23:46.618Z"
   },
   {
    "duration": 13,
    "start_time": "2021-12-11T12:23:57.390Z"
   },
   {
    "duration": 13,
    "start_time": "2021-12-11T12:24:50.672Z"
   },
   {
    "duration": 15,
    "start_time": "2021-12-11T12:25:11.427Z"
   },
   {
    "duration": 11,
    "start_time": "2021-12-11T12:25:19.599Z"
   },
   {
    "duration": 14,
    "start_time": "2021-12-11T12:25:30.227Z"
   },
   {
    "duration": 27,
    "start_time": "2021-12-11T12:27:01.300Z"
   },
   {
    "duration": 44,
    "start_time": "2021-12-11T12:27:03.570Z"
   },
   {
    "duration": 10,
    "start_time": "2021-12-11T12:27:12.803Z"
   },
   {
    "duration": 7,
    "start_time": "2021-12-11T12:27:16.235Z"
   },
   {
    "duration": 8,
    "start_time": "2021-12-11T12:27:17.155Z"
   },
   {
    "duration": 8,
    "start_time": "2021-12-11T12:27:22.378Z"
   },
   {
    "duration": 11,
    "start_time": "2021-12-11T12:27:49.243Z"
   },
   {
    "duration": 19,
    "start_time": "2021-12-11T12:31:59.783Z"
   },
   {
    "duration": 18,
    "start_time": "2021-12-11T12:32:34.010Z"
   },
   {
    "duration": 28,
    "start_time": "2021-12-11T12:33:12.775Z"
   },
   {
    "duration": 24,
    "start_time": "2021-12-11T12:34:19.217Z"
   },
   {
    "duration": 60,
    "start_time": "2021-12-11T12:35:32.796Z"
   },
   {
    "duration": 20,
    "start_time": "2021-12-11T12:35:32.872Z"
   },
   {
    "duration": 19,
    "start_time": "2021-12-11T12:35:32.895Z"
   },
   {
    "duration": 6,
    "start_time": "2021-12-11T12:35:32.924Z"
   },
   {
    "duration": 14,
    "start_time": "2021-12-11T12:35:32.933Z"
   },
   {
    "duration": 19,
    "start_time": "2021-12-11T12:35:32.950Z"
   },
   {
    "duration": 66,
    "start_time": "2021-12-11T12:35:32.972Z"
   },
   {
    "duration": 9,
    "start_time": "2021-12-11T12:35:33.041Z"
   },
   {
    "duration": 14,
    "start_time": "2021-12-11T12:35:33.098Z"
   },
   {
    "duration": 19,
    "start_time": "2021-12-11T12:35:33.122Z"
   },
   {
    "duration": 10,
    "start_time": "2021-12-11T12:35:33.275Z"
   },
   {
    "duration": 30,
    "start_time": "2021-12-11T12:35:33.294Z"
   },
   {
    "duration": 25,
    "start_time": "2021-12-11T12:35:33.328Z"
   },
   {
    "duration": 12,
    "start_time": "2021-12-11T12:35:33.357Z"
   },
   {
    "duration": 55,
    "start_time": "2021-12-11T12:35:33.375Z"
   },
   {
    "duration": 11,
    "start_time": "2021-12-11T12:35:33.433Z"
   },
   {
    "duration": 11,
    "start_time": "2021-12-11T12:35:33.447Z"
   },
   {
    "duration": 12,
    "start_time": "2021-12-11T12:35:33.461Z"
   },
   {
    "duration": 64,
    "start_time": "2021-12-11T12:35:33.476Z"
   },
   {
    "duration": 13,
    "start_time": "2021-12-11T12:35:33.542Z"
   },
   {
    "duration": 11,
    "start_time": "2021-12-11T12:35:33.558Z"
   },
   {
    "duration": 64,
    "start_time": "2021-12-11T12:35:33.572Z"
   },
   {
    "duration": 15,
    "start_time": "2021-12-11T12:38:14.639Z"
   },
   {
    "duration": 64,
    "start_time": "2021-12-11T12:38:30.241Z"
   },
   {
    "duration": 22,
    "start_time": "2021-12-11T12:38:30.308Z"
   },
   {
    "duration": 26,
    "start_time": "2021-12-11T12:38:30.334Z"
   },
   {
    "duration": 18,
    "start_time": "2021-12-11T12:38:30.363Z"
   },
   {
    "duration": 40,
    "start_time": "2021-12-11T12:38:30.384Z"
   },
   {
    "duration": 20,
    "start_time": "2021-12-11T12:38:30.427Z"
   },
   {
    "duration": 34,
    "start_time": "2021-12-11T12:38:30.450Z"
   },
   {
    "duration": 36,
    "start_time": "2021-12-11T12:38:30.487Z"
   },
   {
    "duration": 15,
    "start_time": "2021-12-11T12:38:30.526Z"
   },
   {
    "duration": 38,
    "start_time": "2021-12-11T12:38:30.543Z"
   },
   {
    "duration": 10,
    "start_time": "2021-12-11T12:38:30.583Z"
   },
   {
    "duration": 38,
    "start_time": "2021-12-11T12:38:30.625Z"
   },
   {
    "duration": 64,
    "start_time": "2021-12-11T12:38:30.666Z"
   },
   {
    "duration": 10,
    "start_time": "2021-12-11T12:38:30.732Z"
   },
   {
    "duration": 8,
    "start_time": "2021-12-11T12:38:30.745Z"
   },
   {
    "duration": 8,
    "start_time": "2021-12-11T12:38:30.756Z"
   },
   {
    "duration": 59,
    "start_time": "2021-12-11T12:38:30.767Z"
   },
   {
    "duration": 13,
    "start_time": "2021-12-11T12:38:30.828Z"
   },
   {
    "duration": 26,
    "start_time": "2021-12-11T12:38:30.844Z"
   },
   {
    "duration": 9,
    "start_time": "2021-12-11T12:38:30.872Z"
   },
   {
    "duration": 45,
    "start_time": "2021-12-11T12:38:30.883Z"
   },
   {
    "duration": 19,
    "start_time": "2021-12-11T12:38:30.931Z"
   },
   {
    "duration": 15,
    "start_time": "2021-12-11T12:38:59.281Z"
   },
   {
    "duration": 15,
    "start_time": "2021-12-11T12:39:32.495Z"
   },
   {
    "duration": 39,
    "start_time": "2021-12-11T12:39:48.008Z"
   },
   {
    "duration": 36,
    "start_time": "2021-12-11T12:40:01.226Z"
   },
   {
    "duration": 42,
    "start_time": "2021-12-11T12:40:11.346Z"
   },
   {
    "duration": 22,
    "start_time": "2021-12-11T12:40:36.731Z"
   },
   {
    "duration": 15,
    "start_time": "2021-12-11T12:40:48.934Z"
   },
   {
    "duration": 21,
    "start_time": "2021-12-11T12:40:56.205Z"
   },
   {
    "duration": 20,
    "start_time": "2021-12-11T12:41:31.375Z"
   },
   {
    "duration": 15,
    "start_time": "2021-12-11T12:41:39.870Z"
   },
   {
    "duration": 20,
    "start_time": "2021-12-11T12:41:45.963Z"
   },
   {
    "duration": 21,
    "start_time": "2021-12-11T12:41:54.494Z"
   },
   {
    "duration": 21,
    "start_time": "2021-12-11T12:42:39.534Z"
   },
   {
    "duration": 12,
    "start_time": "2021-12-11T12:45:11.530Z"
   },
   {
    "duration": 337,
    "start_time": "2021-12-11T12:47:09.725Z"
   },
   {
    "duration": 63,
    "start_time": "2021-12-11T12:47:28.399Z"
   },
   {
    "duration": 21,
    "start_time": "2021-12-11T12:47:28.465Z"
   },
   {
    "duration": 36,
    "start_time": "2021-12-11T12:47:28.489Z"
   },
   {
    "duration": 5,
    "start_time": "2021-12-11T12:47:28.528Z"
   },
   {
    "duration": 17,
    "start_time": "2021-12-11T12:47:28.536Z"
   },
   {
    "duration": 71,
    "start_time": "2021-12-11T12:47:28.556Z"
   },
   {
    "duration": 19,
    "start_time": "2021-12-11T12:47:28.630Z"
   },
   {
    "duration": 9,
    "start_time": "2021-12-11T12:47:28.651Z"
   },
   {
    "duration": 18,
    "start_time": "2021-12-11T12:47:28.662Z"
   },
   {
    "duration": 23,
    "start_time": "2021-12-11T12:47:28.725Z"
   },
   {
    "duration": 11,
    "start_time": "2021-12-11T12:47:28.751Z"
   },
   {
    "duration": 336,
    "start_time": "2021-12-11T12:47:28.764Z"
   },
   {
    "duration": 1435,
    "start_time": "2021-12-11T12:47:27.668Z"
   },
   {
    "duration": 1404,
    "start_time": "2021-12-11T12:47:27.700Z"
   },
   {
    "duration": 1380,
    "start_time": "2021-12-11T12:47:27.726Z"
   },
   {
    "duration": 1352,
    "start_time": "2021-12-11T12:47:27.755Z"
   },
   {
    "duration": 1302,
    "start_time": "2021-12-11T12:47:27.807Z"
   },
   {
    "duration": 1260,
    "start_time": "2021-12-11T12:47:27.850Z"
   },
   {
    "duration": 1225,
    "start_time": "2021-12-11T12:47:27.886Z"
   },
   {
    "duration": 1176,
    "start_time": "2021-12-11T12:47:27.937Z"
   },
   {
    "duration": 1149,
    "start_time": "2021-12-11T12:47:27.965Z"
   },
   {
    "duration": 1112,
    "start_time": "2021-12-11T12:47:28.003Z"
   },
   {
    "duration": 34,
    "start_time": "2021-12-11T12:48:25.112Z"
   },
   {
    "duration": 14,
    "start_time": "2021-12-11T12:50:07.357Z"
   },
   {
    "duration": 26,
    "start_time": "2021-12-11T12:55:57.492Z"
   },
   {
    "duration": 99,
    "start_time": "2021-12-11T12:59:56.269Z"
   },
   {
    "duration": 31,
    "start_time": "2021-12-11T13:00:21.117Z"
   },
   {
    "duration": 11,
    "start_time": "2021-12-11T13:01:42.172Z"
   },
   {
    "duration": 10,
    "start_time": "2021-12-11T13:02:39.929Z"
   },
   {
    "duration": 12,
    "start_time": "2021-12-11T13:03:11.317Z"
   },
   {
    "duration": 13,
    "start_time": "2021-12-11T13:08:08.229Z"
   },
   {
    "duration": 22,
    "start_time": "2021-12-11T13:09:28.443Z"
   },
   {
    "duration": 137,
    "start_time": "2021-12-11T13:30:04.668Z"
   },
   {
    "duration": 8,
    "start_time": "2021-12-11T13:42:57.740Z"
   },
   {
    "duration": 6,
    "start_time": "2021-12-11T13:43:30.435Z"
   },
   {
    "duration": 7,
    "start_time": "2021-12-11T13:43:50.614Z"
   },
   {
    "duration": 6,
    "start_time": "2021-12-11T13:44:19.690Z"
   },
   {
    "duration": 6,
    "start_time": "2021-12-11T13:44:21.494Z"
   },
   {
    "duration": 6,
    "start_time": "2021-12-11T13:44:28.180Z"
   },
   {
    "duration": 269,
    "start_time": "2021-12-11T13:45:08.363Z"
   },
   {
    "duration": 6,
    "start_time": "2021-12-11T13:45:17.692Z"
   },
   {
    "duration": 2713,
    "start_time": "2021-12-11T13:45:53.328Z"
   },
   {
    "duration": 2708,
    "start_time": "2021-12-11T14:32:21.080Z"
   },
   {
    "duration": 59,
    "start_time": "2021-12-11T14:32:27.171Z"
   },
   {
    "duration": 20,
    "start_time": "2021-12-11T14:32:27.233Z"
   },
   {
    "duration": 16,
    "start_time": "2021-12-11T14:32:27.256Z"
   },
   {
    "duration": 6,
    "start_time": "2021-12-11T14:32:27.323Z"
   },
   {
    "duration": 13,
    "start_time": "2021-12-11T14:32:27.332Z"
   },
   {
    "duration": 20,
    "start_time": "2021-12-11T14:32:27.349Z"
   },
   {
    "duration": 69,
    "start_time": "2021-12-11T14:32:27.371Z"
   },
   {
    "duration": 10,
    "start_time": "2021-12-11T14:32:27.443Z"
   },
   {
    "duration": 15,
    "start_time": "2021-12-11T14:32:27.456Z"
   },
   {
    "duration": 69,
    "start_time": "2021-12-11T14:32:27.474Z"
   },
   {
    "duration": 13,
    "start_time": "2021-12-11T14:32:27.547Z"
   },
   {
    "duration": 14,
    "start_time": "2021-12-11T14:32:27.566Z"
   },
   {
    "duration": 10,
    "start_time": "2021-12-11T14:32:27.625Z"
   },
   {
    "duration": 23,
    "start_time": "2021-12-11T14:32:27.638Z"
   },
   {
    "duration": 6,
    "start_time": "2021-12-11T14:32:27.664Z"
   },
   {
    "duration": 7221,
    "start_time": "2021-12-11T14:32:27.673Z"
   },
   {
    "duration": 2710,
    "start_time": "2021-12-11T14:32:32.188Z"
   },
   {
    "duration": 2688,
    "start_time": "2021-12-11T14:32:32.212Z"
   },
   {
    "duration": 2669,
    "start_time": "2021-12-11T14:32:32.233Z"
   },
   {
    "duration": 2662,
    "start_time": "2021-12-11T14:32:32.243Z"
   },
   {
    "duration": 2646,
    "start_time": "2021-12-11T14:32:32.261Z"
   },
   {
    "duration": 2639,
    "start_time": "2021-12-11T14:32:32.270Z"
   },
   {
    "duration": 2620,
    "start_time": "2021-12-11T14:32:32.291Z"
   },
   {
    "duration": 2604,
    "start_time": "2021-12-11T14:32:32.309Z"
   },
   {
    "duration": 2586,
    "start_time": "2021-12-11T14:32:32.329Z"
   },
   {
    "duration": 2573,
    "start_time": "2021-12-11T14:32:32.345Z"
   },
   {
    "duration": 61,
    "start_time": "2021-12-11T14:35:10.619Z"
   },
   {
    "duration": 20,
    "start_time": "2021-12-11T14:35:10.683Z"
   },
   {
    "duration": 21,
    "start_time": "2021-12-11T14:35:10.726Z"
   },
   {
    "duration": 18,
    "start_time": "2021-12-11T14:35:10.751Z"
   },
   {
    "duration": 57,
    "start_time": "2021-12-11T14:35:10.773Z"
   },
   {
    "duration": 31,
    "start_time": "2021-12-11T14:35:10.833Z"
   },
   {
    "duration": 23,
    "start_time": "2021-12-11T14:35:10.867Z"
   },
   {
    "duration": 34,
    "start_time": "2021-12-11T14:35:10.894Z"
   },
   {
    "duration": 33,
    "start_time": "2021-12-11T14:35:10.932Z"
   },
   {
    "duration": 28,
    "start_time": "2021-12-11T14:35:10.970Z"
   },
   {
    "duration": 30,
    "start_time": "2021-12-11T14:35:11.001Z"
   },
   {
    "duration": 24,
    "start_time": "2021-12-11T14:35:11.034Z"
   },
   {
    "duration": 31,
    "start_time": "2021-12-11T14:35:11.060Z"
   },
   {
    "duration": 33,
    "start_time": "2021-12-11T14:35:11.093Z"
   },
   {
    "duration": 5,
    "start_time": "2021-12-11T14:35:11.129Z"
   },
   {
    "duration": 7649,
    "start_time": "2021-12-11T14:35:11.136Z"
   },
   {
    "duration": 2699,
    "start_time": "2021-12-11T14:35:16.088Z"
   },
   {
    "duration": 2678,
    "start_time": "2021-12-11T14:35:16.111Z"
   },
   {
    "duration": 2634,
    "start_time": "2021-12-11T14:35:16.156Z"
   },
   {
    "duration": 2625,
    "start_time": "2021-12-11T14:35:16.167Z"
   },
   {
    "duration": 2615,
    "start_time": "2021-12-11T14:35:16.178Z"
   },
   {
    "duration": 2607,
    "start_time": "2021-12-11T14:35:16.187Z"
   },
   {
    "duration": 2598,
    "start_time": "2021-12-11T14:35:16.197Z"
   },
   {
    "duration": 2590,
    "start_time": "2021-12-11T14:35:16.207Z"
   },
   {
    "duration": 2580,
    "start_time": "2021-12-11T14:35:16.218Z"
   },
   {
    "duration": 2572,
    "start_time": "2021-12-11T14:35:16.228Z"
   },
   {
    "duration": 6,
    "start_time": "2021-12-11T14:35:19.132Z"
   },
   {
    "duration": 9224,
    "start_time": "2021-12-11T14:35:20.008Z"
   },
   {
    "duration": 2722,
    "start_time": "2021-12-11T14:35:26.516Z"
   },
   {
    "duration": 6,
    "start_time": "2021-12-11T14:35:34.468Z"
   },
   {
    "duration": 8358,
    "start_time": "2021-12-11T14:35:40.327Z"
   },
   {
    "duration": 12,
    "start_time": "2021-12-11T14:36:00.833Z"
   },
   {
    "duration": 37,
    "start_time": "2021-12-11T14:37:03.595Z"
   },
   {
    "duration": 14,
    "start_time": "2021-12-11T14:38:03.928Z"
   },
   {
    "duration": 13,
    "start_time": "2021-12-11T14:38:15.245Z"
   },
   {
    "duration": 8,
    "start_time": "2021-12-11T14:38:54.423Z"
   },
   {
    "duration": 9,
    "start_time": "2021-12-11T14:41:10.558Z"
   },
   {
    "duration": 319,
    "start_time": "2021-12-11T14:42:14.355Z"
   },
   {
    "duration": 34,
    "start_time": "2021-12-11T14:42:48.547Z"
   },
   {
    "duration": 24,
    "start_time": "2021-12-11T14:47:20.556Z"
   },
   {
    "duration": 12,
    "start_time": "2021-12-11T14:47:48.429Z"
   },
   {
    "duration": 10,
    "start_time": "2021-12-11T14:48:00.819Z"
   },
   {
    "duration": 10,
    "start_time": "2021-12-11T14:51:13.195Z"
   },
   {
    "duration": 11,
    "start_time": "2021-12-11T14:51:24.492Z"
   },
   {
    "duration": 8,
    "start_time": "2021-12-11T14:53:31.299Z"
   },
   {
    "duration": 14,
    "start_time": "2021-12-11T14:55:26.813Z"
   },
   {
    "duration": 11,
    "start_time": "2021-12-11T14:56:17.396Z"
   },
   {
    "duration": 15,
    "start_time": "2021-12-11T15:22:11.787Z"
   },
   {
    "duration": 38,
    "start_time": "2021-12-11T15:22:29.800Z"
   },
   {
    "duration": 40,
    "start_time": "2021-12-11T15:23:54.946Z"
   },
   {
    "duration": 6747,
    "start_time": "2021-12-11T15:24:30.686Z"
   },
   {
    "duration": 6690,
    "start_time": "2021-12-11T15:24:37.982Z"
   },
   {
    "duration": 25,
    "start_time": "2021-12-11T15:25:19.463Z"
   },
   {
    "duration": 13,
    "start_time": "2021-12-11T15:26:39.796Z"
   },
   {
    "duration": 310,
    "start_time": "2021-12-11T15:38:11.775Z"
   },
   {
    "duration": 7,
    "start_time": "2021-12-11T15:39:25.149Z"
   },
   {
    "duration": 8,
    "start_time": "2021-12-11T15:39:29.331Z"
   },
   {
    "duration": 8,
    "start_time": "2021-12-11T15:39:42.557Z"
   },
   {
    "duration": 1686,
    "start_time": "2021-12-11T15:41:54.080Z"
   },
   {
    "duration": 17,
    "start_time": "2021-12-11T15:42:04.636Z"
   },
   {
    "duration": 11,
    "start_time": "2021-12-11T15:42:21.928Z"
   },
   {
    "duration": 10,
    "start_time": "2021-12-11T15:43:01.205Z"
   },
   {
    "duration": 10,
    "start_time": "2021-12-11T15:43:13.061Z"
   },
   {
    "duration": 9,
    "start_time": "2021-12-11T15:43:52.270Z"
   },
   {
    "duration": 9,
    "start_time": "2021-12-11T15:44:27.193Z"
   },
   {
    "duration": 11,
    "start_time": "2021-12-11T15:44:41.864Z"
   },
   {
    "duration": 10,
    "start_time": "2021-12-11T15:44:58.478Z"
   },
   {
    "duration": 9,
    "start_time": "2021-12-11T15:45:13.311Z"
   },
   {
    "duration": 7,
    "start_time": "2021-12-11T15:49:14.530Z"
   },
   {
    "duration": 493,
    "start_time": "2021-12-11T15:56:04.612Z"
   },
   {
    "duration": 488,
    "start_time": "2021-12-11T15:56:34.415Z"
   },
   {
    "duration": 508,
    "start_time": "2021-12-11T15:57:33.233Z"
   },
   {
    "duration": 26,
    "start_time": "2021-12-11T15:58:00.220Z"
   },
   {
    "duration": 307,
    "start_time": "2021-12-11T16:17:53.244Z"
   },
   {
    "duration": 13,
    "start_time": "2021-12-11T16:26:06.022Z"
   },
   {
    "duration": 27,
    "start_time": "2021-12-11T16:26:07.208Z"
   },
   {
    "duration": 31,
    "start_time": "2021-12-11T16:30:12.415Z"
   },
   {
    "duration": 39,
    "start_time": "2021-12-11T16:31:20.953Z"
   },
   {
    "duration": 40,
    "start_time": "2021-12-11T16:32:28.167Z"
   },
   {
    "duration": 31,
    "start_time": "2021-12-11T16:32:40.775Z"
   },
   {
    "duration": 30,
    "start_time": "2021-12-11T16:32:55.563Z"
   },
   {
    "duration": 295,
    "start_time": "2021-12-11T16:43:46.454Z"
   },
   {
    "duration": 8,
    "start_time": "2021-12-11T16:43:57.463Z"
   },
   {
    "duration": 10,
    "start_time": "2021-12-11T16:44:26.743Z"
   },
   {
    "duration": 158,
    "start_time": "2021-12-11T16:48:56.277Z"
   },
   {
    "duration": 14,
    "start_time": "2021-12-11T16:49:01.081Z"
   },
   {
    "duration": 36,
    "start_time": "2021-12-11T16:49:44.830Z"
   },
   {
    "duration": 12,
    "start_time": "2021-12-11T16:49:52.382Z"
   },
   {
    "duration": 36,
    "start_time": "2021-12-11T16:49:56.060Z"
   },
   {
    "duration": 35,
    "start_time": "2021-12-11T16:50:02.782Z"
   },
   {
    "duration": 19,
    "start_time": "2021-12-11T16:50:09.394Z"
   },
   {
    "duration": 12,
    "start_time": "2021-12-11T16:50:20.821Z"
   },
   {
    "duration": 12,
    "start_time": "2021-12-11T16:50:30.693Z"
   },
   {
    "duration": 14,
    "start_time": "2021-12-11T16:50:36.005Z"
   },
   {
    "duration": 84,
    "start_time": "2021-12-11T16:50:52.158Z"
   },
   {
    "duration": 12,
    "start_time": "2021-12-11T16:50:58.651Z"
   },
   {
    "duration": 32,
    "start_time": "2021-12-11T16:51:22.544Z"
   },
   {
    "duration": 35,
    "start_time": "2021-12-11T16:51:29.096Z"
   },
   {
    "duration": 34,
    "start_time": "2021-12-11T16:51:34.895Z"
   },
   {
    "duration": 35,
    "start_time": "2021-12-11T16:51:42.077Z"
   },
   {
    "duration": 19,
    "start_time": "2021-12-11T16:51:51.120Z"
   },
   {
    "duration": 21,
    "start_time": "2021-12-11T17:06:49.993Z"
   },
   {
    "duration": 19,
    "start_time": "2021-12-11T17:07:00.918Z"
   },
   {
    "duration": 35,
    "start_time": "2021-12-11T17:08:06.159Z"
   },
   {
    "duration": 34,
    "start_time": "2021-12-11T17:08:42.233Z"
   },
   {
    "duration": 20,
    "start_time": "2021-12-11T17:08:52.968Z"
   },
   {
    "duration": 33,
    "start_time": "2021-12-11T17:09:16.365Z"
   },
   {
    "duration": 34,
    "start_time": "2021-12-11T17:09:28.709Z"
   },
   {
    "duration": 19,
    "start_time": "2021-12-11T17:09:50.626Z"
   },
   {
    "duration": 296,
    "start_time": "2021-12-11T17:11:11.342Z"
   },
   {
    "duration": 7,
    "start_time": "2021-12-11T17:11:55.014Z"
   },
   {
    "duration": 37,
    "start_time": "2021-12-11T17:16:49.175Z"
   },
   {
    "duration": 35,
    "start_time": "2021-12-11T17:16:56.607Z"
   },
   {
    "duration": 36,
    "start_time": "2021-12-11T17:17:01.664Z"
   },
   {
    "duration": 30,
    "start_time": "2021-12-11T17:17:11.546Z"
   },
   {
    "duration": 90,
    "start_time": "2021-12-11T17:19:55.664Z"
   },
   {
    "duration": 6,
    "start_time": "2021-12-11T17:59:36.788Z"
   },
   {
    "duration": 4,
    "start_time": "2021-12-11T18:00:17.345Z"
   },
   {
    "duration": 20,
    "start_time": "2021-12-11T18:00:33.078Z"
   },
   {
    "duration": 22,
    "start_time": "2021-12-11T18:00:38.064Z"
   },
   {
    "duration": 6,
    "start_time": "2021-12-11T18:01:44.449Z"
   },
   {
    "duration": 16,
    "start_time": "2021-12-11T18:03:32.123Z"
   },
   {
    "duration": 133,
    "start_time": "2021-12-11T18:03:52.698Z"
   },
   {
    "duration": 309,
    "start_time": "2021-12-11T18:04:50.445Z"
   },
   {
    "duration": 19,
    "start_time": "2021-12-11T18:05:50.279Z"
   },
   {
    "duration": 317,
    "start_time": "2021-12-11T18:06:32.013Z"
   },
   {
    "duration": 22,
    "start_time": "2021-12-11T18:07:05.033Z"
   },
   {
    "duration": 308,
    "start_time": "2021-12-11T18:07:36.493Z"
   },
   {
    "duration": 17,
    "start_time": "2021-12-11T18:08:50.768Z"
   },
   {
    "duration": 21,
    "start_time": "2021-12-11T18:08:54.820Z"
   },
   {
    "duration": 22,
    "start_time": "2021-12-11T18:09:15.312Z"
   },
   {
    "duration": 138,
    "start_time": "2021-12-11T18:09:33.830Z"
   },
   {
    "duration": 21,
    "start_time": "2021-12-11T18:10:30.662Z"
   },
   {
    "duration": 130,
    "start_time": "2021-12-11T18:10:38.739Z"
   },
   {
    "duration": 17,
    "start_time": "2021-12-11T18:14:17.587Z"
   },
   {
    "duration": 34,
    "start_time": "2021-12-11T18:14:21.602Z"
   },
   {
    "duration": 7,
    "start_time": "2021-12-11T18:15:26.487Z"
   },
   {
    "duration": 19,
    "start_time": "2021-12-11T18:15:34.457Z"
   },
   {
    "duration": 9,
    "start_time": "2021-12-11T18:22:46.895Z"
   },
   {
    "duration": 7,
    "start_time": "2021-12-11T18:23:42.259Z"
   },
   {
    "duration": 32,
    "start_time": "2021-12-11T18:25:04.953Z"
   },
   {
    "duration": 17,
    "start_time": "2021-12-11T18:33:17.950Z"
   },
   {
    "duration": 33,
    "start_time": "2021-12-11T18:33:40.440Z"
   },
   {
    "duration": 8,
    "start_time": "2021-12-11T18:37:36.436Z"
   },
   {
    "duration": 39,
    "start_time": "2021-12-11T18:37:37.508Z"
   },
   {
    "duration": 378,
    "start_time": "2021-12-12T15:14:36.414Z"
   },
   {
    "duration": 646,
    "start_time": "2021-12-12T15:15:04.856Z"
   },
   {
    "duration": 20,
    "start_time": "2021-12-12T15:15:05.504Z"
   },
   {
    "duration": 11,
    "start_time": "2021-12-12T15:15:05.526Z"
   },
   {
    "duration": 4,
    "start_time": "2021-12-12T15:15:05.539Z"
   },
   {
    "duration": 12,
    "start_time": "2021-12-12T15:15:05.544Z"
   },
   {
    "duration": 13,
    "start_time": "2021-12-12T15:15:05.558Z"
   },
   {
    "duration": 39,
    "start_time": "2021-12-12T15:15:05.572Z"
   },
   {
    "duration": 7,
    "start_time": "2021-12-12T15:15:05.613Z"
   },
   {
    "duration": 9,
    "start_time": "2021-12-12T15:15:05.622Z"
   },
   {
    "duration": 16,
    "start_time": "2021-12-12T15:15:05.633Z"
   },
   {
    "duration": 7,
    "start_time": "2021-12-12T15:15:05.650Z"
   },
   {
    "duration": 9,
    "start_time": "2021-12-12T15:15:05.659Z"
   },
   {
    "duration": 40,
    "start_time": "2021-12-12T15:15:05.669Z"
   },
   {
    "duration": 14,
    "start_time": "2021-12-12T15:15:05.711Z"
   },
   {
    "duration": 10,
    "start_time": "2021-12-12T15:15:05.727Z"
   },
   {
    "duration": 4,
    "start_time": "2021-12-12T15:15:05.739Z"
   },
   {
    "duration": 6,
    "start_time": "2021-12-12T15:15:05.745Z"
   },
   {
    "duration": 8,
    "start_time": "2021-12-12T15:15:05.752Z"
   },
   {
    "duration": 48,
    "start_time": "2021-12-12T15:15:05.762Z"
   },
   {
    "duration": 8,
    "start_time": "2021-12-12T15:15:05.812Z"
   },
   {
    "duration": 8,
    "start_time": "2021-12-12T15:15:05.822Z"
   },
   {
    "duration": 9,
    "start_time": "2021-12-12T15:15:05.832Z"
   },
   {
    "duration": 11,
    "start_time": "2021-12-12T15:15:05.845Z"
   },
   {
    "duration": 54,
    "start_time": "2021-12-12T15:15:05.858Z"
   },
   {
    "duration": 4,
    "start_time": "2021-12-12T15:15:05.914Z"
   },
   {
    "duration": 5,
    "start_time": "2021-12-12T15:15:05.920Z"
   },
   {
    "duration": 13,
    "start_time": "2021-12-12T15:15:05.926Z"
   },
   {
    "duration": 4,
    "start_time": "2021-12-12T15:15:05.941Z"
   },
   {
    "duration": 5,
    "start_time": "2021-12-12T15:15:05.947Z"
   },
   {
    "duration": 61,
    "start_time": "2021-12-12T15:15:05.953Z"
   },
   {
    "duration": 14,
    "start_time": "2021-12-12T15:15:30.957Z"
   },
   {
    "duration": 9,
    "start_time": "2021-12-12T15:16:56.362Z"
   },
   {
    "duration": 8,
    "start_time": "2021-12-12T15:43:14.521Z"
   },
   {
    "duration": 165,
    "start_time": "2021-12-12T15:45:08.106Z"
   },
   {
    "duration": 9,
    "start_time": "2021-12-12T15:45:12.795Z"
   },
   {
    "duration": 23,
    "start_time": "2021-12-12T15:49:11.889Z"
   },
   {
    "duration": 7,
    "start_time": "2021-12-12T16:13:27.601Z"
   },
   {
    "duration": 8,
    "start_time": "2021-12-12T16:13:43.861Z"
   },
   {
    "duration": 6,
    "start_time": "2021-12-12T17:09:13.837Z"
   },
   {
    "duration": 26,
    "start_time": "2021-12-12T17:09:36.387Z"
   },
   {
    "duration": 31,
    "start_time": "2021-12-12T17:09:53.288Z"
   },
   {
    "duration": 396,
    "start_time": "2021-12-12T17:10:35.351Z"
   },
   {
    "duration": 349,
    "start_time": "2021-12-12T17:10:42.790Z"
   },
   {
    "duration": 23,
    "start_time": "2021-12-12T17:12:49.752Z"
   },
   {
    "duration": 32,
    "start_time": "2021-12-12T17:13:19.402Z"
   },
   {
    "duration": 18,
    "start_time": "2021-12-12T17:14:21.484Z"
   },
   {
    "duration": 17,
    "start_time": "2021-12-12T17:15:14.834Z"
   },
   {
    "duration": 19,
    "start_time": "2021-12-12T17:16:00.091Z"
   },
   {
    "duration": 10,
    "start_time": "2021-12-12T17:18:45.553Z"
   },
   {
    "duration": 362,
    "start_time": "2021-12-12T17:29:23.692Z"
   },
   {
    "duration": 23,
    "start_time": "2021-12-12T17:30:19.174Z"
   },
   {
    "duration": 16,
    "start_time": "2021-12-12T17:30:33.354Z"
   },
   {
    "duration": 15,
    "start_time": "2021-12-12T17:30:49.352Z"
   },
   {
    "duration": 17,
    "start_time": "2021-12-12T17:31:08.978Z"
   },
   {
    "duration": 356,
    "start_time": "2021-12-12T17:32:04.480Z"
   },
   {
    "duration": 353,
    "start_time": "2021-12-12T17:32:40.241Z"
   },
   {
    "duration": 7,
    "start_time": "2021-12-12T17:32:48.890Z"
   },
   {
    "duration": 7,
    "start_time": "2021-12-12T17:32:57.893Z"
   },
   {
    "duration": 8,
    "start_time": "2021-12-12T17:33:21.251Z"
   },
   {
    "duration": 284,
    "start_time": "2021-12-13T09:10:44.909Z"
   },
   {
    "duration": 693,
    "start_time": "2021-12-13T09:11:01.343Z"
   },
   {
    "duration": 20,
    "start_time": "2021-12-13T09:11:02.038Z"
   },
   {
    "duration": 11,
    "start_time": "2021-12-13T09:11:02.060Z"
   },
   {
    "duration": 6,
    "start_time": "2021-12-13T09:11:02.073Z"
   },
   {
    "duration": 14,
    "start_time": "2021-12-13T09:11:02.081Z"
   },
   {
    "duration": 20,
    "start_time": "2021-12-13T09:11:02.097Z"
   },
   {
    "duration": 12,
    "start_time": "2021-12-13T09:11:02.120Z"
   },
   {
    "duration": 29,
    "start_time": "2021-12-13T09:11:02.135Z"
   },
   {
    "duration": 10,
    "start_time": "2021-12-13T09:11:02.168Z"
   },
   {
    "duration": 21,
    "start_time": "2021-12-13T09:11:02.181Z"
   },
   {
    "duration": 10,
    "start_time": "2021-12-13T09:11:02.204Z"
   },
   {
    "duration": 10,
    "start_time": "2021-12-13T09:11:02.216Z"
   },
   {
    "duration": 42,
    "start_time": "2021-12-13T09:11:02.228Z"
   },
   {
    "duration": 15,
    "start_time": "2021-12-13T09:11:02.272Z"
   },
   {
    "duration": 19,
    "start_time": "2021-12-13T09:11:02.289Z"
   },
   {
    "duration": 5,
    "start_time": "2021-12-13T09:11:02.310Z"
   },
   {
    "duration": 10,
    "start_time": "2021-12-13T09:11:02.317Z"
   },
   {
    "duration": 10,
    "start_time": "2021-12-13T09:11:02.329Z"
   },
   {
    "duration": 25,
    "start_time": "2021-12-13T09:11:02.341Z"
   },
   {
    "duration": 13,
    "start_time": "2021-12-13T09:11:02.368Z"
   },
   {
    "duration": 11,
    "start_time": "2021-12-13T09:11:02.383Z"
   },
   {
    "duration": 8,
    "start_time": "2021-12-13T09:11:02.396Z"
   },
   {
    "duration": 25,
    "start_time": "2021-12-13T09:11:02.406Z"
   },
   {
    "duration": 5,
    "start_time": "2021-12-13T09:11:02.433Z"
   },
   {
    "duration": 35,
    "start_time": "2021-12-13T09:11:02.439Z"
   },
   {
    "duration": 32,
    "start_time": "2021-12-13T09:11:02.476Z"
   },
   {
    "duration": 391,
    "start_time": "2021-12-13T09:11:02.511Z"
   },
   {
    "duration": -1714,
    "start_time": "2021-12-13T09:11:04.618Z"
   },
   {
    "duration": -1773,
    "start_time": "2021-12-13T09:11:04.677Z"
   },
   {
    "duration": -1802,
    "start_time": "2021-12-13T09:11:04.707Z"
   },
   {
    "duration": -1822,
    "start_time": "2021-12-13T09:11:04.729Z"
   },
   {
    "duration": -1844,
    "start_time": "2021-12-13T09:11:04.752Z"
   },
   {
    "duration": -1866,
    "start_time": "2021-12-13T09:11:04.775Z"
   },
   {
    "duration": -1884,
    "start_time": "2021-12-13T09:11:04.794Z"
   },
   {
    "duration": -1904,
    "start_time": "2021-12-13T09:11:04.816Z"
   },
   {
    "duration": 23,
    "start_time": "2021-12-13T09:12:20.634Z"
   },
   {
    "duration": 252,
    "start_time": "2021-12-13T09:13:13.745Z"
   },
   {
    "duration": 430,
    "start_time": "2021-12-13T09:13:50.581Z"
   },
   {
    "duration": 274,
    "start_time": "2021-12-13T09:29:36.987Z"
   },
   {
    "duration": 260,
    "start_time": "2021-12-13T09:31:48.573Z"
   },
   {
    "duration": 257,
    "start_time": "2021-12-13T09:32:19.525Z"
   },
   {
    "duration": 253,
    "start_time": "2021-12-13T09:32:32.304Z"
   },
   {
    "duration": 19,
    "start_time": "2021-12-13T09:33:52.772Z"
   },
   {
    "duration": 110,
    "start_time": "2021-12-13T09:43:42.932Z"
   },
   {
    "duration": 8,
    "start_time": "2021-12-13T09:43:56.099Z"
   },
   {
    "duration": 274,
    "start_time": "2021-12-13T09:44:09.293Z"
   },
   {
    "duration": 15,
    "start_time": "2021-12-13T09:44:17.251Z"
   },
   {
    "duration": 10,
    "start_time": "2021-12-13T09:44:33.263Z"
   },
   {
    "duration": 12,
    "start_time": "2021-12-13T09:44:37.609Z"
   },
   {
    "duration": 8,
    "start_time": "2021-12-13T09:44:51.671Z"
   },
   {
    "duration": 80,
    "start_time": "2021-12-13T09:45:01.153Z"
   },
   {
    "duration": 9,
    "start_time": "2021-12-13T09:48:57.531Z"
   },
   {
    "duration": 79,
    "start_time": "2021-12-13T09:48:58.591Z"
   },
   {
    "duration": 11,
    "start_time": "2021-12-13T09:49:59.959Z"
   },
   {
    "duration": 78,
    "start_time": "2021-12-13T09:50:00.793Z"
   },
   {
    "duration": 51,
    "start_time": "2021-12-13T09:50:05.548Z"
   },
   {
    "duration": 14,
    "start_time": "2021-12-13T09:50:05.601Z"
   },
   {
    "duration": 16,
    "start_time": "2021-12-13T09:50:05.617Z"
   },
   {
    "duration": 4,
    "start_time": "2021-12-13T09:50:05.635Z"
   },
   {
    "duration": 28,
    "start_time": "2021-12-13T09:50:05.640Z"
   },
   {
    "duration": 13,
    "start_time": "2021-12-13T09:50:05.670Z"
   },
   {
    "duration": 13,
    "start_time": "2021-12-13T09:50:05.685Z"
   },
   {
    "duration": 7,
    "start_time": "2021-12-13T09:50:05.700Z"
   },
   {
    "duration": 13,
    "start_time": "2021-12-13T09:50:05.709Z"
   },
   {
    "duration": 47,
    "start_time": "2021-12-13T09:50:05.724Z"
   },
   {
    "duration": 9,
    "start_time": "2021-12-13T09:50:05.773Z"
   },
   {
    "duration": 13,
    "start_time": "2021-12-13T09:50:05.784Z"
   },
   {
    "duration": 9,
    "start_time": "2021-12-13T09:50:05.799Z"
   },
   {
    "duration": 16,
    "start_time": "2021-12-13T09:50:05.810Z"
   },
   {
    "duration": 37,
    "start_time": "2021-12-13T09:50:05.828Z"
   },
   {
    "duration": 7,
    "start_time": "2021-12-13T09:50:05.867Z"
   },
   {
    "duration": 8,
    "start_time": "2021-12-13T09:50:05.876Z"
   },
   {
    "duration": 12,
    "start_time": "2021-12-13T09:50:05.886Z"
   },
   {
    "duration": 26,
    "start_time": "2021-12-13T09:50:05.900Z"
   },
   {
    "duration": 11,
    "start_time": "2021-12-13T09:50:05.927Z"
   },
   {
    "duration": 19,
    "start_time": "2021-12-13T09:50:05.940Z"
   },
   {
    "duration": 11,
    "start_time": "2021-12-13T09:50:05.961Z"
   },
   {
    "duration": 17,
    "start_time": "2021-12-13T09:50:05.974Z"
   },
   {
    "duration": 5,
    "start_time": "2021-12-13T09:50:05.993Z"
   },
   {
    "duration": 7,
    "start_time": "2021-12-13T09:50:06.000Z"
   },
   {
    "duration": 24,
    "start_time": "2021-12-13T09:50:06.008Z"
   },
   {
    "duration": 11,
    "start_time": "2021-12-13T09:50:06.221Z"
   },
   {
    "duration": 17,
    "start_time": "2021-12-13T09:50:06.234Z"
   },
   {
    "duration": 4,
    "start_time": "2021-12-13T09:50:06.253Z"
   },
   {
    "duration": 10,
    "start_time": "2021-12-13T09:50:06.259Z"
   },
   {
    "duration": 24,
    "start_time": "2021-12-13T09:50:06.271Z"
   },
   {
    "duration": 11,
    "start_time": "2021-12-13T09:50:06.296Z"
   },
   {
    "duration": 10,
    "start_time": "2021-12-13T09:50:06.308Z"
   },
   {
    "duration": 35,
    "start_time": "2021-12-13T09:50:06.320Z"
   },
   {
    "duration": 6,
    "start_time": "2021-12-13T09:53:46.710Z"
   },
   {
    "duration": 268,
    "start_time": "2021-12-13T10:04:31.905Z"
   },
   {
    "duration": 389,
    "start_time": "2021-12-13T10:04:43.631Z"
   },
   {
    "duration": 252,
    "start_time": "2021-12-13T10:04:50.635Z"
   },
   {
    "duration": 53,
    "start_time": "2021-12-13T10:04:59.773Z"
   },
   {
    "duration": 14,
    "start_time": "2021-12-13T10:04:59.828Z"
   },
   {
    "duration": 25,
    "start_time": "2021-12-13T10:04:59.844Z"
   },
   {
    "duration": 4,
    "start_time": "2021-12-13T10:04:59.871Z"
   },
   {
    "duration": 15,
    "start_time": "2021-12-13T10:04:59.876Z"
   },
   {
    "duration": 14,
    "start_time": "2021-12-13T10:04:59.893Z"
   },
   {
    "duration": 14,
    "start_time": "2021-12-13T10:04:59.909Z"
   },
   {
    "duration": 40,
    "start_time": "2021-12-13T10:04:59.925Z"
   },
   {
    "duration": 10,
    "start_time": "2021-12-13T10:04:59.967Z"
   },
   {
    "duration": 16,
    "start_time": "2021-12-13T10:04:59.979Z"
   },
   {
    "duration": 10,
    "start_time": "2021-12-13T10:04:59.997Z"
   },
   {
    "duration": 10,
    "start_time": "2021-12-13T10:05:00.009Z"
   },
   {
    "duration": 50,
    "start_time": "2021-12-13T10:05:00.021Z"
   },
   {
    "duration": 24,
    "start_time": "2021-12-13T10:05:00.073Z"
   },
   {
    "duration": 10,
    "start_time": "2021-12-13T10:05:00.099Z"
   },
   {
    "duration": 14,
    "start_time": "2021-12-13T10:05:00.111Z"
   },
   {
    "duration": 17,
    "start_time": "2021-12-13T10:05:00.127Z"
   },
   {
    "duration": 29,
    "start_time": "2021-12-13T10:05:00.145Z"
   },
   {
    "duration": 13,
    "start_time": "2021-12-13T10:05:00.176Z"
   },
   {
    "duration": 15,
    "start_time": "2021-12-13T10:05:00.190Z"
   },
   {
    "duration": 22,
    "start_time": "2021-12-13T10:05:00.207Z"
   },
   {
    "duration": 14,
    "start_time": "2021-12-13T10:05:00.231Z"
   },
   {
    "duration": 33,
    "start_time": "2021-12-13T10:05:00.248Z"
   },
   {
    "duration": 6,
    "start_time": "2021-12-13T10:05:00.283Z"
   },
   {
    "duration": 19,
    "start_time": "2021-12-13T10:05:00.291Z"
   },
   {
    "duration": 27,
    "start_time": "2021-12-13T10:05:00.312Z"
   },
   {
    "duration": 35,
    "start_time": "2021-12-13T10:05:00.340Z"
   },
   {
    "duration": 275,
    "start_time": "2021-12-13T10:05:00.378Z"
   },
   {
    "duration": -2500,
    "start_time": "2021-12-13T10:05:03.156Z"
   },
   {
    "duration": -2539,
    "start_time": "2021-12-13T10:05:03.196Z"
   },
   {
    "duration": -2584,
    "start_time": "2021-12-13T10:05:03.243Z"
   },
   {
    "duration": -2631,
    "start_time": "2021-12-13T10:05:03.292Z"
   },
   {
    "duration": -2658,
    "start_time": "2021-12-13T10:05:03.320Z"
   },
   {
    "duration": -2696,
    "start_time": "2021-12-13T10:05:03.359Z"
   },
   {
    "duration": 20,
    "start_time": "2021-12-13T10:05:18.567Z"
   },
   {
    "duration": 80,
    "start_time": "2021-12-13T10:06:04.048Z"
   },
   {
    "duration": 17,
    "start_time": "2021-12-13T10:06:11.926Z"
   },
   {
    "duration": 18,
    "start_time": "2021-12-13T10:06:44.648Z"
   },
   {
    "duration": 20,
    "start_time": "2021-12-13T10:08:30.031Z"
   },
   {
    "duration": 32,
    "start_time": "2021-12-13T10:08:51.568Z"
   },
   {
    "duration": 18,
    "start_time": "2021-12-13T10:09:05.242Z"
   },
   {
    "duration": 19,
    "start_time": "2021-12-13T10:10:17.424Z"
   },
   {
    "duration": 21,
    "start_time": "2021-12-13T10:13:17.832Z"
   },
   {
    "duration": 20,
    "start_time": "2021-12-13T10:14:33.104Z"
   },
   {
    "duration": 18,
    "start_time": "2021-12-13T10:15:16.539Z"
   },
   {
    "duration": 11,
    "start_time": "2021-12-13T10:15:19.374Z"
   },
   {
    "duration": 17,
    "start_time": "2021-12-13T10:15:20.136Z"
   },
   {
    "duration": 138,
    "start_time": "2021-12-13T11:03:19.782Z"
   },
   {
    "duration": 410,
    "start_time": "2021-12-13T11:03:36.617Z"
   },
   {
    "duration": 430,
    "start_time": "2021-12-13T11:05:32.779Z"
   },
   {
    "duration": 470,
    "start_time": "2021-12-13T11:06:02.722Z"
   },
   {
    "duration": 6,
    "start_time": "2021-12-13T11:38:49.978Z"
   },
   {
    "duration": 3563,
    "start_time": "2021-12-13T11:40:36.323Z"
   },
   {
    "duration": 3289,
    "start_time": "2021-12-13T11:40:59.583Z"
   },
   {
    "duration": 3211,
    "start_time": "2021-12-13T11:41:03.410Z"
   },
   {
    "duration": 50,
    "start_time": "2021-12-13T11:41:11.816Z"
   },
   {
    "duration": 13,
    "start_time": "2021-12-13T11:41:11.868Z"
   },
   {
    "duration": 12,
    "start_time": "2021-12-13T11:41:11.883Z"
   },
   {
    "duration": 8,
    "start_time": "2021-12-13T11:41:11.896Z"
   },
   {
    "duration": 25,
    "start_time": "2021-12-13T11:41:11.905Z"
   },
   {
    "duration": 12,
    "start_time": "2021-12-13T11:41:11.932Z"
   },
   {
    "duration": 30,
    "start_time": "2021-12-13T11:41:11.945Z"
   },
   {
    "duration": 9,
    "start_time": "2021-12-13T11:41:11.977Z"
   },
   {
    "duration": 8,
    "start_time": "2021-12-13T11:41:11.988Z"
   },
   {
    "duration": 14,
    "start_time": "2021-12-13T11:41:11.998Z"
   },
   {
    "duration": 8,
    "start_time": "2021-12-13T11:41:12.014Z"
   },
   {
    "duration": 48,
    "start_time": "2021-12-13T11:41:12.024Z"
   },
   {
    "duration": 11,
    "start_time": "2021-12-13T11:41:12.074Z"
   },
   {
    "duration": 14,
    "start_time": "2021-12-13T11:41:12.088Z"
   },
   {
    "duration": 7,
    "start_time": "2021-12-13T11:41:12.104Z"
   },
   {
    "duration": 7,
    "start_time": "2021-12-13T11:41:12.112Z"
   },
   {
    "duration": 12,
    "start_time": "2021-12-13T11:41:12.120Z"
   },
   {
    "duration": 6,
    "start_time": "2021-12-13T11:41:12.164Z"
   },
   {
    "duration": 6,
    "start_time": "2021-12-13T11:41:12.172Z"
   },
   {
    "duration": 10,
    "start_time": "2021-12-13T11:41:12.179Z"
   },
   {
    "duration": 13,
    "start_time": "2021-12-13T11:41:12.190Z"
   },
   {
    "duration": 14,
    "start_time": "2021-12-13T11:41:12.204Z"
   },
   {
    "duration": 49,
    "start_time": "2021-12-13T11:41:12.219Z"
   },
   {
    "duration": 6,
    "start_time": "2021-12-13T11:41:12.269Z"
   },
   {
    "duration": 7,
    "start_time": "2021-12-13T11:41:12.278Z"
   },
   {
    "duration": 17,
    "start_time": "2021-12-13T11:41:12.287Z"
   },
   {
    "duration": 9,
    "start_time": "2021-12-13T11:41:12.305Z"
   },
   {
    "duration": 21,
    "start_time": "2021-12-13T11:41:12.316Z"
   },
   {
    "duration": 27,
    "start_time": "2021-12-13T11:41:12.339Z"
   },
   {
    "duration": 6,
    "start_time": "2021-12-13T11:41:12.368Z"
   },
   {
    "duration": 15,
    "start_time": "2021-12-13T11:41:12.375Z"
   },
   {
    "duration": 4,
    "start_time": "2021-12-13T11:41:12.392Z"
   },
   {
    "duration": 8,
    "start_time": "2021-12-13T11:41:12.397Z"
   },
   {
    "duration": 26,
    "start_time": "2021-12-13T11:41:12.406Z"
   },
   {
    "duration": 254,
    "start_time": "2021-12-13T11:41:12.528Z"
   },
   {
    "duration": -1906,
    "start_time": "2021-12-13T11:41:14.690Z"
   },
   {
    "duration": 430,
    "start_time": "2021-12-13T11:42:04.522Z"
   },
   {
    "duration": 3254,
    "start_time": "2021-12-13T11:44:35.893Z"
   },
   {
    "duration": 246,
    "start_time": "2021-12-13T12:00:59.201Z"
   },
   {
    "duration": 4897,
    "start_time": "2021-12-13T12:01:06.210Z"
   },
   {
    "duration": 4388,
    "start_time": "2021-12-13T12:01:34.571Z"
   },
   {
    "duration": 3130,
    "start_time": "2021-12-13T12:02:50.823Z"
   },
   {
    "duration": 52,
    "start_time": "2021-12-13T12:03:03.713Z"
   },
   {
    "duration": 12,
    "start_time": "2021-12-13T12:03:03.767Z"
   },
   {
    "duration": 11,
    "start_time": "2021-12-13T12:03:03.782Z"
   },
   {
    "duration": 4,
    "start_time": "2021-12-13T12:03:03.795Z"
   },
   {
    "duration": 11,
    "start_time": "2021-12-13T12:03:03.801Z"
   },
   {
    "duration": 56,
    "start_time": "2021-12-13T12:03:03.813Z"
   },
   {
    "duration": 12,
    "start_time": "2021-12-13T12:03:03.871Z"
   },
   {
    "duration": 9,
    "start_time": "2021-12-13T12:03:03.884Z"
   },
   {
    "duration": 9,
    "start_time": "2021-12-13T12:03:03.896Z"
   },
   {
    "duration": 18,
    "start_time": "2021-12-13T12:03:03.907Z"
   },
   {
    "duration": 39,
    "start_time": "2021-12-13T12:03:03.927Z"
   },
   {
    "duration": 13,
    "start_time": "2021-12-13T12:03:03.968Z"
   },
   {
    "duration": 8,
    "start_time": "2021-12-13T12:03:03.983Z"
   },
   {
    "duration": 17,
    "start_time": "2021-12-13T12:03:03.992Z"
   },
   {
    "duration": 9,
    "start_time": "2021-12-13T12:03:04.011Z"
   },
   {
    "duration": 43,
    "start_time": "2021-12-13T12:03:04.022Z"
   },
   {
    "duration": 7,
    "start_time": "2021-12-13T12:03:04.068Z"
   },
   {
    "duration": 6,
    "start_time": "2021-12-13T12:03:04.077Z"
   },
   {
    "duration": 10,
    "start_time": "2021-12-13T12:03:04.084Z"
   },
   {
    "duration": 11,
    "start_time": "2021-12-13T12:03:04.096Z"
   },
   {
    "duration": 14,
    "start_time": "2021-12-13T12:03:04.109Z"
   },
   {
    "duration": 9,
    "start_time": "2021-12-13T12:03:04.125Z"
   },
   {
    "duration": 39,
    "start_time": "2021-12-13T12:03:04.135Z"
   },
   {
    "duration": 5,
    "start_time": "2021-12-13T12:03:04.175Z"
   },
   {
    "duration": 10,
    "start_time": "2021-12-13T12:03:04.181Z"
   },
   {
    "duration": 19,
    "start_time": "2021-12-13T12:03:04.192Z"
   },
   {
    "duration": 10,
    "start_time": "2021-12-13T12:03:04.214Z"
   },
   {
    "duration": 45,
    "start_time": "2021-12-13T12:03:04.226Z"
   },
   {
    "duration": 4,
    "start_time": "2021-12-13T12:03:04.272Z"
   },
   {
    "duration": 7,
    "start_time": "2021-12-13T12:03:04.278Z"
   },
   {
    "duration": 17,
    "start_time": "2021-12-13T12:03:04.287Z"
   },
   {
    "duration": 5,
    "start_time": "2021-12-13T12:03:04.305Z"
   },
   {
    "duration": 6,
    "start_time": "2021-12-13T12:03:04.312Z"
   },
   {
    "duration": 49,
    "start_time": "2021-12-13T12:03:04.320Z"
   },
   {
    "duration": 14,
    "start_time": "2021-12-13T12:03:04.370Z"
   },
   {
    "duration": 469,
    "start_time": "2021-12-13T12:03:04.385Z"
   },
   {
    "duration": 1100,
    "start_time": "2021-12-13T12:17:05.509Z"
   },
   {
    "duration": 304,
    "start_time": "2021-12-13T12:17:23.616Z"
   },
   {
    "duration": 49,
    "start_time": "2021-12-13T12:17:34.358Z"
   },
   {
    "duration": 12,
    "start_time": "2021-12-13T12:17:34.409Z"
   },
   {
    "duration": 11,
    "start_time": "2021-12-13T12:17:34.423Z"
   },
   {
    "duration": 4,
    "start_time": "2021-12-13T12:17:34.436Z"
   },
   {
    "duration": 24,
    "start_time": "2021-12-13T12:17:34.442Z"
   },
   {
    "duration": 13,
    "start_time": "2021-12-13T12:17:34.467Z"
   },
   {
    "duration": 11,
    "start_time": "2021-12-13T12:17:34.482Z"
   },
   {
    "duration": 9,
    "start_time": "2021-12-13T12:17:34.494Z"
   },
   {
    "duration": 11,
    "start_time": "2021-12-13T12:17:34.504Z"
   },
   {
    "duration": 47,
    "start_time": "2021-12-13T12:17:34.517Z"
   },
   {
    "duration": 8,
    "start_time": "2021-12-13T12:17:34.567Z"
   },
   {
    "duration": 9,
    "start_time": "2021-12-13T12:17:34.577Z"
   },
   {
    "duration": 8,
    "start_time": "2021-12-13T12:17:34.588Z"
   },
   {
    "duration": 17,
    "start_time": "2021-12-13T12:17:34.597Z"
   },
   {
    "duration": 8,
    "start_time": "2021-12-13T12:17:34.616Z"
   },
   {
    "duration": 41,
    "start_time": "2021-12-13T12:17:34.625Z"
   },
   {
    "duration": 7,
    "start_time": "2021-12-13T12:17:34.669Z"
   },
   {
    "duration": 8,
    "start_time": "2021-12-13T12:17:34.677Z"
   },
   {
    "duration": 8,
    "start_time": "2021-12-13T12:17:34.687Z"
   },
   {
    "duration": 15,
    "start_time": "2021-12-13T12:17:34.697Z"
   },
   {
    "duration": 11,
    "start_time": "2021-12-13T12:17:34.714Z"
   },
   {
    "duration": 41,
    "start_time": "2021-12-13T12:17:34.727Z"
   },
   {
    "duration": 18,
    "start_time": "2021-12-13T12:17:34.769Z"
   },
   {
    "duration": 5,
    "start_time": "2021-12-13T12:17:34.788Z"
   },
   {
    "duration": 6,
    "start_time": "2021-12-13T12:17:34.794Z"
   },
   {
    "duration": 25,
    "start_time": "2021-12-13T12:17:34.802Z"
   },
   {
    "duration": 35,
    "start_time": "2021-12-13T12:17:34.829Z"
   },
   {
    "duration": 16,
    "start_time": "2021-12-13T12:17:34.866Z"
   },
   {
    "duration": 5,
    "start_time": "2021-12-13T12:17:34.884Z"
   },
   {
    "duration": 11,
    "start_time": "2021-12-13T12:17:34.891Z"
   },
   {
    "duration": 16,
    "start_time": "2021-12-13T12:17:34.904Z"
   },
   {
    "duration": 9,
    "start_time": "2021-12-13T12:17:34.922Z"
   },
   {
    "duration": 32,
    "start_time": "2021-12-13T12:17:34.932Z"
   },
   {
    "duration": 21,
    "start_time": "2021-12-13T12:17:34.966Z"
   },
   {
    "duration": 13,
    "start_time": "2021-12-13T12:17:34.989Z"
   },
   {
    "duration": 261,
    "start_time": "2021-12-13T12:17:35.003Z"
   },
   {
    "duration": 326,
    "start_time": "2021-12-13T12:31:24.201Z"
   },
   {
    "duration": 50,
    "start_time": "2021-12-13T12:31:40.760Z"
   },
   {
    "duration": 13,
    "start_time": "2021-12-13T12:31:40.813Z"
   },
   {
    "duration": 16,
    "start_time": "2021-12-13T12:31:40.828Z"
   },
   {
    "duration": 4,
    "start_time": "2021-12-13T12:31:40.846Z"
   },
   {
    "duration": 14,
    "start_time": "2021-12-13T12:31:40.864Z"
   },
   {
    "duration": 19,
    "start_time": "2021-12-13T12:31:40.880Z"
   },
   {
    "duration": 18,
    "start_time": "2021-12-13T12:31:40.902Z"
   },
   {
    "duration": 42,
    "start_time": "2021-12-13T12:31:40.923Z"
   },
   {
    "duration": 11,
    "start_time": "2021-12-13T12:31:40.967Z"
   },
   {
    "duration": 23,
    "start_time": "2021-12-13T12:31:40.980Z"
   },
   {
    "duration": 11,
    "start_time": "2021-12-13T12:31:41.005Z"
   },
   {
    "duration": 10,
    "start_time": "2021-12-13T12:31:41.018Z"
   },
   {
    "duration": 10,
    "start_time": "2021-12-13T12:31:41.065Z"
   },
   {
    "duration": 16,
    "start_time": "2021-12-13T12:31:41.077Z"
   },
   {
    "duration": 8,
    "start_time": "2021-12-13T12:31:41.097Z"
   },
   {
    "duration": 4,
    "start_time": "2021-12-13T12:31:41.108Z"
   },
   {
    "duration": 50,
    "start_time": "2021-12-13T12:31:41.114Z"
   },
   {
    "duration": 10,
    "start_time": "2021-12-13T12:31:41.166Z"
   },
   {
    "duration": 8,
    "start_time": "2021-12-13T12:31:41.178Z"
   },
   {
    "duration": 13,
    "start_time": "2021-12-13T12:31:41.187Z"
   },
   {
    "duration": 11,
    "start_time": "2021-12-13T12:31:41.202Z"
   },
   {
    "duration": 15,
    "start_time": "2021-12-13T12:31:41.214Z"
   },
   {
    "duration": 51,
    "start_time": "2021-12-13T12:31:41.231Z"
   },
   {
    "duration": 9,
    "start_time": "2021-12-13T12:31:41.284Z"
   },
   {
    "duration": 12,
    "start_time": "2021-12-13T12:31:41.296Z"
   },
   {
    "duration": 66,
    "start_time": "2021-12-13T12:31:41.311Z"
   },
   {
    "duration": 13,
    "start_time": "2021-12-13T12:31:41.379Z"
   },
   {
    "duration": 24,
    "start_time": "2021-12-13T12:31:41.395Z"
   },
   {
    "duration": 6,
    "start_time": "2021-12-13T12:31:41.421Z"
   },
   {
    "duration": 5,
    "start_time": "2021-12-13T12:31:41.428Z"
   },
   {
    "duration": 41,
    "start_time": "2021-12-13T12:31:41.435Z"
   },
   {
    "duration": 6,
    "start_time": "2021-12-13T12:31:41.480Z"
   },
   {
    "duration": 8,
    "start_time": "2021-12-13T12:31:41.488Z"
   },
   {
    "duration": 27,
    "start_time": "2021-12-13T12:31:41.499Z"
   },
   {
    "duration": 24,
    "start_time": "2021-12-13T12:31:41.564Z"
   },
   {
    "duration": 371,
    "start_time": "2021-12-13T12:31:41.590Z"
   },
   {
    "duration": 294,
    "start_time": "2021-12-13T12:32:02.629Z"
   },
   {
    "duration": 404,
    "start_time": "2021-12-13T12:34:46.410Z"
   },
   {
    "duration": 271,
    "start_time": "2021-12-13T12:35:52.196Z"
   },
   {
    "duration": 281,
    "start_time": "2021-12-13T12:36:19.208Z"
   },
   {
    "duration": 301,
    "start_time": "2021-12-13T12:37:19.225Z"
   },
   {
    "duration": 379,
    "start_time": "2021-12-13T12:37:38.730Z"
   },
   {
    "duration": 263,
    "start_time": "2021-12-13T12:38:48.723Z"
   },
   {
    "duration": 106,
    "start_time": "2021-12-13T12:39:40.996Z"
   },
   {
    "duration": 227,
    "start_time": "2021-12-13T12:39:46.146Z"
   },
   {
    "duration": 102,
    "start_time": "2021-12-13T12:40:02.135Z"
   },
   {
    "duration": 31,
    "start_time": "2021-12-13T12:40:09.383Z"
   },
   {
    "duration": 80,
    "start_time": "2021-12-13T12:41:03.735Z"
   },
   {
    "duration": 79,
    "start_time": "2021-12-13T12:41:21.041Z"
   },
   {
    "duration": 77,
    "start_time": "2021-12-13T12:41:29.033Z"
   },
   {
    "duration": 386,
    "start_time": "2021-12-13T12:41:37.294Z"
   },
   {
    "duration": 275,
    "start_time": "2021-12-13T12:41:54.740Z"
   },
   {
    "duration": 255,
    "start_time": "2021-12-13T12:42:26.956Z"
   },
   {
    "duration": 2960,
    "start_time": "2021-12-13T12:46:51.100Z"
   },
   {
    "duration": 7,
    "start_time": "2021-12-13T12:47:46.839Z"
   },
   {
    "duration": 247,
    "start_time": "2021-12-13T12:48:43.693Z"
   },
   {
    "duration": 22,
    "start_time": "2021-12-13T12:51:42.073Z"
   },
   {
    "duration": 14,
    "start_time": "2021-12-13T12:52:07.929Z"
   },
   {
    "duration": 258,
    "start_time": "2021-12-13T12:53:39.885Z"
   },
   {
    "duration": 68,
    "start_time": "2021-12-13T12:54:01.685Z"
   },
   {
    "duration": 18,
    "start_time": "2021-12-13T12:54:01.756Z"
   },
   {
    "duration": 41,
    "start_time": "2021-12-13T12:54:01.776Z"
   },
   {
    "duration": 21,
    "start_time": "2021-12-13T12:54:01.820Z"
   },
   {
    "duration": 17,
    "start_time": "2021-12-13T12:54:01.843Z"
   },
   {
    "duration": 17,
    "start_time": "2021-12-13T12:54:01.862Z"
   },
   {
    "duration": 22,
    "start_time": "2021-12-13T12:54:01.888Z"
   },
   {
    "duration": 7,
    "start_time": "2021-12-13T12:54:01.919Z"
   },
   {
    "duration": 10,
    "start_time": "2021-12-13T12:54:01.966Z"
   },
   {
    "duration": 33,
    "start_time": "2021-12-13T12:54:01.981Z"
   },
   {
    "duration": 22,
    "start_time": "2021-12-13T12:54:02.016Z"
   },
   {
    "duration": 17,
    "start_time": "2021-12-13T12:54:02.040Z"
   },
   {
    "duration": 19,
    "start_time": "2021-12-13T12:54:02.059Z"
   },
   {
    "duration": 39,
    "start_time": "2021-12-13T12:54:02.081Z"
   },
   {
    "duration": 19,
    "start_time": "2021-12-13T12:54:02.122Z"
   },
   {
    "duration": 18,
    "start_time": "2021-12-13T12:54:02.144Z"
   },
   {
    "duration": 16,
    "start_time": "2021-12-13T12:54:02.166Z"
   },
   {
    "duration": 7,
    "start_time": "2021-12-13T12:54:02.215Z"
   },
   {
    "duration": 21,
    "start_time": "2021-12-13T12:54:02.235Z"
   },
   {
    "duration": 22,
    "start_time": "2021-12-13T12:54:02.258Z"
   },
   {
    "duration": 23,
    "start_time": "2021-12-13T12:54:02.281Z"
   },
   {
    "duration": 23,
    "start_time": "2021-12-13T12:54:02.306Z"
   },
   {
    "duration": 25,
    "start_time": "2021-12-13T12:54:02.331Z"
   },
   {
    "duration": 8,
    "start_time": "2021-12-13T12:54:02.358Z"
   },
   {
    "duration": 25,
    "start_time": "2021-12-13T12:54:02.368Z"
   },
   {
    "duration": 21,
    "start_time": "2021-12-13T12:54:02.395Z"
   },
   {
    "duration": 12,
    "start_time": "2021-12-13T12:54:02.419Z"
   },
   {
    "duration": 30,
    "start_time": "2021-12-13T12:54:02.433Z"
   },
   {
    "duration": 5,
    "start_time": "2021-12-13T12:54:02.466Z"
   },
   {
    "duration": 15,
    "start_time": "2021-12-13T12:54:02.473Z"
   },
   {
    "duration": 18,
    "start_time": "2021-12-13T12:54:02.491Z"
   },
   {
    "duration": 8,
    "start_time": "2021-12-13T12:54:02.511Z"
   },
   {
    "duration": 16,
    "start_time": "2021-12-13T12:54:02.521Z"
   },
   {
    "duration": 38,
    "start_time": "2021-12-13T12:54:02.542Z"
   },
   {
    "duration": 15,
    "start_time": "2021-12-13T12:54:02.583Z"
   },
   {
    "duration": 11,
    "start_time": "2021-12-13T12:54:02.600Z"
   },
   {
    "duration": 11,
    "start_time": "2021-12-13T12:54:02.616Z"
   },
   {
    "duration": 2992,
    "start_time": "2021-12-13T12:54:40.871Z"
   },
   {
    "duration": 3072,
    "start_time": "2021-12-13T12:54:55.088Z"
   },
   {
    "duration": 3208,
    "start_time": "2021-12-13T12:55:01.710Z"
   },
   {
    "duration": 3509,
    "start_time": "2021-12-13T12:55:23.319Z"
   },
   {
    "duration": 3421,
    "start_time": "2021-12-13T12:55:44.250Z"
   },
   {
    "duration": 5458,
    "start_time": "2021-12-13T13:01:21.863Z"
   },
   {
    "duration": 4142,
    "start_time": "2021-12-13T13:01:36.013Z"
   },
   {
    "duration": 60,
    "start_time": "2021-12-13T13:01:43.618Z"
   },
   {
    "duration": 13,
    "start_time": "2021-12-13T13:01:43.680Z"
   },
   {
    "duration": 14,
    "start_time": "2021-12-13T13:01:43.696Z"
   },
   {
    "duration": 5,
    "start_time": "2021-12-13T13:01:43.712Z"
   },
   {
    "duration": 44,
    "start_time": "2021-12-13T13:01:43.719Z"
   },
   {
    "duration": 18,
    "start_time": "2021-12-13T13:01:43.767Z"
   },
   {
    "duration": 15,
    "start_time": "2021-12-13T13:01:43.787Z"
   },
   {
    "duration": 17,
    "start_time": "2021-12-13T13:01:43.804Z"
   },
   {
    "duration": 45,
    "start_time": "2021-12-13T13:01:43.823Z"
   },
   {
    "duration": 20,
    "start_time": "2021-12-13T13:01:43.871Z"
   },
   {
    "duration": 7,
    "start_time": "2021-12-13T13:01:43.893Z"
   },
   {
    "duration": 12,
    "start_time": "2021-12-13T13:01:43.902Z"
   },
   {
    "duration": 8,
    "start_time": "2021-12-13T13:01:43.916Z"
   },
   {
    "duration": 20,
    "start_time": "2021-12-13T13:01:43.966Z"
   },
   {
    "duration": 11,
    "start_time": "2021-12-13T13:01:43.991Z"
   },
   {
    "duration": 5,
    "start_time": "2021-12-13T13:01:44.005Z"
   },
   {
    "duration": 15,
    "start_time": "2021-12-13T13:01:44.012Z"
   },
   {
    "duration": 42,
    "start_time": "2021-12-13T13:01:44.029Z"
   },
   {
    "duration": 15,
    "start_time": "2021-12-13T13:01:44.073Z"
   },
   {
    "duration": 20,
    "start_time": "2021-12-13T13:01:44.090Z"
   },
   {
    "duration": 13,
    "start_time": "2021-12-13T13:01:44.113Z"
   },
   {
    "duration": 41,
    "start_time": "2021-12-13T13:01:44.129Z"
   },
   {
    "duration": 26,
    "start_time": "2021-12-13T13:01:44.172Z"
   },
   {
    "duration": 12,
    "start_time": "2021-12-13T13:01:44.200Z"
   },
   {
    "duration": 12,
    "start_time": "2021-12-13T13:01:44.214Z"
   },
   {
    "duration": 27,
    "start_time": "2021-12-13T13:01:44.265Z"
   },
   {
    "duration": 17,
    "start_time": "2021-12-13T13:01:44.295Z"
   },
   {
    "duration": 50,
    "start_time": "2021-12-13T13:01:44.315Z"
   },
   {
    "duration": 6,
    "start_time": "2021-12-13T13:01:44.367Z"
   },
   {
    "duration": 15,
    "start_time": "2021-12-13T13:01:44.376Z"
   },
   {
    "duration": 13,
    "start_time": "2021-12-13T13:01:44.393Z"
   },
   {
    "duration": 5,
    "start_time": "2021-12-13T13:01:44.408Z"
   },
   {
    "duration": 7,
    "start_time": "2021-12-13T13:01:44.414Z"
   },
   {
    "duration": 66,
    "start_time": "2021-12-13T13:01:44.423Z"
   },
   {
    "duration": 23,
    "start_time": "2021-12-13T13:01:44.491Z"
   },
   {
    "duration": 15,
    "start_time": "2021-12-13T13:01:44.517Z"
   },
   {
    "duration": 32,
    "start_time": "2021-12-13T13:01:44.535Z"
   },
   {
    "duration": 8,
    "start_time": "2021-12-13T13:03:27.617Z"
   },
   {
    "duration": 22,
    "start_time": "2021-12-13T13:04:25.083Z"
   },
   {
    "duration": 17,
    "start_time": "2021-12-13T13:05:28.819Z"
   },
   {
    "duration": 54,
    "start_time": "2021-12-13T13:06:02.209Z"
   },
   {
    "duration": 12,
    "start_time": "2021-12-13T13:06:02.266Z"
   },
   {
    "duration": 22,
    "start_time": "2021-12-13T13:06:02.280Z"
   },
   {
    "duration": 4,
    "start_time": "2021-12-13T13:06:02.303Z"
   },
   {
    "duration": 14,
    "start_time": "2021-12-13T13:06:02.320Z"
   },
   {
    "duration": 18,
    "start_time": "2021-12-13T13:06:02.351Z"
   },
   {
    "duration": 16,
    "start_time": "2021-12-13T13:06:02.374Z"
   },
   {
    "duration": 7,
    "start_time": "2021-12-13T13:06:02.398Z"
   },
   {
    "duration": 14,
    "start_time": "2021-12-13T13:06:02.430Z"
   },
   {
    "duration": 26,
    "start_time": "2021-12-13T13:06:02.446Z"
   },
   {
    "duration": 9,
    "start_time": "2021-12-13T13:06:02.474Z"
   },
   {
    "duration": 17,
    "start_time": "2021-12-13T13:06:02.485Z"
   },
   {
    "duration": 13,
    "start_time": "2021-12-13T13:06:02.504Z"
   },
   {
    "duration": 17,
    "start_time": "2021-12-13T13:06:02.519Z"
   },
   {
    "duration": 32,
    "start_time": "2021-12-13T13:06:02.538Z"
   },
   {
    "duration": 6,
    "start_time": "2021-12-13T13:06:02.572Z"
   },
   {
    "duration": 16,
    "start_time": "2021-12-13T13:06:02.579Z"
   },
   {
    "duration": 11,
    "start_time": "2021-12-13T13:06:02.598Z"
   },
   {
    "duration": 8,
    "start_time": "2021-12-13T13:06:02.611Z"
   },
   {
    "duration": 12,
    "start_time": "2021-12-13T13:06:02.621Z"
   },
   {
    "duration": 10,
    "start_time": "2021-12-13T13:06:02.664Z"
   },
   {
    "duration": 18,
    "start_time": "2021-12-13T13:06:02.676Z"
   },
   {
    "duration": 21,
    "start_time": "2021-12-13T13:06:02.696Z"
   },
   {
    "duration": 9,
    "start_time": "2021-12-13T13:06:02.719Z"
   },
   {
    "duration": 16,
    "start_time": "2021-12-13T13:06:02.730Z"
   },
   {
    "duration": 20,
    "start_time": "2021-12-13T13:06:02.763Z"
   },
   {
    "duration": 22,
    "start_time": "2021-12-13T13:06:02.785Z"
   },
   {
    "duration": 33,
    "start_time": "2021-12-13T13:06:02.810Z"
   },
   {
    "duration": 6,
    "start_time": "2021-12-13T13:06:02.863Z"
   },
   {
    "duration": 6,
    "start_time": "2021-12-13T13:06:02.871Z"
   },
   {
    "duration": 27,
    "start_time": "2021-12-13T13:06:02.878Z"
   },
   {
    "duration": 13,
    "start_time": "2021-12-13T13:06:02.907Z"
   },
   {
    "duration": 20,
    "start_time": "2021-12-13T13:06:02.922Z"
   },
   {
    "duration": 38,
    "start_time": "2021-12-13T13:06:02.943Z"
   },
   {
    "duration": 14,
    "start_time": "2021-12-13T13:06:02.983Z"
   },
   {
    "duration": 21,
    "start_time": "2021-12-13T13:06:02.999Z"
   },
   {
    "duration": 22,
    "start_time": "2021-12-13T13:06:03.022Z"
   },
   {
    "duration": 19,
    "start_time": "2021-12-13T13:06:40.540Z"
   },
   {
    "duration": 53,
    "start_time": "2021-12-13T13:06:59.803Z"
   },
   {
    "duration": 12,
    "start_time": "2021-12-13T13:06:59.858Z"
   },
   {
    "duration": 21,
    "start_time": "2021-12-13T13:06:59.872Z"
   },
   {
    "duration": 3,
    "start_time": "2021-12-13T13:06:59.895Z"
   },
   {
    "duration": 11,
    "start_time": "2021-12-13T13:06:59.900Z"
   },
   {
    "duration": 21,
    "start_time": "2021-12-13T13:06:59.913Z"
   },
   {
    "duration": 30,
    "start_time": "2021-12-13T13:06:59.936Z"
   },
   {
    "duration": 8,
    "start_time": "2021-12-13T13:06:59.969Z"
   },
   {
    "duration": 11,
    "start_time": "2021-12-13T13:06:59.979Z"
   },
   {
    "duration": 23,
    "start_time": "2021-12-13T13:06:59.993Z"
   },
   {
    "duration": 25,
    "start_time": "2021-12-13T13:07:00.018Z"
   },
   {
    "duration": 13,
    "start_time": "2021-12-13T13:07:00.065Z"
   },
   {
    "duration": 14,
    "start_time": "2021-12-13T13:07:00.081Z"
   },
   {
    "duration": 22,
    "start_time": "2021-12-13T13:07:00.097Z"
   },
   {
    "duration": 12,
    "start_time": "2021-12-13T13:07:00.121Z"
   },
   {
    "duration": 35,
    "start_time": "2021-12-13T13:07:00.134Z"
   },
   {
    "duration": 35,
    "start_time": "2021-12-13T13:07:00.171Z"
   },
   {
    "duration": 29,
    "start_time": "2021-12-13T13:07:00.208Z"
   },
   {
    "duration": 11,
    "start_time": "2021-12-13T13:07:00.239Z"
   },
   {
    "duration": 29,
    "start_time": "2021-12-13T13:07:00.253Z"
   },
   {
    "duration": 18,
    "start_time": "2021-12-13T13:07:00.285Z"
   },
   {
    "duration": 17,
    "start_time": "2021-12-13T13:07:00.305Z"
   },
   {
    "duration": 25,
    "start_time": "2021-12-13T13:07:00.324Z"
   },
   {
    "duration": 9,
    "start_time": "2021-12-13T13:07:00.351Z"
   },
   {
    "duration": 26,
    "start_time": "2021-12-13T13:07:00.362Z"
   },
   {
    "duration": 30,
    "start_time": "2021-12-13T13:07:00.390Z"
   },
   {
    "duration": 20,
    "start_time": "2021-12-13T13:07:00.422Z"
   },
   {
    "duration": 22,
    "start_time": "2021-12-13T13:07:00.444Z"
   },
   {
    "duration": 6,
    "start_time": "2021-12-13T13:07:00.468Z"
   },
   {
    "duration": 14,
    "start_time": "2021-12-13T13:07:00.475Z"
   },
   {
    "duration": 32,
    "start_time": "2021-12-13T13:07:00.491Z"
   },
   {
    "duration": 5,
    "start_time": "2021-12-13T13:07:00.525Z"
   },
   {
    "duration": 10,
    "start_time": "2021-12-13T13:07:00.532Z"
   },
   {
    "duration": 39,
    "start_time": "2021-12-13T13:07:00.543Z"
   },
   {
    "duration": 16,
    "start_time": "2021-12-13T13:07:00.583Z"
   },
   {
    "duration": 10,
    "start_time": "2021-12-13T13:07:00.600Z"
   },
   {
    "duration": 77,
    "start_time": "2021-12-13T13:07:00.611Z"
   },
   {
    "duration": 79,
    "start_time": "2021-12-13T13:08:52.434Z"
   },
   {
    "duration": 21,
    "start_time": "2021-12-13T13:08:57.950Z"
   },
   {
    "duration": 67,
    "start_time": "2021-12-13T13:09:39.059Z"
   },
   {
    "duration": 16,
    "start_time": "2021-12-13T13:09:39.129Z"
   },
   {
    "duration": 27,
    "start_time": "2021-12-13T13:09:39.148Z"
   },
   {
    "duration": 5,
    "start_time": "2021-12-13T13:09:39.177Z"
   },
   {
    "duration": 11,
    "start_time": "2021-12-13T13:09:39.184Z"
   },
   {
    "duration": 13,
    "start_time": "2021-12-13T13:09:39.197Z"
   },
   {
    "duration": 12,
    "start_time": "2021-12-13T13:09:39.213Z"
   },
   {
    "duration": 43,
    "start_time": "2021-12-13T13:09:39.227Z"
   },
   {
    "duration": 14,
    "start_time": "2021-12-13T13:09:39.272Z"
   },
   {
    "duration": 23,
    "start_time": "2021-12-13T13:09:39.288Z"
   },
   {
    "duration": 7,
    "start_time": "2021-12-13T13:09:39.314Z"
   },
   {
    "duration": 44,
    "start_time": "2021-12-13T13:09:39.323Z"
   },
   {
    "duration": 10,
    "start_time": "2021-12-13T13:09:39.369Z"
   },
   {
    "duration": 20,
    "start_time": "2021-12-13T13:09:39.381Z"
   },
   {
    "duration": 9,
    "start_time": "2021-12-13T13:09:39.403Z"
   },
   {
    "duration": 4,
    "start_time": "2021-12-13T13:09:39.414Z"
   },
   {
    "duration": 44,
    "start_time": "2021-12-13T13:09:39.420Z"
   },
   {
    "duration": 9,
    "start_time": "2021-12-13T13:09:39.468Z"
   },
   {
    "duration": 9,
    "start_time": "2021-12-13T13:09:39.480Z"
   },
   {
    "duration": 11,
    "start_time": "2021-12-13T13:09:39.490Z"
   },
   {
    "duration": 11,
    "start_time": "2021-12-13T13:09:39.502Z"
   },
   {
    "duration": 10,
    "start_time": "2021-12-13T13:09:39.515Z"
   },
   {
    "duration": 61,
    "start_time": "2021-12-13T13:09:39.527Z"
   },
   {
    "duration": 5,
    "start_time": "2021-12-13T13:09:39.589Z"
   },
   {
    "duration": 7,
    "start_time": "2021-12-13T13:09:39.596Z"
   },
   {
    "duration": 20,
    "start_time": "2021-12-13T13:09:39.604Z"
   },
   {
    "duration": 42,
    "start_time": "2021-12-13T13:09:39.626Z"
   },
   {
    "duration": 23,
    "start_time": "2021-12-13T13:09:39.670Z"
   },
   {
    "duration": 4,
    "start_time": "2021-12-13T13:09:39.695Z"
   },
   {
    "duration": 6,
    "start_time": "2021-12-13T13:09:39.701Z"
   },
   {
    "duration": 15,
    "start_time": "2021-12-13T13:09:39.708Z"
   },
   {
    "duration": 12,
    "start_time": "2021-12-13T13:09:39.725Z"
   },
   {
    "duration": 31,
    "start_time": "2021-12-13T13:09:39.738Z"
   },
   {
    "duration": 27,
    "start_time": "2021-12-13T13:09:39.773Z"
   },
   {
    "duration": 16,
    "start_time": "2021-12-13T13:09:39.802Z"
   },
   {
    "duration": 11,
    "start_time": "2021-12-13T13:09:39.819Z"
   },
   {
    "duration": 29,
    "start_time": "2021-12-13T13:09:39.863Z"
   },
   {
    "duration": 22,
    "start_time": "2021-12-13T13:10:40.469Z"
   },
   {
    "duration": 48,
    "start_time": "2021-12-13T13:10:47.886Z"
   },
   {
    "duration": 12,
    "start_time": "2021-12-13T13:10:47.936Z"
   },
   {
    "duration": 31,
    "start_time": "2021-12-13T13:10:47.949Z"
   },
   {
    "duration": 18,
    "start_time": "2021-12-13T13:10:47.982Z"
   },
   {
    "duration": 9,
    "start_time": "2021-12-13T13:10:48.014Z"
   },
   {
    "duration": 27,
    "start_time": "2021-12-13T13:10:48.025Z"
   },
   {
    "duration": 17,
    "start_time": "2021-12-13T13:10:48.055Z"
   },
   {
    "duration": 17,
    "start_time": "2021-12-13T13:10:48.074Z"
   },
   {
    "duration": 29,
    "start_time": "2021-12-13T13:10:48.092Z"
   },
   {
    "duration": 20,
    "start_time": "2021-12-13T13:10:48.123Z"
   },
   {
    "duration": 20,
    "start_time": "2021-12-13T13:10:48.144Z"
   },
   {
    "duration": 24,
    "start_time": "2021-12-13T13:10:48.166Z"
   },
   {
    "duration": 14,
    "start_time": "2021-12-13T13:10:48.192Z"
   },
   {
    "duration": 32,
    "start_time": "2021-12-13T13:10:48.208Z"
   },
   {
    "duration": 8,
    "start_time": "2021-12-13T13:10:48.243Z"
   },
   {
    "duration": 12,
    "start_time": "2021-12-13T13:10:48.253Z"
   },
   {
    "duration": 20,
    "start_time": "2021-12-13T13:10:48.267Z"
   },
   {
    "duration": 9,
    "start_time": "2021-12-13T13:10:48.289Z"
   },
   {
    "duration": 27,
    "start_time": "2021-12-13T13:10:48.300Z"
   },
   {
    "duration": 14,
    "start_time": "2021-12-13T13:10:48.330Z"
   },
   {
    "duration": 30,
    "start_time": "2021-12-13T13:10:48.345Z"
   },
   {
    "duration": 24,
    "start_time": "2021-12-13T13:10:48.377Z"
   },
   {
    "duration": 24,
    "start_time": "2021-12-13T13:10:48.403Z"
   },
   {
    "duration": 7,
    "start_time": "2021-12-13T13:10:48.429Z"
   },
   {
    "duration": 16,
    "start_time": "2021-12-13T13:10:48.438Z"
   },
   {
    "duration": 29,
    "start_time": "2021-12-13T13:10:48.456Z"
   },
   {
    "duration": 26,
    "start_time": "2021-12-13T13:10:48.487Z"
   },
   {
    "duration": 31,
    "start_time": "2021-12-13T13:10:48.515Z"
   },
   {
    "duration": 5,
    "start_time": "2021-12-13T13:10:48.547Z"
   },
   {
    "duration": 19,
    "start_time": "2021-12-13T13:10:48.554Z"
   },
   {
    "duration": 33,
    "start_time": "2021-12-13T13:10:48.575Z"
   },
   {
    "duration": 18,
    "start_time": "2021-12-13T13:10:48.610Z"
   },
   {
    "duration": 14,
    "start_time": "2021-12-13T13:10:48.631Z"
   },
   {
    "duration": 37,
    "start_time": "2021-12-13T13:10:48.647Z"
   },
   {
    "duration": 16,
    "start_time": "2021-12-13T13:10:48.685Z"
   },
   {
    "duration": 9,
    "start_time": "2021-12-13T13:10:48.703Z"
   },
   {
    "duration": 35,
    "start_time": "2021-12-13T13:10:48.713Z"
   },
   {
    "duration": 6897,
    "start_time": "2021-12-13T13:11:17.901Z"
   },
   {
    "duration": 7189,
    "start_time": "2021-12-13T13:11:26.223Z"
   },
   {
    "duration": 7,
    "start_time": "2021-12-13T13:12:29.938Z"
   },
   {
    "duration": 49,
    "start_time": "2021-12-13T13:12:41.032Z"
   },
   {
    "duration": 11,
    "start_time": "2021-12-13T13:12:41.082Z"
   },
   {
    "duration": 13,
    "start_time": "2021-12-13T13:12:41.095Z"
   },
   {
    "duration": 3,
    "start_time": "2021-12-13T13:12:41.110Z"
   },
   {
    "duration": 9,
    "start_time": "2021-12-13T13:12:41.129Z"
   },
   {
    "duration": 13,
    "start_time": "2021-12-13T13:12:41.160Z"
   },
   {
    "duration": 12,
    "start_time": "2021-12-13T13:12:41.185Z"
   },
   {
    "duration": 8,
    "start_time": "2021-12-13T13:12:41.233Z"
   },
   {
    "duration": 11,
    "start_time": "2021-12-13T13:12:41.264Z"
   },
   {
    "duration": 14,
    "start_time": "2021-12-13T13:12:41.302Z"
   },
   {
    "duration": 7,
    "start_time": "2021-12-13T13:12:41.327Z"
   },
   {
    "duration": 8,
    "start_time": "2021-12-13T13:12:41.354Z"
   },
   {
    "duration": 9,
    "start_time": "2021-12-13T13:12:41.380Z"
   },
   {
    "duration": 15,
    "start_time": "2021-12-13T13:12:41.402Z"
   },
   {
    "duration": 7,
    "start_time": "2021-12-13T13:12:41.421Z"
   },
   {
    "duration": 5,
    "start_time": "2021-12-13T13:12:41.448Z"
   },
   {
    "duration": 6,
    "start_time": "2021-12-13T13:12:41.463Z"
   },
   {
    "duration": 6,
    "start_time": "2021-12-13T13:12:41.476Z"
   },
   {
    "duration": 7,
    "start_time": "2021-12-13T13:12:41.489Z"
   },
   {
    "duration": 7,
    "start_time": "2021-12-13T13:12:41.511Z"
   },
   {
    "duration": 9,
    "start_time": "2021-12-13T13:12:41.522Z"
   },
   {
    "duration": 8,
    "start_time": "2021-12-13T13:12:41.538Z"
   },
   {
    "duration": 17,
    "start_time": "2021-12-13T13:12:41.562Z"
   },
   {
    "duration": 6,
    "start_time": "2021-12-13T13:12:41.581Z"
   },
   {
    "duration": 9,
    "start_time": "2021-12-13T13:12:41.590Z"
   },
   {
    "duration": 19,
    "start_time": "2021-12-13T13:12:41.617Z"
   },
   {
    "duration": 25,
    "start_time": "2021-12-13T13:12:41.638Z"
   },
   {
    "duration": 17,
    "start_time": "2021-12-13T13:12:41.665Z"
   },
   {
    "duration": 5,
    "start_time": "2021-12-13T13:12:41.684Z"
   },
   {
    "duration": 6,
    "start_time": "2021-12-13T13:12:41.690Z"
   },
   {
    "duration": 13,
    "start_time": "2021-12-13T13:12:41.701Z"
   },
   {
    "duration": 5,
    "start_time": "2021-12-13T13:12:41.716Z"
   },
   {
    "duration": 4,
    "start_time": "2021-12-13T13:12:41.737Z"
   },
   {
    "duration": 23,
    "start_time": "2021-12-13T13:12:41.766Z"
   },
   {
    "duration": 14,
    "start_time": "2021-12-13T13:12:41.791Z"
   },
   {
    "duration": 9,
    "start_time": "2021-12-13T13:12:41.806Z"
   },
   {
    "duration": 17,
    "start_time": "2021-12-13T13:12:41.817Z"
   },
   {
    "duration": 21,
    "start_time": "2021-12-13T13:14:14.987Z"
   },
   {
    "duration": 8,
    "start_time": "2021-12-13T13:16:56.973Z"
   },
   {
    "duration": 53,
    "start_time": "2021-12-13T13:17:25.861Z"
   },
   {
    "duration": 15,
    "start_time": "2021-12-13T13:17:25.916Z"
   },
   {
    "duration": 15,
    "start_time": "2021-12-13T13:17:25.934Z"
   },
   {
    "duration": 14,
    "start_time": "2021-12-13T13:17:25.951Z"
   },
   {
    "duration": 22,
    "start_time": "2021-12-13T13:17:25.967Z"
   },
   {
    "duration": 13,
    "start_time": "2021-12-13T13:17:25.991Z"
   },
   {
    "duration": 12,
    "start_time": "2021-12-13T13:17:26.006Z"
   },
   {
    "duration": 6,
    "start_time": "2021-12-13T13:17:26.020Z"
   },
   {
    "duration": 34,
    "start_time": "2021-12-13T13:17:26.030Z"
   },
   {
    "duration": 15,
    "start_time": "2021-12-13T13:17:26.067Z"
   },
   {
    "duration": 9,
    "start_time": "2021-12-13T13:17:26.085Z"
   },
   {
    "duration": 9,
    "start_time": "2021-12-13T13:17:26.096Z"
   },
   {
    "duration": 7,
    "start_time": "2021-12-13T13:17:26.107Z"
   },
   {
    "duration": 49,
    "start_time": "2021-12-13T13:17:26.115Z"
   },
   {
    "duration": 7,
    "start_time": "2021-12-13T13:17:26.167Z"
   },
   {
    "duration": 6,
    "start_time": "2021-12-13T13:17:26.176Z"
   },
   {
    "duration": 7,
    "start_time": "2021-12-13T13:17:26.184Z"
   },
   {
    "duration": 20,
    "start_time": "2021-12-13T13:17:26.193Z"
   },
   {
    "duration": 10,
    "start_time": "2021-12-13T13:17:26.215Z"
   },
   {
    "duration": 15,
    "start_time": "2021-12-13T13:17:26.227Z"
   },
   {
    "duration": 24,
    "start_time": "2021-12-13T13:17:26.244Z"
   },
   {
    "duration": 10,
    "start_time": "2021-12-13T13:17:26.270Z"
   },
   {
    "duration": 18,
    "start_time": "2021-12-13T13:17:26.282Z"
   },
   {
    "duration": 5,
    "start_time": "2021-12-13T13:17:26.302Z"
   },
   {
    "duration": 11,
    "start_time": "2021-12-13T13:17:26.309Z"
   },
   {
    "duration": 48,
    "start_time": "2021-12-13T13:17:26.322Z"
   },
   {
    "duration": 11,
    "start_time": "2021-12-13T13:17:26.371Z"
   },
   {
    "duration": 18,
    "start_time": "2021-12-13T13:17:26.384Z"
   },
   {
    "duration": 5,
    "start_time": "2021-12-13T13:17:26.403Z"
   },
   {
    "duration": 10,
    "start_time": "2021-12-13T13:17:26.409Z"
   },
   {
    "duration": 42,
    "start_time": "2021-12-13T13:17:26.422Z"
   },
   {
    "duration": 5,
    "start_time": "2021-12-13T13:17:26.467Z"
   },
   {
    "duration": 8,
    "start_time": "2021-12-13T13:17:26.473Z"
   },
   {
    "duration": 26,
    "start_time": "2021-12-13T13:17:26.482Z"
   },
   {
    "duration": 13,
    "start_time": "2021-12-13T13:17:26.511Z"
   },
   {
    "duration": 43,
    "start_time": "2021-12-13T13:17:26.526Z"
   },
   {
    "duration": 7,
    "start_time": "2021-12-13T13:17:26.571Z"
   },
   {
    "duration": 1074,
    "start_time": "2021-12-13T13:21:00.903Z"
   },
   {
    "duration": 5,
    "start_time": "2021-12-13T13:21:09.487Z"
   },
   {
    "duration": 48,
    "start_time": "2021-12-13T13:22:27.245Z"
   },
   {
    "duration": 11,
    "start_time": "2021-12-13T13:22:27.295Z"
   },
   {
    "duration": 15,
    "start_time": "2021-12-13T13:22:27.308Z"
   },
   {
    "duration": 4,
    "start_time": "2021-12-13T13:22:27.324Z"
   },
   {
    "duration": 36,
    "start_time": "2021-12-13T13:22:27.330Z"
   },
   {
    "duration": 13,
    "start_time": "2021-12-13T13:22:27.368Z"
   },
   {
    "duration": 25,
    "start_time": "2021-12-13T13:22:27.384Z"
   },
   {
    "duration": 9,
    "start_time": "2021-12-13T13:22:27.412Z"
   },
   {
    "duration": 42,
    "start_time": "2021-12-13T13:22:27.423Z"
   },
   {
    "duration": 14,
    "start_time": "2021-12-13T13:22:27.467Z"
   },
   {
    "duration": 7,
    "start_time": "2021-12-13T13:22:27.483Z"
   },
   {
    "duration": 17,
    "start_time": "2021-12-13T13:22:27.492Z"
   },
   {
    "duration": 7,
    "start_time": "2021-12-13T13:22:27.511Z"
   },
   {
    "duration": 49,
    "start_time": "2021-12-13T13:22:27.519Z"
   },
   {
    "duration": 7,
    "start_time": "2021-12-13T13:22:27.569Z"
   },
   {
    "duration": 6,
    "start_time": "2021-12-13T13:22:27.578Z"
   },
   {
    "duration": 5,
    "start_time": "2021-12-13T13:22:27.586Z"
   },
   {
    "duration": 9,
    "start_time": "2021-12-13T13:22:27.593Z"
   },
   {
    "duration": 9,
    "start_time": "2021-12-13T13:22:27.603Z"
   },
   {
    "duration": 52,
    "start_time": "2021-12-13T13:22:27.614Z"
   },
   {
    "duration": 8,
    "start_time": "2021-12-13T13:22:27.668Z"
   },
   {
    "duration": 11,
    "start_time": "2021-12-13T13:22:27.678Z"
   },
   {
    "duration": 15,
    "start_time": "2021-12-13T13:22:27.691Z"
   },
   {
    "duration": 56,
    "start_time": "2021-12-13T13:22:27.708Z"
   },
   {
    "duration": 6,
    "start_time": "2021-12-13T13:22:27.766Z"
   },
   {
    "duration": 10,
    "start_time": "2021-12-13T13:22:27.774Z"
   },
   {
    "duration": 19,
    "start_time": "2021-12-13T13:22:27.786Z"
   },
   {
    "duration": 10,
    "start_time": "2021-12-13T13:22:27.807Z"
   },
   {
    "duration": 56,
    "start_time": "2021-12-13T13:22:27.819Z"
   },
   {
    "duration": 5,
    "start_time": "2021-12-13T13:22:27.876Z"
   },
   {
    "duration": 6,
    "start_time": "2021-12-13T13:22:27.883Z"
   },
   {
    "duration": 16,
    "start_time": "2021-12-13T13:22:27.891Z"
   },
   {
    "duration": 5,
    "start_time": "2021-12-13T13:22:27.909Z"
   },
   {
    "duration": 8,
    "start_time": "2021-12-13T13:22:27.916Z"
   },
   {
    "duration": 55,
    "start_time": "2021-12-13T13:22:27.926Z"
   },
   {
    "duration": 14,
    "start_time": "2021-12-13T13:22:27.982Z"
   },
   {
    "duration": 9,
    "start_time": "2021-12-13T13:22:27.998Z"
   },
   {
    "duration": 12,
    "start_time": "2021-12-13T13:22:28.009Z"
   },
   {
    "duration": 4375,
    "start_time": "2021-12-13T13:26:08.408Z"
   },
   {
    "duration": 3770,
    "start_time": "2021-12-13T13:35:10.188Z"
   },
   {
    "duration": 50,
    "start_time": "2021-12-13T13:35:38.987Z"
   },
   {
    "duration": 12,
    "start_time": "2021-12-13T13:35:39.039Z"
   },
   {
    "duration": 17,
    "start_time": "2021-12-13T13:35:39.053Z"
   },
   {
    "duration": 5,
    "start_time": "2021-12-13T13:35:39.072Z"
   },
   {
    "duration": 11,
    "start_time": "2021-12-13T13:35:39.090Z"
   },
   {
    "duration": 14,
    "start_time": "2021-12-13T13:35:39.111Z"
   },
   {
    "duration": 12,
    "start_time": "2021-12-13T13:35:39.128Z"
   },
   {
    "duration": 22,
    "start_time": "2021-12-13T13:35:39.147Z"
   },
   {
    "duration": 11,
    "start_time": "2021-12-13T13:35:39.188Z"
   },
   {
    "duration": 14,
    "start_time": "2021-12-13T13:35:39.201Z"
   },
   {
    "duration": 11,
    "start_time": "2021-12-13T13:35:39.217Z"
   },
   {
    "duration": 8,
    "start_time": "2021-12-13T13:35:39.229Z"
   },
   {
    "duration": 8,
    "start_time": "2021-12-13T13:35:39.343Z"
   },
   {
    "duration": 18,
    "start_time": "2021-12-13T13:35:39.353Z"
   },
   {
    "duration": 8,
    "start_time": "2021-12-13T13:35:39.374Z"
   },
   {
    "duration": 4,
    "start_time": "2021-12-13T13:35:39.384Z"
   },
   {
    "duration": 12,
    "start_time": "2021-12-13T13:35:39.389Z"
   },
   {
    "duration": 5,
    "start_time": "2021-12-13T13:35:39.403Z"
   },
   {
    "duration": 7,
    "start_time": "2021-12-13T13:35:39.410Z"
   },
   {
    "duration": 14,
    "start_time": "2021-12-13T13:35:39.419Z"
   },
   {
    "duration": 33,
    "start_time": "2021-12-13T13:35:39.435Z"
   },
   {
    "duration": 10,
    "start_time": "2021-12-13T13:35:39.469Z"
   },
   {
    "duration": 17,
    "start_time": "2021-12-13T13:35:39.480Z"
   },
   {
    "duration": 6,
    "start_time": "2021-12-13T13:35:39.499Z"
   },
   {
    "duration": 11,
    "start_time": "2021-12-13T13:35:39.506Z"
   },
   {
    "duration": 52,
    "start_time": "2021-12-13T13:35:39.518Z"
   },
   {
    "duration": 11,
    "start_time": "2021-12-13T13:35:39.572Z"
   },
   {
    "duration": 17,
    "start_time": "2021-12-13T13:35:39.585Z"
   },
   {
    "duration": 4,
    "start_time": "2021-12-13T13:35:39.604Z"
   },
   {
    "duration": 7,
    "start_time": "2021-12-13T13:35:39.610Z"
   },
   {
    "duration": 45,
    "start_time": "2021-12-13T13:35:39.619Z"
   },
   {
    "duration": 6,
    "start_time": "2021-12-13T13:35:39.665Z"
   },
   {
    "duration": 5,
    "start_time": "2021-12-13T13:35:39.672Z"
   },
   {
    "duration": 27,
    "start_time": "2021-12-13T13:35:39.679Z"
   },
   {
    "duration": 31,
    "start_time": "2021-12-13T13:35:39.708Z"
   },
   {
    "duration": 9,
    "start_time": "2021-12-13T13:35:39.764Z"
   },
   {
    "duration": 17,
    "start_time": "2021-12-13T13:35:39.775Z"
   },
   {
    "duration": 3426,
    "start_time": "2021-12-13T13:37:33.580Z"
   },
   {
    "duration": 3237,
    "start_time": "2021-12-13T13:39:11.148Z"
   },
   {
    "duration": 3203,
    "start_time": "2021-12-13T13:45:22.419Z"
   },
   {
    "duration": 6049,
    "start_time": "2021-12-13T14:05:29.868Z"
   },
   {
    "duration": 3124,
    "start_time": "2021-12-13T14:05:54.430Z"
   },
   {
    "duration": 3934,
    "start_time": "2021-12-13T14:06:17.664Z"
   },
   {
    "duration": 3473,
    "start_time": "2021-12-13T14:07:18.477Z"
   },
   {
    "duration": 50,
    "start_time": "2021-12-13T14:07:26.357Z"
   },
   {
    "duration": 12,
    "start_time": "2021-12-13T14:07:26.409Z"
   },
   {
    "duration": 14,
    "start_time": "2021-12-13T14:07:26.423Z"
   },
   {
    "duration": 5,
    "start_time": "2021-12-13T14:07:26.438Z"
   },
   {
    "duration": 29,
    "start_time": "2021-12-13T14:07:26.444Z"
   },
   {
    "duration": 14,
    "start_time": "2021-12-13T14:07:26.474Z"
   },
   {
    "duration": 15,
    "start_time": "2021-12-13T14:07:26.491Z"
   },
   {
    "duration": 6,
    "start_time": "2021-12-13T14:07:26.508Z"
   },
   {
    "duration": 13,
    "start_time": "2021-12-13T14:07:26.515Z"
   },
   {
    "duration": 18,
    "start_time": "2021-12-13T14:07:26.563Z"
   },
   {
    "duration": 11,
    "start_time": "2021-12-13T14:07:26.583Z"
   },
   {
    "duration": 9,
    "start_time": "2021-12-13T14:07:26.596Z"
   },
   {
    "duration": 8,
    "start_time": "2021-12-13T14:07:26.607Z"
   },
   {
    "duration": 47,
    "start_time": "2021-12-13T14:07:26.617Z"
   },
   {
    "duration": 9,
    "start_time": "2021-12-13T14:07:26.667Z"
   },
   {
    "duration": 6,
    "start_time": "2021-12-13T14:07:26.678Z"
   },
   {
    "duration": 10,
    "start_time": "2021-12-13T14:07:26.686Z"
   },
   {
    "duration": 10,
    "start_time": "2021-12-13T14:07:26.697Z"
   },
   {
    "duration": 10,
    "start_time": "2021-12-13T14:07:26.709Z"
   },
   {
    "duration": 42,
    "start_time": "2021-12-13T14:07:26.721Z"
   },
   {
    "duration": 9,
    "start_time": "2021-12-13T14:07:26.766Z"
   },
   {
    "duration": 11,
    "start_time": "2021-12-13T14:07:26.777Z"
   },
   {
    "duration": 21,
    "start_time": "2021-12-13T14:07:26.790Z"
   },
   {
    "duration": 5,
    "start_time": "2021-12-13T14:07:26.813Z"
   },
   {
    "duration": 8,
    "start_time": "2021-12-13T14:07:26.821Z"
   },
   {
    "duration": 19,
    "start_time": "2021-12-13T14:07:26.864Z"
   },
   {
    "duration": 10,
    "start_time": "2021-12-13T14:07:26.885Z"
   },
   {
    "duration": 16,
    "start_time": "2021-12-13T14:07:26.896Z"
   },
   {
    "duration": 8,
    "start_time": "2021-12-13T14:07:26.913Z"
   },
   {
    "duration": 7,
    "start_time": "2021-12-13T14:07:26.923Z"
   },
   {
    "duration": 42,
    "start_time": "2021-12-13T14:07:26.932Z"
   },
   {
    "duration": 5,
    "start_time": "2021-12-13T14:07:26.975Z"
   },
   {
    "duration": 10,
    "start_time": "2021-12-13T14:07:26.982Z"
   },
   {
    "duration": 26,
    "start_time": "2021-12-13T14:07:26.993Z"
   },
   {
    "duration": 43,
    "start_time": "2021-12-13T14:07:27.020Z"
   },
   {
    "duration": 10,
    "start_time": "2021-12-13T14:07:27.065Z"
   },
   {
    "duration": 21,
    "start_time": "2021-12-13T14:07:27.077Z"
   },
   {
    "duration": 22,
    "start_time": "2021-12-13T14:08:19.292Z"
   },
   {
    "duration": 53,
    "start_time": "2021-12-13T14:08:33.704Z"
   },
   {
    "duration": 13,
    "start_time": "2021-12-13T14:08:33.759Z"
   },
   {
    "duration": 23,
    "start_time": "2021-12-13T14:08:33.775Z"
   },
   {
    "duration": 20,
    "start_time": "2021-12-13T14:08:33.801Z"
   },
   {
    "duration": 28,
    "start_time": "2021-12-13T14:08:33.823Z"
   },
   {
    "duration": 26,
    "start_time": "2021-12-13T14:08:33.853Z"
   },
   {
    "duration": 36,
    "start_time": "2021-12-13T14:08:33.881Z"
   },
   {
    "duration": 27,
    "start_time": "2021-12-13T14:08:33.920Z"
   },
   {
    "duration": 23,
    "start_time": "2021-12-13T14:08:33.950Z"
   },
   {
    "duration": 37,
    "start_time": "2021-12-13T14:08:33.975Z"
   },
   {
    "duration": 24,
    "start_time": "2021-12-13T14:08:34.014Z"
   },
   {
    "duration": 26,
    "start_time": "2021-12-13T14:08:34.040Z"
   },
   {
    "duration": 23,
    "start_time": "2021-12-13T14:08:34.067Z"
   },
   {
    "duration": 36,
    "start_time": "2021-12-13T14:08:34.091Z"
   },
   {
    "duration": 7,
    "start_time": "2021-12-13T14:08:34.129Z"
   },
   {
    "duration": 7,
    "start_time": "2021-12-13T14:08:34.138Z"
   },
   {
    "duration": 9,
    "start_time": "2021-12-13T14:08:34.147Z"
   },
   {
    "duration": 10,
    "start_time": "2021-12-13T14:08:34.158Z"
   },
   {
    "duration": 13,
    "start_time": "2021-12-13T14:08:34.170Z"
   },
   {
    "duration": 10,
    "start_time": "2021-12-13T14:08:34.185Z"
   },
   {
    "duration": 14,
    "start_time": "2021-12-13T14:08:34.197Z"
   },
   {
    "duration": 11,
    "start_time": "2021-12-13T14:08:34.215Z"
   },
   {
    "duration": 46,
    "start_time": "2021-12-13T14:08:34.228Z"
   },
   {
    "duration": 6,
    "start_time": "2021-12-13T14:08:34.276Z"
   },
   {
    "duration": 9,
    "start_time": "2021-12-13T14:08:34.283Z"
   },
   {
    "duration": 20,
    "start_time": "2021-12-13T14:08:34.293Z"
   },
   {
    "duration": 11,
    "start_time": "2021-12-13T14:08:34.315Z"
   },
   {
    "duration": 50,
    "start_time": "2021-12-13T14:08:34.328Z"
   },
   {
    "duration": 5,
    "start_time": "2021-12-13T14:08:34.379Z"
   },
   {
    "duration": 6,
    "start_time": "2021-12-13T14:08:34.386Z"
   },
   {
    "duration": 17,
    "start_time": "2021-12-13T14:08:34.393Z"
   },
   {
    "duration": 5,
    "start_time": "2021-12-13T14:08:34.411Z"
   },
   {
    "duration": 7,
    "start_time": "2021-12-13T14:08:34.417Z"
   },
   {
    "duration": 61,
    "start_time": "2021-12-13T14:08:34.426Z"
   },
   {
    "duration": 14,
    "start_time": "2021-12-13T14:08:34.489Z"
   },
   {
    "duration": 11,
    "start_time": "2021-12-13T14:08:34.505Z"
   },
   {
    "duration": 59,
    "start_time": "2021-12-13T14:08:34.518Z"
   },
   {
    "duration": 24,
    "start_time": "2021-12-13T14:09:58.485Z"
   },
   {
    "duration": 50,
    "start_time": "2021-12-13T14:10:05.268Z"
   },
   {
    "duration": 12,
    "start_time": "2021-12-13T14:10:05.320Z"
   },
   {
    "duration": 16,
    "start_time": "2021-12-13T14:10:05.334Z"
   },
   {
    "duration": 4,
    "start_time": "2021-12-13T14:10:05.352Z"
   },
   {
    "duration": 10,
    "start_time": "2021-12-13T14:10:05.363Z"
   },
   {
    "duration": 12,
    "start_time": "2021-12-13T14:10:05.375Z"
   },
   {
    "duration": 32,
    "start_time": "2021-12-13T14:10:05.389Z"
   },
   {
    "duration": 7,
    "start_time": "2021-12-13T14:10:05.424Z"
   },
   {
    "duration": 13,
    "start_time": "2021-12-13T14:10:05.432Z"
   },
   {
    "duration": 33,
    "start_time": "2021-12-13T14:10:05.447Z"
   },
   {
    "duration": 7,
    "start_time": "2021-12-13T14:10:05.482Z"
   },
   {
    "duration": 13,
    "start_time": "2021-12-13T14:10:05.491Z"
   },
   {
    "duration": 9,
    "start_time": "2021-12-13T14:10:05.506Z"
   },
   {
    "duration": 20,
    "start_time": "2021-12-13T14:10:05.516Z"
   },
   {
    "duration": 33,
    "start_time": "2021-12-13T14:10:05.537Z"
   },
   {
    "duration": 9,
    "start_time": "2021-12-13T14:10:05.572Z"
   },
   {
    "duration": 10,
    "start_time": "2021-12-13T14:10:05.584Z"
   },
   {
    "duration": 17,
    "start_time": "2021-12-13T14:10:05.595Z"
   },
   {
    "duration": 16,
    "start_time": "2021-12-13T14:10:05.613Z"
   },
   {
    "duration": 17,
    "start_time": "2021-12-13T14:10:05.631Z"
   },
   {
    "duration": 17,
    "start_time": "2021-12-13T14:10:05.649Z"
   },
   {
    "duration": 13,
    "start_time": "2021-12-13T14:10:05.668Z"
   },
   {
    "duration": 33,
    "start_time": "2021-12-13T14:10:05.683Z"
   },
   {
    "duration": 7,
    "start_time": "2021-12-13T14:10:05.717Z"
   },
   {
    "duration": 10,
    "start_time": "2021-12-13T14:10:05.726Z"
   },
   {
    "duration": 30,
    "start_time": "2021-12-13T14:10:05.738Z"
   },
   {
    "duration": 10,
    "start_time": "2021-12-13T14:10:05.769Z"
   },
   {
    "duration": 16,
    "start_time": "2021-12-13T14:10:05.781Z"
   },
   {
    "duration": 5,
    "start_time": "2021-12-13T14:10:05.798Z"
   },
   {
    "duration": 9,
    "start_time": "2021-12-13T14:10:05.805Z"
   },
   {
    "duration": 13,
    "start_time": "2021-12-13T14:10:05.818Z"
   },
   {
    "duration": 36,
    "start_time": "2021-12-13T14:10:05.833Z"
   },
   {
    "duration": 7,
    "start_time": "2021-12-13T14:10:05.871Z"
   },
   {
    "duration": 25,
    "start_time": "2021-12-13T14:10:05.880Z"
   },
   {
    "duration": 14,
    "start_time": "2021-12-13T14:10:05.907Z"
   },
   {
    "duration": 43,
    "start_time": "2021-12-13T14:10:05.923Z"
   },
   {
    "duration": 24,
    "start_time": "2021-12-13T14:10:05.968Z"
   },
   {
    "duration": 53,
    "start_time": "2021-12-13T14:11:06.690Z"
   },
   {
    "duration": 14,
    "start_time": "2021-12-13T14:11:06.745Z"
   },
   {
    "duration": 20,
    "start_time": "2021-12-13T14:11:06.762Z"
   },
   {
    "duration": 8,
    "start_time": "2021-12-13T14:11:06.785Z"
   },
   {
    "duration": 35,
    "start_time": "2021-12-13T14:11:06.795Z"
   },
   {
    "duration": 33,
    "start_time": "2021-12-13T14:11:06.832Z"
   },
   {
    "duration": 14,
    "start_time": "2021-12-13T14:11:06.868Z"
   },
   {
    "duration": 30,
    "start_time": "2021-12-13T14:11:06.884Z"
   },
   {
    "duration": 33,
    "start_time": "2021-12-13T14:11:06.916Z"
   },
   {
    "duration": 31,
    "start_time": "2021-12-13T14:11:06.951Z"
   },
   {
    "duration": 22,
    "start_time": "2021-12-13T14:11:06.983Z"
   },
   {
    "duration": 31,
    "start_time": "2021-12-13T14:11:07.007Z"
   },
   {
    "duration": 22,
    "start_time": "2021-12-13T14:11:07.040Z"
   },
   {
    "duration": 30,
    "start_time": "2021-12-13T14:11:07.064Z"
   },
   {
    "duration": 9,
    "start_time": "2021-12-13T14:11:07.096Z"
   },
   {
    "duration": 4,
    "start_time": "2021-12-13T14:11:07.109Z"
   },
   {
    "duration": 10,
    "start_time": "2021-12-13T14:11:07.115Z"
   },
   {
    "duration": 12,
    "start_time": "2021-12-13T14:11:07.127Z"
   },
   {
    "duration": 29,
    "start_time": "2021-12-13T14:11:07.141Z"
   },
   {
    "duration": 9,
    "start_time": "2021-12-13T14:11:07.172Z"
   },
   {
    "duration": 13,
    "start_time": "2021-12-13T14:11:07.183Z"
   },
   {
    "duration": 18,
    "start_time": "2021-12-13T14:11:07.198Z"
   },
   {
    "duration": 44,
    "start_time": "2021-12-13T14:11:07.219Z"
   },
   {
    "duration": 7,
    "start_time": "2021-12-13T14:11:07.266Z"
   },
   {
    "duration": 15,
    "start_time": "2021-12-13T14:11:07.275Z"
   },
   {
    "duration": 24,
    "start_time": "2021-12-13T14:11:07.292Z"
   },
   {
    "duration": 14,
    "start_time": "2021-12-13T14:11:07.318Z"
   },
   {
    "duration": 48,
    "start_time": "2021-12-13T14:11:07.334Z"
   },
   {
    "duration": 5,
    "start_time": "2021-12-13T14:11:07.384Z"
   },
   {
    "duration": 8,
    "start_time": "2021-12-13T14:11:07.391Z"
   },
   {
    "duration": 19,
    "start_time": "2021-12-13T14:11:07.401Z"
   },
   {
    "duration": 7,
    "start_time": "2021-12-13T14:11:07.422Z"
   },
   {
    "duration": 34,
    "start_time": "2021-12-13T14:11:07.430Z"
   },
   {
    "duration": 25,
    "start_time": "2021-12-13T14:11:07.466Z"
   },
   {
    "duration": 13,
    "start_time": "2021-12-13T14:11:07.494Z"
   },
   {
    "duration": 9,
    "start_time": "2021-12-13T14:11:07.509Z"
   },
   {
    "duration": 51,
    "start_time": "2021-12-13T14:11:07.520Z"
   },
   {
    "duration": 429,
    "start_time": "2021-12-13T14:32:10.564Z"
   },
   {
    "duration": 685,
    "start_time": "2021-12-13T14:32:22.467Z"
   },
   {
    "duration": 27,
    "start_time": "2021-12-13T14:32:23.154Z"
   },
   {
    "duration": 12,
    "start_time": "2021-12-13T14:32:23.184Z"
   },
   {
    "duration": 4,
    "start_time": "2021-12-13T14:32:23.197Z"
   },
   {
    "duration": 12,
    "start_time": "2021-12-13T14:32:23.203Z"
   },
   {
    "duration": 13,
    "start_time": "2021-12-13T14:32:23.216Z"
   },
   {
    "duration": 51,
    "start_time": "2021-12-13T14:32:23.231Z"
   },
   {
    "duration": 6,
    "start_time": "2021-12-13T14:32:23.284Z"
   },
   {
    "duration": 10,
    "start_time": "2021-12-13T14:32:23.293Z"
   },
   {
    "duration": 14,
    "start_time": "2021-12-13T14:32:23.305Z"
   },
   {
    "duration": 44,
    "start_time": "2021-12-13T14:32:23.321Z"
   },
   {
    "duration": 13,
    "start_time": "2021-12-13T14:32:23.368Z"
   },
   {
    "duration": 7,
    "start_time": "2021-12-13T14:32:23.383Z"
   },
   {
    "duration": 21,
    "start_time": "2021-12-13T14:32:23.392Z"
   },
   {
    "duration": 9,
    "start_time": "2021-12-13T14:32:23.415Z"
   },
   {
    "duration": 9,
    "start_time": "2021-12-13T14:32:23.425Z"
   },
   {
    "duration": 32,
    "start_time": "2021-12-13T14:32:23.435Z"
   },
   {
    "duration": 18,
    "start_time": "2021-12-13T14:32:23.470Z"
   },
   {
    "duration": 15,
    "start_time": "2021-12-13T14:32:23.489Z"
   },
   {
    "duration": 12,
    "start_time": "2021-12-13T14:32:23.505Z"
   },
   {
    "duration": 11,
    "start_time": "2021-12-13T14:32:23.519Z"
   },
   {
    "duration": 15,
    "start_time": "2021-12-13T14:32:23.532Z"
   },
   {
    "duration": 34,
    "start_time": "2021-12-13T14:32:23.550Z"
   },
   {
    "duration": 5,
    "start_time": "2021-12-13T14:32:23.586Z"
   },
   {
    "duration": 13,
    "start_time": "2021-12-13T14:32:23.592Z"
   },
   {
    "duration": 28,
    "start_time": "2021-12-13T14:32:23.607Z"
   },
   {
    "duration": 10,
    "start_time": "2021-12-13T14:32:23.637Z"
   },
   {
    "duration": 30,
    "start_time": "2021-12-13T14:32:23.648Z"
   },
   {
    "duration": 5,
    "start_time": "2021-12-13T14:32:23.680Z"
   },
   {
    "duration": 7,
    "start_time": "2021-12-13T14:32:23.686Z"
   },
   {
    "duration": 16,
    "start_time": "2021-12-13T14:32:23.695Z"
   },
   {
    "duration": 4,
    "start_time": "2021-12-13T14:32:23.712Z"
   },
   {
    "duration": 7,
    "start_time": "2021-12-13T14:32:23.717Z"
   },
   {
    "duration": 52,
    "start_time": "2021-12-13T14:32:23.726Z"
   },
   {
    "duration": 13,
    "start_time": "2021-12-13T14:32:23.780Z"
   },
   {
    "duration": 22,
    "start_time": "2021-12-13T14:32:23.794Z"
   },
   {
    "duration": 41,
    "start_time": "2021-12-13T14:32:23.818Z"
   },
   {
    "duration": 26,
    "start_time": "2021-12-13T14:44:55.626Z"
   },
   {
    "duration": 48,
    "start_time": "2021-12-13T14:45:08.387Z"
   },
   {
    "duration": 12,
    "start_time": "2021-12-13T14:45:08.437Z"
   },
   {
    "duration": 13,
    "start_time": "2021-12-13T14:45:08.451Z"
   },
   {
    "duration": 4,
    "start_time": "2021-12-13T14:45:08.466Z"
   },
   {
    "duration": 10,
    "start_time": "2021-12-13T14:45:08.471Z"
   },
   {
    "duration": 13,
    "start_time": "2021-12-13T14:45:08.483Z"
   },
   {
    "duration": 11,
    "start_time": "2021-12-13T14:45:08.502Z"
   },
   {
    "duration": 6,
    "start_time": "2021-12-13T14:45:08.515Z"
   },
   {
    "duration": 19,
    "start_time": "2021-12-13T14:45:08.544Z"
   },
   {
    "duration": 12,
    "start_time": "2021-12-13T14:45:08.564Z"
   },
   {
    "duration": 10,
    "start_time": "2021-12-13T14:45:08.578Z"
   },
   {
    "duration": 8,
    "start_time": "2021-12-13T14:45:08.596Z"
   },
   {
    "duration": 6,
    "start_time": "2021-12-13T14:45:08.610Z"
   },
   {
    "duration": 13,
    "start_time": "2021-12-13T14:45:08.624Z"
   },
   {
    "duration": 27,
    "start_time": "2021-12-13T14:45:08.640Z"
   },
   {
    "duration": 4,
    "start_time": "2021-12-13T14:45:08.668Z"
   },
   {
    "duration": 8,
    "start_time": "2021-12-13T14:45:08.675Z"
   },
   {
    "duration": 9,
    "start_time": "2021-12-13T14:45:08.685Z"
   },
   {
    "duration": 8,
    "start_time": "2021-12-13T14:45:08.697Z"
   },
   {
    "duration": 8,
    "start_time": "2021-12-13T14:45:08.708Z"
   },
   {
    "duration": 8,
    "start_time": "2021-12-13T14:45:08.726Z"
   },
   {
    "duration": 21,
    "start_time": "2021-12-13T14:45:08.743Z"
   },
   {
    "duration": 18,
    "start_time": "2021-12-13T14:45:08.766Z"
   },
   {
    "duration": 25,
    "start_time": "2021-12-13T14:45:08.786Z"
   },
   {
    "duration": 6,
    "start_time": "2021-12-13T14:45:08.813Z"
   },
   {
    "duration": 8,
    "start_time": "2021-12-13T14:45:08.820Z"
   },
   {
    "duration": 18,
    "start_time": "2021-12-13T14:45:08.864Z"
   },
   {
    "duration": 9,
    "start_time": "2021-12-13T14:45:08.883Z"
   },
   {
    "duration": 16,
    "start_time": "2021-12-13T14:45:08.894Z"
   },
   {
    "duration": 9,
    "start_time": "2021-12-13T14:45:08.911Z"
   },
   {
    "duration": 8,
    "start_time": "2021-12-13T14:45:08.921Z"
   },
   {
    "duration": 43,
    "start_time": "2021-12-13T14:45:08.931Z"
   },
   {
    "duration": 5,
    "start_time": "2021-12-13T14:45:08.975Z"
   },
   {
    "duration": 5,
    "start_time": "2021-12-13T14:45:08.982Z"
   },
   {
    "duration": 26,
    "start_time": "2021-12-13T14:45:08.988Z"
   },
   {
    "duration": 14,
    "start_time": "2021-12-13T14:45:09.020Z"
   },
   {
    "duration": 18,
    "start_time": "2021-12-13T14:45:09.049Z"
   },
   {
    "duration": 24,
    "start_time": "2021-12-13T14:45:09.080Z"
   },
   {
    "duration": 30,
    "start_time": "2021-12-13T14:45:50.621Z"
   },
   {
    "duration": 51,
    "start_time": "2021-12-13T14:46:03.488Z"
   },
   {
    "duration": 13,
    "start_time": "2021-12-13T14:46:03.541Z"
   },
   {
    "duration": 14,
    "start_time": "2021-12-13T14:46:03.557Z"
   },
   {
    "duration": 5,
    "start_time": "2021-12-13T14:46:03.573Z"
   },
   {
    "duration": 12,
    "start_time": "2021-12-13T14:46:03.580Z"
   },
   {
    "duration": 15,
    "start_time": "2021-12-13T14:46:03.594Z"
   },
   {
    "duration": 15,
    "start_time": "2021-12-13T14:46:03.611Z"
   },
   {
    "duration": 35,
    "start_time": "2021-12-13T14:46:03.629Z"
   },
   {
    "duration": 12,
    "start_time": "2021-12-13T14:46:03.669Z"
   },
   {
    "duration": 14,
    "start_time": "2021-12-13T14:46:03.683Z"
   },
   {
    "duration": 8,
    "start_time": "2021-12-13T14:46:03.699Z"
   },
   {
    "duration": 10,
    "start_time": "2021-12-13T14:46:03.708Z"
   },
   {
    "duration": 50,
    "start_time": "2021-12-13T14:46:03.720Z"
   },
   {
    "duration": 17,
    "start_time": "2021-12-13T14:46:03.772Z"
   },
   {
    "duration": 7,
    "start_time": "2021-12-13T14:46:03.791Z"
   },
   {
    "duration": 11,
    "start_time": "2021-12-13T14:46:03.800Z"
   },
   {
    "duration": 10,
    "start_time": "2021-12-13T14:46:03.813Z"
   },
   {
    "duration": 10,
    "start_time": "2021-12-13T14:46:03.825Z"
   },
   {
    "duration": 31,
    "start_time": "2021-12-13T14:46:03.837Z"
   },
   {
    "duration": 7,
    "start_time": "2021-12-13T14:46:03.870Z"
   },
   {
    "duration": 11,
    "start_time": "2021-12-13T14:46:03.878Z"
   },
   {
    "duration": 7,
    "start_time": "2021-12-13T14:46:03.891Z"
   },
   {
    "duration": 25,
    "start_time": "2021-12-13T14:46:03.900Z"
   },
   {
    "duration": 59,
    "start_time": "2021-12-13T14:46:03.926Z"
   },
   {
    "duration": 6,
    "start_time": "2021-12-13T14:46:03.987Z"
   },
   {
    "duration": 7,
    "start_time": "2021-12-13T14:46:03.995Z"
   },
   {
    "duration": 18,
    "start_time": "2021-12-13T14:46:04.003Z"
   },
   {
    "duration": 44,
    "start_time": "2021-12-13T14:46:04.023Z"
   },
   {
    "duration": 16,
    "start_time": "2021-12-13T14:46:04.069Z"
   },
   {
    "duration": 5,
    "start_time": "2021-12-13T14:46:04.087Z"
   },
   {
    "duration": 5,
    "start_time": "2021-12-13T14:46:04.093Z"
   },
   {
    "duration": 16,
    "start_time": "2021-12-13T14:46:04.099Z"
   },
   {
    "duration": 5,
    "start_time": "2021-12-13T14:46:04.118Z"
   },
   {
    "duration": 41,
    "start_time": "2021-12-13T14:46:04.124Z"
   },
   {
    "duration": 25,
    "start_time": "2021-12-13T14:46:04.167Z"
   },
   {
    "duration": 15,
    "start_time": "2021-12-13T14:46:04.194Z"
   },
   {
    "duration": 9,
    "start_time": "2021-12-13T14:46:04.211Z"
   },
   {
    "duration": 55,
    "start_time": "2021-12-13T14:46:04.222Z"
   },
   {
    "duration": 23,
    "start_time": "2021-12-13T14:47:24.960Z"
   },
   {
    "duration": 50,
    "start_time": "2021-12-13T14:47:32.951Z"
   },
   {
    "duration": 14,
    "start_time": "2021-12-13T14:47:33.081Z"
   },
   {
    "duration": 12,
    "start_time": "2021-12-13T14:47:33.097Z"
   },
   {
    "duration": 4,
    "start_time": "2021-12-13T14:47:33.111Z"
   },
   {
    "duration": 15,
    "start_time": "2021-12-13T14:47:33.117Z"
   },
   {
    "duration": 13,
    "start_time": "2021-12-13T14:47:33.134Z"
   },
   {
    "duration": 22,
    "start_time": "2021-12-13T14:47:33.148Z"
   },
   {
    "duration": 7,
    "start_time": "2021-12-13T14:47:33.172Z"
   },
   {
    "duration": 11,
    "start_time": "2021-12-13T14:47:33.180Z"
   },
   {
    "duration": 19,
    "start_time": "2021-12-13T14:47:33.193Z"
   },
   {
    "duration": 7,
    "start_time": "2021-12-13T14:47:33.214Z"
   },
   {
    "duration": 45,
    "start_time": "2021-12-13T14:47:33.223Z"
   },
   {
    "duration": 8,
    "start_time": "2021-12-13T14:47:33.270Z"
   },
   {
    "duration": 19,
    "start_time": "2021-12-13T14:47:33.280Z"
   },
   {
    "duration": 7,
    "start_time": "2021-12-13T14:47:33.300Z"
   },
   {
    "duration": 6,
    "start_time": "2021-12-13T14:47:33.309Z"
   },
   {
    "duration": 9,
    "start_time": "2021-12-13T14:47:33.316Z"
   },
   {
    "duration": 43,
    "start_time": "2021-12-13T14:47:33.327Z"
   },
   {
    "duration": 8,
    "start_time": "2021-12-13T14:47:33.372Z"
   },
   {
    "duration": 17,
    "start_time": "2021-12-13T14:47:33.381Z"
   },
   {
    "duration": 12,
    "start_time": "2021-12-13T14:47:33.400Z"
   },
   {
    "duration": 15,
    "start_time": "2021-12-13T14:47:33.414Z"
   },
   {
    "duration": 47,
    "start_time": "2021-12-13T14:47:33.432Z"
   },
   {
    "duration": 29,
    "start_time": "2021-12-13T14:47:33.481Z"
   },
   {
    "duration": 6,
    "start_time": "2021-12-13T14:47:33.512Z"
   },
   {
    "duration": 8,
    "start_time": "2021-12-13T14:47:33.520Z"
   },
   {
    "duration": 18,
    "start_time": "2021-12-13T14:47:33.563Z"
   },
   {
    "duration": 10,
    "start_time": "2021-12-13T14:47:33.583Z"
   },
   {
    "duration": 17,
    "start_time": "2021-12-13T14:47:33.595Z"
   },
   {
    "duration": 5,
    "start_time": "2021-12-13T14:47:33.614Z"
   },
   {
    "duration": 44,
    "start_time": "2021-12-13T14:47:33.620Z"
   },
   {
    "duration": 14,
    "start_time": "2021-12-13T14:47:33.666Z"
   },
   {
    "duration": 5,
    "start_time": "2021-12-13T14:47:33.681Z"
   },
   {
    "duration": 12,
    "start_time": "2021-12-13T14:47:33.688Z"
   },
   {
    "duration": 26,
    "start_time": "2021-12-13T14:47:33.702Z"
   },
   {
    "duration": 39,
    "start_time": "2021-12-13T14:47:33.729Z"
   },
   {
    "duration": 10,
    "start_time": "2021-12-13T14:47:33.770Z"
   },
   {
    "duration": 24,
    "start_time": "2021-12-13T14:47:33.781Z"
   },
   {
    "duration": 78,
    "start_time": "2021-12-13T14:49:34.287Z"
   },
   {
    "duration": 81,
    "start_time": "2021-12-13T14:50:16.092Z"
   },
   {
    "duration": 19,
    "start_time": "2021-12-13T14:50:51.718Z"
   },
   {
    "duration": 30,
    "start_time": "2021-12-13T14:51:18.529Z"
   },
   {
    "duration": 48,
    "start_time": "2021-12-13T14:52:07.098Z"
   },
   {
    "duration": 13,
    "start_time": "2021-12-13T14:52:07.180Z"
   },
   {
    "duration": 10,
    "start_time": "2021-12-13T14:52:07.233Z"
   },
   {
    "duration": 5,
    "start_time": "2021-12-13T14:52:07.245Z"
   },
   {
    "duration": 13,
    "start_time": "2021-12-13T14:52:07.274Z"
   },
   {
    "duration": 12,
    "start_time": "2021-12-13T14:52:07.308Z"
   },
   {
    "duration": 12,
    "start_time": "2021-12-13T14:52:07.327Z"
   },
   {
    "duration": 7,
    "start_time": "2021-12-13T14:52:07.375Z"
   },
   {
    "duration": 11,
    "start_time": "2021-12-13T14:52:07.462Z"
   },
   {
    "duration": 13,
    "start_time": "2021-12-13T14:52:07.489Z"
   },
   {
    "duration": 8,
    "start_time": "2021-12-13T14:52:07.597Z"
   },
   {
    "duration": 9,
    "start_time": "2021-12-13T14:52:07.628Z"
   },
   {
    "duration": 7,
    "start_time": "2021-12-13T14:52:07.641Z"
   },
   {
    "duration": 15,
    "start_time": "2021-12-13T14:52:07.711Z"
   },
   {
    "duration": 8,
    "start_time": "2021-12-13T14:52:07.737Z"
   },
   {
    "duration": 4,
    "start_time": "2021-12-13T14:52:07.769Z"
   },
   {
    "duration": 6,
    "start_time": "2021-12-13T14:52:07.804Z"
   },
   {
    "duration": 7,
    "start_time": "2021-12-13T14:52:07.876Z"
   },
   {
    "duration": 8,
    "start_time": "2021-12-13T14:52:07.887Z"
   },
   {
    "duration": 9,
    "start_time": "2021-12-13T14:52:07.899Z"
   },
   {
    "duration": 8,
    "start_time": "2021-12-13T14:52:07.912Z"
   },
   {
    "duration": 9,
    "start_time": "2021-12-13T14:52:07.924Z"
   },
   {
    "duration": 26,
    "start_time": "2021-12-13T14:52:07.939Z"
   },
   {
    "duration": 13,
    "start_time": "2021-12-13T14:52:07.966Z"
   },
   {
    "duration": 7,
    "start_time": "2021-12-13T14:52:07.981Z"
   },
   {
    "duration": 6,
    "start_time": "2021-12-13T14:52:08.001Z"
   },
   {
    "duration": 17,
    "start_time": "2021-12-13T14:52:08.024Z"
   },
   {
    "duration": 23,
    "start_time": "2021-12-13T14:52:08.043Z"
   },
   {
    "duration": 16,
    "start_time": "2021-12-13T14:52:08.068Z"
   },
   {
    "duration": 4,
    "start_time": "2021-12-13T14:52:08.086Z"
   },
   {
    "duration": 23,
    "start_time": "2021-12-13T14:52:08.093Z"
   },
   {
    "duration": 24,
    "start_time": "2021-12-13T14:52:08.118Z"
   },
   {
    "duration": 19,
    "start_time": "2021-12-13T14:52:08.144Z"
   },
   {
    "duration": 21,
    "start_time": "2021-12-13T14:52:08.165Z"
   },
   {
    "duration": 49,
    "start_time": "2021-12-13T14:52:08.187Z"
   },
   {
    "duration": 13,
    "start_time": "2021-12-13T14:52:08.238Z"
   },
   {
    "duration": 16,
    "start_time": "2021-12-13T14:52:08.252Z"
   },
   {
    "duration": 41,
    "start_time": "2021-12-13T14:52:08.270Z"
   },
   {
    "duration": 6,
    "start_time": "2021-12-13T14:54:34.838Z"
   },
   {
    "duration": 15,
    "start_time": "2021-12-13T14:54:46.420Z"
   },
   {
    "duration": 48,
    "start_time": "2021-12-13T14:55:01.118Z"
   },
   {
    "duration": 12,
    "start_time": "2021-12-13T14:55:01.168Z"
   },
   {
    "duration": 25,
    "start_time": "2021-12-13T14:55:01.182Z"
   },
   {
    "duration": 6,
    "start_time": "2021-12-13T14:55:01.209Z"
   },
   {
    "duration": 16,
    "start_time": "2021-12-13T14:55:01.218Z"
   },
   {
    "duration": 14,
    "start_time": "2021-12-13T14:55:01.244Z"
   },
   {
    "duration": 12,
    "start_time": "2021-12-13T14:55:01.266Z"
   },
   {
    "duration": 9,
    "start_time": "2021-12-13T14:55:01.282Z"
   },
   {
    "duration": 10,
    "start_time": "2021-12-13T14:55:01.316Z"
   },
   {
    "duration": 36,
    "start_time": "2021-12-13T14:55:01.328Z"
   },
   {
    "duration": 7,
    "start_time": "2021-12-13T14:55:01.366Z"
   },
   {
    "duration": 17,
    "start_time": "2021-12-13T14:55:01.375Z"
   },
   {
    "duration": 8,
    "start_time": "2021-12-13T14:55:01.394Z"
   },
   {
    "duration": 19,
    "start_time": "2021-12-13T14:55:01.404Z"
   },
   {
    "duration": 7,
    "start_time": "2021-12-13T14:55:01.424Z"
   },
   {
    "duration": 10,
    "start_time": "2021-12-13T14:55:01.433Z"
   },
   {
    "duration": 6,
    "start_time": "2021-12-13T14:55:01.466Z"
   },
   {
    "duration": 18,
    "start_time": "2021-12-13T14:55:01.473Z"
   },
   {
    "duration": 9,
    "start_time": "2021-12-13T14:55:01.493Z"
   },
   {
    "duration": 10,
    "start_time": "2021-12-13T14:55:01.504Z"
   },
   {
    "duration": 11,
    "start_time": "2021-12-13T14:55:01.516Z"
   },
   {
    "duration": 16,
    "start_time": "2021-12-13T14:55:01.528Z"
   },
   {
    "duration": 27,
    "start_time": "2021-12-13T14:55:01.545Z"
   },
   {
    "duration": 14,
    "start_time": "2021-12-13T14:55:01.574Z"
   },
   {
    "duration": 13,
    "start_time": "2021-12-13T14:55:01.590Z"
   },
   {
    "duration": 12,
    "start_time": "2021-12-13T14:55:01.605Z"
   },
   {
    "duration": 12,
    "start_time": "2021-12-13T14:55:01.619Z"
   },
   {
    "duration": 47,
    "start_time": "2021-12-13T14:55:01.633Z"
   },
   {
    "duration": 19,
    "start_time": "2021-12-13T14:55:01.682Z"
   },
   {
    "duration": 23,
    "start_time": "2021-12-13T14:55:01.702Z"
   },
   {
    "duration": 5,
    "start_time": "2021-12-13T14:55:01.726Z"
   },
   {
    "duration": 49,
    "start_time": "2021-12-13T14:55:01.732Z"
   },
   {
    "duration": 17,
    "start_time": "2021-12-13T14:55:01.782Z"
   },
   {
    "duration": 4,
    "start_time": "2021-12-13T14:55:01.801Z"
   },
   {
    "duration": 12,
    "start_time": "2021-12-13T14:55:01.807Z"
   },
   {
    "duration": 30,
    "start_time": "2021-12-13T14:55:01.820Z"
   },
   {
    "duration": 15,
    "start_time": "2021-12-13T14:55:01.852Z"
   },
   {
    "duration": 10,
    "start_time": "2021-12-13T14:55:01.868Z"
   },
   {
    "duration": 28,
    "start_time": "2021-12-13T14:55:01.880Z"
   },
   {
    "duration": 12,
    "start_time": "2021-12-13T14:56:18.617Z"
   },
   {
    "duration": 20,
    "start_time": "2021-12-13T14:56:55.418Z"
   },
   {
    "duration": 52,
    "start_time": "2021-12-13T14:57:03.577Z"
   },
   {
    "duration": 12,
    "start_time": "2021-12-13T14:57:03.631Z"
   },
   {
    "duration": 12,
    "start_time": "2021-12-13T14:57:03.645Z"
   },
   {
    "duration": 4,
    "start_time": "2021-12-13T14:57:03.659Z"
   },
   {
    "duration": 11,
    "start_time": "2021-12-13T14:57:03.665Z"
   },
   {
    "duration": 14,
    "start_time": "2021-12-13T14:57:03.678Z"
   },
   {
    "duration": 12,
    "start_time": "2021-12-13T14:57:03.695Z"
   },
   {
    "duration": 7,
    "start_time": "2021-12-13T14:57:03.711Z"
   },
   {
    "duration": 19,
    "start_time": "2021-12-13T14:57:03.745Z"
   },
   {
    "duration": 13,
    "start_time": "2021-12-13T14:57:03.765Z"
   },
   {
    "duration": 7,
    "start_time": "2021-12-13T14:57:03.780Z"
   },
   {
    "duration": 9,
    "start_time": "2021-12-13T14:57:03.798Z"
   },
   {
    "duration": 7,
    "start_time": "2021-12-13T14:57:03.813Z"
   },
   {
    "duration": 39,
    "start_time": "2021-12-13T14:57:03.827Z"
   },
   {
    "duration": 9,
    "start_time": "2021-12-13T14:57:03.867Z"
   },
   {
    "duration": 6,
    "start_time": "2021-12-13T14:57:03.878Z"
   },
   {
    "duration": 10,
    "start_time": "2021-12-13T14:57:03.885Z"
   },
   {
    "duration": 9,
    "start_time": "2021-12-13T14:57:03.900Z"
   },
   {
    "duration": 7,
    "start_time": "2021-12-13T14:57:03.915Z"
   },
   {
    "duration": 6,
    "start_time": "2021-12-13T14:57:03.931Z"
   },
   {
    "duration": 15,
    "start_time": "2021-12-13T14:57:03.948Z"
   },
   {
    "duration": 8,
    "start_time": "2021-12-13T14:57:03.967Z"
   },
   {
    "duration": 21,
    "start_time": "2021-12-13T14:57:03.983Z"
   },
   {
    "duration": 14,
    "start_time": "2021-12-13T14:57:04.010Z"
   },
   {
    "duration": 17,
    "start_time": "2021-12-13T14:57:04.031Z"
   },
   {
    "duration": 7,
    "start_time": "2021-12-13T14:57:04.064Z"
   },
   {
    "duration": 9,
    "start_time": "2021-12-13T14:57:04.072Z"
   },
   {
    "duration": 17,
    "start_time": "2021-12-13T14:57:04.086Z"
   },
   {
    "duration": 10,
    "start_time": "2021-12-13T14:57:04.106Z"
   },
   {
    "duration": 18,
    "start_time": "2021-12-13T14:57:04.118Z"
   },
   {
    "duration": 6,
    "start_time": "2021-12-13T14:57:04.164Z"
   },
   {
    "duration": 4,
    "start_time": "2021-12-13T14:57:04.172Z"
   },
   {
    "duration": 13,
    "start_time": "2021-12-13T14:57:04.179Z"
   },
   {
    "duration": 5,
    "start_time": "2021-12-13T14:57:04.195Z"
   },
   {
    "duration": 5,
    "start_time": "2021-12-13T14:57:04.213Z"
   },
   {
    "duration": 34,
    "start_time": "2021-12-13T14:57:04.230Z"
   },
   {
    "duration": 12,
    "start_time": "2021-12-13T14:57:04.266Z"
   },
   {
    "duration": 12,
    "start_time": "2021-12-13T14:57:04.281Z"
   },
   {
    "duration": 23,
    "start_time": "2021-12-13T14:57:04.294Z"
   },
   {
    "duration": 14,
    "start_time": "2021-12-13T14:59:58.636Z"
   },
   {
    "duration": 5,
    "start_time": "2021-12-13T15:06:32.704Z"
   },
   {
    "duration": 7,
    "start_time": "2021-12-13T15:09:34.738Z"
   },
   {
    "duration": 4,
    "start_time": "2021-12-13T15:10:22.619Z"
   },
   {
    "duration": 13,
    "start_time": "2021-12-13T15:10:26.344Z"
   },
   {
    "duration": 5,
    "start_time": "2021-12-13T15:10:30.908Z"
   },
   {
    "duration": 5,
    "start_time": "2021-12-13T15:10:32.483Z"
   },
   {
    "duration": 23,
    "start_time": "2021-12-13T15:10:47.788Z"
   },
   {
    "duration": 19,
    "start_time": "2021-12-13T15:12:12.728Z"
   },
   {
    "duration": 26,
    "start_time": "2021-12-13T15:16:28.441Z"
   },
   {
    "duration": 76,
    "start_time": "2021-12-13T15:17:34.279Z"
   },
   {
    "duration": 19,
    "start_time": "2021-12-13T15:17:41.265Z"
   },
   {
    "duration": 11,
    "start_time": "2021-12-13T15:27:51.604Z"
   },
   {
    "duration": 21,
    "start_time": "2021-12-13T15:55:04.250Z"
   },
   {
    "duration": 19,
    "start_time": "2021-12-13T15:55:09.800Z"
   },
   {
    "duration": 260,
    "start_time": "2021-12-13T15:57:01.272Z"
   },
   {
    "duration": 19,
    "start_time": "2021-12-13T15:57:29.500Z"
   },
   {
    "duration": 21,
    "start_time": "2021-12-13T16:01:02.163Z"
   },
   {
    "duration": 248,
    "start_time": "2021-12-13T16:14:51.940Z"
   },
   {
    "duration": 16,
    "start_time": "2021-12-13T16:14:59.119Z"
   },
   {
    "duration": 16,
    "start_time": "2021-12-13T16:16:02.749Z"
   },
   {
    "duration": 29,
    "start_time": "2021-12-13T16:16:36.499Z"
   },
   {
    "duration": 16,
    "start_time": "2021-12-13T16:17:13.711Z"
   },
   {
    "duration": 26,
    "start_time": "2021-12-13T16:19:38.514Z"
   },
   {
    "duration": 26,
    "start_time": "2021-12-13T16:20:20.147Z"
   },
   {
    "duration": 47,
    "start_time": "2021-12-13T16:20:24.169Z"
   },
   {
    "duration": 12,
    "start_time": "2021-12-13T16:20:24.218Z"
   },
   {
    "duration": 16,
    "start_time": "2021-12-13T16:20:24.232Z"
   },
   {
    "duration": 3,
    "start_time": "2021-12-13T16:20:24.250Z"
   },
   {
    "duration": 12,
    "start_time": "2021-12-13T16:20:24.254Z"
   },
   {
    "duration": 12,
    "start_time": "2021-12-13T16:20:24.267Z"
   },
   {
    "duration": 14,
    "start_time": "2021-12-13T16:20:24.280Z"
   },
   {
    "duration": 7,
    "start_time": "2021-12-13T16:20:24.295Z"
   },
   {
    "duration": 10,
    "start_time": "2021-12-13T16:20:24.304Z"
   },
   {
    "duration": 48,
    "start_time": "2021-12-13T16:20:24.316Z"
   },
   {
    "duration": 8,
    "start_time": "2021-12-13T16:20:24.366Z"
   },
   {
    "duration": 8,
    "start_time": "2021-12-13T16:20:24.375Z"
   },
   {
    "duration": 7,
    "start_time": "2021-12-13T16:20:24.385Z"
   },
   {
    "duration": 19,
    "start_time": "2021-12-13T16:20:24.393Z"
   },
   {
    "duration": 15,
    "start_time": "2021-12-13T16:20:24.413Z"
   },
   {
    "duration": 10,
    "start_time": "2021-12-13T16:20:24.429Z"
   },
   {
    "duration": 25,
    "start_time": "2021-12-13T16:20:24.441Z"
   },
   {
    "duration": 7,
    "start_time": "2021-12-13T16:20:24.468Z"
   },
   {
    "duration": 8,
    "start_time": "2021-12-13T16:20:24.477Z"
   },
   {
    "duration": 9,
    "start_time": "2021-12-13T16:20:24.487Z"
   },
   {
    "duration": 9,
    "start_time": "2021-12-13T16:20:24.498Z"
   },
   {
    "duration": 8,
    "start_time": "2021-12-13T16:20:24.509Z"
   },
   {
    "duration": 28,
    "start_time": "2021-12-13T16:20:24.519Z"
   },
   {
    "duration": 13,
    "start_time": "2021-12-13T16:20:24.563Z"
   },
   {
    "duration": 25,
    "start_time": "2021-12-13T16:20:24.577Z"
   },
   {
    "duration": 10,
    "start_time": "2021-12-13T16:20:24.604Z"
   },
   {
    "duration": 44,
    "start_time": "2021-12-13T16:20:24.616Z"
   },
   {
    "duration": 5,
    "start_time": "2021-12-13T16:20:24.661Z"
   },
   {
    "duration": 21,
    "start_time": "2021-12-13T16:20:24.667Z"
   },
   {
    "duration": 39,
    "start_time": "2021-12-13T16:20:24.689Z"
   },
   {
    "duration": 22,
    "start_time": "2021-12-13T16:20:24.730Z"
   },
   {
    "duration": 21,
    "start_time": "2021-12-13T16:20:24.754Z"
   },
   {
    "duration": 13,
    "start_time": "2021-12-13T16:20:24.777Z"
   },
   {
    "duration": 25,
    "start_time": "2021-12-13T16:20:24.818Z"
   },
   {
    "duration": 27,
    "start_time": "2021-12-13T16:20:36.570Z"
   },
   {
    "duration": 85,
    "start_time": "2021-12-13T16:41:38.843Z"
   },
   {
    "duration": 239,
    "start_time": "2021-12-13T16:44:23.488Z"
   },
   {
    "duration": 245,
    "start_time": "2021-12-13T16:46:04.059Z"
   },
   {
    "duration": 249,
    "start_time": "2021-12-13T16:46:07.563Z"
   },
   {
    "duration": 52,
    "start_time": "2021-12-13T16:46:12.254Z"
   },
   {
    "duration": 15,
    "start_time": "2021-12-13T16:46:12.308Z"
   },
   {
    "duration": 37,
    "start_time": "2021-12-13T16:46:12.326Z"
   },
   {
    "duration": 11,
    "start_time": "2021-12-13T16:46:12.365Z"
   },
   {
    "duration": 34,
    "start_time": "2021-12-13T16:46:12.378Z"
   },
   {
    "duration": 29,
    "start_time": "2021-12-13T16:46:12.414Z"
   },
   {
    "duration": 22,
    "start_time": "2021-12-13T16:46:12.445Z"
   },
   {
    "duration": 22,
    "start_time": "2021-12-13T16:46:12.469Z"
   },
   {
    "duration": 26,
    "start_time": "2021-12-13T16:46:12.493Z"
   },
   {
    "duration": 21,
    "start_time": "2021-12-13T16:46:12.521Z"
   },
   {
    "duration": 44,
    "start_time": "2021-12-13T16:46:12.544Z"
   },
   {
    "duration": 34,
    "start_time": "2021-12-13T16:46:12.590Z"
   },
   {
    "duration": 25,
    "start_time": "2021-12-13T16:46:12.625Z"
   },
   {
    "duration": 35,
    "start_time": "2021-12-13T16:46:12.652Z"
   },
   {
    "duration": 24,
    "start_time": "2021-12-13T16:46:12.689Z"
   },
   {
    "duration": 25,
    "start_time": "2021-12-13T16:46:12.715Z"
   },
   {
    "duration": 27,
    "start_time": "2021-12-13T16:46:12.742Z"
   },
   {
    "duration": 31,
    "start_time": "2021-12-13T16:46:12.771Z"
   },
   {
    "duration": 29,
    "start_time": "2021-12-13T16:46:12.804Z"
   },
   {
    "duration": 43,
    "start_time": "2021-12-13T16:46:12.835Z"
   },
   {
    "duration": 19,
    "start_time": "2021-12-13T16:46:12.880Z"
   },
   {
    "duration": 24,
    "start_time": "2021-12-13T16:46:12.901Z"
   },
   {
    "duration": 38,
    "start_time": "2021-12-13T16:46:12.927Z"
   },
   {
    "duration": 14,
    "start_time": "2021-12-13T16:46:12.967Z"
   },
   {
    "duration": 34,
    "start_time": "2021-12-13T16:46:12.983Z"
   },
   {
    "duration": 13,
    "start_time": "2021-12-13T16:46:13.019Z"
   },
   {
    "duration": 34,
    "start_time": "2021-12-13T16:46:13.035Z"
   },
   {
    "duration": 30,
    "start_time": "2021-12-13T16:46:13.071Z"
   },
   {
    "duration": 28,
    "start_time": "2021-12-13T16:46:13.102Z"
   },
   {
    "duration": 32,
    "start_time": "2021-12-13T16:46:13.133Z"
   },
   {
    "duration": 25,
    "start_time": "2021-12-13T16:46:13.168Z"
   },
   {
    "duration": 38,
    "start_time": "2021-12-13T16:46:13.195Z"
   },
   {
    "duration": 17,
    "start_time": "2021-12-13T16:46:13.235Z"
   },
   {
    "duration": 32,
    "start_time": "2021-12-13T16:46:13.254Z"
   },
   {
    "duration": 295,
    "start_time": "2021-12-13T16:46:13.288Z"
   },
   {
    "duration": 253,
    "start_time": "2021-12-13T16:48:02.134Z"
   },
   {
    "duration": 11,
    "start_time": "2021-12-13T16:48:18.360Z"
   },
   {
    "duration": 13,
    "start_time": "2021-12-13T16:48:23.483Z"
   },
   {
    "duration": 23,
    "start_time": "2021-12-13T16:48:40.958Z"
   },
   {
    "duration": 392,
    "start_time": "2021-12-13T16:53:26.674Z"
   },
   {
    "duration": 429,
    "start_time": "2021-12-13T16:53:43.624Z"
   },
   {
    "duration": 47,
    "start_time": "2021-12-13T16:54:48.510Z"
   },
   {
    "duration": 24,
    "start_time": "2021-12-13T16:55:06.387Z"
   },
   {
    "duration": 427,
    "start_time": "2021-12-13T19:10:09.331Z"
   },
   {
    "duration": 509,
    "start_time": "2021-12-13T19:10:17.737Z"
   },
   {
    "duration": 902,
    "start_time": "2021-12-13T19:10:22.722Z"
   },
   {
    "duration": 29,
    "start_time": "2021-12-13T19:10:23.628Z"
   },
   {
    "duration": 365,
    "start_time": "2021-12-13T19:10:23.660Z"
   },
   {
    "duration": 632,
    "start_time": "2021-12-13T19:10:24.028Z"
   },
   {
    "duration": 314,
    "start_time": "2021-12-13T19:10:24.663Z"
   },
   {
    "duration": 251,
    "start_time": "2021-12-13T19:10:24.980Z"
   },
   {
    "duration": 254,
    "start_time": "2021-12-13T19:10:25.234Z"
   },
   {
    "duration": 170,
    "start_time": "2021-12-13T19:10:25.493Z"
   },
   {
    "duration": 308,
    "start_time": "2021-12-13T19:10:25.667Z"
   },
   {
    "duration": 301,
    "start_time": "2021-12-13T19:10:25.979Z"
   },
   {
    "duration": 281,
    "start_time": "2021-12-13T19:10:26.283Z"
   },
   {
    "duration": 480,
    "start_time": "2021-12-13T19:10:26.566Z"
   },
   {
    "duration": 567,
    "start_time": "2021-12-13T19:10:27.048Z"
   },
   {
    "duration": 742,
    "start_time": "2021-12-13T19:10:27.618Z"
   },
   {
    "duration": 654,
    "start_time": "2021-12-13T19:10:28.363Z"
   },
   {
    "duration": 1045,
    "start_time": "2021-12-13T19:10:29.020Z"
   },
   {
    "duration": 1040,
    "start_time": "2021-12-13T19:10:30.068Z"
   },
   {
    "duration": 657,
    "start_time": "2021-12-13T19:10:31.111Z"
   },
   {
    "duration": 422,
    "start_time": "2021-12-13T19:10:31.770Z"
   },
   {
    "duration": 1007,
    "start_time": "2021-12-13T19:10:32.194Z"
   },
   {
    "duration": 758,
    "start_time": "2021-12-13T19:10:33.204Z"
   },
   {
    "duration": 673,
    "start_time": "2021-12-13T19:10:33.964Z"
   },
   {
    "duration": 689,
    "start_time": "2021-12-13T19:10:34.642Z"
   },
   {
    "duration": 1223,
    "start_time": "2021-12-13T19:10:35.334Z"
   },
   {
    "duration": 1142,
    "start_time": "2021-12-13T19:10:36.560Z"
   },
   {
    "duration": 1178,
    "start_time": "2021-12-13T19:10:37.704Z"
   },
   {
    "duration": 957,
    "start_time": "2021-12-13T19:10:38.885Z"
   },
   {
    "duration": 842,
    "start_time": "2021-12-13T19:10:39.844Z"
   },
   {
    "duration": 569,
    "start_time": "2021-12-13T19:10:40.689Z"
   },
   {
    "duration": 535,
    "start_time": "2021-12-13T19:10:41.261Z"
   },
   {
    "duration": 912,
    "start_time": "2021-12-13T19:10:41.799Z"
   },
   {
    "duration": 609,
    "start_time": "2021-12-13T19:10:42.714Z"
   },
   {
    "duration": 579,
    "start_time": "2021-12-13T19:10:43.326Z"
   },
   {
    "duration": 295,
    "start_time": "2021-12-13T19:10:43.908Z"
   },
   {
    "duration": 318,
    "start_time": "2021-12-13T19:10:44.206Z"
   },
   {
    "duration": 271,
    "start_time": "2021-12-13T19:10:44.839Z"
   },
   {
    "duration": 57,
    "start_time": "2021-12-13T19:11:11.814Z"
   },
   {
    "duration": 55,
    "start_time": "2021-12-13T19:11:19.620Z"
   },
   {
    "duration": 29,
    "start_time": "2021-12-13T19:11:20.429Z"
   },
   {
    "duration": 23,
    "start_time": "2021-12-13T19:11:27.465Z"
   },
   {
    "duration": 57,
    "start_time": "2021-12-13T19:11:33.892Z"
   },
   {
    "duration": 498,
    "start_time": "2021-12-13T19:11:33.951Z"
   },
   {
    "duration": 666,
    "start_time": "2021-12-13T19:11:34.452Z"
   },
   {
    "duration": 1122,
    "start_time": "2021-12-13T19:11:35.120Z"
   },
   {
    "duration": 1159,
    "start_time": "2021-12-13T19:11:36.245Z"
   },
   {
    "duration": 434,
    "start_time": "2021-12-13T19:11:37.407Z"
   },
   {
    "duration": 581,
    "start_time": "2021-12-13T19:11:37.843Z"
   },
   {
    "duration": 388,
    "start_time": "2021-12-13T19:11:38.428Z"
   },
   {
    "duration": 487,
    "start_time": "2021-12-13T19:11:38.819Z"
   },
   {
    "duration": 325,
    "start_time": "2021-12-13T19:11:39.309Z"
   },
   {
    "duration": 585,
    "start_time": "2021-12-13T19:11:39.636Z"
   },
   {
    "duration": 406,
    "start_time": "2021-12-13T19:11:40.223Z"
   },
   {
    "duration": 377,
    "start_time": "2021-12-13T19:11:40.632Z"
   },
   {
    "duration": 328,
    "start_time": "2021-12-13T19:11:41.012Z"
   },
   {
    "duration": 356,
    "start_time": "2021-12-13T19:11:41.343Z"
   },
   {
    "duration": 533,
    "start_time": "2021-12-13T19:11:41.701Z"
   },
   {
    "duration": 339,
    "start_time": "2021-12-13T19:11:42.236Z"
   },
   {
    "duration": 340,
    "start_time": "2021-12-13T19:11:42.577Z"
   },
   {
    "duration": 373,
    "start_time": "2021-12-13T19:11:42.919Z"
   },
   {
    "duration": 876,
    "start_time": "2021-12-13T19:11:43.294Z"
   },
   {
    "duration": 471,
    "start_time": "2021-12-13T19:11:44.172Z"
   },
   {
    "duration": 291,
    "start_time": "2021-12-13T19:11:44.645Z"
   },
   {
    "duration": 524,
    "start_time": "2021-12-13T19:11:44.940Z"
   },
   {
    "duration": 499,
    "start_time": "2021-12-13T19:11:45.468Z"
   },
   {
    "duration": 466,
    "start_time": "2021-12-13T19:11:45.969Z"
   },
   {
    "duration": 394,
    "start_time": "2021-12-13T19:11:46.438Z"
   },
   {
    "duration": 372,
    "start_time": "2021-12-13T19:11:46.835Z"
   },
   {
    "duration": 332,
    "start_time": "2021-12-13T19:11:47.210Z"
   },
   {
    "duration": 335,
    "start_time": "2021-12-13T19:11:47.545Z"
   },
   {
    "duration": 395,
    "start_time": "2021-12-13T19:11:47.883Z"
   },
   {
    "duration": 336,
    "start_time": "2021-12-13T19:11:48.281Z"
   },
   {
    "duration": 324,
    "start_time": "2021-12-13T19:11:48.621Z"
   },
   {
    "duration": 329,
    "start_time": "2021-12-13T19:11:48.947Z"
   },
   {
    "duration": 614,
    "start_time": "2021-12-13T19:11:49.278Z"
   },
   {
    "duration": 377,
    "start_time": "2021-12-13T19:11:49.895Z"
   },
   {
    "duration": 485,
    "start_time": "2021-12-13T19:11:50.274Z"
   },
   {
    "duration": 87,
    "start_time": "2021-12-13T19:12:47.629Z"
   },
   {
    "duration": 235,
    "start_time": "2021-12-13T19:12:48.587Z"
   },
   {
    "duration": 57,
    "start_time": "2021-12-13T19:12:55.347Z"
   },
   {
    "duration": 29,
    "start_time": "2021-12-13T19:12:56.847Z"
   },
   {
    "duration": 60,
    "start_time": "2021-12-13T19:14:20.073Z"
   },
   {
    "duration": 368,
    "start_time": "2021-12-13T19:14:20.136Z"
   },
   {
    "duration": 264,
    "start_time": "2021-12-13T19:14:20.507Z"
   },
   {
    "duration": 199,
    "start_time": "2021-12-13T19:14:20.774Z"
   },
   {
    "duration": 215,
    "start_time": "2021-12-13T19:14:20.975Z"
   },
   {
    "duration": 270,
    "start_time": "2021-12-13T19:14:21.194Z"
   },
   {
    "duration": 401,
    "start_time": "2021-12-13T19:14:21.466Z"
   },
   {
    "duration": 285,
    "start_time": "2021-12-13T19:14:21.870Z"
   },
   {
    "duration": 330,
    "start_time": "2021-12-13T19:14:22.157Z"
   },
   {
    "duration": 337,
    "start_time": "2021-12-13T19:14:22.490Z"
   },
   {
    "duration": 341,
    "start_time": "2021-12-13T19:14:22.829Z"
   },
   {
    "duration": 308,
    "start_time": "2021-12-13T19:14:23.173Z"
   },
   {
    "duration": 343,
    "start_time": "2021-12-13T19:14:23.483Z"
   },
   {
    "duration": 372,
    "start_time": "2021-12-13T19:14:23.828Z"
   },
   {
    "duration": 422,
    "start_time": "2021-12-13T19:14:24.203Z"
   },
   {
    "duration": 380,
    "start_time": "2021-12-13T19:14:24.627Z"
   },
   {
    "duration": 392,
    "start_time": "2021-12-13T19:14:25.009Z"
   },
   {
    "duration": 571,
    "start_time": "2021-12-13T19:14:25.404Z"
   },
   {
    "duration": 683,
    "start_time": "2021-12-13T19:14:25.978Z"
   },
   {
    "duration": 945,
    "start_time": "2021-12-13T19:14:26.663Z"
   },
   {
    "duration": 895,
    "start_time": "2021-12-13T19:14:27.610Z"
   },
   {
    "duration": 547,
    "start_time": "2021-12-13T19:14:28.508Z"
   },
   {
    "duration": 1521,
    "start_time": "2021-12-13T19:14:29.059Z"
   },
   {
    "duration": 1474,
    "start_time": "2021-12-13T19:14:30.583Z"
   },
   {
    "duration": 572,
    "start_time": "2021-12-13T19:14:32.060Z"
   },
   {
    "duration": 378,
    "start_time": "2021-12-13T19:14:32.635Z"
   },
   {
    "duration": 669,
    "start_time": "2021-12-13T19:14:33.016Z"
   },
   {
    "duration": 925,
    "start_time": "2021-12-13T19:14:33.687Z"
   },
   {
    "duration": 679,
    "start_time": "2021-12-13T19:14:34.614Z"
   },
   {
    "duration": 419,
    "start_time": "2021-12-13T19:14:35.296Z"
   },
   {
    "duration": 342,
    "start_time": "2021-12-13T19:14:35.717Z"
   },
   {
    "duration": 483,
    "start_time": "2021-12-13T19:14:36.061Z"
   },
   {
    "duration": 363,
    "start_time": "2021-12-13T19:14:36.548Z"
   },
   {
    "duration": 629,
    "start_time": "2021-12-13T19:14:36.914Z"
   },
   {
    "duration": 904,
    "start_time": "2021-12-13T19:14:37.546Z"
   },
   {
    "duration": 462,
    "start_time": "2021-12-13T19:14:38.453Z"
   },
   {
    "duration": 10469,
    "start_time": "2021-12-13T19:17:03.344Z"
   },
   {
    "duration": 11,
    "start_time": "2021-12-13T19:17:24.366Z"
   },
   {
    "duration": 23,
    "start_time": "2021-12-13T19:18:41.020Z"
   },
   {
    "duration": 295,
    "start_time": "2021-12-13T19:24:13.631Z"
   },
   {
    "duration": 9,
    "start_time": "2021-12-13T19:24:27.709Z"
   },
   {
    "duration": 8,
    "start_time": "2021-12-13T19:24:57.711Z"
   },
   {
    "duration": 14,
    "start_time": "2021-12-13T19:25:15.749Z"
   },
   {
    "duration": 9,
    "start_time": "2021-12-13T19:25:41.218Z"
   },
   {
    "duration": 12,
    "start_time": "2021-12-13T19:25:56.352Z"
   },
   {
    "duration": 5,
    "start_time": "2021-12-13T19:54:59.725Z"
   },
   {
    "duration": 64,
    "start_time": "2021-12-13T19:55:14.523Z"
   },
   {
    "duration": 452,
    "start_time": "2021-12-13T19:55:14.590Z"
   },
   {
    "duration": 208,
    "start_time": "2021-12-13T19:55:15.046Z"
   },
   {
    "duration": 484,
    "start_time": "2021-12-13T19:55:15.258Z"
   },
   {
    "duration": 289,
    "start_time": "2021-12-13T19:55:15.744Z"
   },
   {
    "duration": 349,
    "start_time": "2021-12-13T19:55:16.035Z"
   },
   {
    "duration": 289,
    "start_time": "2021-12-13T19:55:16.387Z"
   },
   {
    "duration": 150,
    "start_time": "2021-12-13T19:55:16.679Z"
   },
   {
    "duration": 174,
    "start_time": "2021-12-13T19:55:16.834Z"
   },
   {
    "duration": 122,
    "start_time": "2021-12-13T19:55:17.011Z"
   },
   {
    "duration": 278,
    "start_time": "2021-12-13T19:55:17.136Z"
   },
   {
    "duration": 148,
    "start_time": "2021-12-13T19:55:17.416Z"
   },
   {
    "duration": 128,
    "start_time": "2021-12-13T19:55:17.567Z"
   },
   {
    "duration": 353,
    "start_time": "2021-12-13T19:55:17.697Z"
   },
   {
    "duration": 257,
    "start_time": "2021-12-13T19:55:18.053Z"
   },
   {
    "duration": 226,
    "start_time": "2021-12-13T19:55:18.313Z"
   },
   {
    "duration": 188,
    "start_time": "2021-12-13T19:55:18.542Z"
   },
   {
    "duration": 171,
    "start_time": "2021-12-13T19:55:18.733Z"
   },
   {
    "duration": 269,
    "start_time": "2021-12-13T19:55:18.906Z"
   },
   {
    "duration": 213,
    "start_time": "2021-12-13T19:55:19.178Z"
   },
   {
    "duration": 92,
    "start_time": "2021-12-13T19:55:19.394Z"
   },
   {
    "duration": 211,
    "start_time": "2021-12-13T19:55:19.489Z"
   },
   {
    "duration": 126,
    "start_time": "2021-12-13T19:55:19.703Z"
   },
   {
    "duration": 280,
    "start_time": "2021-12-13T19:55:19.831Z"
   },
   {
    "duration": 173,
    "start_time": "2021-12-13T19:55:20.114Z"
   },
   {
    "duration": 231,
    "start_time": "2021-12-13T19:55:20.290Z"
   },
   {
    "duration": 267,
    "start_time": "2021-12-13T19:55:20.526Z"
   },
   {
    "duration": 263,
    "start_time": "2021-12-13T19:55:20.796Z"
   },
   {
    "duration": 234,
    "start_time": "2021-12-13T19:55:21.061Z"
   },
   {
    "duration": 203,
    "start_time": "2021-12-13T19:55:21.298Z"
   },
   {
    "duration": 230,
    "start_time": "2021-12-13T19:55:21.504Z"
   },
   {
    "duration": 311,
    "start_time": "2021-12-13T19:55:21.737Z"
   },
   {
    "duration": 125,
    "start_time": "2021-12-13T19:55:22.051Z"
   },
   {
    "duration": 229,
    "start_time": "2021-12-13T19:55:22.179Z"
   },
   {
    "duration": 282,
    "start_time": "2021-12-13T19:55:22.410Z"
   },
   {
    "duration": 91,
    "start_time": "2021-12-13T19:56:40.879Z"
   },
   {
    "duration": 51,
    "start_time": "2021-12-13T19:57:21.688Z"
   },
   {
    "duration": 59,
    "start_time": "2021-12-13T19:57:28.736Z"
   },
   {
    "duration": 323,
    "start_time": "2021-12-13T19:57:28.797Z"
   },
   {
    "duration": 373,
    "start_time": "2021-12-13T19:57:29.123Z"
   },
   {
    "duration": 628,
    "start_time": "2021-12-13T19:57:29.499Z"
   },
   {
    "duration": 225,
    "start_time": "2021-12-13T19:57:30.129Z"
   },
   {
    "duration": 469,
    "start_time": "2021-12-13T19:57:30.357Z"
   },
   {
    "duration": 316,
    "start_time": "2021-12-13T19:57:30.829Z"
   },
   {
    "duration": 491,
    "start_time": "2021-12-13T19:57:31.148Z"
   },
   {
    "duration": 440,
    "start_time": "2021-12-13T19:57:31.643Z"
   },
   {
    "duration": 353,
    "start_time": "2021-12-13T19:57:32.087Z"
   },
   {
    "duration": 306,
    "start_time": "2021-12-13T19:57:32.442Z"
   },
   {
    "duration": 744,
    "start_time": "2021-12-13T19:57:32.750Z"
   },
   {
    "duration": 735,
    "start_time": "2021-12-13T19:57:33.497Z"
   },
   {
    "duration": 537,
    "start_time": "2021-12-13T19:57:34.235Z"
   },
   {
    "duration": 545,
    "start_time": "2021-12-13T19:57:34.774Z"
   },
   {
    "duration": 1060,
    "start_time": "2021-12-13T19:57:35.322Z"
   },
   {
    "duration": 742,
    "start_time": "2021-12-13T19:57:36.384Z"
   },
   {
    "duration": 508,
    "start_time": "2021-12-13T19:57:37.129Z"
   },
   {
    "duration": 335,
    "start_time": "2021-12-13T19:57:37.640Z"
   },
   {
    "duration": 881,
    "start_time": "2021-12-13T19:57:37.977Z"
   },
   {
    "duration": 816,
    "start_time": "2021-12-13T19:57:38.861Z"
   },
   {
    "duration": 510,
    "start_time": "2021-12-13T19:57:39.679Z"
   },
   {
    "duration": 635,
    "start_time": "2021-12-13T19:57:40.192Z"
   },
   {
    "duration": 560,
    "start_time": "2021-12-13T19:57:40.829Z"
   },
   {
    "duration": 414,
    "start_time": "2021-12-13T19:57:41.392Z"
   },
   {
    "duration": 246,
    "start_time": "2021-12-13T19:57:41.809Z"
   },
   {
    "duration": 324,
    "start_time": "2021-12-13T19:57:42.060Z"
   },
   {
    "duration": 395,
    "start_time": "2021-12-13T19:57:42.387Z"
   },
   {
    "duration": 257,
    "start_time": "2021-12-13T19:57:42.785Z"
   },
   {
    "duration": 584,
    "start_time": "2021-12-13T19:57:43.045Z"
   },
   {
    "duration": 662,
    "start_time": "2021-12-13T19:57:43.632Z"
   },
   {
    "duration": 634,
    "start_time": "2021-12-13T19:57:44.296Z"
   },
   {
    "duration": 958,
    "start_time": "2021-12-13T19:57:44.933Z"
   },
   {
    "duration": 802,
    "start_time": "2021-12-13T19:57:45.893Z"
   },
   {
    "duration": 408,
    "start_time": "2021-12-13T19:57:46.697Z"
   },
   {
    "duration": 127,
    "start_time": "2021-12-13T19:58:31.961Z"
   },
   {
    "duration": 52,
    "start_time": "2021-12-13T19:58:39.192Z"
   },
   {
    "duration": 60,
    "start_time": "2021-12-13T19:58:46.625Z"
   },
   {
    "duration": 836,
    "start_time": "2021-12-13T19:58:46.688Z"
   },
   {
    "duration": 500,
    "start_time": "2021-12-13T19:58:47.526Z"
   },
   {
    "duration": 501,
    "start_time": "2021-12-13T19:58:48.029Z"
   },
   {
    "duration": 844,
    "start_time": "2021-12-13T19:58:48.532Z"
   },
   {
    "duration": 735,
    "start_time": "2021-12-13T19:58:49.378Z"
   },
   {
    "duration": 688,
    "start_time": "2021-12-13T19:58:50.116Z"
   },
   {
    "duration": 366,
    "start_time": "2021-12-13T19:58:50.809Z"
   },
   {
    "duration": 331,
    "start_time": "2021-12-13T19:58:51.178Z"
   },
   {
    "duration": 423,
    "start_time": "2021-12-13T19:58:51.512Z"
   },
   {
    "duration": 543,
    "start_time": "2021-12-13T19:58:51.937Z"
   },
   {
    "duration": 531,
    "start_time": "2021-12-13T19:58:52.483Z"
   },
   {
    "duration": 856,
    "start_time": "2021-12-13T19:58:53.017Z"
   },
   {
    "duration": 507,
    "start_time": "2021-12-13T19:58:53.876Z"
   },
   {
    "duration": 371,
    "start_time": "2021-12-13T19:58:54.385Z"
   },
   {
    "duration": 375,
    "start_time": "2021-12-13T19:58:54.759Z"
   },
   {
    "duration": 297,
    "start_time": "2021-12-13T19:58:55.137Z"
   },
   {
    "duration": 351,
    "start_time": "2021-12-13T19:58:55.437Z"
   },
   {
    "duration": 566,
    "start_time": "2021-12-13T19:58:55.791Z"
   },
   {
    "duration": 279,
    "start_time": "2021-12-13T19:58:56.359Z"
   },
   {
    "duration": 685,
    "start_time": "2021-12-13T19:58:56.640Z"
   },
   {
    "duration": 729,
    "start_time": "2021-12-13T19:58:57.328Z"
   },
   {
    "duration": 692,
    "start_time": "2021-12-13T19:58:58.061Z"
   },
   {
    "duration": 765,
    "start_time": "2021-12-13T19:58:58.756Z"
   },
   {
    "duration": 723,
    "start_time": "2021-12-13T19:58:59.524Z"
   },
   {
    "duration": 395,
    "start_time": "2021-12-13T19:59:00.250Z"
   },
   {
    "duration": 395,
    "start_time": "2021-12-13T19:59:00.647Z"
   },
   {
    "duration": 580,
    "start_time": "2021-12-13T19:59:01.045Z"
   },
   {
    "duration": 466,
    "start_time": "2021-12-13T19:59:01.627Z"
   },
   {
    "duration": 561,
    "start_time": "2021-12-13T19:59:02.095Z"
   },
   {
    "duration": 676,
    "start_time": "2021-12-13T19:59:02.659Z"
   },
   {
    "duration": 384,
    "start_time": "2021-12-13T19:59:03.338Z"
   },
   {
    "duration": 670,
    "start_time": "2021-12-13T19:59:03.725Z"
   },
   {
    "duration": 739,
    "start_time": "2021-12-13T19:59:04.398Z"
   },
   {
    "duration": 377,
    "start_time": "2021-12-13T19:59:05.139Z"
   },
   {
    "duration": 55,
    "start_time": "2021-12-13T20:00:48.019Z"
   },
   {
    "duration": 23,
    "start_time": "2021-12-13T20:00:50.049Z"
   },
   {
    "duration": 45,
    "start_time": "2021-12-13T20:01:09.113Z"
   },
   {
    "duration": 1588,
    "start_time": "2021-12-13T20:01:10.003Z"
   },
   {
    "duration": 57,
    "start_time": "2021-12-13T20:01:24.462Z"
   },
   {
    "duration": 292,
    "start_time": "2021-12-13T20:01:24.522Z"
   },
   {
    "duration": 208,
    "start_time": "2021-12-13T20:01:24.817Z"
   },
   {
    "duration": 142,
    "start_time": "2021-12-13T20:01:25.028Z"
   },
   {
    "duration": 108,
    "start_time": "2021-12-13T20:01:25.172Z"
   },
   {
    "duration": 143,
    "start_time": "2021-12-13T20:01:25.282Z"
   },
   {
    "duration": 321,
    "start_time": "2021-12-13T20:01:25.428Z"
   },
   {
    "duration": 354,
    "start_time": "2021-12-13T20:01:25.752Z"
   },
   {
    "duration": 294,
    "start_time": "2021-12-13T20:01:26.109Z"
   },
   {
    "duration": 137,
    "start_time": "2021-12-13T20:01:26.406Z"
   },
   {
    "duration": 201,
    "start_time": "2021-12-13T20:01:26.545Z"
   },
   {
    "duration": 258,
    "start_time": "2021-12-13T20:01:26.749Z"
   },
   {
    "duration": 706,
    "start_time": "2021-12-13T20:01:27.009Z"
   },
   {
    "duration": 541,
    "start_time": "2021-12-13T20:01:27.717Z"
   },
   {
    "duration": 759,
    "start_time": "2021-12-13T20:01:28.260Z"
   },
   {
    "duration": 523,
    "start_time": "2021-12-13T20:01:29.021Z"
   },
   {
    "duration": 725,
    "start_time": "2021-12-13T20:01:29.547Z"
   },
   {
    "duration": 66,
    "start_time": "2021-12-13T20:01:30.275Z"
   },
   {
    "duration": 980,
    "start_time": "2021-12-13T20:01:30.344Z"
   },
   {
    "duration": 726,
    "start_time": "2021-12-13T20:01:31.327Z"
   },
   {
    "duration": 840,
    "start_time": "2021-12-13T20:01:32.056Z"
   },
   {
    "duration": 459,
    "start_time": "2021-12-13T20:01:32.899Z"
   },
   {
    "duration": 953,
    "start_time": "2021-12-13T20:01:33.363Z"
   },
   {
    "duration": 880,
    "start_time": "2021-12-13T20:01:34.319Z"
   },
   {
    "duration": 520,
    "start_time": "2021-12-13T20:01:35.201Z"
   },
   {
    "duration": 493,
    "start_time": "2021-12-13T20:01:35.724Z"
   },
   {
    "duration": 406,
    "start_time": "2021-12-13T20:01:36.219Z"
   },
   {
    "duration": 690,
    "start_time": "2021-12-13T20:01:36.628Z"
   },
   {
    "duration": 1045,
    "start_time": "2021-12-13T20:01:37.320Z"
   },
   {
    "duration": 567,
    "start_time": "2021-12-13T20:01:38.368Z"
   },
   {
    "duration": 272,
    "start_time": "2021-12-13T20:01:38.938Z"
   },
   {
    "duration": 341,
    "start_time": "2021-12-13T20:01:39.213Z"
   },
   {
    "duration": 518,
    "start_time": "2021-12-13T20:01:39.557Z"
   },
   {
    "duration": 264,
    "start_time": "2021-12-13T20:01:40.078Z"
   },
   {
    "duration": 532,
    "start_time": "2021-12-13T20:01:40.344Z"
   },
   {
    "duration": 330,
    "start_time": "2021-12-13T20:02:10.140Z"
   },
   {
    "duration": 310,
    "start_time": "2021-12-13T20:02:47.628Z"
   },
   {
    "duration": 63,
    "start_time": "2021-12-13T20:03:02.480Z"
   },
   {
    "duration": 44,
    "start_time": "2021-12-13T20:05:31.240Z"
   },
   {
    "duration": 20,
    "start_time": "2021-12-13T20:05:34.360Z"
   },
   {
    "duration": 60,
    "start_time": "2021-12-13T20:05:41.160Z"
   },
   {
    "duration": 247,
    "start_time": "2021-12-13T20:05:41.223Z"
   },
   {
    "duration": 288,
    "start_time": "2021-12-13T20:05:41.473Z"
   },
   {
    "duration": 262,
    "start_time": "2021-12-13T20:05:41.764Z"
   },
   {
    "duration": 227,
    "start_time": "2021-12-13T20:05:42.028Z"
   },
   {
    "duration": 265,
    "start_time": "2021-12-13T20:05:42.257Z"
   },
   {
    "duration": 295,
    "start_time": "2021-12-13T20:05:42.525Z"
   },
   {
    "duration": 317,
    "start_time": "2021-12-13T20:05:42.823Z"
   },
   {
    "duration": 353,
    "start_time": "2021-12-13T20:05:43.143Z"
   },
   {
    "duration": 433,
    "start_time": "2021-12-13T20:05:43.499Z"
   },
   {
    "duration": 590,
    "start_time": "2021-12-13T20:05:43.935Z"
   },
   {
    "duration": 599,
    "start_time": "2021-12-13T20:05:44.528Z"
   },
   {
    "duration": 425,
    "start_time": "2021-12-13T20:05:45.129Z"
   },
   {
    "duration": 290,
    "start_time": "2021-12-13T20:05:45.556Z"
   },
   {
    "duration": 273,
    "start_time": "2021-12-13T20:05:45.849Z"
   },
   {
    "duration": 315,
    "start_time": "2021-12-13T20:05:46.124Z"
   },
   {
    "duration": 238,
    "start_time": "2021-12-13T20:05:46.441Z"
   },
   {
    "duration": 236,
    "start_time": "2021-12-13T20:05:46.682Z"
   },
   {
    "duration": 254,
    "start_time": "2021-12-13T20:05:46.920Z"
   },
   {
    "duration": 257,
    "start_time": "2021-12-13T20:05:47.177Z"
   },
   {
    "duration": 215,
    "start_time": "2021-12-13T20:05:47.437Z"
   },
   {
    "duration": 339,
    "start_time": "2021-12-13T20:05:47.654Z"
   },
   {
    "duration": 286,
    "start_time": "2021-12-13T20:05:47.997Z"
   },
   {
    "duration": 208,
    "start_time": "2021-12-13T20:05:48.286Z"
   },
   {
    "duration": 277,
    "start_time": "2021-12-13T20:05:48.496Z"
   },
   {
    "duration": 242,
    "start_time": "2021-12-13T20:05:48.776Z"
   },
   {
    "duration": 221,
    "start_time": "2021-12-13T20:05:49.021Z"
   },
   {
    "duration": 238,
    "start_time": "2021-12-13T20:05:49.244Z"
   },
   {
    "duration": 348,
    "start_time": "2021-12-13T20:05:49.484Z"
   },
   {
    "duration": 409,
    "start_time": "2021-12-13T20:05:49.834Z"
   },
   {
    "duration": 554,
    "start_time": "2021-12-13T20:05:50.245Z"
   },
   {
    "duration": 372,
    "start_time": "2021-12-13T20:05:50.801Z"
   },
   {
    "duration": 477,
    "start_time": "2021-12-13T20:05:51.175Z"
   },
   {
    "duration": 383,
    "start_time": "2021-12-13T20:05:51.655Z"
   },
   {
    "duration": 419,
    "start_time": "2021-12-13T20:05:52.041Z"
   },
   {
    "duration": 99,
    "start_time": "2021-12-13T20:21:55.713Z"
   },
   {
    "duration": 33,
    "start_time": "2021-12-13T20:22:13.562Z"
   },
   {
    "duration": 67,
    "start_time": "2021-12-13T20:30:57.908Z"
   },
   {
    "duration": 59,
    "start_time": "2021-12-13T20:31:05.200Z"
   },
   {
    "duration": 797,
    "start_time": "2021-12-13T20:31:05.262Z"
   },
   {
    "duration": 408,
    "start_time": "2021-12-13T20:31:06.062Z"
   },
   {
    "duration": 342,
    "start_time": "2021-12-13T20:31:06.472Z"
   },
   {
    "duration": 576,
    "start_time": "2021-12-13T20:31:06.817Z"
   },
   {
    "duration": 268,
    "start_time": "2021-12-13T20:31:07.395Z"
   },
   {
    "duration": 530,
    "start_time": "2021-12-13T20:31:07.666Z"
   },
   {
    "duration": 717,
    "start_time": "2021-12-13T20:31:08.199Z"
   },
   {
    "duration": 746,
    "start_time": "2021-12-13T20:31:08.919Z"
   },
   {
    "duration": 434,
    "start_time": "2021-12-13T20:31:09.668Z"
   },
   {
    "duration": 779,
    "start_time": "2021-12-13T20:31:10.104Z"
   },
   {
    "duration": 484,
    "start_time": "2021-12-13T20:31:10.885Z"
   },
   {
    "duration": 107,
    "start_time": "2021-12-13T20:31:11.371Z"
   },
   {
    "duration": 86,
    "start_time": "2021-12-13T20:31:11.480Z"
   },
   {
    "duration": 36,
    "start_time": "2021-12-13T20:31:11.569Z"
   },
   {
    "duration": 213,
    "start_time": "2021-12-13T20:31:11.608Z"
   },
   {
    "duration": 607,
    "start_time": "2021-12-13T20:31:11.824Z"
   },
   {
    "duration": 379,
    "start_time": "2021-12-13T20:31:12.433Z"
   },
   {
    "duration": 244,
    "start_time": "2021-12-13T20:31:12.814Z"
   },
   {
    "duration": 329,
    "start_time": "2021-12-13T20:31:13.061Z"
   },
   {
    "duration": 679,
    "start_time": "2021-12-13T20:31:13.392Z"
   },
   {
    "duration": 160,
    "start_time": "2021-12-13T20:31:14.073Z"
   },
   {
    "duration": 308,
    "start_time": "2021-12-13T20:31:14.237Z"
   },
   {
    "duration": 1312,
    "start_time": "2021-12-13T20:31:14.548Z"
   },
   {
    "duration": 946,
    "start_time": "2021-12-13T20:31:15.862Z"
   },
   {
    "duration": 579,
    "start_time": "2021-12-13T20:31:16.811Z"
   },
   {
    "duration": 296,
    "start_time": "2021-12-13T20:31:17.392Z"
   },
   {
    "duration": 301,
    "start_time": "2021-12-13T20:31:17.690Z"
   },
   {
    "duration": 221,
    "start_time": "2021-12-13T20:31:17.993Z"
   },
   {
    "duration": 295,
    "start_time": "2021-12-13T20:31:18.216Z"
   },
   {
    "duration": 408,
    "start_time": "2021-12-13T20:31:18.513Z"
   },
   {
    "duration": 618,
    "start_time": "2021-12-13T20:31:18.924Z"
   },
   {
    "duration": 603,
    "start_time": "2021-12-13T20:31:19.545Z"
   },
   {
    "duration": 633,
    "start_time": "2021-12-13T20:31:20.151Z"
   },
   {
    "duration": 759,
    "start_time": "2021-12-13T20:31:20.786Z"
   },
   {
    "duration": 74,
    "start_time": "2021-12-13T20:31:40.219Z"
   },
   {
    "duration": 68,
    "start_time": "2021-12-13T20:34:09.246Z"
   },
   {
    "duration": 72,
    "start_time": "2021-12-13T20:43:18.180Z"
   },
   {
    "duration": 24,
    "start_time": "2021-12-13T20:43:20.424Z"
   },
   {
    "duration": 382,
    "start_time": "2021-12-13T21:08:19.501Z"
   },
   {
    "duration": 10,
    "start_time": "2021-12-13T21:08:32.643Z"
   },
   {
    "duration": 272,
    "start_time": "2021-12-13T21:09:13.478Z"
   },
   {
    "duration": 9,
    "start_time": "2021-12-13T21:13:09.223Z"
   },
   {
    "duration": 346,
    "start_time": "2021-12-13T21:17:12.090Z"
   },
   {
    "duration": 257,
    "start_time": "2021-12-13T21:18:07.484Z"
   },
   {
    "duration": 94,
    "start_time": "2021-12-13T21:18:33.718Z"
   },
   {
    "duration": 8,
    "start_time": "2021-12-13T21:18:37.968Z"
   },
   {
    "duration": 10,
    "start_time": "2021-12-13T21:19:15.200Z"
   },
   {
    "duration": 8,
    "start_time": "2021-12-13T21:20:28.871Z"
   },
   {
    "duration": 60,
    "start_time": "2021-12-13T21:20:58.636Z"
   },
   {
    "duration": 25,
    "start_time": "2021-12-13T21:20:58.699Z"
   },
   {
    "duration": 14,
    "start_time": "2021-12-13T21:20:58.728Z"
   },
   {
    "duration": 5,
    "start_time": "2021-12-13T21:20:58.745Z"
   },
   {
    "duration": 12,
    "start_time": "2021-12-13T21:20:58.753Z"
   },
   {
    "duration": 64,
    "start_time": "2021-12-13T21:20:58.767Z"
   },
   {
    "duration": 20,
    "start_time": "2021-12-13T21:20:58.834Z"
   },
   {
    "duration": 9,
    "start_time": "2021-12-13T21:20:58.858Z"
   },
   {
    "duration": 54,
    "start_time": "2021-12-13T21:20:58.869Z"
   },
   {
    "duration": 20,
    "start_time": "2021-12-13T21:20:58.926Z"
   },
   {
    "duration": 13,
    "start_time": "2021-12-13T21:20:58.949Z"
   },
   {
    "duration": 17,
    "start_time": "2021-12-13T21:20:58.965Z"
   },
   {
    "duration": 43,
    "start_time": "2021-12-13T21:20:58.984Z"
   },
   {
    "duration": 21,
    "start_time": "2021-12-13T21:20:59.030Z"
   },
   {
    "duration": 12,
    "start_time": "2021-12-13T21:20:59.054Z"
   },
   {
    "duration": 25,
    "start_time": "2021-12-13T21:20:59.069Z"
   },
   {
    "duration": 29,
    "start_time": "2021-12-13T21:20:59.096Z"
   },
   {
    "duration": 18,
    "start_time": "2021-12-13T21:20:59.128Z"
   },
   {
    "duration": 15,
    "start_time": "2021-12-13T21:20:59.149Z"
   },
   {
    "duration": 15,
    "start_time": "2021-12-13T21:20:59.166Z"
   },
   {
    "duration": 16,
    "start_time": "2021-12-13T21:20:59.183Z"
   },
   {
    "duration": 24,
    "start_time": "2021-12-13T21:20:59.201Z"
   },
   {
    "duration": 11,
    "start_time": "2021-12-13T21:20:59.229Z"
   },
   {
    "duration": 24,
    "start_time": "2021-12-13T21:20:59.243Z"
   },
   {
    "duration": 61,
    "start_time": "2021-12-13T21:20:59.270Z"
   },
   {
    "duration": 28,
    "start_time": "2021-12-13T21:20:59.334Z"
   },
   {
    "duration": 6,
    "start_time": "2021-12-13T21:20:59.364Z"
   },
   {
    "duration": 53,
    "start_time": "2021-12-13T21:20:59.373Z"
   },
   {
    "duration": 7,
    "start_time": "2021-12-13T21:20:59.429Z"
   },
   {
    "duration": 39,
    "start_time": "2021-12-13T21:20:59.439Z"
   },
   {
    "duration": 51,
    "start_time": "2021-12-13T21:20:59.481Z"
   },
   {
    "duration": 34,
    "start_time": "2021-12-13T21:20:59.535Z"
   },
   {
    "duration": 52,
    "start_time": "2021-12-13T21:20:59.571Z"
   },
   {
    "duration": 80,
    "start_time": "2021-12-13T21:20:59.626Z"
   },
   {
    "duration": 27,
    "start_time": "2021-12-13T21:20:59.723Z"
   },
   {
    "duration": 40,
    "start_time": "2021-12-13T21:20:59.752Z"
   },
   {
    "duration": 6,
    "start_time": "2021-12-13T21:21:28.097Z"
   },
   {
    "duration": 61,
    "start_time": "2021-12-13T21:22:31.030Z"
   },
   {
    "duration": 31,
    "start_time": "2021-12-13T21:22:31.094Z"
   },
   {
    "duration": 17,
    "start_time": "2021-12-13T21:22:31.129Z"
   },
   {
    "duration": 9,
    "start_time": "2021-12-13T21:22:31.149Z"
   },
   {
    "duration": 15,
    "start_time": "2021-12-13T21:22:31.161Z"
   },
   {
    "duration": 57,
    "start_time": "2021-12-13T21:22:31.178Z"
   },
   {
    "duration": 32,
    "start_time": "2021-12-13T21:22:31.237Z"
   },
   {
    "duration": 16,
    "start_time": "2021-12-13T21:22:31.275Z"
   },
   {
    "duration": 20,
    "start_time": "2021-12-13T21:22:31.322Z"
   },
   {
    "duration": 33,
    "start_time": "2021-12-13T21:22:31.345Z"
   },
   {
    "duration": 14,
    "start_time": "2021-12-13T21:22:31.381Z"
   },
   {
    "duration": 32,
    "start_time": "2021-12-13T21:22:31.397Z"
   },
   {
    "duration": 26,
    "start_time": "2021-12-13T21:22:31.431Z"
   },
   {
    "duration": 35,
    "start_time": "2021-12-13T21:22:31.459Z"
   },
   {
    "duration": 18,
    "start_time": "2021-12-13T21:22:31.496Z"
   },
   {
    "duration": 23,
    "start_time": "2021-12-13T21:22:31.516Z"
   },
   {
    "duration": 21,
    "start_time": "2021-12-13T21:22:31.541Z"
   },
   {
    "duration": 20,
    "start_time": "2021-12-13T21:22:31.564Z"
   },
   {
    "duration": 13,
    "start_time": "2021-12-13T21:22:31.587Z"
   },
   {
    "duration": 25,
    "start_time": "2021-12-13T21:22:31.603Z"
   },
   {
    "duration": 26,
    "start_time": "2021-12-13T21:22:31.631Z"
   },
   {
    "duration": 30,
    "start_time": "2021-12-13T21:22:31.660Z"
   },
   {
    "duration": 33,
    "start_time": "2021-12-13T21:22:31.695Z"
   },
   {
    "duration": 43,
    "start_time": "2021-12-13T21:22:31.730Z"
   },
   {
    "duration": 22,
    "start_time": "2021-12-13T21:22:31.775Z"
   },
   {
    "duration": 35,
    "start_time": "2021-12-13T21:22:31.800Z"
   },
   {
    "duration": 6,
    "start_time": "2021-12-13T21:22:31.837Z"
   },
   {
    "duration": 30,
    "start_time": "2021-12-13T21:22:31.846Z"
   },
   {
    "duration": 6,
    "start_time": "2021-12-13T21:22:31.878Z"
   },
   {
    "duration": 53,
    "start_time": "2021-12-13T21:22:31.886Z"
   },
   {
    "duration": 26,
    "start_time": "2021-12-13T21:22:31.942Z"
   },
   {
    "duration": 71,
    "start_time": "2021-12-13T21:22:31.971Z"
   },
   {
    "duration": 30,
    "start_time": "2021-12-13T21:22:32.044Z"
   },
   {
    "duration": 132,
    "start_time": "2021-12-13T21:22:32.077Z"
   },
   {
    "duration": 29,
    "start_time": "2021-12-13T21:22:32.224Z"
   },
   {
    "duration": 69,
    "start_time": "2021-12-13T21:22:32.256Z"
   },
   {
    "duration": 302,
    "start_time": "2021-12-14T08:25:15.551Z"
   },
   {
    "duration": 612,
    "start_time": "2021-12-14T08:25:21.348Z"
   },
   {
    "duration": 19,
    "start_time": "2021-12-14T08:25:21.962Z"
   },
   {
    "duration": 13,
    "start_time": "2021-12-14T08:25:21.984Z"
   },
   {
    "duration": 9,
    "start_time": "2021-12-14T08:25:21.999Z"
   },
   {
    "duration": 17,
    "start_time": "2021-12-14T08:25:22.009Z"
   },
   {
    "duration": 12,
    "start_time": "2021-12-14T08:25:22.027Z"
   },
   {
    "duration": 11,
    "start_time": "2021-12-14T08:25:22.041Z"
   },
   {
    "duration": 5,
    "start_time": "2021-12-14T08:25:22.055Z"
   },
   {
    "duration": 36,
    "start_time": "2021-12-14T08:25:22.062Z"
   },
   {
    "duration": 15,
    "start_time": "2021-12-14T08:25:22.100Z"
   },
   {
    "duration": 11,
    "start_time": "2021-12-14T08:25:22.117Z"
   },
   {
    "duration": 10,
    "start_time": "2021-12-14T08:25:22.130Z"
   },
   {
    "duration": 9,
    "start_time": "2021-12-14T08:25:22.141Z"
   },
   {
    "duration": 17,
    "start_time": "2021-12-14T08:25:22.152Z"
   },
   {
    "duration": 9,
    "start_time": "2021-12-14T08:25:22.188Z"
   },
   {
    "duration": 7,
    "start_time": "2021-12-14T08:25:22.198Z"
   },
   {
    "duration": 7,
    "start_time": "2021-12-14T08:25:22.207Z"
   },
   {
    "duration": 7,
    "start_time": "2021-12-14T08:25:22.216Z"
   },
   {
    "duration": 6,
    "start_time": "2021-12-14T08:25:22.225Z"
   },
   {
    "duration": 7,
    "start_time": "2021-12-14T08:25:22.233Z"
   },
   {
    "duration": 8,
    "start_time": "2021-12-14T08:25:22.241Z"
   },
   {
    "duration": 45,
    "start_time": "2021-12-14T08:25:22.250Z"
   },
   {
    "duration": 8,
    "start_time": "2021-12-14T08:25:22.298Z"
   },
   {
    "duration": 17,
    "start_time": "2021-12-14T08:25:22.308Z"
   },
   {
    "duration": 13,
    "start_time": "2021-12-14T08:25:22.327Z"
   },
   {
    "duration": 19,
    "start_time": "2021-12-14T08:25:22.341Z"
   },
   {
    "duration": 4,
    "start_time": "2021-12-14T08:25:22.388Z"
   },
   {
    "duration": 13,
    "start_time": "2021-12-14T08:25:22.394Z"
   },
   {
    "duration": 4,
    "start_time": "2021-12-14T08:25:22.409Z"
   },
   {
    "duration": 22,
    "start_time": "2021-12-14T08:25:22.415Z"
   },
   {
    "duration": 50,
    "start_time": "2021-12-14T08:25:22.438Z"
   },
   {
    "duration": 21,
    "start_time": "2021-12-14T08:25:22.490Z"
   },
   {
    "duration": 14,
    "start_time": "2021-12-14T08:25:22.512Z"
   },
   {
    "duration": 69,
    "start_time": "2021-12-14T08:25:22.528Z"
   },
   {
    "duration": 13,
    "start_time": "2021-12-14T08:25:22.599Z"
   },
   {
    "duration": 25,
    "start_time": "2021-12-14T08:25:22.613Z"
   },
   {
    "duration": 42,
    "start_time": "2021-12-14T08:25:51.727Z"
   },
   {
    "duration": 30,
    "start_time": "2021-12-14T08:26:59.046Z"
   },
   {
    "duration": 31,
    "start_time": "2021-12-14T08:27:09.194Z"
   },
   {
    "duration": 45,
    "start_time": "2021-12-14T08:27:13.317Z"
   },
   {
    "duration": 11,
    "start_time": "2021-12-14T08:27:13.364Z"
   },
   {
    "duration": 11,
    "start_time": "2021-12-14T08:27:13.376Z"
   },
   {
    "duration": 5,
    "start_time": "2021-12-14T08:27:13.388Z"
   },
   {
    "duration": 10,
    "start_time": "2021-12-14T08:27:13.395Z"
   },
   {
    "duration": 12,
    "start_time": "2021-12-14T08:27:13.443Z"
   },
   {
    "duration": 10,
    "start_time": "2021-12-14T08:27:13.456Z"
   },
   {
    "duration": 5,
    "start_time": "2021-12-14T08:27:13.468Z"
   },
   {
    "duration": 8,
    "start_time": "2021-12-14T08:27:13.475Z"
   },
   {
    "duration": 12,
    "start_time": "2021-12-14T08:27:13.485Z"
   },
   {
    "duration": 7,
    "start_time": "2021-12-14T08:27:13.499Z"
   },
   {
    "duration": 15,
    "start_time": "2021-12-14T08:27:13.507Z"
   },
   {
    "duration": 6,
    "start_time": "2021-12-14T08:27:13.524Z"
   },
   {
    "duration": 12,
    "start_time": "2021-12-14T08:27:13.533Z"
   },
   {
    "duration": 6,
    "start_time": "2021-12-14T08:27:13.547Z"
   },
   {
    "duration": 7,
    "start_time": "2021-12-14T08:27:13.554Z"
   },
   {
    "duration": 27,
    "start_time": "2021-12-14T08:27:13.562Z"
   },
   {
    "duration": 7,
    "start_time": "2021-12-14T08:27:13.591Z"
   },
   {
    "duration": 6,
    "start_time": "2021-12-14T08:27:13.599Z"
   },
   {
    "duration": 7,
    "start_time": "2021-12-14T08:27:13.606Z"
   },
   {
    "duration": 6,
    "start_time": "2021-12-14T08:27:13.614Z"
   },
   {
    "duration": 8,
    "start_time": "2021-12-14T08:27:13.622Z"
   },
   {
    "duration": 7,
    "start_time": "2021-12-14T08:27:13.636Z"
   },
   {
    "duration": 48,
    "start_time": "2021-12-14T08:27:13.645Z"
   },
   {
    "duration": 12,
    "start_time": "2021-12-14T08:27:13.695Z"
   },
   {
    "duration": 16,
    "start_time": "2021-12-14T08:27:13.708Z"
   },
   {
    "duration": 3,
    "start_time": "2021-12-14T08:27:13.726Z"
   },
   {
    "duration": 15,
    "start_time": "2021-12-14T08:27:13.730Z"
   },
   {
    "duration": 4,
    "start_time": "2021-12-14T08:27:13.746Z"
   },
   {
    "duration": 50,
    "start_time": "2021-12-14T08:27:13.752Z"
   },
   {
    "duration": 17,
    "start_time": "2021-12-14T08:27:13.804Z"
   },
   {
    "duration": 20,
    "start_time": "2021-12-14T08:27:13.822Z"
   },
   {
    "duration": 13,
    "start_time": "2021-12-14T08:27:13.843Z"
   },
   {
    "duration": 62,
    "start_time": "2021-12-14T08:27:13.857Z"
   },
   {
    "duration": 14,
    "start_time": "2021-12-14T08:27:13.920Z"
   },
   {
    "duration": 25,
    "start_time": "2021-12-14T08:27:13.935Z"
   },
   {
    "duration": 34,
    "start_time": "2021-12-14T08:27:42.515Z"
   },
   {
    "duration": 31,
    "start_time": "2021-12-14T08:27:46.760Z"
   },
   {
    "duration": 45,
    "start_time": "2021-12-14T08:27:51.302Z"
   },
   {
    "duration": 11,
    "start_time": "2021-12-14T08:27:51.349Z"
   },
   {
    "duration": 13,
    "start_time": "2021-12-14T08:27:51.362Z"
   },
   {
    "duration": 4,
    "start_time": "2021-12-14T08:27:51.376Z"
   },
   {
    "duration": 11,
    "start_time": "2021-12-14T08:27:51.381Z"
   },
   {
    "duration": 13,
    "start_time": "2021-12-14T08:27:51.393Z"
   },
   {
    "duration": 12,
    "start_time": "2021-12-14T08:27:51.407Z"
   },
   {
    "duration": 9,
    "start_time": "2021-12-14T08:27:51.421Z"
   },
   {
    "duration": 9,
    "start_time": "2021-12-14T08:27:51.432Z"
   },
   {
    "duration": 14,
    "start_time": "2021-12-14T08:27:51.443Z"
   },
   {
    "duration": 8,
    "start_time": "2021-12-14T08:27:51.488Z"
   },
   {
    "duration": 9,
    "start_time": "2021-12-14T08:27:51.497Z"
   },
   {
    "duration": 5,
    "start_time": "2021-12-14T08:27:51.508Z"
   },
   {
    "duration": 13,
    "start_time": "2021-12-14T08:27:51.515Z"
   },
   {
    "duration": 11,
    "start_time": "2021-12-14T08:27:51.529Z"
   },
   {
    "duration": 5,
    "start_time": "2021-12-14T08:27:51.542Z"
   },
   {
    "duration": 40,
    "start_time": "2021-12-14T08:27:51.549Z"
   },
   {
    "duration": 8,
    "start_time": "2021-12-14T08:27:51.590Z"
   },
   {
    "duration": 6,
    "start_time": "2021-12-14T08:27:51.599Z"
   },
   {
    "duration": 6,
    "start_time": "2021-12-14T08:27:51.606Z"
   },
   {
    "duration": 8,
    "start_time": "2021-12-14T08:27:51.613Z"
   },
   {
    "duration": 7,
    "start_time": "2021-12-14T08:27:51.623Z"
   },
   {
    "duration": 6,
    "start_time": "2021-12-14T08:27:51.632Z"
   },
   {
    "duration": 51,
    "start_time": "2021-12-14T08:27:51.640Z"
   },
   {
    "duration": 13,
    "start_time": "2021-12-14T08:27:51.692Z"
   },
   {
    "duration": 18,
    "start_time": "2021-12-14T08:27:51.706Z"
   },
   {
    "duration": 4,
    "start_time": "2021-12-14T08:27:51.725Z"
   },
   {
    "duration": 15,
    "start_time": "2021-12-14T08:27:51.730Z"
   },
   {
    "duration": 3,
    "start_time": "2021-12-14T08:27:51.747Z"
   },
   {
    "duration": 51,
    "start_time": "2021-12-14T08:27:51.752Z"
   },
   {
    "duration": 16,
    "start_time": "2021-12-14T08:27:51.805Z"
   },
   {
    "duration": 19,
    "start_time": "2021-12-14T08:27:51.823Z"
   },
   {
    "duration": 13,
    "start_time": "2021-12-14T08:27:51.844Z"
   },
   {
    "duration": 59,
    "start_time": "2021-12-14T08:27:51.858Z"
   },
   {
    "duration": 17,
    "start_time": "2021-12-14T08:27:51.919Z"
   },
   {
    "duration": 26,
    "start_time": "2021-12-14T08:27:51.938Z"
   },
   {
    "duration": 6910,
    "start_time": "2021-12-14T08:34:03.020Z"
   },
   {
    "duration": 5894,
    "start_time": "2021-12-14T08:34:13.721Z"
   },
   {
    "duration": 45,
    "start_time": "2021-12-14T08:34:20.794Z"
   },
   {
    "duration": 11,
    "start_time": "2021-12-14T08:34:20.840Z"
   },
   {
    "duration": 21,
    "start_time": "2021-12-14T08:34:20.853Z"
   },
   {
    "duration": 4,
    "start_time": "2021-12-14T08:34:20.942Z"
   },
   {
    "duration": 23,
    "start_time": "2021-12-14T08:34:20.947Z"
   },
   {
    "duration": 22,
    "start_time": "2021-12-14T08:34:20.972Z"
   },
   {
    "duration": 13,
    "start_time": "2021-12-14T08:34:20.996Z"
   },
   {
    "duration": 10,
    "start_time": "2021-12-14T08:34:21.010Z"
   },
   {
    "duration": 13,
    "start_time": "2021-12-14T08:34:21.022Z"
   },
   {
    "duration": 30,
    "start_time": "2021-12-14T08:34:21.037Z"
   },
   {
    "duration": 15,
    "start_time": "2021-12-14T08:34:21.069Z"
   },
   {
    "duration": 22,
    "start_time": "2021-12-14T08:34:21.087Z"
   },
   {
    "duration": 17,
    "start_time": "2021-12-14T08:34:21.111Z"
   },
   {
    "duration": 25,
    "start_time": "2021-12-14T08:34:21.129Z"
   },
   {
    "duration": 6,
    "start_time": "2021-12-14T08:34:21.155Z"
   },
   {
    "duration": 9,
    "start_time": "2021-12-14T08:34:21.163Z"
   },
   {
    "duration": 5,
    "start_time": "2021-12-14T08:34:21.174Z"
   },
   {
    "duration": 6,
    "start_time": "2021-12-14T08:34:21.181Z"
   },
   {
    "duration": 10,
    "start_time": "2021-12-14T08:34:21.188Z"
   },
   {
    "duration": 11,
    "start_time": "2021-12-14T08:34:21.200Z"
   },
   {
    "duration": 8,
    "start_time": "2021-12-14T08:34:21.212Z"
   },
   {
    "duration": 11,
    "start_time": "2021-12-14T08:34:21.221Z"
   },
   {
    "duration": 7,
    "start_time": "2021-12-14T08:34:21.233Z"
   },
   {
    "duration": 17,
    "start_time": "2021-12-14T08:34:21.242Z"
   },
   {
    "duration": 33,
    "start_time": "2021-12-14T08:34:21.260Z"
   },
   {
    "duration": 17,
    "start_time": "2021-12-14T08:34:21.294Z"
   },
   {
    "duration": 4,
    "start_time": "2021-12-14T08:34:21.313Z"
   },
   {
    "duration": 14,
    "start_time": "2021-12-14T08:34:21.318Z"
   },
   {
    "duration": 4,
    "start_time": "2021-12-14T08:34:21.333Z"
   },
   {
    "duration": 49,
    "start_time": "2021-12-14T08:34:21.339Z"
   },
   {
    "duration": 19,
    "start_time": "2021-12-14T08:34:21.390Z"
   },
   {
    "duration": 22,
    "start_time": "2021-12-14T08:34:21.411Z"
   },
   {
    "duration": 15,
    "start_time": "2021-12-14T08:34:21.435Z"
   },
   {
    "duration": 5802,
    "start_time": "2021-12-14T08:34:21.451Z"
   },
   {
    "duration": 1723,
    "start_time": "2021-12-14T08:34:25.531Z"
   },
   {
    "duration": 1694,
    "start_time": "2021-12-14T08:34:25.561Z"
   },
   {
    "duration": 6924,
    "start_time": "2021-12-14T08:35:20.695Z"
   },
   {
    "duration": 244,
    "start_time": "2021-12-14T08:35:44.524Z"
   },
   {
    "duration": 6493,
    "start_time": "2021-12-14T08:36:36.085Z"
   },
   {
    "duration": 46,
    "start_time": "2021-12-14T08:41:08.034Z"
   },
   {
    "duration": 46,
    "start_time": "2021-12-14T08:41:19.951Z"
   },
   {
    "duration": 25,
    "start_time": "2021-12-14T08:42:12.895Z"
   },
   {
    "duration": 325,
    "start_time": "2021-12-14T08:42:26.646Z"
   },
   {
    "duration": 58,
    "start_time": "2021-12-14T08:43:17.329Z"
   },
   {
    "duration": 33,
    "start_time": "2021-12-14T08:43:24.537Z"
   },
   {
    "duration": 77,
    "start_time": "2021-12-14T08:45:07.213Z"
   },
   {
    "duration": 23,
    "start_time": "2021-12-14T08:45:12.668Z"
   },
   {
    "duration": 44,
    "start_time": "2021-12-14T08:46:17.192Z"
   },
   {
    "duration": 10,
    "start_time": "2021-12-14T08:46:17.238Z"
   },
   {
    "duration": 13,
    "start_time": "2021-12-14T08:46:17.250Z"
   },
   {
    "duration": 4,
    "start_time": "2021-12-14T08:46:17.265Z"
   },
   {
    "duration": 16,
    "start_time": "2021-12-14T08:46:17.271Z"
   },
   {
    "duration": 11,
    "start_time": "2021-12-14T08:46:17.289Z"
   },
   {
    "duration": 11,
    "start_time": "2021-12-14T08:46:17.302Z"
   },
   {
    "duration": 5,
    "start_time": "2021-12-14T08:46:17.315Z"
   },
   {
    "duration": 9,
    "start_time": "2021-12-14T08:46:17.336Z"
   },
   {
    "duration": 11,
    "start_time": "2021-12-14T08:46:17.348Z"
   },
   {
    "duration": 22,
    "start_time": "2021-12-14T08:46:17.366Z"
   },
   {
    "duration": 6,
    "start_time": "2021-12-14T08:46:17.390Z"
   },
   {
    "duration": 10,
    "start_time": "2021-12-14T08:46:17.398Z"
   },
   {
    "duration": 12,
    "start_time": "2021-12-14T08:46:17.409Z"
   },
   {
    "duration": 7,
    "start_time": "2021-12-14T08:46:17.423Z"
   },
   {
    "duration": 4,
    "start_time": "2021-12-14T08:46:17.438Z"
   },
   {
    "duration": 3,
    "start_time": "2021-12-14T08:46:17.450Z"
   },
   {
    "duration": 5,
    "start_time": "2021-12-14T08:46:17.457Z"
   },
   {
    "duration": 5,
    "start_time": "2021-12-14T08:46:17.488Z"
   },
   {
    "duration": 8,
    "start_time": "2021-12-14T08:46:17.495Z"
   },
   {
    "duration": 7,
    "start_time": "2021-12-14T08:46:17.505Z"
   },
   {
    "duration": 7,
    "start_time": "2021-12-14T08:46:17.517Z"
   },
   {
    "duration": 6,
    "start_time": "2021-12-14T08:46:17.530Z"
   },
   {
    "duration": 16,
    "start_time": "2021-12-14T08:46:17.538Z"
   },
   {
    "duration": 36,
    "start_time": "2021-12-14T08:46:17.556Z"
   },
   {
    "duration": 16,
    "start_time": "2021-12-14T08:46:17.594Z"
   },
   {
    "duration": 3,
    "start_time": "2021-12-14T08:46:17.612Z"
   },
   {
    "duration": 13,
    "start_time": "2021-12-14T08:46:17.617Z"
   },
   {
    "duration": 4,
    "start_time": "2021-12-14T08:46:17.631Z"
   },
   {
    "duration": 37,
    "start_time": "2021-12-14T08:46:17.653Z"
   },
   {
    "duration": 17,
    "start_time": "2021-12-14T08:46:17.692Z"
   },
   {
    "duration": 19,
    "start_time": "2021-12-14T08:46:17.711Z"
   },
   {
    "duration": 13,
    "start_time": "2021-12-14T08:46:17.732Z"
   },
   {
    "duration": 81,
    "start_time": "2021-12-14T08:46:17.987Z"
   },
   {
    "duration": 33,
    "start_time": "2021-12-14T08:46:18.070Z"
   },
   {
    "duration": 29,
    "start_time": "2021-12-14T08:46:18.105Z"
   },
   {
    "duration": 83,
    "start_time": "2021-12-14T08:47:17.428Z"
   },
   {
    "duration": 79,
    "start_time": "2021-12-14T08:47:27.453Z"
   },
   {
    "duration": 21,
    "start_time": "2021-12-14T08:47:28.968Z"
   },
   {
    "duration": 77,
    "start_time": "2021-12-14T08:47:45.092Z"
   },
   {
    "duration": 45,
    "start_time": "2021-12-14T08:47:51.515Z"
   },
   {
    "duration": 11,
    "start_time": "2021-12-14T08:47:51.562Z"
   },
   {
    "duration": 13,
    "start_time": "2021-12-14T08:47:51.574Z"
   },
   {
    "duration": 4,
    "start_time": "2021-12-14T08:47:51.588Z"
   },
   {
    "duration": 10,
    "start_time": "2021-12-14T08:47:51.593Z"
   },
   {
    "duration": 12,
    "start_time": "2021-12-14T08:47:51.605Z"
   },
   {
    "duration": 11,
    "start_time": "2021-12-14T08:47:51.619Z"
   },
   {
    "duration": 5,
    "start_time": "2021-12-14T08:47:51.631Z"
   },
   {
    "duration": 9,
    "start_time": "2021-12-14T08:47:51.652Z"
   },
   {
    "duration": 13,
    "start_time": "2021-12-14T08:47:51.691Z"
   },
   {
    "duration": 6,
    "start_time": "2021-12-14T08:47:51.705Z"
   },
   {
    "duration": 12,
    "start_time": "2021-12-14T08:47:51.713Z"
   },
   {
    "duration": 6,
    "start_time": "2021-12-14T08:47:51.727Z"
   },
   {
    "duration": 14,
    "start_time": "2021-12-14T08:47:51.735Z"
   },
   {
    "duration": 36,
    "start_time": "2021-12-14T08:47:51.752Z"
   },
   {
    "duration": 5,
    "start_time": "2021-12-14T08:47:51.790Z"
   },
   {
    "duration": 9,
    "start_time": "2021-12-14T08:47:51.796Z"
   },
   {
    "duration": 20,
    "start_time": "2021-12-14T08:47:51.807Z"
   },
   {
    "duration": 13,
    "start_time": "2021-12-14T08:47:51.828Z"
   },
   {
    "duration": 21,
    "start_time": "2021-12-14T08:47:51.842Z"
   },
   {
    "duration": 15,
    "start_time": "2021-12-14T08:47:51.865Z"
   },
   {
    "duration": 15,
    "start_time": "2021-12-14T08:47:51.881Z"
   },
   {
    "duration": 35,
    "start_time": "2021-12-14T08:47:51.898Z"
   },
   {
    "duration": 19,
    "start_time": "2021-12-14T08:47:51.935Z"
   },
   {
    "duration": 13,
    "start_time": "2021-12-14T08:47:51.956Z"
   },
   {
    "duration": 26,
    "start_time": "2021-12-14T08:47:51.971Z"
   },
   {
    "duration": 9,
    "start_time": "2021-12-14T08:47:51.999Z"
   },
   {
    "duration": 20,
    "start_time": "2021-12-14T08:47:52.010Z"
   },
   {
    "duration": 5,
    "start_time": "2021-12-14T08:47:52.032Z"
   },
   {
    "duration": 23,
    "start_time": "2021-12-14T08:47:52.039Z"
   },
   {
    "duration": 41,
    "start_time": "2021-12-14T08:47:52.064Z"
   },
   {
    "duration": 21,
    "start_time": "2021-12-14T08:47:52.106Z"
   },
   {
    "duration": 13,
    "start_time": "2021-12-14T08:47:52.129Z"
   },
   {
    "duration": 105,
    "start_time": "2021-12-14T08:47:52.144Z"
   },
   {
    "duration": 21,
    "start_time": "2021-12-14T08:47:52.250Z"
   },
   {
    "duration": 42,
    "start_time": "2021-12-14T08:47:52.272Z"
   },
   {
    "duration": 50,
    "start_time": "2021-12-14T08:48:39.277Z"
   },
   {
    "duration": 16,
    "start_time": "2021-12-14T08:48:45.791Z"
   },
   {
    "duration": 46,
    "start_time": "2021-12-14T08:49:04.165Z"
   },
   {
    "duration": 12,
    "start_time": "2021-12-14T08:49:04.213Z"
   },
   {
    "duration": 11,
    "start_time": "2021-12-14T08:49:04.228Z"
   },
   {
    "duration": 14,
    "start_time": "2021-12-14T08:49:04.241Z"
   },
   {
    "duration": 17,
    "start_time": "2021-12-14T08:49:04.256Z"
   },
   {
    "duration": 12,
    "start_time": "2021-12-14T08:49:04.287Z"
   },
   {
    "duration": 12,
    "start_time": "2021-12-14T08:49:04.301Z"
   },
   {
    "duration": 12,
    "start_time": "2021-12-14T08:49:04.315Z"
   },
   {
    "duration": 17,
    "start_time": "2021-12-14T08:49:04.329Z"
   },
   {
    "duration": 14,
    "start_time": "2021-12-14T08:49:04.348Z"
   },
   {
    "duration": 30,
    "start_time": "2021-12-14T08:49:04.363Z"
   },
   {
    "duration": 8,
    "start_time": "2021-12-14T08:49:04.396Z"
   },
   {
    "duration": 8,
    "start_time": "2021-12-14T08:49:04.406Z"
   },
   {
    "duration": 14,
    "start_time": "2021-12-14T08:49:04.415Z"
   },
   {
    "duration": 8,
    "start_time": "2021-12-14T08:49:04.430Z"
   },
   {
    "duration": 53,
    "start_time": "2021-12-14T08:49:04.440Z"
   },
   {
    "duration": 5,
    "start_time": "2021-12-14T08:49:04.495Z"
   },
   {
    "duration": 6,
    "start_time": "2021-12-14T08:49:04.502Z"
   },
   {
    "duration": 7,
    "start_time": "2021-12-14T08:49:04.511Z"
   },
   {
    "duration": 7,
    "start_time": "2021-12-14T08:49:04.520Z"
   },
   {
    "duration": 8,
    "start_time": "2021-12-14T08:49:04.529Z"
   },
   {
    "duration": 8,
    "start_time": "2021-12-14T08:49:04.588Z"
   },
   {
    "duration": 9,
    "start_time": "2021-12-14T08:49:04.597Z"
   },
   {
    "duration": 20,
    "start_time": "2021-12-14T08:49:04.608Z"
   },
   {
    "duration": 12,
    "start_time": "2021-12-14T08:49:04.629Z"
   },
   {
    "duration": 46,
    "start_time": "2021-12-14T08:49:04.643Z"
   },
   {
    "duration": 4,
    "start_time": "2021-12-14T08:49:04.691Z"
   },
   {
    "duration": 13,
    "start_time": "2021-12-14T08:49:04.697Z"
   },
   {
    "duration": 4,
    "start_time": "2021-12-14T08:49:04.712Z"
   },
   {
    "duration": 25,
    "start_time": "2021-12-14T08:49:04.718Z"
   },
   {
    "duration": 43,
    "start_time": "2021-12-14T08:49:04.745Z"
   },
   {
    "duration": 22,
    "start_time": "2021-12-14T08:49:04.790Z"
   },
   {
    "duration": 19,
    "start_time": "2021-12-14T08:49:04.813Z"
   },
   {
    "duration": 70,
    "start_time": "2021-12-14T08:49:04.834Z"
   },
   {
    "duration": 14,
    "start_time": "2021-12-14T08:49:04.906Z"
   },
   {
    "duration": 26,
    "start_time": "2021-12-14T08:49:04.922Z"
   },
   {
    "duration": 44,
    "start_time": "2021-12-14T08:49:23.685Z"
   },
   {
    "duration": 15,
    "start_time": "2021-12-14T08:49:24.629Z"
   },
   {
    "duration": 40,
    "start_time": "2021-12-14T08:49:45.944Z"
   },
   {
    "duration": 18,
    "start_time": "2021-12-14T08:49:48.300Z"
   },
   {
    "duration": 51,
    "start_time": "2021-12-14T08:51:14.122Z"
   },
   {
    "duration": 23,
    "start_time": "2021-12-14T08:51:18.412Z"
   },
   {
    "duration": 47,
    "start_time": "2021-12-14T08:51:37.132Z"
   },
   {
    "duration": 12,
    "start_time": "2021-12-14T08:51:37.181Z"
   },
   {
    "duration": 12,
    "start_time": "2021-12-14T08:51:37.196Z"
   },
   {
    "duration": 5,
    "start_time": "2021-12-14T08:51:37.209Z"
   },
   {
    "duration": 9,
    "start_time": "2021-12-14T08:51:37.216Z"
   },
   {
    "duration": 12,
    "start_time": "2021-12-14T08:51:37.238Z"
   },
   {
    "duration": 37,
    "start_time": "2021-12-14T08:51:37.252Z"
   },
   {
    "duration": 7,
    "start_time": "2021-12-14T08:51:37.291Z"
   },
   {
    "duration": 10,
    "start_time": "2021-12-14T08:51:37.300Z"
   },
   {
    "duration": 15,
    "start_time": "2021-12-14T08:51:37.312Z"
   },
   {
    "duration": 7,
    "start_time": "2021-12-14T08:51:37.330Z"
   },
   {
    "duration": 8,
    "start_time": "2021-12-14T08:51:37.347Z"
   },
   {
    "duration": 34,
    "start_time": "2021-12-14T08:51:37.358Z"
   },
   {
    "duration": 18,
    "start_time": "2021-12-14T08:51:37.393Z"
   },
   {
    "duration": 14,
    "start_time": "2021-12-14T08:51:37.413Z"
   },
   {
    "duration": 8,
    "start_time": "2021-12-14T08:51:37.428Z"
   },
   {
    "duration": 9,
    "start_time": "2021-12-14T08:51:37.438Z"
   },
   {
    "duration": 18,
    "start_time": "2021-12-14T08:51:37.448Z"
   },
   {
    "duration": 7,
    "start_time": "2021-12-14T08:51:37.468Z"
   },
   {
    "duration": 8,
    "start_time": "2021-12-14T08:51:37.488Z"
   },
   {
    "duration": 14,
    "start_time": "2021-12-14T08:51:37.498Z"
   },
   {
    "duration": 8,
    "start_time": "2021-12-14T08:51:37.514Z"
   },
   {
    "duration": 8,
    "start_time": "2021-12-14T08:51:37.524Z"
   },
   {
    "duration": 18,
    "start_time": "2021-12-14T08:51:37.534Z"
   },
   {
    "duration": 46,
    "start_time": "2021-12-14T08:51:37.554Z"
   },
   {
    "duration": 18,
    "start_time": "2021-12-14T08:51:37.602Z"
   },
   {
    "duration": 4,
    "start_time": "2021-12-14T08:51:37.622Z"
   },
   {
    "duration": 11,
    "start_time": "2021-12-14T08:51:37.629Z"
   },
   {
    "duration": 5,
    "start_time": "2021-12-14T08:51:37.642Z"
   },
   {
    "duration": 24,
    "start_time": "2021-12-14T08:51:37.688Z"
   },
   {
    "duration": 16,
    "start_time": "2021-12-14T08:51:37.714Z"
   },
   {
    "duration": 21,
    "start_time": "2021-12-14T08:51:37.767Z"
   },
   {
    "duration": 14,
    "start_time": "2021-12-14T08:51:37.789Z"
   },
   {
    "duration": 52,
    "start_time": "2021-12-14T08:51:37.805Z"
   },
   {
    "duration": 40,
    "start_time": "2021-12-14T08:51:37.859Z"
   },
   {
    "duration": 2,
    "start_time": "2021-12-14T08:51:37.900Z"
   },
   {
    "duration": 54,
    "start_time": "2021-12-14T08:51:54.524Z"
   },
   {
    "duration": 23,
    "start_time": "2021-12-14T08:51:55.481Z"
   },
   {
    "duration": 82,
    "start_time": "2021-12-14T08:57:19.850Z"
   },
   {
    "duration": 57,
    "start_time": "2021-12-14T08:57:29.180Z"
   },
   {
    "duration": 26,
    "start_time": "2021-12-14T08:57:31.607Z"
   },
   {
    "duration": 282,
    "start_time": "2021-12-14T09:02:49.510Z"
   },
   {
    "duration": 224,
    "start_time": "2021-12-14T09:03:05.659Z"
   },
   {
    "duration": 408,
    "start_time": "2021-12-14T09:03:22.020Z"
   },
   {
    "duration": 376,
    "start_time": "2021-12-14T10:49:36.495Z"
   },
   {
    "duration": 435,
    "start_time": "2021-12-14T10:50:24.746Z"
   },
   {
    "duration": 250,
    "start_time": "2021-12-14T10:51:19.826Z"
   },
   {
    "duration": 252,
    "start_time": "2021-12-14T10:51:44.153Z"
   },
   {
    "duration": 45,
    "start_time": "2021-12-14T10:51:49.132Z"
   },
   {
    "duration": 12,
    "start_time": "2021-12-14T10:51:49.248Z"
   },
   {
    "duration": 13,
    "start_time": "2021-12-14T10:51:49.261Z"
   },
   {
    "duration": 4,
    "start_time": "2021-12-14T10:51:49.275Z"
   },
   {
    "duration": 8,
    "start_time": "2021-12-14T10:51:49.287Z"
   },
   {
    "duration": 12,
    "start_time": "2021-12-14T10:51:49.326Z"
   },
   {
    "duration": 10,
    "start_time": "2021-12-14T10:51:49.340Z"
   },
   {
    "duration": 7,
    "start_time": "2021-12-14T10:51:49.352Z"
   },
   {
    "duration": 8,
    "start_time": "2021-12-14T10:51:49.361Z"
   },
   {
    "duration": 11,
    "start_time": "2021-12-14T10:51:49.372Z"
   },
   {
    "duration": 7,
    "start_time": "2021-12-14T10:51:49.388Z"
   },
   {
    "duration": 8,
    "start_time": "2021-12-14T10:51:49.400Z"
   },
   {
    "duration": 7,
    "start_time": "2021-12-14T10:51:49.410Z"
   },
   {
    "duration": 12,
    "start_time": "2021-12-14T10:51:49.422Z"
   },
   {
    "duration": 7,
    "start_time": "2021-12-14T10:51:49.438Z"
   },
   {
    "duration": 6,
    "start_time": "2021-12-14T10:51:49.451Z"
   },
   {
    "duration": 4,
    "start_time": "2021-12-14T10:51:49.491Z"
   },
   {
    "duration": 7,
    "start_time": "2021-12-14T10:51:49.498Z"
   },
   {
    "duration": 6,
    "start_time": "2021-12-14T10:51:49.507Z"
   },
   {
    "duration": 7,
    "start_time": "2021-12-14T10:51:49.514Z"
   },
   {
    "duration": 7,
    "start_time": "2021-12-14T10:51:49.523Z"
   },
   {
    "duration": 11,
    "start_time": "2021-12-14T10:51:49.531Z"
   },
   {
    "duration": 45,
    "start_time": "2021-12-14T10:51:49.544Z"
   },
   {
    "duration": 18,
    "start_time": "2021-12-14T10:51:49.590Z"
   },
   {
    "duration": 12,
    "start_time": "2021-12-14T10:51:49.610Z"
   },
   {
    "duration": 18,
    "start_time": "2021-12-14T10:51:49.624Z"
   },
   {
    "duration": 4,
    "start_time": "2021-12-14T10:51:49.644Z"
   },
   {
    "duration": 50,
    "start_time": "2021-12-14T10:51:49.650Z"
   },
   {
    "duration": 5,
    "start_time": "2021-12-14T10:51:49.701Z"
   },
   {
    "duration": 27,
    "start_time": "2021-12-14T10:51:49.707Z"
   },
   {
    "duration": 18,
    "start_time": "2021-12-14T10:51:49.736Z"
   },
   {
    "duration": 49,
    "start_time": "2021-12-14T10:51:49.756Z"
   },
   {
    "duration": 13,
    "start_time": "2021-12-14T10:51:49.807Z"
   },
   {
    "duration": 245,
    "start_time": "2021-12-14T10:51:49.822Z"
   },
   {
    "duration": -1803,
    "start_time": "2021-12-14T10:51:51.872Z"
   },
   {
    "duration": -1818,
    "start_time": "2021-12-14T10:51:51.888Z"
   },
   {
    "duration": 56,
    "start_time": "2021-12-14T10:52:05.265Z"
   },
   {
    "duration": 64,
    "start_time": "2021-12-14T10:59:54.481Z"
   },
   {
    "duration": 39,
    "start_time": "2021-12-14T11:00:15.758Z"
   },
   {
    "duration": 47,
    "start_time": "2021-12-14T11:00:35.360Z"
   },
   {
    "duration": 24,
    "start_time": "2021-12-14T11:00:36.312Z"
   },
   {
    "duration": 45,
    "start_time": "2021-12-14T11:00:46.291Z"
   },
   {
    "duration": 11,
    "start_time": "2021-12-14T11:00:46.338Z"
   },
   {
    "duration": 11,
    "start_time": "2021-12-14T11:00:46.351Z"
   },
   {
    "duration": 10,
    "start_time": "2021-12-14T11:00:46.364Z"
   },
   {
    "duration": 18,
    "start_time": "2021-12-14T11:00:46.376Z"
   },
   {
    "duration": 12,
    "start_time": "2021-12-14T11:00:46.396Z"
   },
   {
    "duration": 13,
    "start_time": "2021-12-14T11:00:46.409Z"
   },
   {
    "duration": 7,
    "start_time": "2021-12-14T11:00:46.423Z"
   },
   {
    "duration": 7,
    "start_time": "2021-12-14T11:00:46.431Z"
   },
   {
    "duration": 9,
    "start_time": "2021-12-14T11:00:46.440Z"
   },
   {
    "duration": 50,
    "start_time": "2021-12-14T11:00:46.451Z"
   },
   {
    "duration": 7,
    "start_time": "2021-12-14T11:00:46.503Z"
   },
   {
    "duration": 9,
    "start_time": "2021-12-14T11:00:46.511Z"
   },
   {
    "duration": 6,
    "start_time": "2021-12-14T11:00:46.521Z"
   },
   {
    "duration": 12,
    "start_time": "2021-12-14T11:00:46.529Z"
   },
   {
    "duration": 6,
    "start_time": "2021-12-14T11:00:46.542Z"
   },
   {
    "duration": 40,
    "start_time": "2021-12-14T11:00:46.550Z"
   },
   {
    "duration": 6,
    "start_time": "2021-12-14T11:00:46.592Z"
   },
   {
    "duration": 8,
    "start_time": "2021-12-14T11:00:46.600Z"
   },
   {
    "duration": 6,
    "start_time": "2021-12-14T11:00:46.610Z"
   },
   {
    "duration": 6,
    "start_time": "2021-12-14T11:00:46.618Z"
   },
   {
    "duration": 8,
    "start_time": "2021-12-14T11:00:46.626Z"
   },
   {
    "duration": 7,
    "start_time": "2021-12-14T11:00:46.635Z"
   },
   {
    "duration": 54,
    "start_time": "2021-12-14T11:00:46.644Z"
   },
   {
    "duration": 12,
    "start_time": "2021-12-14T11:00:46.699Z"
   },
   {
    "duration": 17,
    "start_time": "2021-12-14T11:00:46.712Z"
   },
   {
    "duration": 4,
    "start_time": "2021-12-14T11:00:46.731Z"
   },
   {
    "duration": 14,
    "start_time": "2021-12-14T11:00:46.736Z"
   },
   {
    "duration": 37,
    "start_time": "2021-12-14T11:00:46.752Z"
   },
   {
    "duration": 21,
    "start_time": "2021-12-14T11:00:46.790Z"
   },
   {
    "duration": 16,
    "start_time": "2021-12-14T11:00:46.813Z"
   },
   {
    "duration": 19,
    "start_time": "2021-12-14T11:00:46.831Z"
   },
   {
    "duration": 42,
    "start_time": "2021-12-14T11:00:46.851Z"
   },
   {
    "duration": 42,
    "start_time": "2021-12-14T11:00:46.894Z"
   },
   {
    "duration": 23,
    "start_time": "2021-12-14T11:00:46.938Z"
   },
   {
    "duration": 48,
    "start_time": "2021-12-14T11:00:46.962Z"
   },
   {
    "duration": 44,
    "start_time": "2021-12-14T11:00:53.875Z"
   },
   {
    "duration": 24,
    "start_time": "2021-12-14T11:00:54.597Z"
   },
   {
    "duration": 35,
    "start_time": "2021-12-14T11:00:58.457Z"
   },
   {
    "duration": 16,
    "start_time": "2021-12-14T11:01:09.081Z"
   },
   {
    "duration": 44,
    "start_time": "2021-12-14T11:01:09.098Z"
   },
   {
    "duration": 22,
    "start_time": "2021-12-14T11:01:09.144Z"
   },
   {
    "duration": 47,
    "start_time": "2021-12-14T11:01:09.168Z"
   },
   {
    "duration": 19,
    "start_time": "2021-12-14T11:01:16.374Z"
   },
   {
    "duration": 45,
    "start_time": "2021-12-14T11:01:18.045Z"
   },
   {
    "duration": 26,
    "start_time": "2021-12-14T11:01:18.709Z"
   },
   {
    "duration": 25,
    "start_time": "2021-12-14T11:01:47.261Z"
   },
   {
    "duration": 16,
    "start_time": "2021-12-14T11:01:47.288Z"
   },
   {
    "duration": 47,
    "start_time": "2021-12-14T11:01:47.306Z"
   },
   {
    "duration": 50,
    "start_time": "2021-12-14T11:01:47.355Z"
   },
   {
    "duration": 31,
    "start_time": "2021-12-14T11:01:47.407Z"
   },
   {
    "duration": 47,
    "start_time": "2021-12-14T11:02:16.805Z"
   },
   {
    "duration": 12,
    "start_time": "2021-12-14T11:02:16.854Z"
   },
   {
    "duration": 10,
    "start_time": "2021-12-14T11:02:16.869Z"
   },
   {
    "duration": 7,
    "start_time": "2021-12-14T11:02:16.881Z"
   },
   {
    "duration": 11,
    "start_time": "2021-12-14T11:02:16.890Z"
   },
   {
    "duration": 11,
    "start_time": "2021-12-14T11:02:16.903Z"
   },
   {
    "duration": 11,
    "start_time": "2021-12-14T11:02:16.916Z"
   },
   {
    "duration": 6,
    "start_time": "2021-12-14T11:02:16.929Z"
   },
   {
    "duration": 5,
    "start_time": "2021-12-14T11:02:16.937Z"
   },
   {
    "duration": 45,
    "start_time": "2021-12-14T11:02:16.944Z"
   },
   {
    "duration": 13,
    "start_time": "2021-12-14T11:02:16.990Z"
   },
   {
    "duration": 14,
    "start_time": "2021-12-14T11:02:17.004Z"
   },
   {
    "duration": 7,
    "start_time": "2021-12-14T11:02:17.020Z"
   },
   {
    "duration": 5,
    "start_time": "2021-12-14T11:02:17.029Z"
   },
   {
    "duration": 14,
    "start_time": "2021-12-14T11:02:17.036Z"
   },
   {
    "duration": 37,
    "start_time": "2021-12-14T11:02:17.052Z"
   },
   {
    "duration": 4,
    "start_time": "2021-12-14T11:02:17.091Z"
   },
   {
    "duration": 7,
    "start_time": "2021-12-14T11:02:17.096Z"
   },
   {
    "duration": 7,
    "start_time": "2021-12-14T11:02:17.105Z"
   },
   {
    "duration": 7,
    "start_time": "2021-12-14T11:02:17.113Z"
   },
   {
    "duration": 6,
    "start_time": "2021-12-14T11:02:17.121Z"
   },
   {
    "duration": 6,
    "start_time": "2021-12-14T11:02:17.129Z"
   },
   {
    "duration": 53,
    "start_time": "2021-12-14T11:02:17.136Z"
   },
   {
    "duration": 17,
    "start_time": "2021-12-14T11:02:17.190Z"
   },
   {
    "duration": 12,
    "start_time": "2021-12-14T11:02:17.208Z"
   },
   {
    "duration": 17,
    "start_time": "2021-12-14T11:02:17.222Z"
   },
   {
    "duration": 4,
    "start_time": "2021-12-14T11:02:17.241Z"
   },
   {
    "duration": 45,
    "start_time": "2021-12-14T11:02:17.246Z"
   },
   {
    "duration": 4,
    "start_time": "2021-12-14T11:02:17.292Z"
   },
   {
    "duration": 28,
    "start_time": "2021-12-14T11:02:17.298Z"
   },
   {
    "duration": 21,
    "start_time": "2021-12-14T11:02:17.327Z"
   },
   {
    "duration": 42,
    "start_time": "2021-12-14T11:02:17.349Z"
   },
   {
    "duration": 13,
    "start_time": "2021-12-14T11:02:17.393Z"
   },
   {
    "duration": 40,
    "start_time": "2021-12-14T11:02:17.408Z"
   },
   {
    "duration": 39,
    "start_time": "2021-12-14T11:02:17.450Z"
   },
   {
    "duration": 30,
    "start_time": "2021-12-14T11:02:17.491Z"
   },
   {
    "duration": 40,
    "start_time": "2021-12-14T11:02:48.371Z"
   },
   {
    "duration": 3,
    "start_time": "2021-12-14T11:03:14.377Z"
   },
   {
    "duration": 45,
    "start_time": "2021-12-14T11:03:17.791Z"
   },
   {
    "duration": 11,
    "start_time": "2021-12-14T11:03:17.838Z"
   },
   {
    "duration": 11,
    "start_time": "2021-12-14T11:03:17.851Z"
   },
   {
    "duration": 3,
    "start_time": "2021-12-14T11:03:17.864Z"
   },
   {
    "duration": 20,
    "start_time": "2021-12-14T11:03:17.868Z"
   },
   {
    "duration": 13,
    "start_time": "2021-12-14T11:03:17.890Z"
   },
   {
    "duration": 12,
    "start_time": "2021-12-14T11:03:17.904Z"
   },
   {
    "duration": 5,
    "start_time": "2021-12-14T11:03:17.917Z"
   },
   {
    "duration": 7,
    "start_time": "2021-12-14T11:03:17.924Z"
   },
   {
    "duration": 9,
    "start_time": "2021-12-14T11:03:17.937Z"
   },
   {
    "duration": 45,
    "start_time": "2021-12-14T11:03:17.949Z"
   },
   {
    "duration": 8,
    "start_time": "2021-12-14T11:03:17.997Z"
   },
   {
    "duration": 12,
    "start_time": "2021-12-14T11:03:18.007Z"
   },
   {
    "duration": 9,
    "start_time": "2021-12-14T11:03:18.021Z"
   },
   {
    "duration": 13,
    "start_time": "2021-12-14T11:03:18.031Z"
   },
   {
    "duration": 6,
    "start_time": "2021-12-14T11:03:18.046Z"
   },
   {
    "duration": 35,
    "start_time": "2021-12-14T11:03:18.054Z"
   },
   {
    "duration": 5,
    "start_time": "2021-12-14T11:03:18.091Z"
   },
   {
    "duration": 6,
    "start_time": "2021-12-14T11:03:18.098Z"
   },
   {
    "duration": 6,
    "start_time": "2021-12-14T11:03:18.106Z"
   },
   {
    "duration": 6,
    "start_time": "2021-12-14T11:03:18.114Z"
   },
   {
    "duration": 9,
    "start_time": "2021-12-14T11:03:18.122Z"
   },
   {
    "duration": 7,
    "start_time": "2021-12-14T11:03:18.132Z"
   },
   {
    "duration": 61,
    "start_time": "2021-12-14T11:03:18.140Z"
   },
   {
    "duration": 12,
    "start_time": "2021-12-14T11:03:18.203Z"
   },
   {
    "duration": 16,
    "start_time": "2021-12-14T11:03:18.217Z"
   },
   {
    "duration": 4,
    "start_time": "2021-12-14T11:03:18.235Z"
   },
   {
    "duration": 14,
    "start_time": "2021-12-14T11:03:18.240Z"
   },
   {
    "duration": 33,
    "start_time": "2021-12-14T11:03:18.256Z"
   },
   {
    "duration": 22,
    "start_time": "2021-12-14T11:03:18.290Z"
   },
   {
    "duration": 17,
    "start_time": "2021-12-14T11:03:18.314Z"
   },
   {
    "duration": 20,
    "start_time": "2021-12-14T11:03:18.333Z"
   },
   {
    "duration": 42,
    "start_time": "2021-12-14T11:03:18.354Z"
   },
   {
    "duration": 2,
    "start_time": "2021-12-14T11:03:18.398Z"
   },
   {
    "duration": 16,
    "start_time": "2021-12-14T11:03:18.401Z"
   },
   {
    "duration": 26,
    "start_time": "2021-12-14T11:03:18.418Z"
   },
   {
    "duration": 23,
    "start_time": "2021-12-14T11:03:44.905Z"
   },
   {
    "duration": 22,
    "start_time": "2021-12-14T11:04:44.540Z"
   },
   {
    "duration": 15,
    "start_time": "2021-12-14T11:04:51.644Z"
   },
   {
    "duration": 9,
    "start_time": "2021-12-14T11:04:57.747Z"
   },
   {
    "duration": 14,
    "start_time": "2021-12-14T11:05:05.393Z"
   },
   {
    "duration": 9,
    "start_time": "2021-12-14T11:05:15.666Z"
   },
   {
    "duration": 21,
    "start_time": "2021-12-14T11:05:21.590Z"
   },
   {
    "duration": 14,
    "start_time": "2021-12-14T11:05:40.004Z"
   },
   {
    "duration": 10,
    "start_time": "2021-12-14T11:05:45.903Z"
   },
   {
    "duration": 10,
    "start_time": "2021-12-14T11:05:59.507Z"
   },
   {
    "duration": 45,
    "start_time": "2021-12-14T11:06:18.291Z"
   },
   {
    "duration": 23,
    "start_time": "2021-12-14T11:06:19.351Z"
   },
   {
    "duration": 18,
    "start_time": "2021-12-14T11:06:23.123Z"
   },
   {
    "duration": 46,
    "start_time": "2021-12-14T11:06:24.730Z"
   },
   {
    "duration": 24,
    "start_time": "2021-12-14T11:06:25.428Z"
   },
   {
    "duration": 33,
    "start_time": "2021-12-14T11:06:27.081Z"
   },
   {
    "duration": 49,
    "start_time": "2021-12-14T11:06:30.710Z"
   },
   {
    "duration": 12,
    "start_time": "2021-12-14T11:06:30.761Z"
   },
   {
    "duration": 13,
    "start_time": "2021-12-14T11:06:30.775Z"
   },
   {
    "duration": 9,
    "start_time": "2021-12-14T11:06:30.790Z"
   },
   {
    "duration": 19,
    "start_time": "2021-12-14T11:06:30.800Z"
   },
   {
    "duration": 20,
    "start_time": "2021-12-14T11:06:30.821Z"
   },
   {
    "duration": 28,
    "start_time": "2021-12-14T11:06:30.842Z"
   },
   {
    "duration": 7,
    "start_time": "2021-12-14T11:06:30.872Z"
   },
   {
    "duration": 15,
    "start_time": "2021-12-14T11:06:30.880Z"
   },
   {
    "duration": 18,
    "start_time": "2021-12-14T11:06:30.896Z"
   },
   {
    "duration": 26,
    "start_time": "2021-12-14T11:06:30.916Z"
   },
   {
    "duration": 7,
    "start_time": "2021-12-14T11:06:30.944Z"
   },
   {
    "duration": 10,
    "start_time": "2021-12-14T11:06:30.953Z"
   },
   {
    "duration": 7,
    "start_time": "2021-12-14T11:06:30.965Z"
   },
   {
    "duration": 26,
    "start_time": "2021-12-14T11:06:30.973Z"
   },
   {
    "duration": 11,
    "start_time": "2021-12-14T11:06:31.001Z"
   },
   {
    "duration": 13,
    "start_time": "2021-12-14T11:06:31.013Z"
   },
   {
    "duration": 8,
    "start_time": "2021-12-14T11:06:31.029Z"
   },
   {
    "duration": 11,
    "start_time": "2021-12-14T11:06:31.038Z"
   },
   {
    "duration": 9,
    "start_time": "2021-12-14T11:06:31.051Z"
   },
   {
    "duration": 30,
    "start_time": "2021-12-14T11:06:31.062Z"
   },
   {
    "duration": 11,
    "start_time": "2021-12-14T11:06:31.094Z"
   },
   {
    "duration": 10,
    "start_time": "2021-12-14T11:06:31.107Z"
   },
   {
    "duration": 28,
    "start_time": "2021-12-14T11:06:31.118Z"
   },
   {
    "duration": 44,
    "start_time": "2021-12-14T11:06:31.148Z"
   },
   {
    "duration": 20,
    "start_time": "2021-12-14T11:06:31.194Z"
   },
   {
    "duration": 6,
    "start_time": "2021-12-14T11:06:31.216Z"
   },
   {
    "duration": 15,
    "start_time": "2021-12-14T11:06:31.224Z"
   },
   {
    "duration": 6,
    "start_time": "2021-12-14T11:06:31.241Z"
   },
   {
    "duration": 43,
    "start_time": "2021-12-14T11:06:31.249Z"
   },
   {
    "duration": 17,
    "start_time": "2021-12-14T11:06:31.293Z"
   },
   {
    "duration": 8,
    "start_time": "2021-12-14T11:06:31.312Z"
   },
   {
    "duration": 14,
    "start_time": "2021-12-14T11:06:31.321Z"
   },
   {
    "duration": 75,
    "start_time": "2021-12-14T11:06:31.336Z"
   },
   {
    "duration": 25,
    "start_time": "2021-12-14T11:06:31.413Z"
   },
   {
    "duration": 31,
    "start_time": "2021-12-14T11:06:31.440Z"
   },
   {
    "duration": 16,
    "start_time": "2021-12-14T11:07:04.926Z"
   },
   {
    "duration": 47,
    "start_time": "2021-12-14T11:07:06.363Z"
   },
   {
    "duration": 24,
    "start_time": "2021-12-14T11:07:06.901Z"
   },
   {
    "duration": 46,
    "start_time": "2021-12-14T11:07:11.016Z"
   },
   {
    "duration": 13,
    "start_time": "2021-12-14T11:07:11.064Z"
   },
   {
    "duration": 11,
    "start_time": "2021-12-14T11:07:11.079Z"
   },
   {
    "duration": 3,
    "start_time": "2021-12-14T11:07:11.093Z"
   },
   {
    "duration": 11,
    "start_time": "2021-12-14T11:07:11.098Z"
   },
   {
    "duration": 12,
    "start_time": "2021-12-14T11:07:11.111Z"
   },
   {
    "duration": 19,
    "start_time": "2021-12-14T11:07:11.124Z"
   },
   {
    "duration": 5,
    "start_time": "2021-12-14T11:07:11.145Z"
   },
   {
    "duration": 5,
    "start_time": "2021-12-14T11:07:11.152Z"
   },
   {
    "duration": 39,
    "start_time": "2021-12-14T11:07:11.158Z"
   },
   {
    "duration": 12,
    "start_time": "2021-12-14T11:07:11.199Z"
   },
   {
    "duration": 8,
    "start_time": "2021-12-14T11:07:11.213Z"
   },
   {
    "duration": 9,
    "start_time": "2021-12-14T11:07:11.223Z"
   },
   {
    "duration": 8,
    "start_time": "2021-12-14T11:07:11.234Z"
   },
   {
    "duration": 50,
    "start_time": "2021-12-14T11:07:11.244Z"
   },
   {
    "duration": 8,
    "start_time": "2021-12-14T11:07:11.296Z"
   },
   {
    "duration": 5,
    "start_time": "2021-12-14T11:07:11.306Z"
   },
   {
    "duration": 7,
    "start_time": "2021-12-14T11:07:11.313Z"
   },
   {
    "duration": 6,
    "start_time": "2021-12-14T11:07:11.321Z"
   },
   {
    "duration": 8,
    "start_time": "2021-12-14T11:07:11.329Z"
   },
   {
    "duration": 50,
    "start_time": "2021-12-14T11:07:11.338Z"
   },
   {
    "duration": 8,
    "start_time": "2021-12-14T11:07:11.390Z"
   },
   {
    "duration": 8,
    "start_time": "2021-12-14T11:07:11.400Z"
   },
   {
    "duration": 18,
    "start_time": "2021-12-14T11:07:11.409Z"
   },
   {
    "duration": 14,
    "start_time": "2021-12-14T11:07:11.429Z"
   },
   {
    "duration": 56,
    "start_time": "2021-12-14T11:07:11.445Z"
   },
   {
    "duration": 4,
    "start_time": "2021-12-14T11:07:11.503Z"
   },
   {
    "duration": 29,
    "start_time": "2021-12-14T11:07:11.509Z"
   },
   {
    "duration": 6,
    "start_time": "2021-12-14T11:07:11.541Z"
   },
   {
    "duration": 40,
    "start_time": "2021-12-14T11:07:11.549Z"
   },
   {
    "duration": 26,
    "start_time": "2021-12-14T11:07:11.591Z"
   },
   {
    "duration": 11,
    "start_time": "2021-12-14T11:07:11.618Z"
   },
   {
    "duration": 13,
    "start_time": "2021-12-14T11:07:11.631Z"
   },
   {
    "duration": 68,
    "start_time": "2021-12-14T11:07:11.646Z"
   },
   {
    "duration": 23,
    "start_time": "2021-12-14T11:07:11.715Z"
   },
   {
    "duration": 29,
    "start_time": "2021-12-14T11:07:11.740Z"
   },
   {
    "duration": 25,
    "start_time": "2021-12-14T11:07:38.114Z"
   },
   {
    "duration": 74,
    "start_time": "2021-12-14T11:07:44.226Z"
   },
   {
    "duration": 27,
    "start_time": "2021-12-14T11:07:45.042Z"
   },
   {
    "duration": 31,
    "start_time": "2021-12-14T11:07:46.899Z"
   },
   {
    "duration": 12,
    "start_time": "2021-12-14T11:07:50.909Z"
   },
   {
    "duration": 17,
    "start_time": "2021-12-14T11:07:55.303Z"
   },
   {
    "duration": 44,
    "start_time": "2021-12-14T11:08:17.541Z"
   },
   {
    "duration": 14,
    "start_time": "2021-12-14T11:08:17.587Z"
   },
   {
    "duration": 13,
    "start_time": "2021-12-14T11:08:17.603Z"
   },
   {
    "duration": 4,
    "start_time": "2021-12-14T11:08:17.618Z"
   },
   {
    "duration": 10,
    "start_time": "2021-12-14T11:08:17.623Z"
   },
   {
    "duration": 12,
    "start_time": "2021-12-14T11:08:17.634Z"
   },
   {
    "duration": 41,
    "start_time": "2021-12-14T11:08:17.648Z"
   },
   {
    "duration": 6,
    "start_time": "2021-12-14T11:08:17.691Z"
   },
   {
    "duration": 8,
    "start_time": "2021-12-14T11:08:17.699Z"
   },
   {
    "duration": 11,
    "start_time": "2021-12-14T11:08:17.708Z"
   },
   {
    "duration": 18,
    "start_time": "2021-12-14T11:08:17.721Z"
   },
   {
    "duration": 7,
    "start_time": "2021-12-14T11:08:17.741Z"
   },
   {
    "duration": 39,
    "start_time": "2021-12-14T11:08:17.750Z"
   },
   {
    "duration": 7,
    "start_time": "2021-12-14T11:08:17.790Z"
   },
   {
    "duration": 14,
    "start_time": "2021-12-14T11:08:17.798Z"
   },
   {
    "duration": 7,
    "start_time": "2021-12-14T11:08:17.813Z"
   },
   {
    "duration": 3,
    "start_time": "2021-12-14T11:08:17.822Z"
   },
   {
    "duration": 6,
    "start_time": "2021-12-14T11:08:17.827Z"
   },
   {
    "duration": 6,
    "start_time": "2021-12-14T11:08:17.834Z"
   },
   {
    "duration": 47,
    "start_time": "2021-12-14T11:08:17.842Z"
   },
   {
    "duration": 7,
    "start_time": "2021-12-14T11:08:17.891Z"
   },
   {
    "duration": 8,
    "start_time": "2021-12-14T11:08:17.900Z"
   },
   {
    "duration": 7,
    "start_time": "2021-12-14T11:08:17.909Z"
   },
   {
    "duration": 18,
    "start_time": "2021-12-14T11:08:17.918Z"
   },
   {
    "duration": 55,
    "start_time": "2021-12-14T11:08:17.937Z"
   },
   {
    "duration": 18,
    "start_time": "2021-12-14T11:08:17.994Z"
   },
   {
    "duration": 5,
    "start_time": "2021-12-14T11:08:18.014Z"
   },
   {
    "duration": 15,
    "start_time": "2021-12-14T11:08:18.021Z"
   },
   {
    "duration": 5,
    "start_time": "2021-12-14T11:08:18.037Z"
   },
   {
    "duration": 52,
    "start_time": "2021-12-14T11:08:18.043Z"
   },
   {
    "duration": 18,
    "start_time": "2021-12-14T11:08:18.097Z"
   },
   {
    "duration": 11,
    "start_time": "2021-12-14T11:08:18.117Z"
   },
   {
    "duration": 16,
    "start_time": "2021-12-14T11:08:18.130Z"
   },
   {
    "duration": 78,
    "start_time": "2021-12-14T11:08:18.147Z"
   },
   {
    "duration": 24,
    "start_time": "2021-12-14T11:08:18.226Z"
   },
   {
    "duration": 44,
    "start_time": "2021-12-14T11:08:18.251Z"
   },
   {
    "duration": 19,
    "start_time": "2021-12-14T11:09:25.709Z"
   },
   {
    "duration": 49,
    "start_time": "2021-12-14T11:09:32.276Z"
   },
   {
    "duration": 12,
    "start_time": "2021-12-14T11:09:32.326Z"
   },
   {
    "duration": 11,
    "start_time": "2021-12-14T11:09:32.340Z"
   },
   {
    "duration": 5,
    "start_time": "2021-12-14T11:09:32.353Z"
   },
   {
    "duration": 32,
    "start_time": "2021-12-14T11:09:32.359Z"
   },
   {
    "duration": 13,
    "start_time": "2021-12-14T11:09:32.392Z"
   },
   {
    "duration": 12,
    "start_time": "2021-12-14T11:09:32.407Z"
   },
   {
    "duration": 7,
    "start_time": "2021-12-14T11:09:32.421Z"
   },
   {
    "duration": 16,
    "start_time": "2021-12-14T11:09:32.429Z"
   },
   {
    "duration": 43,
    "start_time": "2021-12-14T11:09:32.446Z"
   },
   {
    "duration": 15,
    "start_time": "2021-12-14T11:09:32.491Z"
   },
   {
    "duration": 7,
    "start_time": "2021-12-14T11:09:32.508Z"
   },
   {
    "duration": 7,
    "start_time": "2021-12-14T11:09:32.516Z"
   },
   {
    "duration": 7,
    "start_time": "2021-12-14T11:09:32.525Z"
   },
   {
    "duration": 12,
    "start_time": "2021-12-14T11:09:32.533Z"
   },
   {
    "duration": 43,
    "start_time": "2021-12-14T11:09:32.547Z"
   },
   {
    "duration": 4,
    "start_time": "2021-12-14T11:09:32.591Z"
   },
   {
    "duration": 6,
    "start_time": "2021-12-14T11:09:32.597Z"
   },
   {
    "duration": 6,
    "start_time": "2021-12-14T11:09:32.605Z"
   },
   {
    "duration": 6,
    "start_time": "2021-12-14T11:09:32.613Z"
   },
   {
    "duration": 6,
    "start_time": "2021-12-14T11:09:32.621Z"
   },
   {
    "duration": 7,
    "start_time": "2021-12-14T11:09:32.629Z"
   },
   {
    "duration": 8,
    "start_time": "2021-12-14T11:09:32.638Z"
   },
   {
    "duration": 17,
    "start_time": "2021-12-14T11:09:32.687Z"
   },
   {
    "duration": 12,
    "start_time": "2021-12-14T11:09:32.705Z"
   },
   {
    "duration": 17,
    "start_time": "2021-12-14T11:09:32.718Z"
   },
   {
    "duration": 3,
    "start_time": "2021-12-14T11:09:32.736Z"
   },
   {
    "duration": 12,
    "start_time": "2021-12-14T11:09:32.741Z"
   },
   {
    "duration": 37,
    "start_time": "2021-12-14T11:09:32.754Z"
   },
   {
    "duration": 22,
    "start_time": "2021-12-14T11:09:32.793Z"
   },
   {
    "duration": 17,
    "start_time": "2021-12-14T11:09:32.816Z"
   },
   {
    "duration": 7,
    "start_time": "2021-12-14T11:09:32.835Z"
   },
   {
    "duration": 13,
    "start_time": "2021-12-14T11:09:32.844Z"
   },
   {
    "duration": 37,
    "start_time": "2021-12-14T11:09:32.888Z"
   },
   {
    "duration": 22,
    "start_time": "2021-12-14T11:09:32.927Z"
   },
   {
    "duration": 49,
    "start_time": "2021-12-14T11:09:32.951Z"
   },
   {
    "duration": 35,
    "start_time": "2021-12-14T11:10:12.173Z"
   },
   {
    "duration": 28,
    "start_time": "2021-12-14T11:11:51.017Z"
   },
   {
    "duration": 38,
    "start_time": "2021-12-14T11:12:58.184Z"
   },
   {
    "duration": 39,
    "start_time": "2021-12-14T11:13:19.376Z"
   },
   {
    "duration": 46,
    "start_time": "2021-12-14T11:14:26.950Z"
   },
   {
    "duration": 12,
    "start_time": "2021-12-14T11:14:26.998Z"
   },
   {
    "duration": 15,
    "start_time": "2021-12-14T11:14:27.012Z"
   },
   {
    "duration": 4,
    "start_time": "2021-12-14T11:14:27.028Z"
   },
   {
    "duration": 10,
    "start_time": "2021-12-14T11:14:27.033Z"
   },
   {
    "duration": 14,
    "start_time": "2021-12-14T11:14:27.044Z"
   },
   {
    "duration": 39,
    "start_time": "2021-12-14T11:14:27.060Z"
   },
   {
    "duration": 6,
    "start_time": "2021-12-14T11:14:27.101Z"
   },
   {
    "duration": 90,
    "start_time": "2021-12-14T11:14:27.109Z"
   },
   {
    "duration": 9,
    "start_time": "2021-12-14T11:14:27.201Z"
   },
   {
    "duration": 14,
    "start_time": "2021-12-14T11:14:27.211Z"
   },
   {
    "duration": 6,
    "start_time": "2021-12-14T11:14:27.227Z"
   },
   {
    "duration": 8,
    "start_time": "2021-12-14T11:14:27.234Z"
   },
   {
    "duration": 51,
    "start_time": "2021-12-14T11:14:27.243Z"
   },
   {
    "duration": 13,
    "start_time": "2021-12-14T11:14:27.295Z"
   },
   {
    "duration": 21,
    "start_time": "2021-12-14T11:14:27.309Z"
   },
   {
    "duration": 12,
    "start_time": "2021-12-14T11:14:27.332Z"
   },
   {
    "duration": 15,
    "start_time": "2021-12-14T11:14:27.346Z"
   },
   {
    "duration": 25,
    "start_time": "2021-12-14T11:14:27.362Z"
   },
   {
    "duration": 9,
    "start_time": "2021-12-14T11:14:27.389Z"
   },
   {
    "duration": 11,
    "start_time": "2021-12-14T11:14:27.402Z"
   },
   {
    "duration": 20,
    "start_time": "2021-12-14T11:14:27.415Z"
   },
   {
    "duration": 16,
    "start_time": "2021-12-14T11:14:27.437Z"
   },
   {
    "duration": 42,
    "start_time": "2021-12-14T11:14:27.455Z"
   },
   {
    "duration": 16,
    "start_time": "2021-12-14T11:14:27.499Z"
   },
   {
    "duration": 32,
    "start_time": "2021-12-14T11:14:27.517Z"
   },
   {
    "duration": 5,
    "start_time": "2021-12-14T11:14:27.551Z"
   },
   {
    "duration": 42,
    "start_time": "2021-12-14T11:14:27.558Z"
   },
   {
    "duration": 6,
    "start_time": "2021-12-14T11:14:27.602Z"
   },
   {
    "duration": 48,
    "start_time": "2021-12-14T11:14:27.610Z"
   },
   {
    "duration": 28,
    "start_time": "2021-12-14T11:14:27.660Z"
   },
   {
    "duration": 9,
    "start_time": "2021-12-14T11:14:27.692Z"
   },
   {
    "duration": 22,
    "start_time": "2021-12-14T11:14:27.703Z"
   },
   {
    "duration": 38,
    "start_time": "2021-12-14T11:14:27.727Z"
   },
   {
    "duration": 47,
    "start_time": "2021-12-14T11:14:27.767Z"
   },
   {
    "duration": 33,
    "start_time": "2021-12-14T11:14:27.816Z"
   },
   {
    "duration": 239,
    "start_time": "2021-12-14T11:16:20.465Z"
   },
   {
    "duration": 288,
    "start_time": "2021-12-14T11:16:51.223Z"
   },
   {
    "duration": 40,
    "start_time": "2021-12-14T11:16:59.616Z"
   },
   {
    "duration": 46,
    "start_time": "2021-12-14T11:34:26.981Z"
   },
   {
    "duration": 13,
    "start_time": "2021-12-14T11:34:27.029Z"
   },
   {
    "duration": 10,
    "start_time": "2021-12-14T11:34:27.123Z"
   },
   {
    "duration": 17,
    "start_time": "2021-12-14T11:34:27.135Z"
   },
   {
    "duration": 22,
    "start_time": "2021-12-14T11:34:27.154Z"
   },
   {
    "duration": 14,
    "start_time": "2021-12-14T11:34:27.190Z"
   },
   {
    "duration": 17,
    "start_time": "2021-12-14T11:34:27.206Z"
   },
   {
    "duration": 8,
    "start_time": "2021-12-14T11:34:27.224Z"
   },
   {
    "duration": 34,
    "start_time": "2021-12-14T11:34:27.387Z"
   },
   {
    "duration": 9,
    "start_time": "2021-12-14T11:34:27.422Z"
   },
   {
    "duration": 43,
    "start_time": "2021-12-14T11:34:27.433Z"
   },
   {
    "duration": 24,
    "start_time": "2021-12-14T11:34:27.478Z"
   },
   {
    "duration": 8,
    "start_time": "2021-12-14T11:34:27.530Z"
   },
   {
    "duration": 21,
    "start_time": "2021-12-14T11:34:27.540Z"
   },
   {
    "duration": 26,
    "start_time": "2021-12-14T11:34:27.563Z"
   },
   {
    "duration": 7,
    "start_time": "2021-12-14T11:34:27.591Z"
   },
   {
    "duration": 22,
    "start_time": "2021-12-14T11:34:27.600Z"
   },
   {
    "duration": 12,
    "start_time": "2021-12-14T11:34:27.624Z"
   },
   {
    "duration": 23,
    "start_time": "2021-12-14T11:34:27.638Z"
   },
   {
    "duration": 11,
    "start_time": "2021-12-14T11:34:27.663Z"
   },
   {
    "duration": 20,
    "start_time": "2021-12-14T11:34:27.677Z"
   },
   {
    "duration": 25,
    "start_time": "2021-12-14T11:34:27.699Z"
   },
   {
    "duration": 17,
    "start_time": "2021-12-14T11:34:27.726Z"
   },
   {
    "duration": 29,
    "start_time": "2021-12-14T11:34:27.744Z"
   },
   {
    "duration": 12,
    "start_time": "2021-12-14T11:34:27.775Z"
   },
   {
    "duration": 17,
    "start_time": "2021-12-14T11:34:27.788Z"
   },
   {
    "duration": 4,
    "start_time": "2021-12-14T11:34:27.808Z"
   },
   {
    "duration": 26,
    "start_time": "2021-12-14T11:34:27.814Z"
   },
   {
    "duration": 13,
    "start_time": "2021-12-14T11:34:27.841Z"
   },
   {
    "duration": 48,
    "start_time": "2021-12-14T11:34:27.856Z"
   },
   {
    "duration": 17,
    "start_time": "2021-12-14T11:34:27.906Z"
   },
   {
    "duration": 7,
    "start_time": "2021-12-14T11:34:27.924Z"
   },
   {
    "duration": 12,
    "start_time": "2021-12-14T11:34:27.933Z"
   },
   {
    "duration": 66,
    "start_time": "2021-12-14T11:34:27.947Z"
   },
   {
    "duration": 22,
    "start_time": "2021-12-14T11:34:28.015Z"
   },
   {
    "duration": 30,
    "start_time": "2021-12-14T11:34:28.039Z"
   },
   {
    "duration": 16,
    "start_time": "2021-12-14T11:50:50.007Z"
   },
   {
    "duration": 44,
    "start_time": "2021-12-14T11:51:01.904Z"
   },
   {
    "duration": 11,
    "start_time": "2021-12-14T11:51:01.950Z"
   },
   {
    "duration": 11,
    "start_time": "2021-12-14T11:51:01.963Z"
   },
   {
    "duration": 4,
    "start_time": "2021-12-14T11:51:01.976Z"
   },
   {
    "duration": 14,
    "start_time": "2021-12-14T11:51:01.981Z"
   },
   {
    "duration": 14,
    "start_time": "2021-12-14T11:51:01.997Z"
   },
   {
    "duration": 24,
    "start_time": "2021-12-14T11:51:02.013Z"
   },
   {
    "duration": 7,
    "start_time": "2021-12-14T11:51:02.040Z"
   },
   {
    "duration": 51,
    "start_time": "2021-12-14T11:51:02.063Z"
   },
   {
    "duration": 15,
    "start_time": "2021-12-14T11:51:02.116Z"
   },
   {
    "duration": 12,
    "start_time": "2021-12-14T11:51:02.134Z"
   },
   {
    "duration": 45,
    "start_time": "2021-12-14T11:51:02.148Z"
   },
   {
    "duration": 6,
    "start_time": "2021-12-14T11:51:02.194Z"
   },
   {
    "duration": 8,
    "start_time": "2021-12-14T11:51:02.202Z"
   },
   {
    "duration": 11,
    "start_time": "2021-12-14T11:51:02.212Z"
   },
   {
    "duration": 9,
    "start_time": "2021-12-14T11:51:02.225Z"
   },
   {
    "duration": 11,
    "start_time": "2021-12-14T11:51:02.236Z"
   },
   {
    "duration": 40,
    "start_time": "2021-12-14T11:51:02.249Z"
   },
   {
    "duration": 6,
    "start_time": "2021-12-14T11:51:02.291Z"
   },
   {
    "duration": 7,
    "start_time": "2021-12-14T11:51:02.298Z"
   },
   {
    "duration": 5,
    "start_time": "2021-12-14T11:51:02.307Z"
   },
   {
    "duration": 8,
    "start_time": "2021-12-14T11:51:02.314Z"
   },
   {
    "duration": 8,
    "start_time": "2021-12-14T11:51:02.324Z"
   },
   {
    "duration": 10,
    "start_time": "2021-12-14T11:51:02.334Z"
   },
   {
    "duration": 46,
    "start_time": "2021-12-14T11:51:02.345Z"
   },
   {
    "duration": 9,
    "start_time": "2021-12-14T11:51:02.393Z"
   },
   {
    "duration": 19,
    "start_time": "2021-12-14T11:51:02.404Z"
   },
   {
    "duration": 15,
    "start_time": "2021-12-14T11:51:02.424Z"
   },
   {
    "duration": 20,
    "start_time": "2021-12-14T11:51:02.441Z"
   },
   {
    "duration": 13,
    "start_time": "2021-12-14T11:51:02.463Z"
   },
   {
    "duration": 20,
    "start_time": "2021-12-14T11:51:02.478Z"
   },
   {
    "duration": 43,
    "start_time": "2021-12-14T11:51:02.500Z"
   },
   {
    "duration": 18,
    "start_time": "2021-12-14T11:51:02.545Z"
   },
   {
    "duration": 13,
    "start_time": "2021-12-14T11:51:02.565Z"
   },
   {
    "duration": 18,
    "start_time": "2021-12-14T11:51:02.580Z"
   },
   {
    "duration": 21,
    "start_time": "2021-12-14T11:51:02.600Z"
   },
   {
    "duration": 19,
    "start_time": "2021-12-14T11:51:02.623Z"
   },
   {
    "duration": 10,
    "start_time": "2021-12-14T11:51:34.963Z"
   },
   {
    "duration": 64,
    "start_time": "2021-12-14T11:51:39.584Z"
   },
   {
    "duration": 15,
    "start_time": "2021-12-14T11:51:39.651Z"
   },
   {
    "duration": 20,
    "start_time": "2021-12-14T11:51:39.669Z"
   },
   {
    "duration": 5,
    "start_time": "2021-12-14T11:51:39.691Z"
   },
   {
    "duration": 13,
    "start_time": "2021-12-14T11:51:39.698Z"
   },
   {
    "duration": 19,
    "start_time": "2021-12-14T11:51:39.713Z"
   },
   {
    "duration": 17,
    "start_time": "2021-12-14T11:51:39.734Z"
   },
   {
    "duration": 39,
    "start_time": "2021-12-14T11:51:39.754Z"
   },
   {
    "duration": 39,
    "start_time": "2021-12-14T11:51:39.796Z"
   },
   {
    "duration": 64,
    "start_time": "2021-12-14T11:51:39.836Z"
   },
   {
    "duration": 9,
    "start_time": "2021-12-14T11:51:39.902Z"
   },
   {
    "duration": 14,
    "start_time": "2021-12-14T11:51:39.913Z"
   },
   {
    "duration": 9,
    "start_time": "2021-12-14T11:51:39.929Z"
   },
   {
    "duration": 9,
    "start_time": "2021-12-14T11:51:39.939Z"
   },
   {
    "duration": 44,
    "start_time": "2021-12-14T11:51:39.949Z"
   },
   {
    "duration": 17,
    "start_time": "2021-12-14T11:51:39.994Z"
   },
   {
    "duration": 7,
    "start_time": "2021-12-14T11:51:40.012Z"
   },
   {
    "duration": 6,
    "start_time": "2021-12-14T11:51:40.021Z"
   },
   {
    "duration": 8,
    "start_time": "2021-12-14T11:51:40.029Z"
   },
   {
    "duration": 7,
    "start_time": "2021-12-14T11:51:40.039Z"
   },
   {
    "duration": 46,
    "start_time": "2021-12-14T11:51:40.048Z"
   },
   {
    "duration": 8,
    "start_time": "2021-12-14T11:51:40.096Z"
   },
   {
    "duration": 9,
    "start_time": "2021-12-14T11:51:40.106Z"
   },
   {
    "duration": 10,
    "start_time": "2021-12-14T11:51:40.116Z"
   },
   {
    "duration": 19,
    "start_time": "2021-12-14T11:51:40.127Z"
   },
   {
    "duration": 43,
    "start_time": "2021-12-14T11:51:40.148Z"
   },
   {
    "duration": 18,
    "start_time": "2021-12-14T11:51:40.193Z"
   },
   {
    "duration": 4,
    "start_time": "2021-12-14T11:51:40.214Z"
   },
   {
    "duration": 14,
    "start_time": "2021-12-14T11:51:40.220Z"
   },
   {
    "duration": 5,
    "start_time": "2021-12-14T11:51:40.237Z"
   },
   {
    "duration": 60,
    "start_time": "2021-12-14T11:51:40.244Z"
   },
   {
    "duration": 17,
    "start_time": "2021-12-14T11:51:40.306Z"
   },
   {
    "duration": 8,
    "start_time": "2021-12-14T11:51:40.325Z"
   },
   {
    "duration": 13,
    "start_time": "2021-12-14T11:51:40.335Z"
   },
   {
    "duration": 73,
    "start_time": "2021-12-14T11:51:40.350Z"
   },
   {
    "duration": 25,
    "start_time": "2021-12-14T11:51:40.424Z"
   },
   {
    "duration": 52,
    "start_time": "2021-12-14T11:51:40.450Z"
   },
   {
    "duration": 23,
    "start_time": "2021-12-14T11:52:54.417Z"
   },
   {
    "duration": 47,
    "start_time": "2021-12-14T11:53:53.520Z"
   },
   {
    "duration": 12,
    "start_time": "2021-12-14T11:53:53.569Z"
   },
   {
    "duration": 21,
    "start_time": "2021-12-14T11:53:53.582Z"
   },
   {
    "duration": 8,
    "start_time": "2021-12-14T11:53:53.605Z"
   },
   {
    "duration": 16,
    "start_time": "2021-12-14T11:53:53.614Z"
   },
   {
    "duration": 11,
    "start_time": "2021-12-14T11:53:53.632Z"
   },
   {
    "duration": 12,
    "start_time": "2021-12-14T11:53:53.645Z"
   },
   {
    "duration": 6,
    "start_time": "2021-12-14T11:53:53.659Z"
   },
   {
    "duration": 41,
    "start_time": "2021-12-14T11:53:53.703Z"
   },
   {
    "duration": 23,
    "start_time": "2021-12-14T11:53:53.746Z"
   },
   {
    "duration": 28,
    "start_time": "2021-12-14T11:53:53.771Z"
   },
   {
    "duration": 16,
    "start_time": "2021-12-14T11:53:53.801Z"
   },
   {
    "duration": 11,
    "start_time": "2021-12-14T11:53:53.819Z"
   },
   {
    "duration": 9,
    "start_time": "2021-12-14T11:53:53.832Z"
   },
   {
    "duration": 8,
    "start_time": "2021-12-14T11:53:53.843Z"
   },
   {
    "duration": 47,
    "start_time": "2021-12-14T11:53:53.852Z"
   },
   {
    "duration": 8,
    "start_time": "2021-12-14T11:53:53.901Z"
   },
   {
    "duration": 4,
    "start_time": "2021-12-14T11:53:53.912Z"
   },
   {
    "duration": 6,
    "start_time": "2021-12-14T11:53:53.918Z"
   },
   {
    "duration": 6,
    "start_time": "2021-12-14T11:53:53.926Z"
   },
   {
    "duration": 8,
    "start_time": "2021-12-14T11:53:53.933Z"
   },
   {
    "duration": 47,
    "start_time": "2021-12-14T11:53:53.942Z"
   },
   {
    "duration": 8,
    "start_time": "2021-12-14T11:53:53.992Z"
   },
   {
    "duration": 8,
    "start_time": "2021-12-14T11:53:54.002Z"
   },
   {
    "duration": 16,
    "start_time": "2021-12-14T11:53:54.012Z"
   },
   {
    "duration": 12,
    "start_time": "2021-12-14T11:53:54.030Z"
   },
   {
    "duration": 50,
    "start_time": "2021-12-14T11:53:54.044Z"
   },
   {
    "duration": 4,
    "start_time": "2021-12-14T11:53:54.096Z"
   },
   {
    "duration": 17,
    "start_time": "2021-12-14T11:53:54.101Z"
   },
   {
    "duration": 4,
    "start_time": "2021-12-14T11:53:54.119Z"
   },
   {
    "duration": 21,
    "start_time": "2021-12-14T11:53:54.125Z"
   },
   {
    "duration": 46,
    "start_time": "2021-12-14T11:53:54.148Z"
   },
   {
    "duration": 8,
    "start_time": "2021-12-14T11:53:54.202Z"
   },
   {
    "duration": 13,
    "start_time": "2021-12-14T11:53:54.212Z"
   },
   {
    "duration": 40,
    "start_time": "2021-12-14T11:53:54.227Z"
   },
   {
    "duration": 23,
    "start_time": "2021-12-14T11:53:54.287Z"
   },
   {
    "duration": 30,
    "start_time": "2021-12-14T11:53:54.312Z"
   },
   {
    "duration": 52,
    "start_time": "2021-12-14T11:58:50.730Z"
   },
   {
    "duration": 48,
    "start_time": "2021-12-14T12:01:51.039Z"
   },
   {
    "duration": 12,
    "start_time": "2021-12-14T12:01:51.089Z"
   },
   {
    "duration": 12,
    "start_time": "2021-12-14T12:01:51.103Z"
   },
   {
    "duration": 3,
    "start_time": "2021-12-14T12:01:51.117Z"
   },
   {
    "duration": 10,
    "start_time": "2021-12-14T12:01:51.122Z"
   },
   {
    "duration": 12,
    "start_time": "2021-12-14T12:01:51.149Z"
   },
   {
    "duration": 28,
    "start_time": "2021-12-14T12:01:51.166Z"
   },
   {
    "duration": 7,
    "start_time": "2021-12-14T12:01:51.196Z"
   },
   {
    "duration": 38,
    "start_time": "2021-12-14T12:01:51.375Z"
   },
   {
    "duration": 19,
    "start_time": "2021-12-14T12:01:51.415Z"
   },
   {
    "duration": 9,
    "start_time": "2021-12-14T12:01:51.436Z"
   },
   {
    "duration": 58,
    "start_time": "2021-12-14T12:01:51.447Z"
   },
   {
    "duration": 7,
    "start_time": "2021-12-14T12:01:51.507Z"
   },
   {
    "duration": 8,
    "start_time": "2021-12-14T12:01:51.516Z"
   },
   {
    "duration": 7,
    "start_time": "2021-12-14T12:01:51.525Z"
   },
   {
    "duration": 13,
    "start_time": "2021-12-14T12:01:51.533Z"
   },
   {
    "duration": 6,
    "start_time": "2021-12-14T12:01:51.547Z"
   },
   {
    "duration": 6,
    "start_time": "2021-12-14T12:01:51.588Z"
   },
   {
    "duration": 9,
    "start_time": "2021-12-14T12:01:51.596Z"
   },
   {
    "duration": 6,
    "start_time": "2021-12-14T12:01:51.607Z"
   },
   {
    "duration": 6,
    "start_time": "2021-12-14T12:01:51.614Z"
   },
   {
    "duration": 9,
    "start_time": "2021-12-14T12:01:51.622Z"
   },
   {
    "duration": 6,
    "start_time": "2021-12-14T12:01:51.632Z"
   },
   {
    "duration": 39,
    "start_time": "2021-12-14T12:01:51.650Z"
   },
   {
    "duration": 21,
    "start_time": "2021-12-14T12:01:51.691Z"
   },
   {
    "duration": 14,
    "start_time": "2021-12-14T12:01:51.714Z"
   },
   {
    "duration": 18,
    "start_time": "2021-12-14T12:01:51.730Z"
   },
   {
    "duration": 4,
    "start_time": "2021-12-14T12:01:51.750Z"
   },
   {
    "duration": 17,
    "start_time": "2021-12-14T12:01:51.792Z"
   },
   {
    "duration": 6,
    "start_time": "2021-12-14T12:01:51.811Z"
   },
   {
    "duration": 28,
    "start_time": "2021-12-14T12:01:51.819Z"
   },
   {
    "duration": 45,
    "start_time": "2021-12-14T12:01:51.849Z"
   },
   {
    "duration": 13,
    "start_time": "2021-12-14T12:01:51.897Z"
   },
   {
    "duration": 15,
    "start_time": "2021-12-14T12:01:51.912Z"
   },
   {
    "duration": 63,
    "start_time": "2021-12-14T12:01:51.928Z"
   },
   {
    "duration": 30,
    "start_time": "2021-12-14T12:01:51.994Z"
   },
   {
    "duration": 35,
    "start_time": "2021-12-14T12:01:52.026Z"
   },
   {
    "duration": 28,
    "start_time": "2021-12-14T12:26:06.185Z"
   },
   {
    "duration": 48,
    "start_time": "2021-12-14T12:26:15.234Z"
   },
   {
    "duration": 13,
    "start_time": "2021-12-14T12:26:15.284Z"
   },
   {
    "duration": 11,
    "start_time": "2021-12-14T12:26:15.299Z"
   },
   {
    "duration": 4,
    "start_time": "2021-12-14T12:26:15.313Z"
   },
   {
    "duration": 12,
    "start_time": "2021-12-14T12:26:15.319Z"
   },
   {
    "duration": 16,
    "start_time": "2021-12-14T12:26:15.332Z"
   },
   {
    "duration": 41,
    "start_time": "2021-12-14T12:26:15.351Z"
   },
   {
    "duration": 7,
    "start_time": "2021-12-14T12:26:15.394Z"
   },
   {
    "duration": 43,
    "start_time": "2021-12-14T12:26:15.403Z"
   },
   {
    "duration": 21,
    "start_time": "2021-12-14T12:26:15.538Z"
   },
   {
    "duration": 8,
    "start_time": "2021-12-14T12:26:15.563Z"
   },
   {
    "duration": 13,
    "start_time": "2021-12-14T12:26:15.574Z"
   },
   {
    "duration": 7,
    "start_time": "2021-12-14T12:26:15.589Z"
   },
   {
    "duration": 8,
    "start_time": "2021-12-14T12:26:15.601Z"
   },
   {
    "duration": 7,
    "start_time": "2021-12-14T12:26:15.612Z"
   },
   {
    "duration": 12,
    "start_time": "2021-12-14T12:26:15.624Z"
   },
   {
    "duration": 6,
    "start_time": "2021-12-14T12:26:15.640Z"
   },
   {
    "duration": 4,
    "start_time": "2021-12-14T12:26:15.655Z"
   },
   {
    "duration": 22,
    "start_time": "2021-12-14T12:26:15.667Z"
   },
   {
    "duration": 6,
    "start_time": "2021-12-14T12:26:15.691Z"
   },
   {
    "duration": 6,
    "start_time": "2021-12-14T12:26:15.699Z"
   },
   {
    "duration": 7,
    "start_time": "2021-12-14T12:26:15.707Z"
   },
   {
    "duration": 7,
    "start_time": "2021-12-14T12:26:15.715Z"
   },
   {
    "duration": 7,
    "start_time": "2021-12-14T12:26:15.724Z"
   },
   {
    "duration": 54,
    "start_time": "2021-12-14T12:26:15.735Z"
   },
   {
    "duration": 12,
    "start_time": "2021-12-14T12:26:15.790Z"
   },
   {
    "duration": 16,
    "start_time": "2021-12-14T12:26:15.804Z"
   },
   {
    "duration": 3,
    "start_time": "2021-12-14T12:26:15.822Z"
   },
   {
    "duration": 18,
    "start_time": "2021-12-14T12:26:15.827Z"
   },
   {
    "duration": 4,
    "start_time": "2021-12-14T12:26:15.847Z"
   },
   {
    "duration": 52,
    "start_time": "2021-12-14T12:26:15.853Z"
   },
   {
    "duration": 17,
    "start_time": "2021-12-14T12:26:15.907Z"
   },
   {
    "duration": 8,
    "start_time": "2021-12-14T12:26:15.926Z"
   },
   {
    "duration": 19,
    "start_time": "2021-12-14T12:26:15.936Z"
   },
   {
    "duration": 61,
    "start_time": "2021-12-14T12:26:15.957Z"
   },
   {
    "duration": 25,
    "start_time": "2021-12-14T12:26:16.020Z"
   },
   {
    "duration": 50,
    "start_time": "2021-12-14T12:26:16.047Z"
   },
   {
    "duration": 33,
    "start_time": "2021-12-14T12:29:04.791Z"
   },
   {
    "duration": 49,
    "start_time": "2021-12-14T12:29:09.897Z"
   },
   {
    "duration": 13,
    "start_time": "2021-12-14T12:29:09.948Z"
   },
   {
    "duration": 13,
    "start_time": "2021-12-14T12:29:09.963Z"
   },
   {
    "duration": 9,
    "start_time": "2021-12-14T12:29:09.978Z"
   },
   {
    "duration": 10,
    "start_time": "2021-12-14T12:29:09.989Z"
   },
   {
    "duration": 13,
    "start_time": "2021-12-14T12:29:10.001Z"
   },
   {
    "duration": 13,
    "start_time": "2021-12-14T12:29:10.017Z"
   },
   {
    "duration": 8,
    "start_time": "2021-12-14T12:29:10.032Z"
   },
   {
    "duration": 86,
    "start_time": "2021-12-14T12:29:10.042Z"
   },
   {
    "duration": 64,
    "start_time": "2021-12-14T12:29:10.130Z"
   },
   {
    "duration": 9,
    "start_time": "2021-12-14T12:29:10.196Z"
   },
   {
    "duration": 18,
    "start_time": "2021-12-14T12:29:10.206Z"
   },
   {
    "duration": 8,
    "start_time": "2021-12-14T12:29:10.226Z"
   },
   {
    "duration": 8,
    "start_time": "2021-12-14T12:29:10.235Z"
   },
   {
    "duration": 6,
    "start_time": "2021-12-14T12:29:10.244Z"
   },
   {
    "duration": 46,
    "start_time": "2021-12-14T12:29:10.252Z"
   },
   {
    "duration": 6,
    "start_time": "2021-12-14T12:29:10.300Z"
   },
   {
    "duration": 4,
    "start_time": "2021-12-14T12:29:10.307Z"
   },
   {
    "duration": 6,
    "start_time": "2021-12-14T12:29:10.312Z"
   },
   {
    "duration": 8,
    "start_time": "2021-12-14T12:29:10.319Z"
   },
   {
    "duration": 6,
    "start_time": "2021-12-14T12:29:10.328Z"
   },
   {
    "duration": 7,
    "start_time": "2021-12-14T12:29:10.336Z"
   },
   {
    "duration": 45,
    "start_time": "2021-12-14T12:29:10.344Z"
   },
   {
    "duration": 10,
    "start_time": "2021-12-14T12:29:10.391Z"
   },
   {
    "duration": 15,
    "start_time": "2021-12-14T12:29:10.402Z"
   },
   {
    "duration": 12,
    "start_time": "2021-12-14T12:29:10.418Z"
   },
   {
    "duration": 15,
    "start_time": "2021-12-14T12:29:10.431Z"
   },
   {
    "duration": 3,
    "start_time": "2021-12-14T12:29:10.450Z"
   },
   {
    "duration": 44,
    "start_time": "2021-12-14T12:29:10.455Z"
   },
   {
    "duration": 6,
    "start_time": "2021-12-14T12:29:10.500Z"
   },
   {
    "duration": 23,
    "start_time": "2021-12-14T12:29:10.508Z"
   },
   {
    "duration": 19,
    "start_time": "2021-12-14T12:29:10.533Z"
   },
   {
    "duration": 41,
    "start_time": "2021-12-14T12:29:10.554Z"
   },
   {
    "duration": 15,
    "start_time": "2021-12-14T12:29:10.597Z"
   },
   {
    "duration": 36,
    "start_time": "2021-12-14T12:29:10.613Z"
   },
   {
    "duration": 46,
    "start_time": "2021-12-14T12:29:10.651Z"
   },
   {
    "duration": 31,
    "start_time": "2021-12-14T12:29:10.699Z"
   },
   {
    "duration": 31,
    "start_time": "2021-12-14T12:30:02.190Z"
   },
   {
    "duration": 48,
    "start_time": "2021-12-14T12:31:11.206Z"
   },
   {
    "duration": 11,
    "start_time": "2021-12-14T12:31:11.256Z"
   },
   {
    "duration": 13,
    "start_time": "2021-12-14T12:31:11.269Z"
   },
   {
    "duration": 4,
    "start_time": "2021-12-14T12:31:11.284Z"
   },
   {
    "duration": 8,
    "start_time": "2021-12-14T12:31:11.290Z"
   },
   {
    "duration": 10,
    "start_time": "2021-12-14T12:31:11.300Z"
   },
   {
    "duration": 11,
    "start_time": "2021-12-14T12:31:11.312Z"
   },
   {
    "duration": 6,
    "start_time": "2021-12-14T12:31:11.324Z"
   },
   {
    "duration": 48,
    "start_time": "2021-12-14T12:31:11.362Z"
   },
   {
    "duration": 26,
    "start_time": "2021-12-14T12:31:11.412Z"
   },
   {
    "duration": 8,
    "start_time": "2021-12-14T12:31:11.440Z"
   },
   {
    "duration": 45,
    "start_time": "2021-12-14T12:31:11.450Z"
   },
   {
    "duration": 6,
    "start_time": "2021-12-14T12:31:11.496Z"
   },
   {
    "duration": 10,
    "start_time": "2021-12-14T12:31:11.504Z"
   },
   {
    "duration": 6,
    "start_time": "2021-12-14T12:31:11.515Z"
   },
   {
    "duration": 14,
    "start_time": "2021-12-14T12:31:11.522Z"
   },
   {
    "duration": 23,
    "start_time": "2021-12-14T12:31:11.537Z"
   },
   {
    "duration": 26,
    "start_time": "2021-12-14T12:31:11.562Z"
   },
   {
    "duration": 19,
    "start_time": "2021-12-14T12:31:11.591Z"
   },
   {
    "duration": 20,
    "start_time": "2021-12-14T12:31:11.612Z"
   },
   {
    "duration": 22,
    "start_time": "2021-12-14T12:31:11.633Z"
   },
   {
    "duration": 14,
    "start_time": "2021-12-14T12:31:11.657Z"
   },
   {
    "duration": 19,
    "start_time": "2021-12-14T12:31:11.673Z"
   },
   {
    "duration": 17,
    "start_time": "2021-12-14T12:31:11.694Z"
   },
   {
    "duration": 35,
    "start_time": "2021-12-14T12:31:11.713Z"
   },
   {
    "duration": 11,
    "start_time": "2021-12-14T12:31:11.749Z"
   },
   {
    "duration": 16,
    "start_time": "2021-12-14T12:31:11.761Z"
   },
   {
    "duration": 4,
    "start_time": "2021-12-14T12:31:11.779Z"
   },
   {
    "duration": 11,
    "start_time": "2021-12-14T12:31:11.787Z"
   },
   {
    "duration": 4,
    "start_time": "2021-12-14T12:31:11.800Z"
   },
   {
    "duration": 22,
    "start_time": "2021-12-14T12:31:11.805Z"
   },
   {
    "duration": 16,
    "start_time": "2021-12-14T12:31:11.829Z"
   },
   {
    "duration": 8,
    "start_time": "2021-12-14T12:31:11.847Z"
   },
   {
    "duration": 43,
    "start_time": "2021-12-14T12:31:11.857Z"
   },
   {
    "duration": 36,
    "start_time": "2021-12-14T12:31:11.901Z"
   },
   {
    "duration": 21,
    "start_time": "2021-12-14T12:31:11.939Z"
   },
   {
    "duration": 53,
    "start_time": "2021-12-14T12:31:11.962Z"
   },
   {
    "duration": 33,
    "start_time": "2021-12-14T12:32:25.816Z"
   },
   {
    "duration": 110,
    "start_time": "2021-12-14T12:38:06.556Z"
   },
   {
    "duration": 58,
    "start_time": "2021-12-14T12:38:06.609Z"
   },
   {
    "duration": 32,
    "start_time": "2021-12-14T12:38:06.636Z"
   },
   {
    "duration": 8,
    "start_time": "2021-12-14T12:38:06.661Z"
   },
   {
    "duration": -74,
    "start_time": "2021-12-14T12:38:06.744Z"
   },
   {
    "duration": -95,
    "start_time": "2021-12-14T12:38:06.766Z"
   },
   {
    "duration": -121,
    "start_time": "2021-12-14T12:38:06.793Z"
   },
   {
    "duration": -153,
    "start_time": "2021-12-14T12:38:06.826Z"
   },
   {
    "duration": -183,
    "start_time": "2021-12-14T12:38:06.858Z"
   },
   {
    "duration": -217,
    "start_time": "2021-12-14T12:38:06.893Z"
   },
   {
    "duration": -246,
    "start_time": "2021-12-14T12:38:06.923Z"
   },
   {
    "duration": -261,
    "start_time": "2021-12-14T12:38:06.939Z"
   },
   {
    "duration": -284,
    "start_time": "2021-12-14T12:38:06.963Z"
   },
   {
    "duration": -308,
    "start_time": "2021-12-14T12:38:06.988Z"
   },
   {
    "duration": -331,
    "start_time": "2021-12-14T12:38:07.012Z"
   },
   {
    "duration": -358,
    "start_time": "2021-12-14T12:38:07.040Z"
   },
   {
    "duration": -378,
    "start_time": "2021-12-14T12:38:07.061Z"
   },
   {
    "duration": -398,
    "start_time": "2021-12-14T12:38:07.082Z"
   },
   {
    "duration": -411,
    "start_time": "2021-12-14T12:38:07.096Z"
   },
   {
    "duration": -472,
    "start_time": "2021-12-14T12:38:07.158Z"
   },
   {
    "duration": -506,
    "start_time": "2021-12-14T12:38:07.193Z"
   },
   {
    "duration": -537,
    "start_time": "2021-12-14T12:38:07.225Z"
   },
   {
    "duration": -573,
    "start_time": "2021-12-14T12:38:07.261Z"
   },
   {
    "duration": -606,
    "start_time": "2021-12-14T12:38:07.295Z"
   },
   {
    "duration": -641,
    "start_time": "2021-12-14T12:38:07.331Z"
   },
   {
    "duration": -669,
    "start_time": "2021-12-14T12:38:07.360Z"
   },
   {
    "duration": -695,
    "start_time": "2021-12-14T12:38:07.386Z"
   },
   {
    "duration": -728,
    "start_time": "2021-12-14T12:38:07.420Z"
   },
   {
    "duration": -755,
    "start_time": "2021-12-14T12:38:07.448Z"
   },
   {
    "duration": -782,
    "start_time": "2021-12-14T12:38:07.475Z"
   },
   {
    "duration": -808,
    "start_time": "2021-12-14T12:38:07.502Z"
   },
   {
    "duration": -837,
    "start_time": "2021-12-14T12:38:07.532Z"
   },
   {
    "duration": -875,
    "start_time": "2021-12-14T12:38:07.570Z"
   },
   {
    "duration": -902,
    "start_time": "2021-12-14T12:38:07.598Z"
   },
   {
    "duration": -925,
    "start_time": "2021-12-14T12:38:07.622Z"
   },
   {
    "duration": -951,
    "start_time": "2021-12-14T12:38:07.649Z"
   },
   {
    "duration": -988,
    "start_time": "2021-12-14T12:38:07.686Z"
   },
   {
    "duration": -1018,
    "start_time": "2021-12-14T12:38:07.718Z"
   },
   {
    "duration": 44,
    "start_time": "2021-12-14T12:38:26.626Z"
   },
   {
    "duration": 46,
    "start_time": "2021-12-14T12:38:32.756Z"
   },
   {
    "duration": 12,
    "start_time": "2021-12-14T12:38:32.803Z"
   },
   {
    "duration": 11,
    "start_time": "2021-12-14T12:38:32.816Z"
   },
   {
    "duration": 4,
    "start_time": "2021-12-14T12:38:32.828Z"
   },
   {
    "duration": 10,
    "start_time": "2021-12-14T12:38:32.833Z"
   },
   {
    "duration": 12,
    "start_time": "2021-12-14T12:38:32.929Z"
   },
   {
    "duration": 11,
    "start_time": "2021-12-14T12:38:32.943Z"
   },
   {
    "duration": 7,
    "start_time": "2021-12-14T12:38:32.956Z"
   },
   {
    "duration": 36,
    "start_time": "2021-12-14T12:38:32.965Z"
   },
   {
    "duration": 26,
    "start_time": "2021-12-14T12:38:33.003Z"
   },
   {
    "duration": 147,
    "start_time": "2021-12-14T12:39:32.360Z"
   },
   {
    "duration": 104,
    "start_time": "2021-12-14T12:39:32.404Z"
   },
   {
    "duration": 38,
    "start_time": "2021-12-14T12:39:32.471Z"
   },
   {
    "duration": -4,
    "start_time": "2021-12-14T12:39:32.514Z"
   },
   {
    "duration": -36,
    "start_time": "2021-12-14T12:39:32.547Z"
   },
   {
    "duration": -82,
    "start_time": "2021-12-14T12:39:32.594Z"
   },
   {
    "duration": -181,
    "start_time": "2021-12-14T12:39:32.694Z"
   },
   {
    "duration": -204,
    "start_time": "2021-12-14T12:39:32.718Z"
   },
   {
    "duration": -247,
    "start_time": "2021-12-14T12:39:32.762Z"
   },
   {
    "duration": -268,
    "start_time": "2021-12-14T12:39:32.784Z"
   },
   {
    "duration": -299,
    "start_time": "2021-12-14T12:39:32.815Z"
   },
   {
    "duration": -335,
    "start_time": "2021-12-14T12:39:32.852Z"
   },
   {
    "duration": -365,
    "start_time": "2021-12-14T12:39:32.883Z"
   },
   {
    "duration": -396,
    "start_time": "2021-12-14T12:39:32.915Z"
   },
   {
    "duration": -430,
    "start_time": "2021-12-14T12:39:32.950Z"
   },
   {
    "duration": -462,
    "start_time": "2021-12-14T12:39:32.983Z"
   },
   {
    "duration": -494,
    "start_time": "2021-12-14T12:39:33.016Z"
   },
   {
    "duration": -526,
    "start_time": "2021-12-14T12:39:33.049Z"
   },
   {
    "duration": -563,
    "start_time": "2021-12-14T12:39:33.087Z"
   },
   {
    "duration": -589,
    "start_time": "2021-12-14T12:39:33.114Z"
   },
   {
    "duration": -621,
    "start_time": "2021-12-14T12:39:33.146Z"
   },
   {
    "duration": -641,
    "start_time": "2021-12-14T12:39:33.167Z"
   },
   {
    "duration": -671,
    "start_time": "2021-12-14T12:39:33.198Z"
   },
   {
    "duration": -699,
    "start_time": "2021-12-14T12:39:33.227Z"
   },
   {
    "duration": -741,
    "start_time": "2021-12-14T12:39:33.270Z"
   },
   {
    "duration": -785,
    "start_time": "2021-12-14T12:39:33.315Z"
   },
   {
    "duration": -820,
    "start_time": "2021-12-14T12:39:33.350Z"
   },
   {
    "duration": -852,
    "start_time": "2021-12-14T12:39:33.383Z"
   },
   {
    "duration": 93,
    "start_time": "2021-12-14T12:40:45.278Z"
   },
   {
    "duration": 72,
    "start_time": "2021-12-14T12:40:45.300Z"
   },
   {
    "duration": 49,
    "start_time": "2021-12-14T12:40:45.324Z"
   },
   {
    "duration": 21,
    "start_time": "2021-12-14T12:40:45.353Z"
   },
   {
    "duration": -5,
    "start_time": "2021-12-14T12:40:45.380Z"
   },
   {
    "duration": -29,
    "start_time": "2021-12-14T12:40:45.405Z"
   },
   {
    "duration": -57,
    "start_time": "2021-12-14T12:40:45.434Z"
   },
   {
    "duration": -79,
    "start_time": "2021-12-14T12:40:45.457Z"
   },
   {
    "duration": -115,
    "start_time": "2021-12-14T12:40:45.493Z"
   },
   {
    "duration": -240,
    "start_time": "2021-12-14T12:40:45.619Z"
   },
   {
    "duration": -270,
    "start_time": "2021-12-14T12:40:45.650Z"
   },
   {
    "duration": -304,
    "start_time": "2021-12-14T12:40:45.685Z"
   },
   {
    "duration": -339,
    "start_time": "2021-12-14T12:40:45.721Z"
   },
   {
    "duration": -368,
    "start_time": "2021-12-14T12:40:45.751Z"
   },
   {
    "duration": -403,
    "start_time": "2021-12-14T12:40:45.787Z"
   },
   {
    "duration": -439,
    "start_time": "2021-12-14T12:40:45.824Z"
   },
   {
    "duration": -518,
    "start_time": "2021-12-14T12:40:45.904Z"
   },
   {
    "duration": -551,
    "start_time": "2021-12-14T12:40:45.938Z"
   },
   {
    "duration": -572,
    "start_time": "2021-12-14T12:40:45.960Z"
   },
   {
    "duration": -596,
    "start_time": "2021-12-14T12:40:45.984Z"
   },
   {
    "duration": -624,
    "start_time": "2021-12-14T12:40:46.013Z"
   },
   {
    "duration": -646,
    "start_time": "2021-12-14T12:40:46.036Z"
   },
   {
    "duration": -676,
    "start_time": "2021-12-14T12:40:46.067Z"
   },
   {
    "duration": -697,
    "start_time": "2021-12-14T12:40:46.089Z"
   },
   {
    "duration": -724,
    "start_time": "2021-12-14T12:40:46.117Z"
   },
   {
    "duration": -746,
    "start_time": "2021-12-14T12:40:46.141Z"
   },
   {
    "duration": -776,
    "start_time": "2021-12-14T12:40:46.172Z"
   },
   {
    "duration": -805,
    "start_time": "2021-12-14T12:40:46.202Z"
   },
   {
    "duration": -837,
    "start_time": "2021-12-14T12:40:46.235Z"
   },
   {
    "duration": -860,
    "start_time": "2021-12-14T12:40:46.259Z"
   },
   {
    "duration": -882,
    "start_time": "2021-12-14T12:40:46.282Z"
   },
   {
    "duration": -907,
    "start_time": "2021-12-14T12:40:46.308Z"
   },
   {
    "duration": -938,
    "start_time": "2021-12-14T12:40:46.339Z"
   },
   {
    "duration": -958,
    "start_time": "2021-12-14T12:40:46.361Z"
   },
   {
    "duration": -982,
    "start_time": "2021-12-14T12:40:46.386Z"
   },
   {
    "duration": -1011,
    "start_time": "2021-12-14T12:40:46.416Z"
   },
   {
    "duration": -1031,
    "start_time": "2021-12-14T12:40:46.437Z"
   },
   {
    "duration": -1058,
    "start_time": "2021-12-14T12:40:46.465Z"
   },
   {
    "duration": 100,
    "start_time": "2021-12-14T12:42:32.249Z"
   },
   {
    "duration": 28,
    "start_time": "2021-12-14T12:42:42.688Z"
   },
   {
    "duration": 7406,
    "start_time": "2021-12-14T12:42:43.899Z"
   },
   {
    "duration": 230,
    "start_time": "2021-12-14T12:43:14.561Z"
   },
   {
    "duration": 91,
    "start_time": "2021-12-14T12:46:30.719Z"
   },
   {
    "duration": 80,
    "start_time": "2021-12-14T12:46:49.297Z"
   },
   {
    "duration": 178,
    "start_time": "2021-12-14T12:46:59.023Z"
   },
   {
    "duration": 94,
    "start_time": "2021-12-14T12:47:30.438Z"
   },
   {
    "duration": 78,
    "start_time": "2021-12-14T12:48:31.770Z"
   },
   {
    "duration": -490,
    "start_time": "2021-12-14T12:48:50.828Z"
   },
   {
    "duration": -532,
    "start_time": "2021-12-14T12:48:50.871Z"
   },
   {
    "duration": -571,
    "start_time": "2021-12-14T12:48:50.911Z"
   },
   {
    "duration": 4,
    "start_time": "2021-12-14T12:48:50.347Z"
   },
   {
    "duration": 10,
    "start_time": "2021-12-14T12:48:50.416Z"
   },
   {
    "duration": 15,
    "start_time": "2021-12-14T12:48:50.427Z"
   },
   {
    "duration": 12,
    "start_time": "2021-12-14T12:48:50.443Z"
   },
   {
    "duration": 9,
    "start_time": "2021-12-14T12:48:50.456Z"
   },
   {
    "duration": 51,
    "start_time": "2021-12-14T12:48:50.467Z"
   },
   {
    "duration": 20,
    "start_time": "2021-12-14T12:48:50.519Z"
   },
   {
    "duration": 5933,
    "start_time": "2021-12-14T12:48:50.540Z"
   },
   {
    "duration": -1,
    "start_time": "2021-12-14T12:48:56.477Z"
   },
   {
    "duration": -54,
    "start_time": "2021-12-14T12:48:56.531Z"
   },
   {
    "duration": -88,
    "start_time": "2021-12-14T12:48:56.567Z"
   },
   {
    "duration": -118,
    "start_time": "2021-12-14T12:48:56.598Z"
   },
   {
    "duration": -146,
    "start_time": "2021-12-14T12:48:56.627Z"
   },
   {
    "duration": -181,
    "start_time": "2021-12-14T12:48:56.664Z"
   },
   {
    "duration": -208,
    "start_time": "2021-12-14T12:48:56.692Z"
   },
   {
    "duration": -246,
    "start_time": "2021-12-14T12:48:56.731Z"
   },
   {
    "duration": -273,
    "start_time": "2021-12-14T12:48:56.760Z"
   },
   {
    "duration": -300,
    "start_time": "2021-12-14T12:48:56.792Z"
   },
   {
    "duration": -327,
    "start_time": "2021-12-14T12:48:56.822Z"
   },
   {
    "duration": -350,
    "start_time": "2021-12-14T12:48:56.846Z"
   },
   {
    "duration": -377,
    "start_time": "2021-12-14T12:48:56.876Z"
   },
   {
    "duration": -409,
    "start_time": "2021-12-14T12:48:56.909Z"
   },
   {
    "duration": -446,
    "start_time": "2021-12-14T12:48:56.948Z"
   },
   {
    "duration": -490,
    "start_time": "2021-12-14T12:48:56.993Z"
   },
   {
    "duration": -534,
    "start_time": "2021-12-14T12:48:57.038Z"
   },
   {
    "duration": -552,
    "start_time": "2021-12-14T12:48:57.058Z"
   },
   {
    "duration": -571,
    "start_time": "2021-12-14T12:48:57.078Z"
   },
   {
    "duration": -599,
    "start_time": "2021-12-14T12:48:57.108Z"
   },
   {
    "duration": -629,
    "start_time": "2021-12-14T12:48:57.139Z"
   },
   {
    "duration": -649,
    "start_time": "2021-12-14T12:48:57.161Z"
   },
   {
    "duration": -680,
    "start_time": "2021-12-14T12:48:57.193Z"
   },
   {
    "duration": -707,
    "start_time": "2021-12-14T12:48:57.221Z"
   },
   {
    "duration": -723,
    "start_time": "2021-12-14T12:48:57.238Z"
   },
   {
    "duration": -759,
    "start_time": "2021-12-14T12:48:57.276Z"
   },
   {
    "duration": -785,
    "start_time": "2021-12-14T12:48:57.303Z"
   },
   {
    "duration": 17,
    "start_time": "2021-12-14T12:49:37.920Z"
   },
   {
    "duration": -30,
    "start_time": "2021-12-14T12:49:37.968Z"
   },
   {
    "duration": -53,
    "start_time": "2021-12-14T12:49:37.992Z"
   },
   {
    "duration": -83,
    "start_time": "2021-12-14T12:49:38.023Z"
   },
   {
    "duration": -137,
    "start_time": "2021-12-14T12:49:38.077Z"
   },
   {
    "duration": -160,
    "start_time": "2021-12-14T12:49:38.101Z"
   },
   {
    "duration": -186,
    "start_time": "2021-12-14T12:49:38.128Z"
   },
   {
    "duration": -214,
    "start_time": "2021-12-14T12:49:38.157Z"
   },
   {
    "duration": -240,
    "start_time": "2021-12-14T12:49:38.184Z"
   },
   {
    "duration": -270,
    "start_time": "2021-12-14T12:49:38.214Z"
   },
   {
    "duration": -304,
    "start_time": "2021-12-14T12:49:38.249Z"
   },
   {
    "duration": -335,
    "start_time": "2021-12-14T12:49:38.281Z"
   },
   {
    "duration": -358,
    "start_time": "2021-12-14T12:49:38.305Z"
   },
   {
    "duration": -383,
    "start_time": "2021-12-14T12:49:38.331Z"
   },
   {
    "duration": -419,
    "start_time": "2021-12-14T12:49:38.368Z"
   },
   {
    "duration": -499,
    "start_time": "2021-12-14T12:49:38.449Z"
   },
   {
    "duration": -527,
    "start_time": "2021-12-14T12:49:38.478Z"
   },
   {
    "duration": -553,
    "start_time": "2021-12-14T12:49:38.504Z"
   },
   {
    "duration": -581,
    "start_time": "2021-12-14T12:49:38.533Z"
   },
   {
    "duration": -606,
    "start_time": "2021-12-14T12:49:38.559Z"
   },
   {
    "duration": -635,
    "start_time": "2021-12-14T12:49:38.589Z"
   },
   {
    "duration": -661,
    "start_time": "2021-12-14T12:49:38.616Z"
   },
   {
    "duration": -686,
    "start_time": "2021-12-14T12:49:38.642Z"
   },
   {
    "duration": -714,
    "start_time": "2021-12-14T12:49:38.671Z"
   },
   {
    "duration": -741,
    "start_time": "2021-12-14T12:49:38.698Z"
   },
   {
    "duration": -766,
    "start_time": "2021-12-14T12:49:38.724Z"
   },
   {
    "duration": -798,
    "start_time": "2021-12-14T12:49:38.757Z"
   },
   {
    "duration": -825,
    "start_time": "2021-12-14T12:49:38.785Z"
   },
   {
    "duration": -853,
    "start_time": "2021-12-14T12:49:38.814Z"
   },
   {
    "duration": -892,
    "start_time": "2021-12-14T12:49:38.853Z"
   },
   {
    "duration": -913,
    "start_time": "2021-12-14T12:49:38.875Z"
   },
   {
    "duration": -938,
    "start_time": "2021-12-14T12:49:38.901Z"
   },
   {
    "duration": -968,
    "start_time": "2021-12-14T12:49:38.932Z"
   },
   {
    "duration": -989,
    "start_time": "2021-12-14T12:49:38.954Z"
   },
   {
    "duration": -1018,
    "start_time": "2021-12-14T12:49:38.983Z"
   },
   {
    "duration": -1046,
    "start_time": "2021-12-14T12:49:39.012Z"
   },
   {
    "duration": -1068,
    "start_time": "2021-12-14T12:49:39.035Z"
   },
   {
    "duration": -1101,
    "start_time": "2021-12-14T12:49:39.069Z"
   },
   {
    "duration": 46,
    "start_time": "2021-12-14T12:50:01.610Z"
   },
   {
    "duration": 19,
    "start_time": "2021-12-14T12:50:01.658Z"
   },
   {
    "duration": 35,
    "start_time": "2021-12-14T12:50:01.679Z"
   },
   {
    "duration": 48,
    "start_time": "2021-12-14T12:50:01.716Z"
   },
   {
    "duration": 29,
    "start_time": "2021-12-14T12:50:01.766Z"
   },
   {
    "duration": 32,
    "start_time": "2021-12-14T12:50:01.798Z"
   },
   {
    "duration": 46,
    "start_time": "2021-12-14T12:50:01.832Z"
   },
   {
    "duration": 30,
    "start_time": "2021-12-14T12:50:01.880Z"
   },
   {
    "duration": 66,
    "start_time": "2021-12-14T12:50:01.911Z"
   },
   {
    "duration": 30,
    "start_time": "2021-12-14T12:50:01.979Z"
   },
   {
    "duration": 6575,
    "start_time": "2021-12-14T12:50:02.010Z"
   },
   {
    "duration": 90,
    "start_time": "2021-12-14T12:50:08.498Z"
   },
   {
    "duration": 52,
    "start_time": "2021-12-14T12:50:08.537Z"
   },
   {
    "duration": 26,
    "start_time": "2021-12-14T12:50:08.564Z"
   },
   {
    "duration": -9,
    "start_time": "2021-12-14T12:50:08.600Z"
   },
   {
    "duration": -42,
    "start_time": "2021-12-14T12:50:08.634Z"
   },
   {
    "duration": -65,
    "start_time": "2021-12-14T12:50:08.658Z"
   },
   {
    "duration": -111,
    "start_time": "2021-12-14T12:50:08.705Z"
   },
   {
    "duration": -137,
    "start_time": "2021-12-14T12:50:08.732Z"
   },
   {
    "duration": -172,
    "start_time": "2021-12-14T12:50:08.768Z"
   },
   {
    "duration": -198,
    "start_time": "2021-12-14T12:50:08.795Z"
   },
   {
    "duration": -229,
    "start_time": "2021-12-14T12:50:08.827Z"
   },
   {
    "duration": -262,
    "start_time": "2021-12-14T12:50:08.861Z"
   },
   {
    "duration": -285,
    "start_time": "2021-12-14T12:50:08.885Z"
   },
   {
    "duration": -314,
    "start_time": "2021-12-14T12:50:08.915Z"
   },
   {
    "duration": -343,
    "start_time": "2021-12-14T12:50:08.945Z"
   },
   {
    "duration": -377,
    "start_time": "2021-12-14T12:50:08.980Z"
   },
   {
    "duration": -409,
    "start_time": "2021-12-14T12:50:09.013Z"
   },
   {
    "duration": -435,
    "start_time": "2021-12-14T12:50:09.040Z"
   },
   {
    "duration": -462,
    "start_time": "2021-12-14T12:50:09.068Z"
   },
   {
    "duration": -488,
    "start_time": "2021-12-14T12:50:09.095Z"
   },
   {
    "duration": -535,
    "start_time": "2021-12-14T12:50:09.144Z"
   },
   {
    "duration": -556,
    "start_time": "2021-12-14T12:50:09.166Z"
   },
   {
    "duration": -583,
    "start_time": "2021-12-14T12:50:09.194Z"
   },
   {
    "duration": -608,
    "start_time": "2021-12-14T12:50:09.220Z"
   },
   {
    "duration": -632,
    "start_time": "2021-12-14T12:50:09.246Z"
   },
   {
    "duration": -665,
    "start_time": "2021-12-14T12:50:09.280Z"
   },
   {
    "duration": -695,
    "start_time": "2021-12-14T12:50:09.311Z"
   },
   {
    "duration": 5992,
    "start_time": "2021-12-14T12:50:56.726Z"
   },
   {
    "duration": 5889,
    "start_time": "2021-12-14T12:51:18.054Z"
   },
   {
    "duration": 249,
    "start_time": "2021-12-14T12:51:34.903Z"
   },
   {
    "duration": 4,
    "start_time": "2021-12-14T12:51:39.584Z"
   },
   {
    "duration": 276,
    "start_time": "2021-12-14T12:52:08.125Z"
   },
   {
    "duration": 234,
    "start_time": "2021-12-14T13:08:27.475Z"
   },
   {
    "duration": 5,
    "start_time": "2021-12-14T13:08:34.835Z"
   },
   {
    "duration": 8,
    "start_time": "2021-12-14T13:09:48.797Z"
   },
   {
    "duration": 7,
    "start_time": "2021-12-14T13:10:27.171Z"
   },
   {
    "duration": 6,
    "start_time": "2021-12-14T13:11:00.292Z"
   },
   {
    "duration": 8,
    "start_time": "2021-12-14T13:11:17.419Z"
   },
   {
    "duration": 6,
    "start_time": "2021-12-14T13:11:24.981Z"
   },
   {
    "duration": 6,
    "start_time": "2021-12-14T13:11:32.520Z"
   },
   {
    "duration": 6,
    "start_time": "2021-12-14T13:13:30.183Z"
   },
   {
    "duration": 265,
    "start_time": "2021-12-14T13:13:57.661Z"
   },
   {
    "duration": 6,
    "start_time": "2021-12-14T13:14:05.989Z"
   },
   {
    "duration": 7,
    "start_time": "2021-12-14T13:14:25.186Z"
   },
   {
    "duration": 7,
    "start_time": "2021-12-14T13:14:36.024Z"
   },
   {
    "duration": 5,
    "start_time": "2021-12-14T13:15:18.525Z"
   },
   {
    "duration": 6,
    "start_time": "2021-12-14T13:15:19.616Z"
   },
   {
    "duration": 6,
    "start_time": "2021-12-14T13:15:25.686Z"
   },
   {
    "duration": 23,
    "start_time": "2021-12-14T13:18:33.757Z"
   },
   {
    "duration": 9,
    "start_time": "2021-12-14T13:19:17.593Z"
   },
   {
    "duration": 4,
    "start_time": "2021-12-14T13:19:40.196Z"
   },
   {
    "duration": 5,
    "start_time": "2021-12-14T13:19:50.799Z"
   },
   {
    "duration": 7,
    "start_time": "2021-12-14T13:20:48.935Z"
   },
   {
    "duration": 13,
    "start_time": "2021-12-14T13:21:13.536Z"
   },
   {
    "duration": 5,
    "start_time": "2021-12-14T13:21:42.831Z"
   },
   {
    "duration": 5,
    "start_time": "2021-12-14T13:22:12.931Z"
   },
   {
    "duration": 5,
    "start_time": "2021-12-14T13:22:32.592Z"
   },
   {
    "duration": 6,
    "start_time": "2021-12-14T13:22:52.914Z"
   },
   {
    "duration": 9,
    "start_time": "2021-12-14T13:22:58.895Z"
   },
   {
    "duration": 7,
    "start_time": "2021-12-14T13:23:19.410Z"
   },
   {
    "duration": 6,
    "start_time": "2021-12-14T13:23:53.349Z"
   },
   {
    "duration": 49,
    "start_time": "2021-12-14T13:24:08.044Z"
   },
   {
    "duration": 12,
    "start_time": "2021-12-14T13:24:08.113Z"
   },
   {
    "duration": 13,
    "start_time": "2021-12-14T13:24:08.126Z"
   },
   {
    "duration": 4,
    "start_time": "2021-12-14T13:24:08.141Z"
   },
   {
    "duration": 9,
    "start_time": "2021-12-14T13:24:08.175Z"
   },
   {
    "duration": 12,
    "start_time": "2021-12-14T13:24:08.255Z"
   },
   {
    "duration": 11,
    "start_time": "2021-12-14T13:24:08.269Z"
   },
   {
    "duration": 15,
    "start_time": "2021-12-14T13:24:08.282Z"
   },
   {
    "duration": 45,
    "start_time": "2021-12-14T13:24:08.405Z"
   },
   {
    "duration": 48,
    "start_time": "2021-12-14T13:24:08.452Z"
   },
   {
    "duration": 4,
    "start_time": "2021-12-14T13:24:08.502Z"
   },
   {
    "duration": 10,
    "start_time": "2021-12-14T13:24:08.508Z"
   },
   {
    "duration": 4,
    "start_time": "2021-12-14T13:24:08.520Z"
   },
   {
    "duration": 9,
    "start_time": "2021-12-14T13:24:08.525Z"
   },
   {
    "duration": 5,
    "start_time": "2021-12-14T13:24:08.536Z"
   },
   {
    "duration": 5,
    "start_time": "2021-12-14T13:24:08.542Z"
   },
   {
    "duration": 6,
    "start_time": "2021-12-14T13:24:08.549Z"
   },
   {
    "duration": 79,
    "start_time": "2021-12-14T13:24:08.557Z"
   },
   {
    "duration": -4137,
    "start_time": "2021-12-14T13:24:12.775Z"
   },
   {
    "duration": -4187,
    "start_time": "2021-12-14T13:24:12.826Z"
   },
   {
    "duration": -4233,
    "start_time": "2021-12-14T13:24:12.873Z"
   },
   {
    "duration": -4263,
    "start_time": "2021-12-14T13:24:12.904Z"
   },
   {
    "duration": -4299,
    "start_time": "2021-12-14T13:24:12.941Z"
   },
   {
    "duration": -4335,
    "start_time": "2021-12-14T13:24:12.978Z"
   },
   {
    "duration": 13,
    "start_time": "2021-12-14T13:24:08.650Z"
   },
   {
    "duration": 7,
    "start_time": "2021-12-14T13:24:08.667Z"
   },
   {
    "duration": 5,
    "start_time": "2021-12-14T13:24:08.690Z"
   },
   {
    "duration": 6,
    "start_time": "2021-12-14T13:24:08.707Z"
   },
   {
    "duration": 8,
    "start_time": "2021-12-14T13:24:08.721Z"
   },
   {
    "duration": 6,
    "start_time": "2021-12-14T13:24:08.738Z"
   },
   {
    "duration": 7,
    "start_time": "2021-12-14T13:24:08.865Z"
   },
   {
    "duration": 12,
    "start_time": "2021-12-14T13:24:08.873Z"
   },
   {
    "duration": 8,
    "start_time": "2021-12-14T13:24:08.887Z"
   },
   {
    "duration": 19,
    "start_time": "2021-12-14T13:24:08.897Z"
   },
   {
    "duration": 12,
    "start_time": "2021-12-14T13:24:08.917Z"
   },
   {
    "duration": 16,
    "start_time": "2021-12-14T13:24:08.930Z"
   },
   {
    "duration": 3,
    "start_time": "2021-12-14T13:24:08.947Z"
   },
   {
    "duration": 16,
    "start_time": "2021-12-14T13:24:08.989Z"
   },
   {
    "duration": 4,
    "start_time": "2021-12-14T13:24:09.007Z"
   },
   {
    "duration": 27,
    "start_time": "2021-12-14T13:24:09.013Z"
   },
   {
    "duration": 16,
    "start_time": "2021-12-14T13:24:09.042Z"
   },
   {
    "duration": 30,
    "start_time": "2021-12-14T13:24:09.060Z"
   },
   {
    "duration": 19,
    "start_time": "2021-12-14T13:24:09.093Z"
   },
   {
    "duration": 44,
    "start_time": "2021-12-14T13:24:09.114Z"
   },
   {
    "duration": 52,
    "start_time": "2021-12-14T13:24:09.160Z"
   },
   {
    "duration": 32,
    "start_time": "2021-12-14T13:24:09.214Z"
   },
   {
    "duration": 4,
    "start_time": "2021-12-14T13:24:29.724Z"
   },
   {
    "duration": 5,
    "start_time": "2021-12-14T13:24:37.733Z"
   },
   {
    "duration": 5,
    "start_time": "2021-12-14T13:25:12.152Z"
   },
   {
    "duration": 56,
    "start_time": "2021-12-14T13:25:24.071Z"
   },
   {
    "duration": 12,
    "start_time": "2021-12-14T13:25:24.154Z"
   },
   {
    "duration": 12,
    "start_time": "2021-12-14T13:25:24.167Z"
   },
   {
    "duration": 3,
    "start_time": "2021-12-14T13:25:24.182Z"
   },
   {
    "duration": 16,
    "start_time": "2021-12-14T13:25:24.187Z"
   },
   {
    "duration": 12,
    "start_time": "2021-12-14T13:25:24.204Z"
   },
   {
    "duration": 11,
    "start_time": "2021-12-14T13:25:24.223Z"
   },
   {
    "duration": 6,
    "start_time": "2021-12-14T13:25:24.253Z"
   },
   {
    "duration": 39,
    "start_time": "2021-12-14T13:25:24.356Z"
   },
   {
    "duration": 25,
    "start_time": "2021-12-14T13:25:24.398Z"
   },
   {
    "duration": 5,
    "start_time": "2021-12-14T13:25:24.424Z"
   },
   {
    "duration": 5,
    "start_time": "2021-12-14T13:25:24.430Z"
   },
   {
    "duration": 4,
    "start_time": "2021-12-14T13:25:24.445Z"
   },
   {
    "duration": 6,
    "start_time": "2021-12-14T13:25:24.467Z"
   },
   {
    "duration": 6,
    "start_time": "2021-12-14T13:25:24.491Z"
   },
   {
    "duration": 4,
    "start_time": "2021-12-14T13:25:24.510Z"
   },
   {
    "duration": 5,
    "start_time": "2021-12-14T13:25:24.532Z"
   },
   {
    "duration": 4,
    "start_time": "2021-12-14T13:25:24.553Z"
   },
   {
    "duration": 6,
    "start_time": "2021-12-14T13:25:24.574Z"
   },
   {
    "duration": 7,
    "start_time": "2021-12-14T13:25:24.599Z"
   },
   {
    "duration": 17,
    "start_time": "2021-12-14T13:25:24.624Z"
   },
   {
    "duration": 14,
    "start_time": "2021-12-14T13:25:24.643Z"
   },
   {
    "duration": 7,
    "start_time": "2021-12-14T13:25:24.660Z"
   },
   {
    "duration": 6,
    "start_time": "2021-12-14T13:25:24.680Z"
   },
   {
    "duration": 9,
    "start_time": "2021-12-14T13:25:24.695Z"
   },
   {
    "duration": 12,
    "start_time": "2021-12-14T13:25:24.715Z"
   },
   {
    "duration": 6,
    "start_time": "2021-12-14T13:25:24.740Z"
   },
   {
    "duration": 3,
    "start_time": "2021-12-14T13:25:24.768Z"
   },
   {
    "duration": 7,
    "start_time": "2021-12-14T13:25:24.792Z"
   },
   {
    "duration": 5,
    "start_time": "2021-12-14T13:25:24.809Z"
   },
   {
    "duration": 6,
    "start_time": "2021-12-14T13:25:24.828Z"
   },
   {
    "duration": 7,
    "start_time": "2021-12-14T13:25:24.848Z"
   },
   {
    "duration": 8,
    "start_time": "2021-12-14T13:25:24.870Z"
   },
   {
    "duration": 10,
    "start_time": "2021-12-14T13:25:24.891Z"
   },
   {
    "duration": 16,
    "start_time": "2021-12-14T13:25:24.920Z"
   },
   {
    "duration": 12,
    "start_time": "2021-12-14T13:25:24.940Z"
   },
   {
    "duration": 18,
    "start_time": "2021-12-14T13:25:24.971Z"
   },
   {
    "duration": 4,
    "start_time": "2021-12-14T13:25:25.008Z"
   },
   {
    "duration": 12,
    "start_time": "2021-12-14T13:25:25.032Z"
   },
   {
    "duration": 4,
    "start_time": "2021-12-14T13:25:25.059Z"
   },
   {
    "duration": 30,
    "start_time": "2021-12-14T13:25:25.081Z"
   },
   {
    "duration": 19,
    "start_time": "2021-12-14T13:25:25.114Z"
   },
   {
    "duration": 9,
    "start_time": "2021-12-14T13:25:25.151Z"
   },
   {
    "duration": 20,
    "start_time": "2021-12-14T13:25:25.188Z"
   },
   {
    "duration": 38,
    "start_time": "2021-12-14T13:25:25.210Z"
   },
   {
    "duration": 48,
    "start_time": "2021-12-14T13:25:25.250Z"
   },
   {
    "duration": 33,
    "start_time": "2021-12-14T13:25:25.300Z"
   },
   {
    "duration": 4,
    "start_time": "2021-12-14T13:31:02.838Z"
   },
   {
    "duration": 6,
    "start_time": "2021-12-14T13:31:53.046Z"
   },
   {
    "duration": 5,
    "start_time": "2021-12-14T13:36:14.586Z"
   },
   {
    "duration": 4,
    "start_time": "2021-12-14T13:36:19.140Z"
   },
   {
    "duration": 268,
    "start_time": "2021-12-14T13:42:25.219Z"
   },
   {
    "duration": 245,
    "start_time": "2021-12-14T13:42:34.853Z"
   },
   {
    "duration": 242,
    "start_time": "2021-12-14T13:42:59.993Z"
   },
   {
    "duration": 13,
    "start_time": "2021-12-14T13:43:15.653Z"
   },
   {
    "duration": 244,
    "start_time": "2021-12-14T13:44:56.893Z"
   },
   {
    "duration": 16,
    "start_time": "2021-12-14T13:45:06.869Z"
   },
   {
    "duration": 38,
    "start_time": "2021-12-14T13:47:11.246Z"
   },
   {
    "duration": 18,
    "start_time": "2021-12-14T13:47:27.687Z"
   },
   {
    "duration": 255,
    "start_time": "2021-12-14T13:48:41.035Z"
   },
   {
    "duration": 252,
    "start_time": "2021-12-14T13:48:54.308Z"
   },
   {
    "duration": 247,
    "start_time": "2021-12-14T13:49:00.839Z"
   },
   {
    "duration": 255,
    "start_time": "2021-12-14T13:49:36.523Z"
   },
   {
    "duration": 51,
    "start_time": "2021-12-14T13:49:59.009Z"
   },
   {
    "duration": 12,
    "start_time": "2021-12-14T13:49:59.061Z"
   },
   {
    "duration": 15,
    "start_time": "2021-12-14T13:49:59.075Z"
   },
   {
    "duration": 4,
    "start_time": "2021-12-14T13:49:59.093Z"
   },
   {
    "duration": 10,
    "start_time": "2021-12-14T13:49:59.099Z"
   },
   {
    "duration": 17,
    "start_time": "2021-12-14T13:49:59.112Z"
   },
   {
    "duration": 18,
    "start_time": "2021-12-14T13:49:59.132Z"
   },
   {
    "duration": 41,
    "start_time": "2021-12-14T13:49:59.153Z"
   },
   {
    "duration": 48,
    "start_time": "2021-12-14T13:49:59.196Z"
   },
   {
    "duration": 61,
    "start_time": "2021-12-14T13:49:59.245Z"
   },
   {
    "duration": 3,
    "start_time": "2021-12-14T13:49:59.308Z"
   },
   {
    "duration": 7,
    "start_time": "2021-12-14T13:49:59.313Z"
   },
   {
    "duration": 10,
    "start_time": "2021-12-14T13:49:59.321Z"
   },
   {
    "duration": 9,
    "start_time": "2021-12-14T13:49:59.333Z"
   },
   {
    "duration": 6,
    "start_time": "2021-12-14T13:49:59.345Z"
   },
   {
    "duration": 39,
    "start_time": "2021-12-14T13:49:59.353Z"
   },
   {
    "duration": 6,
    "start_time": "2021-12-14T13:49:59.394Z"
   },
   {
    "duration": 4,
    "start_time": "2021-12-14T13:49:59.402Z"
   },
   {
    "duration": 8,
    "start_time": "2021-12-14T13:49:59.408Z"
   },
   {
    "duration": 5,
    "start_time": "2021-12-14T13:49:59.418Z"
   },
   {
    "duration": 7,
    "start_time": "2021-12-14T13:49:59.424Z"
   },
   {
    "duration": 5,
    "start_time": "2021-12-14T13:49:59.434Z"
   },
   {
    "duration": 299,
    "start_time": "2021-12-14T13:49:59.442Z"
   },
   {
    "duration": -1251,
    "start_time": "2021-12-14T13:50:00.995Z"
   },
   {
    "duration": -1288,
    "start_time": "2021-12-14T13:50:01.033Z"
   },
   {
    "duration": -1314,
    "start_time": "2021-12-14T13:50:01.061Z"
   },
   {
    "duration": -1350,
    "start_time": "2021-12-14T13:50:01.098Z"
   },
   {
    "duration": -1378,
    "start_time": "2021-12-14T13:50:01.127Z"
   },
   {
    "duration": -1418,
    "start_time": "2021-12-14T13:50:01.169Z"
   },
   {
    "duration": -1449,
    "start_time": "2021-12-14T13:50:01.201Z"
   },
   {
    "duration": -1479,
    "start_time": "2021-12-14T13:50:01.232Z"
   },
   {
    "duration": -1506,
    "start_time": "2021-12-14T13:50:01.261Z"
   },
   {
    "duration": -1525,
    "start_time": "2021-12-14T13:50:01.281Z"
   },
   {
    "duration": -1545,
    "start_time": "2021-12-14T13:50:01.302Z"
   },
   {
    "duration": -1577,
    "start_time": "2021-12-14T13:50:01.336Z"
   },
   {
    "duration": -1599,
    "start_time": "2021-12-14T13:50:01.359Z"
   },
   {
    "duration": -1625,
    "start_time": "2021-12-14T13:50:01.386Z"
   },
   {
    "duration": -1661,
    "start_time": "2021-12-14T13:50:01.424Z"
   },
   {
    "duration": -1689,
    "start_time": "2021-12-14T13:50:01.453Z"
   },
   {
    "duration": -1718,
    "start_time": "2021-12-14T13:50:01.484Z"
   },
   {
    "duration": -1749,
    "start_time": "2021-12-14T13:50:01.516Z"
   },
   {
    "duration": -1788,
    "start_time": "2021-12-14T13:50:01.556Z"
   },
   {
    "duration": -1824,
    "start_time": "2021-12-14T13:50:01.594Z"
   },
   {
    "duration": -1847,
    "start_time": "2021-12-14T13:50:01.618Z"
   },
   {
    "duration": -1880,
    "start_time": "2021-12-14T13:50:01.652Z"
   },
   {
    "duration": -1912,
    "start_time": "2021-12-14T13:50:01.685Z"
   },
   {
    "duration": -1944,
    "start_time": "2021-12-14T13:50:01.718Z"
   },
   {
    "duration": -1994,
    "start_time": "2021-12-14T13:50:01.769Z"
   },
   {
    "duration": -2030,
    "start_time": "2021-12-14T13:50:01.806Z"
   },
   {
    "duration": -2061,
    "start_time": "2021-12-14T13:50:01.837Z"
   },
   {
    "duration": 244,
    "start_time": "2021-12-14T13:58:37.309Z"
   },
   {
    "duration": 260,
    "start_time": "2021-12-14T13:58:45.769Z"
   },
   {
    "duration": 20,
    "start_time": "2021-12-14T13:59:02.380Z"
   },
   {
    "duration": 21,
    "start_time": "2021-12-14T13:59:21.035Z"
   },
   {
    "duration": 19,
    "start_time": "2021-12-14T13:59:27.770Z"
   },
   {
    "duration": 21,
    "start_time": "2021-12-14T13:59:46.012Z"
   },
   {
    "duration": 21,
    "start_time": "2021-12-14T14:00:04.830Z"
   },
   {
    "duration": 23,
    "start_time": "2021-12-14T14:01:37.460Z"
   },
   {
    "duration": 22,
    "start_time": "2021-12-14T14:03:05.643Z"
   },
   {
    "duration": 52,
    "start_time": "2021-12-14T14:03:43.072Z"
   },
   {
    "duration": 13,
    "start_time": "2021-12-14T14:03:43.126Z"
   },
   {
    "duration": 13,
    "start_time": "2021-12-14T14:03:43.141Z"
   },
   {
    "duration": 3,
    "start_time": "2021-12-14T14:03:43.155Z"
   },
   {
    "duration": 44,
    "start_time": "2021-12-14T14:03:43.160Z"
   },
   {
    "duration": 12,
    "start_time": "2021-12-14T14:03:43.206Z"
   },
   {
    "duration": 11,
    "start_time": "2021-12-14T14:03:43.220Z"
   },
   {
    "duration": 6,
    "start_time": "2021-12-14T14:03:43.233Z"
   },
   {
    "duration": 76,
    "start_time": "2021-12-14T14:03:43.241Z"
   },
   {
    "duration": 18,
    "start_time": "2021-12-14T14:03:43.319Z"
   },
   {
    "duration": 63,
    "start_time": "2021-12-14T14:03:43.338Z"
   },
   {
    "duration": 9,
    "start_time": "2021-12-14T14:03:43.404Z"
   },
   {
    "duration": 14,
    "start_time": "2021-12-14T14:03:43.414Z"
   },
   {
    "duration": 7,
    "start_time": "2021-12-14T14:03:43.430Z"
   },
   {
    "duration": 6,
    "start_time": "2021-12-14T14:03:43.439Z"
   },
   {
    "duration": 7,
    "start_time": "2021-12-14T14:03:43.447Z"
   },
   {
    "duration": 43,
    "start_time": "2021-12-14T14:03:43.455Z"
   },
   {
    "duration": 6,
    "start_time": "2021-12-14T14:03:43.501Z"
   },
   {
    "duration": 11,
    "start_time": "2021-12-14T14:03:43.509Z"
   },
   {
    "duration": 6,
    "start_time": "2021-12-14T14:03:43.522Z"
   },
   {
    "duration": 10,
    "start_time": "2021-12-14T14:03:43.529Z"
   },
   {
    "duration": 8,
    "start_time": "2021-12-14T14:03:43.540Z"
   },
   {
    "duration": 6,
    "start_time": "2021-12-14T14:03:43.550Z"
   },
   {
    "duration": 11,
    "start_time": "2021-12-14T14:03:43.557Z"
   },
   {
    "duration": 25,
    "start_time": "2021-12-14T14:03:43.569Z"
   },
   {
    "duration": 17,
    "start_time": "2021-12-14T14:03:43.596Z"
   },
   {
    "duration": 12,
    "start_time": "2021-12-14T14:03:43.615Z"
   },
   {
    "duration": 16,
    "start_time": "2021-12-14T14:03:43.628Z"
   },
   {
    "duration": 3,
    "start_time": "2021-12-14T14:03:43.646Z"
   },
   {
    "duration": 54,
    "start_time": "2021-12-14T14:03:43.650Z"
   },
   {
    "duration": 4,
    "start_time": "2021-12-14T14:03:43.705Z"
   },
   {
    "duration": 20,
    "start_time": "2021-12-14T14:03:43.710Z"
   },
   {
    "duration": 17,
    "start_time": "2021-12-14T14:03:43.732Z"
   },
   {
    "duration": 8,
    "start_time": "2021-12-14T14:03:43.750Z"
   },
   {
    "duration": 44,
    "start_time": "2021-12-14T14:03:43.759Z"
   },
   {
    "duration": 39,
    "start_time": "2021-12-14T14:03:43.804Z"
   },
   {
    "duration": 23,
    "start_time": "2021-12-14T14:03:43.844Z"
   },
   {
    "duration": 45,
    "start_time": "2021-12-14T14:03:43.869Z"
   },
   {
    "duration": 22,
    "start_time": "2021-12-14T14:20:54.502Z"
   },
   {
    "duration": 48,
    "start_time": "2021-12-14T14:21:21.604Z"
   },
   {
    "duration": 14,
    "start_time": "2021-12-14T14:21:21.737Z"
   },
   {
    "duration": 10,
    "start_time": "2021-12-14T14:21:21.753Z"
   },
   {
    "duration": 4,
    "start_time": "2021-12-14T14:21:21.765Z"
   },
   {
    "duration": 9,
    "start_time": "2021-12-14T14:21:21.770Z"
   },
   {
    "duration": 12,
    "start_time": "2021-12-14T14:21:21.780Z"
   },
   {
    "duration": 12,
    "start_time": "2021-12-14T14:21:21.793Z"
   },
   {
    "duration": 5,
    "start_time": "2021-12-14T14:21:21.807Z"
   },
   {
    "duration": 74,
    "start_time": "2021-12-14T14:21:21.814Z"
   },
   {
    "duration": 18,
    "start_time": "2021-12-14T14:21:21.890Z"
   },
   {
    "duration": 23,
    "start_time": "2021-12-14T14:21:21.910Z"
   },
   {
    "duration": 15,
    "start_time": "2021-12-14T14:21:21.965Z"
   },
   {
    "duration": 9,
    "start_time": "2021-12-14T14:21:21.992Z"
   },
   {
    "duration": 12,
    "start_time": "2021-12-14T14:21:22.005Z"
   },
   {
    "duration": 7,
    "start_time": "2021-12-14T14:21:22.023Z"
   },
   {
    "duration": 8,
    "start_time": "2021-12-14T14:21:22.044Z"
   },
   {
    "duration": 7,
    "start_time": "2021-12-14T14:21:22.053Z"
   },
   {
    "duration": 23,
    "start_time": "2021-12-14T14:21:22.064Z"
   },
   {
    "duration": 7,
    "start_time": "2021-12-14T14:21:22.089Z"
   },
   {
    "duration": 3,
    "start_time": "2021-12-14T14:21:22.100Z"
   },
   {
    "duration": 5,
    "start_time": "2021-12-14T14:21:22.113Z"
   },
   {
    "duration": 6,
    "start_time": "2021-12-14T14:21:22.129Z"
   },
   {
    "duration": 6,
    "start_time": "2021-12-14T14:21:22.143Z"
   },
   {
    "duration": 6,
    "start_time": "2021-12-14T14:21:22.155Z"
   },
   {
    "duration": 7,
    "start_time": "2021-12-14T14:21:22.167Z"
   },
   {
    "duration": 7,
    "start_time": "2021-12-14T14:21:22.187Z"
   },
   {
    "duration": 13,
    "start_time": "2021-12-14T14:21:22.200Z"
   },
   {
    "duration": 17,
    "start_time": "2021-12-14T14:21:22.224Z"
   },
   {
    "duration": 4,
    "start_time": "2021-12-14T14:21:22.250Z"
   },
   {
    "duration": 11,
    "start_time": "2021-12-14T14:21:22.268Z"
   },
   {
    "duration": 5,
    "start_time": "2021-12-14T14:21:22.283Z"
   },
   {
    "duration": 20,
    "start_time": "2021-12-14T14:21:22.295Z"
   },
   {
    "duration": 17,
    "start_time": "2021-12-14T14:21:22.317Z"
   },
   {
    "duration": 8,
    "start_time": "2021-12-14T14:21:22.346Z"
   },
   {
    "duration": 16,
    "start_time": "2021-12-14T14:21:22.372Z"
   },
   {
    "duration": 62,
    "start_time": "2021-12-14T14:21:22.392Z"
   },
   {
    "duration": 35,
    "start_time": "2021-12-14T14:21:22.456Z"
   },
   {
    "duration": 34,
    "start_time": "2021-12-14T14:21:22.493Z"
   },
   {
    "duration": 33,
    "start_time": "2021-12-14T14:21:57.223Z"
   },
   {
    "duration": 29,
    "start_time": "2021-12-14T14:21:59.359Z"
   },
   {
    "duration": 51,
    "start_time": "2021-12-14T14:22:09.788Z"
   },
   {
    "duration": 11,
    "start_time": "2021-12-14T14:22:09.841Z"
   },
   {
    "duration": 12,
    "start_time": "2021-12-14T14:22:09.854Z"
   },
   {
    "duration": 8,
    "start_time": "2021-12-14T14:22:09.868Z"
   },
   {
    "duration": 15,
    "start_time": "2021-12-14T14:22:09.877Z"
   },
   {
    "duration": 12,
    "start_time": "2021-12-14T14:22:09.963Z"
   },
   {
    "duration": 11,
    "start_time": "2021-12-14T14:22:09.977Z"
   },
   {
    "duration": 8,
    "start_time": "2021-12-14T14:22:09.990Z"
   },
   {
    "duration": 47,
    "start_time": "2021-12-14T14:22:10.000Z"
   },
   {
    "duration": 41,
    "start_time": "2021-12-14T14:22:10.048Z"
   },
   {
    "duration": 21,
    "start_time": "2021-12-14T14:22:10.091Z"
   },
   {
    "duration": 16,
    "start_time": "2021-12-14T14:22:10.114Z"
   },
   {
    "duration": 9,
    "start_time": "2021-12-14T14:22:10.132Z"
   },
   {
    "duration": 15,
    "start_time": "2021-12-14T14:22:10.142Z"
   },
   {
    "duration": 37,
    "start_time": "2021-12-14T14:22:10.158Z"
   },
   {
    "duration": 8,
    "start_time": "2021-12-14T14:22:10.197Z"
   },
   {
    "duration": 7,
    "start_time": "2021-12-14T14:22:10.206Z"
   },
   {
    "duration": 13,
    "start_time": "2021-12-14T14:22:10.214Z"
   },
   {
    "duration": 7,
    "start_time": "2021-12-14T14:22:10.229Z"
   },
   {
    "duration": 8,
    "start_time": "2021-12-14T14:22:10.238Z"
   },
   {
    "duration": 41,
    "start_time": "2021-12-14T14:22:10.248Z"
   },
   {
    "duration": 6,
    "start_time": "2021-12-14T14:22:10.291Z"
   },
   {
    "duration": 11,
    "start_time": "2021-12-14T14:22:10.299Z"
   },
   {
    "duration": 9,
    "start_time": "2021-12-14T14:22:10.312Z"
   },
   {
    "duration": 8,
    "start_time": "2021-12-14T14:22:10.323Z"
   },
   {
    "duration": 8,
    "start_time": "2021-12-14T14:22:10.333Z"
   },
   {
    "duration": 46,
    "start_time": "2021-12-14T14:22:10.342Z"
   },
   {
    "duration": 19,
    "start_time": "2021-12-14T14:22:10.389Z"
   },
   {
    "duration": 4,
    "start_time": "2021-12-14T14:22:10.410Z"
   },
   {
    "duration": 13,
    "start_time": "2021-12-14T14:22:10.416Z"
   },
   {
    "duration": 4,
    "start_time": "2021-12-14T14:22:10.431Z"
   },
   {
    "duration": 56,
    "start_time": "2021-12-14T14:22:10.437Z"
   },
   {
    "duration": 19,
    "start_time": "2021-12-14T14:22:10.495Z"
   },
   {
    "duration": 9,
    "start_time": "2021-12-14T14:22:10.515Z"
   },
   {
    "duration": 14,
    "start_time": "2021-12-14T14:22:10.526Z"
   },
   {
    "duration": 65,
    "start_time": "2021-12-14T14:22:10.542Z"
   },
   {
    "duration": 23,
    "start_time": "2021-12-14T14:22:10.608Z"
   },
   {
    "duration": 32,
    "start_time": "2021-12-14T14:22:10.632Z"
   },
   {
    "duration": 16,
    "start_time": "2021-12-14T14:30:28.648Z"
   },
   {
    "duration": 68,
    "start_time": "2021-12-14T14:30:31.825Z"
   },
   {
    "duration": 11,
    "start_time": "2021-12-14T14:30:31.895Z"
   },
   {
    "duration": 27,
    "start_time": "2021-12-14T14:30:31.908Z"
   },
   {
    "duration": 12,
    "start_time": "2021-12-14T14:30:31.938Z"
   },
   {
    "duration": 13,
    "start_time": "2021-12-14T14:30:31.952Z"
   },
   {
    "duration": 12,
    "start_time": "2021-12-14T14:30:31.967Z"
   },
   {
    "duration": 14,
    "start_time": "2021-12-14T14:30:31.981Z"
   },
   {
    "duration": 10,
    "start_time": "2021-12-14T14:30:31.998Z"
   },
   {
    "duration": 83,
    "start_time": "2021-12-14T14:30:32.010Z"
   },
   {
    "duration": 21,
    "start_time": "2021-12-14T14:30:32.096Z"
   },
   {
    "duration": 22,
    "start_time": "2021-12-14T14:30:32.119Z"
   },
   {
    "duration": 16,
    "start_time": "2021-12-14T14:30:32.218Z"
   },
   {
    "duration": 9,
    "start_time": "2021-12-14T14:30:32.370Z"
   },
   {
    "duration": 10,
    "start_time": "2021-12-14T14:30:32.397Z"
   },
   {
    "duration": 17,
    "start_time": "2021-12-14T14:30:32.409Z"
   },
   {
    "duration": 7,
    "start_time": "2021-12-14T14:30:32.428Z"
   },
   {
    "duration": 10,
    "start_time": "2021-12-14T14:30:32.440Z"
   },
   {
    "duration": 8,
    "start_time": "2021-12-14T14:30:32.584Z"
   },
   {
    "duration": 14,
    "start_time": "2021-12-14T14:30:32.705Z"
   },
   {
    "duration": 11,
    "start_time": "2021-12-14T14:30:32.720Z"
   },
   {
    "duration": 6,
    "start_time": "2021-12-14T14:30:32.733Z"
   },
   {
    "duration": 7,
    "start_time": "2021-12-14T14:30:32.740Z"
   },
   {
    "duration": 8,
    "start_time": "2021-12-14T14:30:32.748Z"
   },
   {
    "duration": 9,
    "start_time": "2021-12-14T14:30:32.758Z"
   },
   {
    "duration": 22,
    "start_time": "2021-12-14T14:30:32.769Z"
   },
   {
    "duration": 11,
    "start_time": "2021-12-14T14:30:32.794Z"
   },
   {
    "duration": 12,
    "start_time": "2021-12-14T14:30:32.807Z"
   },
   {
    "duration": 19,
    "start_time": "2021-12-14T14:30:32.821Z"
   },
   {
    "duration": 51,
    "start_time": "2021-12-14T14:30:32.843Z"
   },
   {
    "duration": 5,
    "start_time": "2021-12-14T14:30:32.896Z"
   },
   {
    "duration": 18,
    "start_time": "2021-12-14T14:30:32.906Z"
   },
   {
    "duration": 5,
    "start_time": "2021-12-14T14:30:32.926Z"
   },
   {
    "duration": 23,
    "start_time": "2021-12-14T14:30:32.933Z"
   },
   {
    "duration": 47,
    "start_time": "2021-12-14T14:30:32.958Z"
   },
   {
    "duration": 8,
    "start_time": "2021-12-14T14:30:33.008Z"
   },
   {
    "duration": 14,
    "start_time": "2021-12-14T14:30:33.017Z"
   },
   {
    "duration": 72,
    "start_time": "2021-12-14T14:30:33.033Z"
   },
   {
    "duration": 24,
    "start_time": "2021-12-14T14:30:33.107Z"
   },
   {
    "duration": 32,
    "start_time": "2021-12-14T14:30:33.133Z"
   },
   {
    "duration": 8,
    "start_time": "2021-12-14T14:33:44.289Z"
   },
   {
    "duration": 48,
    "start_time": "2021-12-14T14:33:47.926Z"
   },
   {
    "duration": 12,
    "start_time": "2021-12-14T14:33:47.976Z"
   },
   {
    "duration": 10,
    "start_time": "2021-12-14T14:33:48.055Z"
   },
   {
    "duration": 4,
    "start_time": "2021-12-14T14:33:48.067Z"
   },
   {
    "duration": 8,
    "start_time": "2021-12-14T14:33:48.073Z"
   },
   {
    "duration": 14,
    "start_time": "2021-12-14T14:33:48.082Z"
   },
   {
    "duration": 11,
    "start_time": "2021-12-14T14:33:48.097Z"
   },
   {
    "duration": 7,
    "start_time": "2021-12-14T14:33:48.110Z"
   },
   {
    "duration": 37,
    "start_time": "2021-12-14T14:33:48.231Z"
   },
   {
    "duration": 20,
    "start_time": "2021-12-14T14:33:48.270Z"
   },
   {
    "duration": 25,
    "start_time": "2021-12-14T14:33:48.292Z"
   },
   {
    "duration": 16,
    "start_time": "2021-12-14T14:33:48.324Z"
   },
   {
    "duration": 9,
    "start_time": "2021-12-14T14:33:48.342Z"
   },
   {
    "duration": 10,
    "start_time": "2021-12-14T14:33:49.097Z"
   },
   {
    "duration": 13,
    "start_time": "2021-12-14T14:33:49.340Z"
   },
   {
    "duration": 7,
    "start_time": "2021-12-14T14:33:49.358Z"
   },
   {
    "duration": 7,
    "start_time": "2021-12-14T14:33:49.376Z"
   },
   {
    "duration": 7,
    "start_time": "2021-12-14T14:33:49.392Z"
   },
   {
    "duration": 13,
    "start_time": "2021-12-14T14:33:49.415Z"
   },
   {
    "duration": 7,
    "start_time": "2021-12-14T14:33:49.430Z"
   },
   {
    "duration": 4,
    "start_time": "2021-12-14T14:33:49.452Z"
   },
   {
    "duration": 6,
    "start_time": "2021-12-14T14:33:49.472Z"
   },
   {
    "duration": 9,
    "start_time": "2021-12-14T14:33:49.490Z"
   },
   {
    "duration": 9,
    "start_time": "2021-12-14T14:33:49.509Z"
   },
   {
    "duration": 7,
    "start_time": "2021-12-14T14:33:49.525Z"
   },
   {
    "duration": 8,
    "start_time": "2021-12-14T14:33:49.539Z"
   },
   {
    "duration": 8,
    "start_time": "2021-12-14T14:33:49.559Z"
   },
   {
    "duration": 13,
    "start_time": "2021-12-14T14:33:49.580Z"
   },
   {
    "duration": 18,
    "start_time": "2021-12-14T14:33:49.628Z"
   },
   {
    "duration": 4,
    "start_time": "2021-12-14T14:33:49.648Z"
   },
   {
    "duration": 19,
    "start_time": "2021-12-14T14:33:49.654Z"
   },
   {
    "duration": 5,
    "start_time": "2021-12-14T14:33:49.675Z"
   },
   {
    "duration": 22,
    "start_time": "2021-12-14T14:33:49.693Z"
   },
   {
    "duration": 17,
    "start_time": "2021-12-14T14:33:49.723Z"
   },
   {
    "duration": 8,
    "start_time": "2021-12-14T14:33:49.758Z"
   },
   {
    "duration": 14,
    "start_time": "2021-12-14T14:33:49.793Z"
   },
   {
    "duration": 43,
    "start_time": "2021-12-14T14:33:49.811Z"
   },
   {
    "duration": 33,
    "start_time": "2021-12-14T14:33:49.855Z"
   },
   {
    "duration": 33,
    "start_time": "2021-12-14T14:33:49.890Z"
   },
   {
    "duration": 12,
    "start_time": "2021-12-14T14:34:15.721Z"
   },
   {
    "duration": 8,
    "start_time": "2021-12-14T14:34:17.554Z"
   },
   {
    "duration": 10,
    "start_time": "2021-12-14T14:34:17.565Z"
   },
   {
    "duration": 71,
    "start_time": "2021-12-14T14:34:21.580Z"
   },
   {
    "duration": 19,
    "start_time": "2021-12-14T14:34:21.654Z"
   },
   {
    "duration": 25,
    "start_time": "2021-12-14T14:34:21.676Z"
   },
   {
    "duration": 5,
    "start_time": "2021-12-14T14:34:21.704Z"
   },
   {
    "duration": 18,
    "start_time": "2021-12-14T14:34:21.711Z"
   },
   {
    "duration": 13,
    "start_time": "2021-12-14T14:34:21.731Z"
   },
   {
    "duration": 13,
    "start_time": "2021-12-14T14:34:21.747Z"
   },
   {
    "duration": 7,
    "start_time": "2021-12-14T14:34:21.789Z"
   },
   {
    "duration": 37,
    "start_time": "2021-12-14T14:34:21.797Z"
   },
   {
    "duration": 70,
    "start_time": "2021-12-14T14:34:21.835Z"
   },
   {
    "duration": 89,
    "start_time": "2021-12-14T14:34:21.906Z"
   },
   {
    "duration": 16,
    "start_time": "2021-12-14T14:34:21.997Z"
   },
   {
    "duration": 9,
    "start_time": "2021-12-14T14:34:22.015Z"
   },
   {
    "duration": 12,
    "start_time": "2021-12-14T14:34:22.026Z"
   },
   {
    "duration": 16,
    "start_time": "2021-12-14T14:34:22.040Z"
   },
   {
    "duration": 8,
    "start_time": "2021-12-14T14:34:22.088Z"
   },
   {
    "duration": 24,
    "start_time": "2021-12-14T14:34:22.098Z"
   },
   {
    "duration": 9,
    "start_time": "2021-12-14T14:34:22.124Z"
   },
   {
    "duration": 12,
    "start_time": "2021-12-14T14:34:22.135Z"
   },
   {
    "duration": 7,
    "start_time": "2021-12-14T14:34:22.148Z"
   },
   {
    "duration": 32,
    "start_time": "2021-12-14T14:34:22.157Z"
   },
   {
    "duration": 5,
    "start_time": "2021-12-14T14:34:22.190Z"
   },
   {
    "duration": 13,
    "start_time": "2021-12-14T14:34:22.197Z"
   },
   {
    "duration": 8,
    "start_time": "2021-12-14T14:34:22.212Z"
   },
   {
    "duration": 13,
    "start_time": "2021-12-14T14:34:22.221Z"
   },
   {
    "duration": 15,
    "start_time": "2021-12-14T14:34:22.236Z"
   },
   {
    "duration": 7,
    "start_time": "2021-12-14T14:34:22.253Z"
   },
   {
    "duration": 13,
    "start_time": "2021-12-14T14:34:22.288Z"
   },
   {
    "duration": 17,
    "start_time": "2021-12-14T14:34:22.302Z"
   },
   {
    "duration": 4,
    "start_time": "2021-12-14T14:34:22.320Z"
   },
   {
    "duration": 18,
    "start_time": "2021-12-14T14:34:22.326Z"
   },
   {
    "duration": 43,
    "start_time": "2021-12-14T14:34:22.346Z"
   },
   {
    "duration": 24,
    "start_time": "2021-12-14T14:34:22.391Z"
   },
   {
    "duration": 20,
    "start_time": "2021-12-14T14:34:22.417Z"
   },
   {
    "duration": 9,
    "start_time": "2021-12-14T14:34:22.438Z"
   },
   {
    "duration": 48,
    "start_time": "2021-12-14T14:34:22.448Z"
   },
   {
    "duration": 39,
    "start_time": "2021-12-14T14:34:22.497Z"
   },
   {
    "duration": 24,
    "start_time": "2021-12-14T14:34:22.537Z"
   },
   {
    "duration": 55,
    "start_time": "2021-12-14T14:34:22.563Z"
   },
   {
    "duration": 49,
    "start_time": "2021-12-14T14:55:43.902Z"
   },
   {
    "duration": 12,
    "start_time": "2021-12-14T14:55:43.953Z"
   },
   {
    "duration": 34,
    "start_time": "2021-12-14T14:55:43.968Z"
   },
   {
    "duration": 8,
    "start_time": "2021-12-14T14:55:44.004Z"
   },
   {
    "duration": 17,
    "start_time": "2021-12-14T14:55:44.020Z"
   },
   {
    "duration": 14,
    "start_time": "2021-12-14T14:55:44.055Z"
   },
   {
    "duration": 19,
    "start_time": "2021-12-14T14:55:44.073Z"
   },
   {
    "duration": 12,
    "start_time": "2021-12-14T14:55:44.096Z"
   },
   {
    "duration": 44,
    "start_time": "2021-12-14T14:55:44.206Z"
   },
   {
    "duration": 50,
    "start_time": "2021-12-14T14:55:44.251Z"
   },
   {
    "duration": 21,
    "start_time": "2021-12-14T14:55:44.303Z"
   },
   {
    "duration": 14,
    "start_time": "2021-12-14T14:55:44.326Z"
   },
   {
    "duration": 7,
    "start_time": "2021-12-14T14:55:44.342Z"
   },
   {
    "duration": 11,
    "start_time": "2021-12-14T14:55:44.351Z"
   },
   {
    "duration": 36,
    "start_time": "2021-12-14T14:55:44.364Z"
   },
   {
    "duration": 13,
    "start_time": "2021-12-14T14:55:44.402Z"
   },
   {
    "duration": 7,
    "start_time": "2021-12-14T14:55:44.416Z"
   },
   {
    "duration": 8,
    "start_time": "2021-12-14T14:55:44.425Z"
   },
   {
    "duration": 13,
    "start_time": "2021-12-14T14:55:44.440Z"
   },
   {
    "duration": 7,
    "start_time": "2021-12-14T14:55:44.465Z"
   },
   {
    "duration": 19,
    "start_time": "2021-12-14T14:55:44.493Z"
   },
   {
    "duration": 18,
    "start_time": "2021-12-14T14:55:44.514Z"
   },
   {
    "duration": 4,
    "start_time": "2021-12-14T14:55:44.541Z"
   },
   {
    "duration": 14,
    "start_time": "2021-12-14T14:55:44.563Z"
   },
   {
    "duration": 10,
    "start_time": "2021-12-14T14:55:44.587Z"
   },
   {
    "duration": 23,
    "start_time": "2021-12-14T14:55:44.606Z"
   },
   {
    "duration": 19,
    "start_time": "2021-12-14T14:55:44.632Z"
   },
   {
    "duration": 9,
    "start_time": "2021-12-14T14:55:44.668Z"
   },
   {
    "duration": 14,
    "start_time": "2021-12-14T14:55:44.700Z"
   },
   {
    "duration": 23,
    "start_time": "2021-12-14T14:55:44.989Z"
   },
   {
    "duration": 25,
    "start_time": "2021-12-14T14:55:45.014Z"
   },
   {
    "duration": 28,
    "start_time": "2021-12-14T14:55:45.041Z"
   },
   {
    "duration": 3191,
    "start_time": "2021-12-14T16:10:51.154Z"
   },
   {
    "duration": 55,
    "start_time": "2021-12-14T18:12:34.947Z"
   },
   {
    "duration": 13,
    "start_time": "2021-12-14T18:12:35.005Z"
   },
   {
    "duration": 13,
    "start_time": "2021-12-14T18:12:35.020Z"
   },
   {
    "duration": 8,
    "start_time": "2021-12-14T18:12:35.036Z"
   },
   {
    "duration": 14,
    "start_time": "2021-12-14T18:12:35.046Z"
   },
   {
    "duration": 38,
    "start_time": "2021-12-14T18:12:35.061Z"
   },
   {
    "duration": 16,
    "start_time": "2021-12-14T18:12:35.101Z"
   },
   {
    "duration": 9,
    "start_time": "2021-12-14T18:12:35.119Z"
   },
   {
    "duration": 68,
    "start_time": "2021-12-14T18:12:35.151Z"
   },
   {
    "duration": 30,
    "start_time": "2021-12-14T18:12:35.221Z"
   },
   {
    "duration": 43,
    "start_time": "2021-12-14T18:12:35.269Z"
   },
   {
    "duration": 24,
    "start_time": "2021-12-14T18:12:35.314Z"
   },
   {
    "duration": 8,
    "start_time": "2021-12-14T18:12:35.340Z"
   },
   {
    "duration": 39,
    "start_time": "2021-12-14T18:12:35.350Z"
   },
   {
    "duration": 15,
    "start_time": "2021-12-14T18:12:35.390Z"
   },
   {
    "duration": 10,
    "start_time": "2021-12-14T18:12:35.406Z"
   },
   {
    "duration": 9,
    "start_time": "2021-12-14T18:12:35.417Z"
   },
   {
    "duration": 11,
    "start_time": "2021-12-14T18:12:35.428Z"
   },
   {
    "duration": 13,
    "start_time": "2021-12-14T18:12:35.440Z"
   },
   {
    "duration": 36,
    "start_time": "2021-12-14T18:12:35.455Z"
   },
   {
    "duration": 29,
    "start_time": "2021-12-14T18:12:35.493Z"
   },
   {
    "duration": 32,
    "start_time": "2021-12-14T18:12:35.523Z"
   },
   {
    "duration": 4,
    "start_time": "2021-12-14T18:12:35.556Z"
   },
   {
    "duration": 29,
    "start_time": "2021-12-14T18:12:35.561Z"
   },
   {
    "duration": 4,
    "start_time": "2021-12-14T18:12:35.592Z"
   },
   {
    "duration": 30,
    "start_time": "2021-12-14T18:12:35.597Z"
   },
   {
    "duration": 26,
    "start_time": "2021-12-14T18:12:35.628Z"
   },
   {
    "duration": 8,
    "start_time": "2021-12-14T18:12:35.656Z"
   },
   {
    "duration": 23,
    "start_time": "2021-12-14T18:12:35.665Z"
   },
   {
    "duration": 19,
    "start_time": "2021-12-14T18:12:35.761Z"
   },
   {
    "duration": 23,
    "start_time": "2021-12-14T18:12:35.781Z"
   },
   {
    "duration": 28,
    "start_time": "2021-12-14T18:12:35.805Z"
   },
   {
    "duration": 3471,
    "start_time": "2021-12-14T18:12:35.922Z"
   },
   {
    "duration": 3600,
    "start_time": "2021-12-14T18:23:22.596Z"
   },
   {
    "duration": 3476,
    "start_time": "2021-12-14T18:23:26.817Z"
   },
   {
    "duration": 3421,
    "start_time": "2021-12-14T18:23:35.889Z"
   },
   {
    "duration": 278,
    "start_time": "2021-12-14T18:26:17.887Z"
   },
   {
    "duration": 490,
    "start_time": "2021-12-14T18:26:32.383Z"
   },
   {
    "duration": 4437,
    "start_time": "2021-12-14T18:27:12.608Z"
   },
   {
    "duration": 53,
    "start_time": "2021-12-14T18:30:54.270Z"
   },
   {
    "duration": 48073,
    "start_time": "2021-12-14T18:31:29.556Z"
   },
   {
    "duration": 1412,
    "start_time": "2021-12-14T18:47:23.546Z"
   },
   {
    "duration": 1392,
    "start_time": "2021-12-14T18:47:57.631Z"
   },
   {
    "duration": 151,
    "start_time": "2021-12-14T18:49:30.808Z"
   },
   {
    "duration": 132,
    "start_time": "2021-12-14T18:53:05.564Z"
   },
   {
    "duration": 135,
    "start_time": "2021-12-14T18:53:10.871Z"
   },
   {
    "duration": 48,
    "start_time": "2021-12-14T18:55:17.272Z"
   },
   {
    "duration": 12,
    "start_time": "2021-12-14T18:55:17.322Z"
   },
   {
    "duration": 11,
    "start_time": "2021-12-14T18:55:17.336Z"
   },
   {
    "duration": 4,
    "start_time": "2021-12-14T18:55:17.350Z"
   },
   {
    "duration": 33,
    "start_time": "2021-12-14T18:55:17.356Z"
   },
   {
    "duration": 14,
    "start_time": "2021-12-14T18:55:17.391Z"
   },
   {
    "duration": 25,
    "start_time": "2021-12-14T18:55:17.407Z"
   },
   {
    "duration": 6,
    "start_time": "2021-12-14T18:55:17.434Z"
   },
   {
    "duration": 66,
    "start_time": "2021-12-14T18:55:17.445Z"
   },
   {
    "duration": 21,
    "start_time": "2021-12-14T18:55:17.513Z"
   },
   {
    "duration": 58,
    "start_time": "2021-12-14T18:55:17.536Z"
   },
   {
    "duration": 16,
    "start_time": "2021-12-14T18:55:17.596Z"
   },
   {
    "duration": 9,
    "start_time": "2021-12-14T18:55:17.633Z"
   },
   {
    "duration": 13,
    "start_time": "2021-12-14T18:55:17.644Z"
   },
   {
    "duration": 14,
    "start_time": "2021-12-14T18:55:17.659Z"
   },
   {
    "duration": 18,
    "start_time": "2021-12-14T18:55:17.675Z"
   },
   {
    "duration": 10,
    "start_time": "2021-12-14T18:55:17.696Z"
   },
   {
    "duration": 7,
    "start_time": "2021-12-14T18:55:17.708Z"
   },
   {
    "duration": 11,
    "start_time": "2021-12-14T18:55:17.717Z"
   },
   {
    "duration": 9,
    "start_time": "2021-12-14T18:55:17.730Z"
   },
   {
    "duration": 51,
    "start_time": "2021-12-14T18:55:17.742Z"
   },
   {
    "duration": 19,
    "start_time": "2021-12-14T18:55:17.795Z"
   },
   {
    "duration": 5,
    "start_time": "2021-12-14T18:55:17.816Z"
   },
   {
    "duration": 13,
    "start_time": "2021-12-14T18:55:17.823Z"
   },
   {
    "duration": 6,
    "start_time": "2021-12-14T18:55:17.838Z"
   },
   {
    "duration": 62,
    "start_time": "2021-12-14T18:55:17.845Z"
   },
   {
    "duration": 19,
    "start_time": "2021-12-14T18:55:17.909Z"
   },
   {
    "duration": 10,
    "start_time": "2021-12-14T18:55:17.930Z"
   },
   {
    "duration": 16,
    "start_time": "2021-12-14T18:55:18.045Z"
   },
   {
    "duration": 20,
    "start_time": "2021-12-14T18:55:18.063Z"
   },
   {
    "duration": 19,
    "start_time": "2021-12-14T18:55:18.086Z"
   },
   {
    "duration": 29,
    "start_time": "2021-12-14T18:55:18.107Z"
   },
   {
    "duration": 3749,
    "start_time": "2021-12-14T18:55:18.241Z"
   },
   {
    "duration": 224,
    "start_time": "2021-12-14T18:55:21.993Z"
   },
   {
    "duration": -217,
    "start_time": "2021-12-14T19:00:39.216Z"
   },
   {
    "duration": -239,
    "start_time": "2021-12-14T19:00:39.239Z"
   },
   {
    "duration": -263,
    "start_time": "2021-12-14T19:00:39.264Z"
   },
   {
    "duration": -282,
    "start_time": "2021-12-14T19:00:39.284Z"
   },
   {
    "duration": -300,
    "start_time": "2021-12-14T19:00:39.303Z"
   },
   {
    "duration": -319,
    "start_time": "2021-12-14T19:00:39.323Z"
   },
   {
    "duration": -340,
    "start_time": "2021-12-14T19:00:39.345Z"
   },
   {
    "duration": -360,
    "start_time": "2021-12-14T19:00:39.365Z"
   },
   {
    "duration": -378,
    "start_time": "2021-12-14T19:00:39.384Z"
   },
   {
    "duration": -397,
    "start_time": "2021-12-14T19:00:39.404Z"
   },
   {
    "duration": -417,
    "start_time": "2021-12-14T19:00:39.425Z"
   },
   {
    "duration": -438,
    "start_time": "2021-12-14T19:00:39.446Z"
   },
   {
    "duration": -501,
    "start_time": "2021-12-14T19:00:39.510Z"
   },
   {
    "duration": -520,
    "start_time": "2021-12-14T19:00:39.530Z"
   },
   {
    "duration": -539,
    "start_time": "2021-12-14T19:00:39.550Z"
   },
   {
    "duration": -563,
    "start_time": "2021-12-14T19:00:39.575Z"
   },
   {
    "duration": -586,
    "start_time": "2021-12-14T19:00:39.598Z"
   },
   {
    "duration": -596,
    "start_time": "2021-12-14T19:00:39.609Z"
   },
   {
    "duration": -615,
    "start_time": "2021-12-14T19:00:39.629Z"
   },
   {
    "duration": -627,
    "start_time": "2021-12-14T19:00:39.642Z"
   },
   {
    "duration": -647,
    "start_time": "2021-12-14T19:00:39.662Z"
   },
   {
    "duration": -654,
    "start_time": "2021-12-14T19:00:39.670Z"
   },
   {
    "duration": -671,
    "start_time": "2021-12-14T19:00:39.688Z"
   },
   {
    "duration": -687,
    "start_time": "2021-12-14T19:00:39.704Z"
   },
   {
    "duration": -703,
    "start_time": "2021-12-14T19:00:39.721Z"
   },
   {
    "duration": -719,
    "start_time": "2021-12-14T19:00:39.738Z"
   },
   {
    "duration": -732,
    "start_time": "2021-12-14T19:00:39.752Z"
   },
   {
    "duration": -681,
    "start_time": "2021-12-14T19:00:39.768Z"
   },
   {
    "duration": -695,
    "start_time": "2021-12-14T19:00:39.784Z"
   },
   {
    "duration": -714,
    "start_time": "2021-12-14T19:00:39.803Z"
   },
   {
    "duration": -734,
    "start_time": "2021-12-14T19:00:39.824Z"
   },
   {
    "duration": -752,
    "start_time": "2021-12-14T19:00:39.843Z"
   },
   {
    "duration": -776,
    "start_time": "2021-12-14T19:00:39.868Z"
   },
   {
    "duration": -796,
    "start_time": "2021-12-14T19:00:39.889Z"
   },
   {
    "duration": 119,
    "start_time": "2021-12-14T19:35:32.941Z"
   },
   {
    "duration": 5282,
    "start_time": "2021-12-14T19:36:57.886Z"
   },
   {
    "duration": 53,
    "start_time": "2021-12-14T20:25:23.270Z"
   },
   {
    "duration": 10,
    "start_time": "2021-12-14T20:25:23.326Z"
   },
   {
    "duration": 11,
    "start_time": "2021-12-14T20:25:23.338Z"
   },
   {
    "duration": 4,
    "start_time": "2021-12-14T20:25:23.351Z"
   },
   {
    "duration": 34,
    "start_time": "2021-12-14T20:25:23.356Z"
   },
   {
    "duration": 12,
    "start_time": "2021-12-14T20:25:23.391Z"
   },
   {
    "duration": 19,
    "start_time": "2021-12-14T20:25:23.404Z"
   },
   {
    "duration": 5,
    "start_time": "2021-12-14T20:25:23.425Z"
   },
   {
    "duration": 71,
    "start_time": "2021-12-14T20:25:23.432Z"
   },
   {
    "duration": 20,
    "start_time": "2021-12-14T20:25:23.504Z"
   },
   {
    "duration": 26,
    "start_time": "2021-12-14T20:25:23.525Z"
   },
   {
    "duration": 39,
    "start_time": "2021-12-14T20:25:23.553Z"
   },
   {
    "duration": 7,
    "start_time": "2021-12-14T20:25:23.594Z"
   },
   {
    "duration": 19,
    "start_time": "2021-12-14T20:25:23.603Z"
   },
   {
    "duration": 22,
    "start_time": "2021-12-14T20:25:23.625Z"
   },
   {
    "duration": 8,
    "start_time": "2021-12-14T20:25:23.649Z"
   },
   {
    "duration": 31,
    "start_time": "2021-12-14T20:25:23.658Z"
   },
   {
    "duration": 31,
    "start_time": "2021-12-14T20:25:23.690Z"
   },
   {
    "duration": 30,
    "start_time": "2021-12-14T20:25:23.722Z"
   },
   {
    "duration": 19,
    "start_time": "2021-12-14T20:25:23.754Z"
   },
   {
    "duration": 21,
    "start_time": "2021-12-14T20:25:23.774Z"
   },
   {
    "duration": 33,
    "start_time": "2021-12-14T20:25:23.796Z"
   },
   {
    "duration": 4,
    "start_time": "2021-12-14T20:25:23.830Z"
   },
   {
    "duration": 33,
    "start_time": "2021-12-14T20:25:23.836Z"
   },
   {
    "duration": 8,
    "start_time": "2021-12-14T20:25:23.870Z"
   },
   {
    "duration": 25,
    "start_time": "2021-12-14T20:25:23.879Z"
   },
   {
    "duration": 17,
    "start_time": "2021-12-14T20:25:23.906Z"
   },
   {
    "duration": 8,
    "start_time": "2021-12-14T20:25:23.924Z"
   },
   {
    "duration": 31,
    "start_time": "2021-12-14T20:25:23.933Z"
   },
   {
    "duration": 43,
    "start_time": "2021-12-14T20:25:23.966Z"
   },
   {
    "duration": 26,
    "start_time": "2021-12-14T20:25:24.011Z"
   },
   {
    "duration": 29,
    "start_time": "2021-12-14T20:25:24.040Z"
   },
   {
    "duration": 3349,
    "start_time": "2021-12-14T20:25:24.071Z"
   },
   {
    "duration": 5505,
    "start_time": "2021-12-14T20:25:27.422Z"
   },
   {
    "duration": 15,
    "start_time": "2021-12-14T20:39:17.303Z"
   },
   {
    "duration": 12,
    "start_time": "2021-12-14T20:39:45.491Z"
   },
   {
    "duration": 302,
    "start_time": "2021-12-15T06:43:57.473Z"
   },
   {
    "duration": 640,
    "start_time": "2021-12-15T06:44:35.586Z"
   },
   {
    "duration": 20,
    "start_time": "2021-12-15T06:44:36.229Z"
   },
   {
    "duration": 16,
    "start_time": "2021-12-15T06:44:36.252Z"
   },
   {
    "duration": 9,
    "start_time": "2021-12-15T06:44:36.271Z"
   },
   {
    "duration": 14,
    "start_time": "2021-12-15T06:44:36.282Z"
   },
   {
    "duration": 16,
    "start_time": "2021-12-15T06:44:36.298Z"
   },
   {
    "duration": 34,
    "start_time": "2021-12-15T06:44:36.316Z"
   },
   {
    "duration": 7,
    "start_time": "2021-12-15T06:44:36.353Z"
   },
   {
    "duration": 90,
    "start_time": "2021-12-15T06:44:36.362Z"
   },
   {
    "duration": 27,
    "start_time": "2021-12-15T06:44:36.453Z"
   },
   {
    "duration": 24,
    "start_time": "2021-12-15T06:44:36.482Z"
   },
   {
    "duration": 48,
    "start_time": "2021-12-15T06:44:36.508Z"
   },
   {
    "duration": 10,
    "start_time": "2021-12-15T06:44:36.558Z"
   },
   {
    "duration": 23,
    "start_time": "2021-12-15T06:44:36.570Z"
   },
   {
    "duration": 30,
    "start_time": "2021-12-15T06:44:36.595Z"
   },
   {
    "duration": 36,
    "start_time": "2021-12-15T06:44:36.627Z"
   },
   {
    "duration": 24,
    "start_time": "2021-12-15T06:44:36.665Z"
   },
   {
    "duration": 15,
    "start_time": "2021-12-15T06:44:36.692Z"
   },
   {
    "duration": 21,
    "start_time": "2021-12-15T06:44:36.710Z"
   },
   {
    "duration": 28,
    "start_time": "2021-12-15T06:44:36.733Z"
   },
   {
    "duration": 25,
    "start_time": "2021-12-15T06:44:36.763Z"
   },
   {
    "duration": 32,
    "start_time": "2021-12-15T06:44:36.790Z"
   },
   {
    "duration": 5,
    "start_time": "2021-12-15T06:44:36.827Z"
   },
   {
    "duration": 21,
    "start_time": "2021-12-15T06:44:36.834Z"
   },
   {
    "duration": 4,
    "start_time": "2021-12-15T06:44:36.857Z"
   },
   {
    "duration": 37,
    "start_time": "2021-12-15T06:44:36.863Z"
   },
   {
    "duration": 20,
    "start_time": "2021-12-15T06:44:36.902Z"
   },
   {
    "duration": 28,
    "start_time": "2021-12-15T06:44:36.924Z"
   },
   {
    "duration": 16,
    "start_time": "2021-12-15T06:44:36.954Z"
   },
   {
    "duration": 22,
    "start_time": "2021-12-15T06:44:36.972Z"
   },
   {
    "duration": 49,
    "start_time": "2021-12-15T06:44:36.996Z"
   },
   {
    "duration": 32,
    "start_time": "2021-12-15T06:44:37.048Z"
   },
   {
    "duration": 4087,
    "start_time": "2021-12-15T06:44:37.082Z"
   },
   {
    "duration": 5763,
    "start_time": "2021-12-15T06:44:41.171Z"
   },
   {
    "duration": 16,
    "start_time": "2021-12-15T06:44:46.944Z"
   },
   {
    "duration": 11,
    "start_time": "2021-12-15T06:44:46.962Z"
   },
   {
    "duration": 7,
    "start_time": "2021-12-15T06:44:46.975Z"
   },
   {
    "duration": 20,
    "start_time": "2021-12-15T06:44:53.791Z"
   },
   {
    "duration": 33,
    "start_time": "2021-12-15T06:51:12.499Z"
   },
   {
    "duration": 13,
    "start_time": "2021-12-15T07:20:22.952Z"
   },
   {
    "duration": 24,
    "start_time": "2021-12-15T07:20:47.580Z"
   },
   {
    "duration": 33,
    "start_time": "2021-12-15T07:21:28.216Z"
   },
   {
    "duration": 34,
    "start_time": "2021-12-15T07:23:01.599Z"
   },
   {
    "duration": 35,
    "start_time": "2021-12-15T07:49:35.327Z"
   },
   {
    "duration": 12,
    "start_time": "2021-12-15T07:49:45.941Z"
   },
   {
    "duration": 7,
    "start_time": "2021-12-15T07:49:52.805Z"
   },
   {
    "duration": 1704,
    "start_time": "2021-12-15T08:04:35.650Z"
   },
   {
    "duration": 38,
    "start_time": "2021-12-15T08:06:56.903Z"
   },
   {
    "duration": 37,
    "start_time": "2021-12-15T08:07:26.950Z"
   },
   {
    "duration": 15,
    "start_time": "2021-12-15T08:07:59.772Z"
   },
   {
    "duration": 40,
    "start_time": "2021-12-15T08:16:07.229Z"
   },
   {
    "duration": 88,
    "start_time": "2021-12-15T08:21:02.983Z"
   },
   {
    "duration": 13,
    "start_time": "2021-12-15T08:21:14.553Z"
   },
   {
    "duration": 268,
    "start_time": "2021-12-15T08:21:38.531Z"
   },
   {
    "duration": 16,
    "start_time": "2021-12-15T08:21:42.711Z"
   },
   {
    "duration": 16,
    "start_time": "2021-12-15T08:24:00.589Z"
   },
   {
    "duration": 13,
    "start_time": "2021-12-15T08:35:22.489Z"
   },
   {
    "duration": 17,
    "start_time": "2021-12-15T08:56:13.237Z"
   },
   {
    "duration": 4,
    "start_time": "2021-12-15T09:03:47.558Z"
   },
   {
    "duration": 95,
    "start_time": "2021-12-15T09:04:26.776Z"
   },
   {
    "duration": 4,
    "start_time": "2021-12-15T09:04:33.674Z"
   },
   {
    "duration": 5,
    "start_time": "2021-12-15T09:05:12.937Z"
   },
   {
    "duration": 49,
    "start_time": "2021-12-15T09:05:20.524Z"
   },
   {
    "duration": 16,
    "start_time": "2021-12-15T09:05:20.586Z"
   },
   {
    "duration": 12,
    "start_time": "2021-12-15T09:05:20.627Z"
   },
   {
    "duration": 4,
    "start_time": "2021-12-15T09:05:20.661Z"
   },
   {
    "duration": 11,
    "start_time": "2021-12-15T09:05:20.711Z"
   },
   {
    "duration": 13,
    "start_time": "2021-12-15T09:05:20.760Z"
   },
   {
    "duration": 14,
    "start_time": "2021-12-15T09:05:20.801Z"
   },
   {
    "duration": 10,
    "start_time": "2021-12-15T09:05:20.823Z"
   },
   {
    "duration": 42,
    "start_time": "2021-12-15T09:05:20.869Z"
   },
   {
    "duration": 36,
    "start_time": "2021-12-15T09:05:20.913Z"
   },
   {
    "duration": 23,
    "start_time": "2021-12-15T09:05:20.950Z"
   },
   {
    "duration": 35,
    "start_time": "2021-12-15T09:05:20.975Z"
   },
   {
    "duration": 35,
    "start_time": "2021-12-15T09:05:21.013Z"
   },
   {
    "duration": 29,
    "start_time": "2021-12-15T09:05:21.050Z"
   },
   {
    "duration": 43,
    "start_time": "2021-12-15T09:05:21.080Z"
   },
   {
    "duration": 34,
    "start_time": "2021-12-15T09:05:21.125Z"
   },
   {
    "duration": 38,
    "start_time": "2021-12-15T09:05:21.161Z"
   },
   {
    "duration": 28,
    "start_time": "2021-12-15T09:05:21.200Z"
   },
   {
    "duration": 27,
    "start_time": "2021-12-15T09:05:21.230Z"
   },
   {
    "duration": 15,
    "start_time": "2021-12-15T09:05:21.259Z"
   },
   {
    "duration": 15,
    "start_time": "2021-12-15T09:05:21.276Z"
   },
   {
    "duration": 25,
    "start_time": "2021-12-15T09:05:21.293Z"
   },
   {
    "duration": 4,
    "start_time": "2021-12-15T09:05:21.319Z"
   },
   {
    "duration": 27,
    "start_time": "2021-12-15T09:05:21.325Z"
   },
   {
    "duration": 5,
    "start_time": "2021-12-15T09:05:21.354Z"
   },
   {
    "duration": 25,
    "start_time": "2021-12-15T09:05:21.361Z"
   },
   {
    "duration": 20,
    "start_time": "2021-12-15T09:05:21.388Z"
   },
   {
    "duration": 43,
    "start_time": "2021-12-15T09:05:21.409Z"
   },
   {
    "duration": 16,
    "start_time": "2021-12-15T09:05:21.482Z"
   },
   {
    "duration": 23,
    "start_time": "2021-12-15T09:05:22.072Z"
   },
   {
    "duration": 25,
    "start_time": "2021-12-15T09:05:22.097Z"
   },
   {
    "duration": 31,
    "start_time": "2021-12-15T09:05:22.124Z"
   },
   {
    "duration": 3806,
    "start_time": "2021-12-15T09:05:22.157Z"
   },
   {
    "duration": 5345,
    "start_time": "2021-12-15T09:05:25.965Z"
   },
   {
    "duration": 25,
    "start_time": "2021-12-15T09:05:31.312Z"
   },
   {
    "duration": 15,
    "start_time": "2021-12-15T09:05:31.339Z"
   },
   {
    "duration": 8,
    "start_time": "2021-12-15T09:05:31.357Z"
   },
   {
    "duration": 20,
    "start_time": "2021-12-15T09:05:31.367Z"
   },
   {
    "duration": 17,
    "start_time": "2021-12-15T09:05:31.389Z"
   },
   {
    "duration": 45,
    "start_time": "2021-12-15T09:05:31.408Z"
   },
   {
    "duration": 5,
    "start_time": "2021-12-15T09:05:31.456Z"
   },
   {
    "duration": 7,
    "start_time": "2021-12-15T09:07:04.613Z"
   },
   {
    "duration": 8,
    "start_time": "2021-12-15T09:08:39.853Z"
   },
   {
    "duration": 91,
    "start_time": "2021-12-15T09:09:53.661Z"
   },
   {
    "duration": 7,
    "start_time": "2021-12-15T09:09:58.760Z"
   },
   {
    "duration": 7,
    "start_time": "2021-12-15T09:10:59.151Z"
   },
   {
    "duration": 15,
    "start_time": "2021-12-15T09:12:35.066Z"
   },
   {
    "duration": 49,
    "start_time": "2021-12-15T09:12:40.076Z"
   },
   {
    "duration": 23,
    "start_time": "2021-12-15T09:12:40.127Z"
   },
   {
    "duration": 65,
    "start_time": "2021-12-15T09:12:40.152Z"
   },
   {
    "duration": 33,
    "start_time": "2021-12-15T09:12:40.219Z"
   },
   {
    "duration": 40,
    "start_time": "2021-12-15T09:12:40.254Z"
   },
   {
    "duration": 30,
    "start_time": "2021-12-15T09:12:40.296Z"
   },
   {
    "duration": 28,
    "start_time": "2021-12-15T09:12:40.329Z"
   },
   {
    "duration": 30,
    "start_time": "2021-12-15T09:12:40.359Z"
   },
   {
    "duration": 73,
    "start_time": "2021-12-15T09:12:40.391Z"
   },
   {
    "duration": 24,
    "start_time": "2021-12-15T09:12:40.466Z"
   },
   {
    "duration": 28,
    "start_time": "2021-12-15T09:12:40.492Z"
   },
   {
    "duration": 18,
    "start_time": "2021-12-15T09:12:40.546Z"
   },
   {
    "duration": 17,
    "start_time": "2021-12-15T09:12:40.566Z"
   },
   {
    "duration": 37,
    "start_time": "2021-12-15T09:12:40.585Z"
   },
   {
    "duration": 30,
    "start_time": "2021-12-15T09:12:40.623Z"
   },
   {
    "duration": 48,
    "start_time": "2021-12-15T09:12:40.655Z"
   },
   {
    "duration": 17,
    "start_time": "2021-12-15T09:12:40.705Z"
   },
   {
    "duration": 18,
    "start_time": "2021-12-15T09:12:40.724Z"
   },
   {
    "duration": 39,
    "start_time": "2021-12-15T09:12:40.744Z"
   },
   {
    "duration": 10,
    "start_time": "2021-12-15T09:12:40.785Z"
   },
   {
    "duration": 34,
    "start_time": "2021-12-15T09:12:40.797Z"
   },
   {
    "duration": 31,
    "start_time": "2021-12-15T09:12:40.833Z"
   },
   {
    "duration": 13,
    "start_time": "2021-12-15T09:12:40.865Z"
   },
   {
    "duration": 28,
    "start_time": "2021-12-15T09:12:40.880Z"
   },
   {
    "duration": 11,
    "start_time": "2021-12-15T09:12:40.912Z"
   },
   {
    "duration": 38,
    "start_time": "2021-12-15T09:12:40.925Z"
   },
   {
    "duration": 20,
    "start_time": "2021-12-15T09:12:40.965Z"
   },
   {
    "duration": 18,
    "start_time": "2021-12-15T09:12:40.987Z"
   },
   {
    "duration": 35,
    "start_time": "2021-12-15T09:12:41.007Z"
   },
   {
    "duration": 49,
    "start_time": "2021-12-15T09:12:41.044Z"
   },
   {
    "duration": 31,
    "start_time": "2021-12-15T09:12:41.095Z"
   },
   {
    "duration": 45,
    "start_time": "2021-12-15T09:12:41.127Z"
   },
   {
    "duration": 3959,
    "start_time": "2021-12-15T09:12:41.173Z"
   },
   {
    "duration": 5579,
    "start_time": "2021-12-15T09:12:45.134Z"
   },
   {
    "duration": 32,
    "start_time": "2021-12-15T09:12:50.715Z"
   },
   {
    "duration": 34,
    "start_time": "2021-12-15T09:12:50.748Z"
   },
   {
    "duration": 23,
    "start_time": "2021-12-15T09:12:50.785Z"
   },
   {
    "duration": 30,
    "start_time": "2021-12-15T09:12:50.810Z"
   },
   {
    "duration": 28,
    "start_time": "2021-12-15T09:12:50.842Z"
   },
   {
    "duration": 49,
    "start_time": "2021-12-15T09:12:50.871Z"
   },
   {
    "duration": 9,
    "start_time": "2021-12-15T09:12:50.922Z"
   },
   {
    "duration": 21,
    "start_time": "2021-12-15T09:12:50.932Z"
   },
   {
    "duration": 25,
    "start_time": "2021-12-15T09:12:50.955Z"
   },
   {
    "duration": 27,
    "start_time": "2021-12-15T09:12:50.981Z"
   },
   {
    "duration": 7,
    "start_time": "2021-12-15T09:14:08.578Z"
   },
   {
    "duration": 19,
    "start_time": "2021-12-15T09:21:18.875Z"
   },
   {
    "duration": 343,
    "start_time": "2021-12-15T09:23:47.162Z"
   },
   {
    "duration": 21,
    "start_time": "2021-12-15T09:24:27.193Z"
   },
   {
    "duration": 19,
    "start_time": "2021-12-15T09:24:38.937Z"
   },
   {
    "duration": 283,
    "start_time": "2021-12-15T09:27:28.186Z"
   },
   {
    "duration": 19,
    "start_time": "2021-12-15T10:08:25.630Z"
   },
   {
    "duration": 21,
    "start_time": "2021-12-15T10:12:07.635Z"
   },
   {
    "duration": 20,
    "start_time": "2021-12-15T10:17:31.067Z"
   },
   {
    "duration": 308,
    "start_time": "2021-12-15T10:18:15.819Z"
   },
   {
    "duration": 10,
    "start_time": "2021-12-15T10:21:54.565Z"
   },
   {
    "duration": 10,
    "start_time": "2021-12-15T10:34:47.762Z"
   },
   {
    "duration": 8,
    "start_time": "2021-12-15T10:37:16.029Z"
   },
   {
    "duration": 8,
    "start_time": "2021-12-15T10:42:06.092Z"
   },
   {
    "duration": 10,
    "start_time": "2021-12-15T10:54:45.632Z"
   },
   {
    "duration": 89,
    "start_time": "2021-12-15T11:11:05.502Z"
   },
   {
    "duration": 85,
    "start_time": "2021-12-15T11:12:43.157Z"
   },
   {
    "duration": 88,
    "start_time": "2021-12-15T11:13:04.395Z"
   },
   {
    "duration": 10,
    "start_time": "2021-12-15T11:13:10.898Z"
   },
   {
    "duration": 10,
    "start_time": "2021-12-15T11:13:45.614Z"
   },
   {
    "duration": 9,
    "start_time": "2021-12-15T11:14:09.107Z"
   },
   {
    "duration": 10,
    "start_time": "2021-12-15T11:14:20.875Z"
   },
   {
    "duration": 8,
    "start_time": "2021-12-15T11:19:31.088Z"
   },
   {
    "duration": 48,
    "start_time": "2021-12-15T11:19:35.137Z"
   },
   {
    "duration": 12,
    "start_time": "2021-12-15T11:19:35.187Z"
   },
   {
    "duration": 20,
    "start_time": "2021-12-15T11:19:35.201Z"
   },
   {
    "duration": 17,
    "start_time": "2021-12-15T11:19:35.223Z"
   },
   {
    "duration": 16,
    "start_time": "2021-12-15T11:19:35.242Z"
   },
   {
    "duration": 15,
    "start_time": "2021-12-15T11:19:35.259Z"
   },
   {
    "duration": 17,
    "start_time": "2021-12-15T11:19:35.276Z"
   },
   {
    "duration": 6,
    "start_time": "2021-12-15T11:19:35.295Z"
   },
   {
    "duration": 73,
    "start_time": "2021-12-15T11:19:35.303Z"
   },
   {
    "duration": 23,
    "start_time": "2021-12-15T11:19:35.378Z"
   },
   {
    "duration": 60,
    "start_time": "2021-12-15T11:19:35.403Z"
   },
   {
    "duration": 17,
    "start_time": "2021-12-15T11:19:35.465Z"
   },
   {
    "duration": 9,
    "start_time": "2021-12-15T11:19:35.483Z"
   },
   {
    "duration": 11,
    "start_time": "2021-12-15T11:19:35.494Z"
   },
   {
    "duration": 46,
    "start_time": "2021-12-15T11:19:35.506Z"
   },
   {
    "duration": 7,
    "start_time": "2021-12-15T11:19:35.554Z"
   },
   {
    "duration": 10,
    "start_time": "2021-12-15T11:19:35.563Z"
   },
   {
    "duration": 9,
    "start_time": "2021-12-15T11:19:35.574Z"
   },
   {
    "duration": 18,
    "start_time": "2021-12-15T11:19:35.584Z"
   },
   {
    "duration": 43,
    "start_time": "2021-12-15T11:19:35.606Z"
   },
   {
    "duration": 16,
    "start_time": "2021-12-15T11:19:35.651Z"
   },
   {
    "duration": 20,
    "start_time": "2021-12-15T11:19:35.669Z"
   },
   {
    "duration": 4,
    "start_time": "2021-12-15T11:19:35.691Z"
   },
   {
    "duration": 13,
    "start_time": "2021-12-15T11:19:35.697Z"
   },
   {
    "duration": 36,
    "start_time": "2021-12-15T11:19:35.712Z"
   },
   {
    "duration": 24,
    "start_time": "2021-12-15T11:19:35.750Z"
   },
   {
    "duration": 20,
    "start_time": "2021-12-15T11:19:35.776Z"
   },
   {
    "duration": 10,
    "start_time": "2021-12-15T11:19:35.798Z"
   },
   {
    "duration": 48,
    "start_time": "2021-12-15T11:19:35.809Z"
   },
   {
    "duration": 21,
    "start_time": "2021-12-15T11:19:35.859Z"
   },
   {
    "duration": 29,
    "start_time": "2021-12-15T11:19:35.881Z"
   },
   {
    "duration": 48,
    "start_time": "2021-12-15T11:19:35.912Z"
   },
   {
    "duration": 3636,
    "start_time": "2021-12-15T11:19:35.963Z"
   },
   {
    "duration": 5707,
    "start_time": "2021-12-15T11:19:39.602Z"
   },
   {
    "duration": 15,
    "start_time": "2021-12-15T11:19:45.311Z"
   },
   {
    "duration": 32,
    "start_time": "2021-12-15T11:19:45.328Z"
   },
   {
    "duration": 8,
    "start_time": "2021-12-15T11:19:45.362Z"
   },
   {
    "duration": 17,
    "start_time": "2021-12-15T11:19:45.372Z"
   },
   {
    "duration": 14,
    "start_time": "2021-12-15T11:19:45.390Z"
   },
   {
    "duration": 39,
    "start_time": "2021-12-15T11:19:45.406Z"
   },
   {
    "duration": 10,
    "start_time": "2021-12-15T11:19:45.447Z"
   },
   {
    "duration": 8,
    "start_time": "2021-12-15T11:19:45.460Z"
   },
   {
    "duration": 8,
    "start_time": "2021-12-15T11:19:45.471Z"
   },
   {
    "duration": 9,
    "start_time": "2021-12-15T11:19:45.480Z"
   },
   {
    "duration": 9,
    "start_time": "2021-12-15T11:21:48.043Z"
   },
   {
    "duration": 8,
    "start_time": "2021-12-15T11:22:36.025Z"
   },
   {
    "duration": 8,
    "start_time": "2021-12-15T11:22:53.151Z"
   },
   {
    "duration": 8,
    "start_time": "2021-12-15T11:22:57.381Z"
   },
   {
    "duration": 273,
    "start_time": "2021-12-15T11:33:43.936Z"
   },
   {
    "duration": 326,
    "start_time": "2021-12-15T11:35:10.799Z"
   },
   {
    "duration": 10,
    "start_time": "2021-12-15T11:35:24.424Z"
   },
   {
    "duration": 305,
    "start_time": "2021-12-15T11:38:27.128Z"
   },
   {
    "duration": 10,
    "start_time": "2021-12-15T11:38:48.142Z"
   },
   {
    "duration": 10,
    "start_time": "2021-12-15T11:39:16.982Z"
   },
   {
    "duration": 10,
    "start_time": "2021-12-15T11:40:53.664Z"
   },
   {
    "duration": 11,
    "start_time": "2021-12-15T11:41:02.711Z"
   },
   {
    "duration": 10,
    "start_time": "2021-12-15T11:41:13.283Z"
   },
   {
    "duration": 10,
    "start_time": "2021-12-15T11:42:13.235Z"
   },
   {
    "duration": 9,
    "start_time": "2021-12-15T11:42:37.880Z"
   },
   {
    "duration": 12,
    "start_time": "2021-12-15T11:43:33.981Z"
   },
   {
    "duration": 11,
    "start_time": "2021-12-15T11:46:59.885Z"
   },
   {
    "duration": 52,
    "start_time": "2021-12-15T11:47:03.472Z"
   },
   {
    "duration": 19,
    "start_time": "2021-12-15T11:47:03.525Z"
   },
   {
    "duration": 45,
    "start_time": "2021-12-15T11:47:03.546Z"
   },
   {
    "duration": 35,
    "start_time": "2021-12-15T11:47:03.593Z"
   },
   {
    "duration": 43,
    "start_time": "2021-12-15T11:47:03.630Z"
   },
   {
    "duration": 36,
    "start_time": "2021-12-15T11:47:03.675Z"
   },
   {
    "duration": 34,
    "start_time": "2021-12-15T11:47:03.713Z"
   },
   {
    "duration": 47,
    "start_time": "2021-12-15T11:47:03.749Z"
   },
   {
    "duration": 48,
    "start_time": "2021-12-15T11:47:03.798Z"
   },
   {
    "duration": 22,
    "start_time": "2021-12-15T11:47:03.848Z"
   },
   {
    "duration": 40,
    "start_time": "2021-12-15T11:47:03.871Z"
   },
   {
    "duration": 41,
    "start_time": "2021-12-15T11:47:03.913Z"
   },
   {
    "duration": 43,
    "start_time": "2021-12-15T11:47:03.957Z"
   },
   {
    "duration": 39,
    "start_time": "2021-12-15T11:47:04.002Z"
   },
   {
    "duration": 42,
    "start_time": "2021-12-15T11:47:04.042Z"
   },
   {
    "duration": 26,
    "start_time": "2021-12-15T11:47:04.085Z"
   },
   {
    "duration": 35,
    "start_time": "2021-12-15T11:47:04.113Z"
   },
   {
    "duration": 15,
    "start_time": "2021-12-15T11:47:04.150Z"
   },
   {
    "duration": 41,
    "start_time": "2021-12-15T11:47:04.167Z"
   },
   {
    "duration": 35,
    "start_time": "2021-12-15T11:47:04.209Z"
   },
   {
    "duration": 67,
    "start_time": "2021-12-15T11:47:04.245Z"
   },
   {
    "duration": 62,
    "start_time": "2021-12-15T11:47:04.314Z"
   },
   {
    "duration": 35,
    "start_time": "2021-12-15T11:47:04.378Z"
   },
   {
    "duration": 39,
    "start_time": "2021-12-15T11:47:04.415Z"
   },
   {
    "duration": 37,
    "start_time": "2021-12-15T11:47:04.456Z"
   },
   {
    "duration": 46,
    "start_time": "2021-12-15T11:47:04.495Z"
   },
   {
    "duration": 45,
    "start_time": "2021-12-15T11:47:04.543Z"
   },
   {
    "duration": 27,
    "start_time": "2021-12-15T11:47:04.590Z"
   },
   {
    "duration": 34,
    "start_time": "2021-12-15T11:47:04.618Z"
   },
   {
    "duration": 56,
    "start_time": "2021-12-15T11:47:04.655Z"
   },
   {
    "duration": 46,
    "start_time": "2021-12-15T11:47:04.713Z"
   },
   {
    "duration": 49,
    "start_time": "2021-12-15T11:47:04.761Z"
   },
   {
    "duration": 3636,
    "start_time": "2021-12-15T11:47:04.812Z"
   },
   {
    "duration": 5369,
    "start_time": "2021-12-15T11:47:08.450Z"
   },
   {
    "duration": 27,
    "start_time": "2021-12-15T11:47:13.821Z"
   },
   {
    "duration": 14,
    "start_time": "2021-12-15T11:47:13.850Z"
   },
   {
    "duration": 8,
    "start_time": "2021-12-15T11:47:13.866Z"
   },
   {
    "duration": 36,
    "start_time": "2021-12-15T11:47:13.876Z"
   },
   {
    "duration": 19,
    "start_time": "2021-12-15T11:47:13.914Z"
   },
   {
    "duration": 25,
    "start_time": "2021-12-15T11:47:13.935Z"
   },
   {
    "duration": 12,
    "start_time": "2021-12-15T11:47:13.962Z"
   },
   {
    "duration": 11,
    "start_time": "2021-12-15T11:47:13.975Z"
   },
   {
    "duration": 16,
    "start_time": "2021-12-15T11:47:13.988Z"
   },
   {
    "duration": 38,
    "start_time": "2021-12-15T11:47:14.006Z"
   },
   {
    "duration": 11,
    "start_time": "2021-12-15T11:49:27.055Z"
   },
   {
    "duration": 11,
    "start_time": "2021-12-15T11:49:50.030Z"
   },
   {
    "duration": 286,
    "start_time": "2021-12-15T11:52:37.047Z"
   },
   {
    "duration": 503,
    "start_time": "2021-12-15T11:53:05.241Z"
   },
   {
    "duration": 13,
    "start_time": "2021-12-15T11:56:09.542Z"
   },
   {
    "duration": 47,
    "start_time": "2021-12-15T12:31:04.129Z"
   },
   {
    "duration": 13,
    "start_time": "2021-12-15T12:31:04.178Z"
   },
   {
    "duration": 41,
    "start_time": "2021-12-15T12:31:04.193Z"
   },
   {
    "duration": 29,
    "start_time": "2021-12-15T12:31:04.236Z"
   },
   {
    "duration": 45,
    "start_time": "2021-12-15T12:31:04.267Z"
   },
   {
    "duration": 32,
    "start_time": "2021-12-15T12:31:04.313Z"
   },
   {
    "duration": 37,
    "start_time": "2021-12-15T12:31:04.346Z"
   },
   {
    "duration": 27,
    "start_time": "2021-12-15T12:31:04.385Z"
   },
   {
    "duration": 80,
    "start_time": "2021-12-15T12:31:04.414Z"
   },
   {
    "duration": 65,
    "start_time": "2021-12-15T12:31:04.496Z"
   },
   {
    "duration": 35,
    "start_time": "2021-12-15T12:31:04.563Z"
   },
   {
    "duration": 18,
    "start_time": "2021-12-15T12:31:04.601Z"
   },
   {
    "duration": 10,
    "start_time": "2021-12-15T12:31:04.645Z"
   },
   {
    "duration": 10,
    "start_time": "2021-12-15T12:31:04.657Z"
   },
   {
    "duration": 17,
    "start_time": "2021-12-15T12:31:04.669Z"
   },
   {
    "duration": 6,
    "start_time": "2021-12-15T12:31:04.688Z"
   },
   {
    "duration": 10,
    "start_time": "2021-12-15T12:31:04.696Z"
   },
   {
    "duration": 37,
    "start_time": "2021-12-15T12:31:04.708Z"
   },
   {
    "duration": 16,
    "start_time": "2021-12-15T12:31:04.747Z"
   },
   {
    "duration": 7,
    "start_time": "2021-12-15T12:31:04.764Z"
   },
   {
    "duration": 14,
    "start_time": "2021-12-15T12:31:04.773Z"
   },
   {
    "duration": 20,
    "start_time": "2021-12-15T12:31:04.789Z"
   },
   {
    "duration": 5,
    "start_time": "2021-12-15T12:31:04.845Z"
   },
   {
    "duration": 14,
    "start_time": "2021-12-15T12:31:04.852Z"
   },
   {
    "duration": 5,
    "start_time": "2021-12-15T12:31:04.867Z"
   },
   {
    "duration": 46,
    "start_time": "2021-12-15T12:31:04.873Z"
   },
   {
    "duration": 30,
    "start_time": "2021-12-15T12:31:04.921Z"
   },
   {
    "duration": 12,
    "start_time": "2021-12-15T12:31:04.953Z"
   },
   {
    "duration": 30,
    "start_time": "2021-12-15T12:31:04.966Z"
   },
   {
    "duration": 55,
    "start_time": "2021-12-15T12:31:04.997Z"
   },
   {
    "duration": 20,
    "start_time": "2021-12-15T12:31:05.054Z"
   },
   {
    "duration": 36,
    "start_time": "2021-12-15T12:31:05.076Z"
   },
   {
    "duration": 3668,
    "start_time": "2021-12-15T12:31:05.114Z"
   },
   {
    "duration": 5344,
    "start_time": "2021-12-15T12:31:08.784Z"
   },
   {
    "duration": 25,
    "start_time": "2021-12-15T12:31:14.130Z"
   },
   {
    "duration": 11,
    "start_time": "2021-12-15T12:31:14.158Z"
   },
   {
    "duration": 6,
    "start_time": "2021-12-15T12:31:14.171Z"
   },
   {
    "duration": 13,
    "start_time": "2021-12-15T12:31:14.179Z"
   },
   {
    "duration": 18,
    "start_time": "2021-12-15T12:31:14.193Z"
   },
   {
    "duration": 44,
    "start_time": "2021-12-15T12:31:14.213Z"
   },
   {
    "duration": 10,
    "start_time": "2021-12-15T12:31:14.259Z"
   },
   {
    "duration": 10,
    "start_time": "2021-12-15T12:31:14.271Z"
   },
   {
    "duration": 11,
    "start_time": "2021-12-15T12:31:14.283Z"
   },
   {
    "duration": 12,
    "start_time": "2021-12-15T12:31:14.295Z"
   },
   {
    "duration": 261,
    "start_time": "2021-12-15T13:15:35.369Z"
   },
   {
    "duration": 53,
    "start_time": "2021-12-15T13:15:43.302Z"
   },
   {
    "duration": 27,
    "start_time": "2021-12-15T13:15:43.357Z"
   },
   {
    "duration": 47,
    "start_time": "2021-12-15T13:15:43.386Z"
   },
   {
    "duration": 31,
    "start_time": "2021-12-15T13:15:43.435Z"
   },
   {
    "duration": 25,
    "start_time": "2021-12-15T13:15:43.467Z"
   },
   {
    "duration": 14,
    "start_time": "2021-12-15T13:15:43.611Z"
   },
   {
    "duration": 34,
    "start_time": "2021-12-15T13:15:43.627Z"
   },
   {
    "duration": 15,
    "start_time": "2021-12-15T13:15:43.664Z"
   },
   {
    "duration": 39,
    "start_time": "2021-12-15T13:15:43.749Z"
   },
   {
    "duration": 61,
    "start_time": "2021-12-15T13:15:43.789Z"
   },
   {
    "duration": 35,
    "start_time": "2021-12-15T13:15:43.853Z"
   },
   {
    "duration": 25,
    "start_time": "2021-12-15T13:15:43.891Z"
   },
   {
    "duration": 28,
    "start_time": "2021-12-15T13:15:43.928Z"
   },
   {
    "duration": 56,
    "start_time": "2021-12-15T13:15:43.958Z"
   },
   {
    "duration": 39,
    "start_time": "2021-12-15T13:15:44.016Z"
   },
   {
    "duration": 8,
    "start_time": "2021-12-15T13:15:44.057Z"
   },
   {
    "duration": 10,
    "start_time": "2021-12-15T13:15:44.067Z"
   },
   {
    "duration": 6,
    "start_time": "2021-12-15T13:15:44.079Z"
   },
   {
    "duration": 13,
    "start_time": "2021-12-15T13:15:44.087Z"
   },
   {
    "duration": 8,
    "start_time": "2021-12-15T13:15:44.102Z"
   },
   {
    "duration": 49,
    "start_time": "2021-12-15T13:15:44.112Z"
   },
   {
    "duration": 21,
    "start_time": "2021-12-15T13:15:44.164Z"
   },
   {
    "duration": 4,
    "start_time": "2021-12-15T13:15:44.187Z"
   },
   {
    "duration": 24,
    "start_time": "2021-12-15T13:15:44.192Z"
   },
   {
    "duration": 28,
    "start_time": "2021-12-15T13:15:44.218Z"
   },
   {
    "duration": 26,
    "start_time": "2021-12-15T13:15:44.248Z"
   },
   {
    "duration": 19,
    "start_time": "2021-12-15T13:15:44.276Z"
   },
   {
    "duration": 8,
    "start_time": "2021-12-15T13:15:44.297Z"
   },
   {
    "duration": 40,
    "start_time": "2021-12-15T13:15:44.315Z"
   },
   {
    "duration": 19,
    "start_time": "2021-12-15T13:15:44.358Z"
   },
   {
    "duration": 22,
    "start_time": "2021-12-15T13:15:44.379Z"
   },
   {
    "duration": 52,
    "start_time": "2021-12-15T13:15:44.403Z"
   },
   {
    "duration": 3950,
    "start_time": "2021-12-15T13:15:44.457Z"
   },
   {
    "duration": 5539,
    "start_time": "2021-12-15T13:15:48.409Z"
   },
   {
    "duration": 30,
    "start_time": "2021-12-15T13:15:53.949Z"
   },
   {
    "duration": 20,
    "start_time": "2021-12-15T13:15:53.981Z"
   },
   {
    "duration": 19,
    "start_time": "2021-12-15T13:15:54.003Z"
   },
   {
    "duration": 14,
    "start_time": "2021-12-15T13:15:54.024Z"
   },
   {
    "duration": 16,
    "start_time": "2021-12-15T13:15:54.039Z"
   },
   {
    "duration": 24,
    "start_time": "2021-12-15T13:15:54.057Z"
   },
   {
    "duration": 10,
    "start_time": "2021-12-15T13:15:54.082Z"
   },
   {
    "duration": 14,
    "start_time": "2021-12-15T13:15:54.094Z"
   },
   {
    "duration": 39,
    "start_time": "2021-12-15T13:15:54.110Z"
   },
   {
    "duration": 12,
    "start_time": "2021-12-15T13:15:54.153Z"
   },
   {
    "duration": 12,
    "start_time": "2021-12-15T13:21:37.970Z"
   },
   {
    "duration": 18,
    "start_time": "2021-12-15T13:35:20.199Z"
   },
   {
    "duration": 11,
    "start_time": "2021-12-15T13:36:01.469Z"
   },
   {
    "duration": 29,
    "start_time": "2021-12-15T13:42:49.633Z"
   },
   {
    "duration": 8,
    "start_time": "2021-12-15T13:45:39.850Z"
   },
   {
    "duration": 6,
    "start_time": "2021-12-15T13:46:28.465Z"
   },
   {
    "duration": 10,
    "start_time": "2021-12-15T13:47:24.382Z"
   },
   {
    "duration": 9,
    "start_time": "2021-12-15T13:55:46.647Z"
   },
   {
    "duration": 6,
    "start_time": "2021-12-15T13:56:14.058Z"
   },
   {
    "duration": 7,
    "start_time": "2021-12-15T13:56:35.805Z"
   },
   {
    "duration": 7,
    "start_time": "2021-12-15T13:56:45.047Z"
   },
   {
    "duration": 7,
    "start_time": "2021-12-15T13:57:05.935Z"
   },
   {
    "duration": 8,
    "start_time": "2021-12-15T13:58:27.529Z"
   },
   {
    "duration": 328,
    "start_time": "2021-12-15T14:27:40.716Z"
   },
   {
    "duration": 15,
    "start_time": "2021-12-15T14:27:59.101Z"
   },
   {
    "duration": 16,
    "start_time": "2021-12-15T14:28:21.849Z"
   },
   {
    "duration": 11,
    "start_time": "2021-12-15T14:28:53.050Z"
   },
   {
    "duration": 291,
    "start_time": "2021-12-15T14:37:24.043Z"
   },
   {
    "duration": 265,
    "start_time": "2021-12-15T14:37:36.370Z"
   },
   {
    "duration": 72,
    "start_time": "2021-12-15T14:37:42.585Z"
   },
   {
    "duration": 20,
    "start_time": "2021-12-15T14:37:42.659Z"
   },
   {
    "duration": 34,
    "start_time": "2021-12-15T14:37:42.681Z"
   },
   {
    "duration": 20,
    "start_time": "2021-12-15T14:37:42.717Z"
   },
   {
    "duration": 20,
    "start_time": "2021-12-15T14:37:42.740Z"
   },
   {
    "duration": 17,
    "start_time": "2021-12-15T14:37:42.762Z"
   },
   {
    "duration": 15,
    "start_time": "2021-12-15T14:37:42.780Z"
   },
   {
    "duration": 7,
    "start_time": "2021-12-15T14:37:42.797Z"
   },
   {
    "duration": 64,
    "start_time": "2021-12-15T14:37:42.806Z"
   },
   {
    "duration": 22,
    "start_time": "2021-12-15T14:37:42.872Z"
   },
   {
    "duration": 24,
    "start_time": "2021-12-15T14:37:42.957Z"
   },
   {
    "duration": 8,
    "start_time": "2021-12-15T14:37:43.109Z"
   },
   {
    "duration": 6,
    "start_time": "2021-12-15T14:37:43.125Z"
   },
   {
    "duration": 8,
    "start_time": "2021-12-15T14:37:43.140Z"
   },
   {
    "duration": 19,
    "start_time": "2021-12-15T14:37:43.306Z"
   },
   {
    "duration": 10,
    "start_time": "2021-12-15T14:37:43.326Z"
   },
   {
    "duration": 10,
    "start_time": "2021-12-15T14:37:43.352Z"
   },
   {
    "duration": 18,
    "start_time": "2021-12-15T14:37:43.377Z"
   },
   {
    "duration": 9,
    "start_time": "2021-12-15T14:37:43.397Z"
   },
   {
    "duration": 8,
    "start_time": "2021-12-15T14:37:43.437Z"
   },
   {
    "duration": 12,
    "start_time": "2021-12-15T14:37:43.447Z"
   },
   {
    "duration": 30,
    "start_time": "2021-12-15T14:37:43.461Z"
   },
   {
    "duration": 7,
    "start_time": "2021-12-15T14:37:43.493Z"
   },
   {
    "duration": 16,
    "start_time": "2021-12-15T14:37:43.502Z"
   },
   {
    "duration": 21,
    "start_time": "2021-12-15T14:37:43.537Z"
   },
   {
    "duration": 4,
    "start_time": "2021-12-15T14:37:43.560Z"
   },
   {
    "duration": 15,
    "start_time": "2021-12-15T14:37:43.568Z"
   },
   {
    "duration": 7,
    "start_time": "2021-12-15T14:37:43.585Z"
   },
   {
    "duration": 35,
    "start_time": "2021-12-15T14:37:43.609Z"
   },
   {
    "duration": 20,
    "start_time": "2021-12-15T14:37:43.646Z"
   },
   {
    "duration": 9,
    "start_time": "2021-12-15T14:37:43.754Z"
   },
   {
    "duration": 20,
    "start_time": "2021-12-15T14:37:43.765Z"
   },
   {
    "duration": 18,
    "start_time": "2021-12-15T14:37:43.787Z"
   },
   {
    "duration": 27,
    "start_time": "2021-12-15T14:37:43.807Z"
   },
   {
    "duration": 35,
    "start_time": "2021-12-15T14:37:43.836Z"
   },
   {
    "duration": 3778,
    "start_time": "2021-12-15T14:37:43.873Z"
   },
   {
    "duration": 5644,
    "start_time": "2021-12-15T14:37:47.653Z"
   },
   {
    "duration": 17,
    "start_time": "2021-12-15T14:37:53.300Z"
   },
   {
    "duration": 34,
    "start_time": "2021-12-15T14:37:53.320Z"
   },
   {
    "duration": 7,
    "start_time": "2021-12-15T14:37:53.356Z"
   },
   {
    "duration": 15,
    "start_time": "2021-12-15T14:37:53.365Z"
   },
   {
    "duration": 18,
    "start_time": "2021-12-15T14:37:53.382Z"
   },
   {
    "duration": 44,
    "start_time": "2021-12-15T14:37:53.402Z"
   },
   {
    "duration": 10,
    "start_time": "2021-12-15T14:37:53.448Z"
   },
   {
    "duration": 11,
    "start_time": "2021-12-15T14:37:53.459Z"
   },
   {
    "duration": 8,
    "start_time": "2021-12-15T14:37:53.472Z"
   },
   {
    "duration": 9,
    "start_time": "2021-12-15T14:37:53.481Z"
   },
   {
    "duration": 3,
    "start_time": "2021-12-15T14:37:53.491Z"
   },
   {
    "duration": 92,
    "start_time": "2021-12-15T14:37:53.495Z"
   },
   {
    "duration": 53,
    "start_time": "2021-12-15T14:38:18.330Z"
   },
   {
    "duration": 13,
    "start_time": "2021-12-15T14:38:18.385Z"
   },
   {
    "duration": 11,
    "start_time": "2021-12-15T14:38:18.401Z"
   },
   {
    "duration": 4,
    "start_time": "2021-12-15T14:38:18.415Z"
   },
   {
    "duration": 33,
    "start_time": "2021-12-15T14:38:18.421Z"
   },
   {
    "duration": 13,
    "start_time": "2021-12-15T14:38:18.456Z"
   },
   {
    "duration": 12,
    "start_time": "2021-12-15T14:38:18.471Z"
   },
   {
    "duration": 7,
    "start_time": "2021-12-15T14:38:18.485Z"
   },
   {
    "duration": 38,
    "start_time": "2021-12-15T14:38:18.566Z"
   },
   {
    "duration": 21,
    "start_time": "2021-12-15T14:38:18.606Z"
   },
   {
    "duration": 23,
    "start_time": "2021-12-15T14:38:18.657Z"
   },
   {
    "duration": 6,
    "start_time": "2021-12-15T14:38:18.682Z"
   },
   {
    "duration": 5,
    "start_time": "2021-12-15T14:38:18.690Z"
   },
   {
    "duration": 6,
    "start_time": "2021-12-15T14:38:18.697Z"
   },
   {
    "duration": 16,
    "start_time": "2021-12-15T14:38:18.705Z"
   },
   {
    "duration": 10,
    "start_time": "2021-12-15T14:38:18.745Z"
   },
   {
    "duration": 10,
    "start_time": "2021-12-15T14:38:18.757Z"
   },
   {
    "duration": 15,
    "start_time": "2021-12-15T14:38:18.771Z"
   },
   {
    "duration": 7,
    "start_time": "2021-12-15T14:38:18.789Z"
   },
   {
    "duration": 8,
    "start_time": "2021-12-15T14:38:18.808Z"
   },
   {
    "duration": 8,
    "start_time": "2021-12-15T14:38:18.845Z"
   },
   {
    "duration": 17,
    "start_time": "2021-12-15T14:38:18.855Z"
   },
   {
    "duration": 8,
    "start_time": "2021-12-15T14:38:18.897Z"
   },
   {
    "duration": 15,
    "start_time": "2021-12-15T14:38:18.906Z"
   },
   {
    "duration": 39,
    "start_time": "2021-12-15T14:38:18.923Z"
   },
   {
    "duration": 5,
    "start_time": "2021-12-15T14:38:18.964Z"
   },
   {
    "duration": 14,
    "start_time": "2021-12-15T14:38:18.972Z"
   },
   {
    "duration": 4,
    "start_time": "2021-12-15T14:38:18.990Z"
   },
   {
    "duration": 48,
    "start_time": "2021-12-15T14:38:19.010Z"
   },
   {
    "duration": 20,
    "start_time": "2021-12-15T14:38:19.060Z"
   },
   {
    "duration": 10,
    "start_time": "2021-12-15T14:38:19.138Z"
   },
   {
    "duration": 16,
    "start_time": "2021-12-15T14:38:19.149Z"
   },
   {
    "duration": 26,
    "start_time": "2021-12-15T14:38:19.167Z"
   },
   {
    "duration": 19,
    "start_time": "2021-12-15T14:38:19.195Z"
   },
   {
    "duration": 58,
    "start_time": "2021-12-15T14:38:19.216Z"
   },
   {
    "duration": 4209,
    "start_time": "2021-12-15T14:38:19.276Z"
   },
   {
    "duration": 5758,
    "start_time": "2021-12-15T14:38:23.488Z"
   },
   {
    "duration": 14,
    "start_time": "2021-12-15T14:38:29.248Z"
   },
   {
    "duration": 11,
    "start_time": "2021-12-15T14:38:29.264Z"
   },
   {
    "duration": 6,
    "start_time": "2021-12-15T14:38:29.277Z"
   },
   {
    "duration": 18,
    "start_time": "2021-12-15T14:38:29.285Z"
   },
   {
    "duration": 17,
    "start_time": "2021-12-15T14:38:29.304Z"
   },
   {
    "duration": 24,
    "start_time": "2021-12-15T14:38:29.323Z"
   },
   {
    "duration": 10,
    "start_time": "2021-12-15T14:38:29.349Z"
   },
   {
    "duration": 14,
    "start_time": "2021-12-15T14:38:29.360Z"
   },
   {
    "duration": 7,
    "start_time": "2021-12-15T14:38:29.377Z"
   },
   {
    "duration": 8,
    "start_time": "2021-12-15T14:38:29.385Z"
   },
   {
    "duration": 3,
    "start_time": "2021-12-15T14:38:29.394Z"
   },
   {
    "duration": 107,
    "start_time": "2021-12-15T14:38:29.398Z"
   },
   {
    "duration": 6,
    "start_time": "2021-12-15T14:38:49.393Z"
   },
   {
    "duration": 8,
    "start_time": "2021-12-15T14:39:21.534Z"
   },
   {
    "duration": 19,
    "start_time": "2021-12-15T14:42:13.723Z"
   },
   {
    "duration": 311,
    "start_time": "2021-12-15T14:59:06.287Z"
   },
   {
    "duration": 341,
    "start_time": "2021-12-15T15:01:55.617Z"
   },
   {
    "duration": 1316,
    "start_time": "2021-12-15T15:02:14.334Z"
   },
   {
    "duration": 1074,
    "start_time": "2021-12-15T15:02:34.999Z"
   },
   {
    "duration": 1236,
    "start_time": "2021-12-15T15:02:47.732Z"
   },
   {
    "duration": 10,
    "start_time": "2021-12-15T15:03:24.055Z"
   },
   {
    "duration": 13,
    "start_time": "2021-12-15T15:03:28.290Z"
   },
   {
    "duration": 21,
    "start_time": "2021-12-15T15:04:42.929Z"
   },
   {
    "duration": 10,
    "start_time": "2021-12-15T15:05:15.149Z"
   },
   {
    "duration": 10,
    "start_time": "2021-12-15T15:05:38.015Z"
   },
   {
    "duration": 9,
    "start_time": "2021-12-15T15:05:43.906Z"
   },
   {
    "duration": 10,
    "start_time": "2021-12-15T15:05:55.063Z"
   },
   {
    "duration": 10,
    "start_time": "2021-12-15T15:06:06.631Z"
   },
   {
    "duration": 384,
    "start_time": "2021-12-15T15:06:24.730Z"
   },
   {
    "duration": 86,
    "start_time": "2021-12-15T15:07:03.337Z"
   },
   {
    "duration": 38,
    "start_time": "2021-12-15T15:07:15.530Z"
   },
   {
    "duration": 52,
    "start_time": "2021-12-15T15:07:44.116Z"
   },
   {
    "duration": 59,
    "start_time": "2021-12-15T15:07:55.489Z"
   },
   {
    "duration": 9,
    "start_time": "2021-12-15T15:10:56.072Z"
   },
   {
    "duration": 10,
    "start_time": "2021-12-15T15:11:07.812Z"
   },
   {
    "duration": 297,
    "start_time": "2021-12-15T15:11:17.105Z"
   },
   {
    "duration": 1079,
    "start_time": "2021-12-15T15:11:22.067Z"
   },
   {
    "duration": 260,
    "start_time": "2021-12-15T15:11:36.561Z"
   },
   {
    "duration": 302,
    "start_time": "2021-12-15T15:11:54.417Z"
   },
   {
    "duration": 70,
    "start_time": "2021-12-15T15:12:12.944Z"
   },
   {
    "duration": 13,
    "start_time": "2021-12-15T15:12:13.017Z"
   },
   {
    "duration": 13,
    "start_time": "2021-12-15T15:12:13.070Z"
   },
   {
    "duration": 5,
    "start_time": "2021-12-15T15:12:13.085Z"
   },
   {
    "duration": 12,
    "start_time": "2021-12-15T15:12:13.093Z"
   },
   {
    "duration": 14,
    "start_time": "2021-12-15T15:12:13.107Z"
   },
   {
    "duration": 30,
    "start_time": "2021-12-15T15:12:13.124Z"
   },
   {
    "duration": 9,
    "start_time": "2021-12-15T15:12:13.157Z"
   },
   {
    "duration": 61,
    "start_time": "2021-12-15T15:12:13.202Z"
   },
   {
    "duration": 24,
    "start_time": "2021-12-15T15:12:13.265Z"
   },
   {
    "duration": 63,
    "start_time": "2021-12-15T15:12:13.291Z"
   },
   {
    "duration": 6,
    "start_time": "2021-12-15T15:12:13.356Z"
   },
   {
    "duration": 6,
    "start_time": "2021-12-15T15:12:13.364Z"
   },
   {
    "duration": 9,
    "start_time": "2021-12-15T15:12:13.372Z"
   },
   {
    "duration": 17,
    "start_time": "2021-12-15T15:12:13.383Z"
   },
   {
    "duration": 44,
    "start_time": "2021-12-15T15:12:13.402Z"
   },
   {
    "duration": 11,
    "start_time": "2021-12-15T15:12:13.449Z"
   },
   {
    "duration": 15,
    "start_time": "2021-12-15T15:12:13.462Z"
   },
   {
    "duration": 8,
    "start_time": "2021-12-15T15:12:13.479Z"
   },
   {
    "duration": 9,
    "start_time": "2021-12-15T15:12:13.489Z"
   },
   {
    "duration": 45,
    "start_time": "2021-12-15T15:12:13.503Z"
   },
   {
    "duration": 20,
    "start_time": "2021-12-15T15:12:13.551Z"
   },
   {
    "duration": 12,
    "start_time": "2021-12-15T15:12:13.573Z"
   },
   {
    "duration": 20,
    "start_time": "2021-12-15T15:12:13.587Z"
   },
   {
    "duration": 61,
    "start_time": "2021-12-15T15:12:13.609Z"
   },
   {
    "duration": 4,
    "start_time": "2021-12-15T15:12:13.672Z"
   },
   {
    "duration": 15,
    "start_time": "2021-12-15T15:12:13.678Z"
   },
   {
    "duration": 5,
    "start_time": "2021-12-15T15:12:13.695Z"
   },
   {
    "duration": 61,
    "start_time": "2021-12-15T15:12:13.702Z"
   },
   {
    "duration": 19,
    "start_time": "2021-12-15T15:12:13.765Z"
   },
   {
    "duration": 11,
    "start_time": "2021-12-15T15:12:13.786Z"
   },
   {
    "duration": 45,
    "start_time": "2021-12-15T15:12:13.799Z"
   },
   {
    "duration": 25,
    "start_time": "2021-12-15T15:12:13.847Z"
   },
   {
    "duration": 23,
    "start_time": "2021-12-15T15:12:13.874Z"
   },
   {
    "duration": 51,
    "start_time": "2021-12-15T15:12:13.899Z"
   },
   {
    "duration": 3945,
    "start_time": "2021-12-15T15:12:13.952Z"
   },
   {
    "duration": 5473,
    "start_time": "2021-12-15T15:12:17.899Z"
   },
   {
    "duration": 21,
    "start_time": "2021-12-15T15:12:23.374Z"
   },
   {
    "duration": 11,
    "start_time": "2021-12-15T15:12:23.397Z"
   },
   {
    "duration": 7,
    "start_time": "2021-12-15T15:12:23.410Z"
   },
   {
    "duration": 33,
    "start_time": "2021-12-15T15:12:23.419Z"
   },
   {
    "duration": 15,
    "start_time": "2021-12-15T15:12:23.454Z"
   },
   {
    "duration": 19,
    "start_time": "2021-12-15T15:12:23.471Z"
   },
   {
    "duration": 11,
    "start_time": "2021-12-15T15:12:23.492Z"
   },
   {
    "duration": 260,
    "start_time": "2021-12-15T15:12:23.504Z"
   },
   {
    "duration": 114,
    "start_time": "2021-12-15T15:12:23.652Z"
   },
   {
    "duration": 93,
    "start_time": "2021-12-15T15:12:23.674Z"
   },
   {
    "duration": 83,
    "start_time": "2021-12-15T15:12:23.685Z"
   },
   {
    "duration": 13,
    "start_time": "2021-12-15T15:12:37.608Z"
   },
   {
    "duration": 9,
    "start_time": "2021-12-15T15:12:47.027Z"
   },
   {
    "duration": 11,
    "start_time": "2021-12-15T15:12:58.882Z"
   },
   {
    "duration": 683,
    "start_time": "2021-12-15T20:31:56.326Z"
   },
   {
    "duration": 20,
    "start_time": "2021-12-15T20:31:57.010Z"
   },
   {
    "duration": 17,
    "start_time": "2021-12-15T20:31:57.032Z"
   },
   {
    "duration": 4,
    "start_time": "2021-12-15T20:31:57.051Z"
   },
   {
    "duration": 12,
    "start_time": "2021-12-15T20:31:57.057Z"
   },
   {
    "duration": 14,
    "start_time": "2021-12-15T20:31:57.071Z"
   },
   {
    "duration": 13,
    "start_time": "2021-12-15T20:31:57.086Z"
   },
   {
    "duration": 43,
    "start_time": "2021-12-15T20:31:57.102Z"
   },
   {
    "duration": 41,
    "start_time": "2021-12-15T20:31:57.147Z"
   },
   {
    "duration": 60,
    "start_time": "2021-12-15T20:31:57.190Z"
   },
   {
    "duration": 23,
    "start_time": "2021-12-15T20:31:57.252Z"
   },
   {
    "duration": 6,
    "start_time": "2021-12-15T20:31:57.277Z"
   },
   {
    "duration": 5,
    "start_time": "2021-12-15T20:31:57.285Z"
   },
   {
    "duration": 10,
    "start_time": "2021-12-15T20:31:57.291Z"
   },
   {
    "duration": 50,
    "start_time": "2021-12-15T20:31:57.302Z"
   },
   {
    "duration": 9,
    "start_time": "2021-12-15T20:31:57.354Z"
   },
   {
    "duration": 11,
    "start_time": "2021-12-15T20:31:57.365Z"
   },
   {
    "duration": 16,
    "start_time": "2021-12-15T20:31:57.377Z"
   },
   {
    "duration": 10,
    "start_time": "2021-12-15T20:31:57.396Z"
   },
   {
    "duration": 41,
    "start_time": "2021-12-15T20:31:57.408Z"
   },
   {
    "duration": 9,
    "start_time": "2021-12-15T20:31:57.452Z"
   },
   {
    "duration": 22,
    "start_time": "2021-12-15T20:31:57.463Z"
   },
   {
    "duration": 11,
    "start_time": "2021-12-15T20:31:57.490Z"
   },
   {
    "duration": 52,
    "start_time": "2021-12-15T20:31:57.504Z"
   },
   {
    "duration": 24,
    "start_time": "2021-12-15T20:31:57.559Z"
   },
   {
    "duration": 4,
    "start_time": "2021-12-15T20:31:57.585Z"
   },
   {
    "duration": 16,
    "start_time": "2021-12-15T20:31:57.591Z"
   },
   {
    "duration": 39,
    "start_time": "2021-12-15T20:31:57.608Z"
   },
   {
    "duration": 33,
    "start_time": "2021-12-15T20:31:57.649Z"
   },
   {
    "duration": 29,
    "start_time": "2021-12-15T20:31:57.684Z"
   },
   {
    "duration": 31,
    "start_time": "2021-12-15T20:31:57.715Z"
   },
   {
    "duration": 21,
    "start_time": "2021-12-15T20:31:57.748Z"
   },
   {
    "duration": 34,
    "start_time": "2021-12-15T20:31:57.771Z"
   },
   {
    "duration": 55,
    "start_time": "2021-12-15T20:31:57.807Z"
   },
   {
    "duration": 43,
    "start_time": "2021-12-15T20:31:57.864Z"
   },
   {
    "duration": 3968,
    "start_time": "2021-12-15T20:31:57.909Z"
   },
   {
    "duration": 6770,
    "start_time": "2021-12-15T20:32:01.879Z"
   },
   {
    "duration": 33,
    "start_time": "2021-12-15T20:32:08.652Z"
   },
   {
    "duration": 15,
    "start_time": "2021-12-15T20:32:08.687Z"
   },
   {
    "duration": 12,
    "start_time": "2021-12-15T20:32:08.704Z"
   },
   {
    "duration": 25,
    "start_time": "2021-12-15T20:32:08.718Z"
   },
   {
    "duration": 46,
    "start_time": "2021-12-15T20:32:08.745Z"
   },
   {
    "duration": 34,
    "start_time": "2021-12-15T20:32:08.792Z"
   },
   {
    "duration": 23,
    "start_time": "2021-12-15T20:32:08.828Z"
   },
   {
    "duration": 15,
    "start_time": "2021-12-15T20:32:08.853Z"
   },
   {
    "duration": 12,
    "start_time": "2021-12-15T20:32:08.869Z"
   },
   {
    "duration": 34,
    "start_time": "2021-12-15T20:32:08.883Z"
   },
   {
    "duration": 15,
    "start_time": "2021-12-15T20:36:18.494Z"
   },
   {
    "duration": 307,
    "start_time": "2021-12-16T07:15:02.559Z"
   },
   {
    "duration": 686,
    "start_time": "2021-12-16T07:15:11.053Z"
   },
   {
    "duration": 20,
    "start_time": "2021-12-16T07:15:11.741Z"
   },
   {
    "duration": 12,
    "start_time": "2021-12-16T07:15:11.763Z"
   },
   {
    "duration": 5,
    "start_time": "2021-12-16T07:15:11.778Z"
   },
   {
    "duration": 13,
    "start_time": "2021-12-16T07:15:11.785Z"
   },
   {
    "duration": 47,
    "start_time": "2021-12-16T07:15:11.800Z"
   },
   {
    "duration": 16,
    "start_time": "2021-12-16T07:15:11.849Z"
   },
   {
    "duration": 8,
    "start_time": "2021-12-16T07:15:11.869Z"
   },
   {
    "duration": 101,
    "start_time": "2021-12-16T07:15:11.880Z"
   },
   {
    "duration": 67,
    "start_time": "2021-12-16T07:15:11.983Z"
   },
   {
    "duration": 25,
    "start_time": "2021-12-16T07:15:12.052Z"
   },
   {
    "duration": 7,
    "start_time": "2021-12-16T07:15:12.079Z"
   },
   {
    "duration": 6,
    "start_time": "2021-12-16T07:15:12.088Z"
   },
   {
    "duration": 10,
    "start_time": "2021-12-16T07:15:12.096Z"
   },
   {
    "duration": 53,
    "start_time": "2021-12-16T07:15:12.107Z"
   },
   {
    "duration": 10,
    "start_time": "2021-12-16T07:15:12.162Z"
   },
   {
    "duration": 11,
    "start_time": "2021-12-16T07:15:12.174Z"
   },
   {
    "duration": 15,
    "start_time": "2021-12-16T07:15:12.187Z"
   },
   {
    "duration": 41,
    "start_time": "2021-12-16T07:15:12.205Z"
   },
   {
    "duration": 8,
    "start_time": "2021-12-16T07:15:12.248Z"
   },
   {
    "duration": 7,
    "start_time": "2021-12-16T07:15:12.258Z"
   },
   {
    "duration": 14,
    "start_time": "2021-12-16T07:15:12.267Z"
   },
   {
    "duration": 13,
    "start_time": "2021-12-16T07:15:12.284Z"
   },
   {
    "duration": 53,
    "start_time": "2021-12-16T07:15:12.299Z"
   },
   {
    "duration": 20,
    "start_time": "2021-12-16T07:15:12.353Z"
   },
   {
    "duration": 4,
    "start_time": "2021-12-16T07:15:12.375Z"
   },
   {
    "duration": 14,
    "start_time": "2021-12-16T07:15:12.381Z"
   },
   {
    "duration": 5,
    "start_time": "2021-12-16T07:15:12.397Z"
   },
   {
    "duration": 58,
    "start_time": "2021-12-16T07:15:12.404Z"
   },
   {
    "duration": 21,
    "start_time": "2021-12-16T07:15:12.463Z"
   },
   {
    "duration": 7,
    "start_time": "2021-12-16T07:15:12.485Z"
   },
   {
    "duration": 12,
    "start_time": "2021-12-16T07:15:12.494Z"
   },
   {
    "duration": 41,
    "start_time": "2021-12-16T07:15:12.508Z"
   },
   {
    "duration": 21,
    "start_time": "2021-12-16T07:15:12.551Z"
   },
   {
    "duration": 24,
    "start_time": "2021-12-16T07:15:12.575Z"
   },
   {
    "duration": 51,
    "start_time": "2021-12-16T07:15:12.600Z"
   },
   {
    "duration": 3624,
    "start_time": "2021-12-16T07:15:12.653Z"
   },
   {
    "duration": 5438,
    "start_time": "2021-12-16T07:15:16.279Z"
   },
   {
    "duration": 27,
    "start_time": "2021-12-16T07:15:21.719Z"
   },
   {
    "duration": 13,
    "start_time": "2021-12-16T07:15:21.747Z"
   },
   {
    "duration": 8,
    "start_time": "2021-12-16T07:15:21.762Z"
   },
   {
    "duration": 13,
    "start_time": "2021-12-16T07:15:21.771Z"
   },
   {
    "duration": 16,
    "start_time": "2021-12-16T07:15:21.786Z"
   },
   {
    "duration": 53,
    "start_time": "2021-12-16T07:15:21.804Z"
   },
   {
    "duration": 11,
    "start_time": "2021-12-16T07:15:21.858Z"
   },
   {
    "duration": 12,
    "start_time": "2021-12-16T07:15:21.871Z"
   },
   {
    "duration": 10,
    "start_time": "2021-12-16T07:15:21.885Z"
   },
   {
    "duration": 12,
    "start_time": "2021-12-16T07:15:21.897Z"
   },
   {
    "duration": 10,
    "start_time": "2021-12-16T08:48:32.828Z"
   },
   {
    "duration": 11,
    "start_time": "2021-12-16T13:02:30.794Z"
   },
   {
    "duration": 12,
    "start_time": "2021-12-16T13:16:55.638Z"
   },
   {
    "duration": 9,
    "start_time": "2021-12-16T13:24:50.805Z"
   },
   {
    "duration": 10,
    "start_time": "2021-12-16T13:45:34.936Z"
   },
   {
    "duration": 10,
    "start_time": "2021-12-16T13:45:51.226Z"
   },
   {
    "duration": 14,
    "start_time": "2021-12-16T14:23:57.061Z"
   },
   {
    "duration": 392,
    "start_time": "2021-12-16T14:25:28.849Z"
   },
   {
    "duration": 290,
    "start_time": "2021-12-16T14:25:50.791Z"
   },
   {
    "duration": 666,
    "start_time": "2021-12-16T14:26:00.155Z"
   },
   {
    "duration": 15,
    "start_time": "2021-12-16T14:26:13.648Z"
   },
   {
    "duration": 12,
    "start_time": "2021-12-16T14:30:02.614Z"
   },
   {
    "duration": 14,
    "start_time": "2021-12-16T14:38:32.666Z"
   },
   {
    "duration": 12,
    "start_time": "2021-12-16T14:39:26.466Z"
   },
   {
    "duration": 14,
    "start_time": "2021-12-16T14:39:45.649Z"
   },
   {
    "duration": 298,
    "start_time": "2021-12-16T14:40:04.837Z"
   },
   {
    "duration": 13,
    "start_time": "2021-12-16T14:40:15.818Z"
   },
   {
    "duration": 13,
    "start_time": "2021-12-16T14:50:36.060Z"
   },
   {
    "duration": 8,
    "start_time": "2021-12-16T14:52:30.307Z"
   },
   {
    "duration": 116,
    "start_time": "2021-12-16T14:52:39.026Z"
   },
   {
    "duration": 13,
    "start_time": "2021-12-16T14:52:44.415Z"
   },
   {
    "duration": 16,
    "start_time": "2021-12-16T14:53:11.888Z"
   },
   {
    "duration": 18,
    "start_time": "2021-12-16T14:53:18.321Z"
   },
   {
    "duration": 17,
    "start_time": "2021-12-16T14:53:42.123Z"
   },
   {
    "duration": 11,
    "start_time": "2021-12-16T14:53:54.288Z"
   },
   {
    "duration": 18,
    "start_time": "2021-12-16T14:54:00.719Z"
   },
   {
    "duration": 120,
    "start_time": "2021-12-16T14:54:31.821Z"
   },
   {
    "duration": 360,
    "start_time": "2021-12-16T14:54:47.181Z"
   },
   {
    "duration": 111,
    "start_time": "2021-12-16T14:55:19.038Z"
   },
   {
    "duration": 104,
    "start_time": "2021-12-16T14:55:29.740Z"
   },
   {
    "duration": 291,
    "start_time": "2021-12-16T14:55:45.612Z"
   },
   {
    "duration": 18,
    "start_time": "2021-12-16T14:55:52.090Z"
   },
   {
    "duration": 293,
    "start_time": "2021-12-16T15:00:18.887Z"
   },
   {
    "duration": 281,
    "start_time": "2021-12-16T15:00:29.608Z"
   },
   {
    "duration": 1352,
    "start_time": "2021-12-16T15:04:08.426Z"
   },
   {
    "duration": 277,
    "start_time": "2021-12-16T15:05:28.449Z"
   },
   {
    "duration": 256,
    "start_time": "2021-12-16T15:09:59.616Z"
   },
   {
    "duration": 16,
    "start_time": "2021-12-16T15:10:17.636Z"
   },
   {
    "duration": 18,
    "start_time": "2021-12-16T15:13:03.534Z"
   },
   {
    "duration": 10,
    "start_time": "2021-12-16T15:14:35.148Z"
   },
   {
    "duration": 15,
    "start_time": "2021-12-16T15:15:17.303Z"
   },
   {
    "duration": 14,
    "start_time": "2021-12-16T15:15:23.113Z"
   },
   {
    "duration": 14,
    "start_time": "2021-12-16T15:16:18.881Z"
   },
   {
    "duration": 12,
    "start_time": "2021-12-16T15:16:52.520Z"
   },
   {
    "duration": 12,
    "start_time": "2021-12-16T15:17:28.325Z"
   },
   {
    "duration": 13,
    "start_time": "2021-12-16T15:19:04.162Z"
   },
   {
    "duration": 11,
    "start_time": "2021-12-16T15:19:09.252Z"
   },
   {
    "duration": 16,
    "start_time": "2021-12-16T15:19:15.997Z"
   },
   {
    "duration": 49,
    "start_time": "2021-12-16T15:37:47.669Z"
   },
   {
    "duration": 12,
    "start_time": "2021-12-16T15:37:47.720Z"
   },
   {
    "duration": 24,
    "start_time": "2021-12-16T15:37:47.733Z"
   },
   {
    "duration": 10,
    "start_time": "2021-12-16T15:37:47.759Z"
   },
   {
    "duration": 23,
    "start_time": "2021-12-16T15:37:47.771Z"
   },
   {
    "duration": 16,
    "start_time": "2021-12-16T15:37:47.796Z"
   },
   {
    "duration": 15,
    "start_time": "2021-12-16T15:37:47.814Z"
   },
   {
    "duration": 18,
    "start_time": "2021-12-16T15:37:47.831Z"
   },
   {
    "duration": 52,
    "start_time": "2021-12-16T15:37:47.851Z"
   },
   {
    "duration": 52,
    "start_time": "2021-12-16T15:37:47.905Z"
   },
   {
    "duration": 26,
    "start_time": "2021-12-16T15:37:47.960Z"
   },
   {
    "duration": 25,
    "start_time": "2021-12-16T15:37:47.988Z"
   },
   {
    "duration": 36,
    "start_time": "2021-12-16T15:37:48.015Z"
   },
   {
    "duration": 29,
    "start_time": "2021-12-16T15:37:48.053Z"
   },
   {
    "duration": 32,
    "start_time": "2021-12-16T15:37:48.084Z"
   },
   {
    "duration": 10,
    "start_time": "2021-12-16T15:37:48.117Z"
   },
   {
    "duration": 13,
    "start_time": "2021-12-16T15:37:48.129Z"
   },
   {
    "duration": 37,
    "start_time": "2021-12-16T15:37:48.144Z"
   },
   {
    "duration": 21,
    "start_time": "2021-12-16T15:37:48.183Z"
   },
   {
    "duration": 21,
    "start_time": "2021-12-16T15:37:48.206Z"
   },
   {
    "duration": 22,
    "start_time": "2021-12-16T15:37:48.229Z"
   },
   {
    "duration": 27,
    "start_time": "2021-12-16T15:37:48.253Z"
   },
   {
    "duration": 13,
    "start_time": "2021-12-16T15:37:48.281Z"
   },
   {
    "duration": 21,
    "start_time": "2021-12-16T15:37:48.298Z"
   },
   {
    "duration": 33,
    "start_time": "2021-12-16T15:37:48.321Z"
   },
   {
    "duration": 4,
    "start_time": "2021-12-16T15:37:48.356Z"
   },
   {
    "duration": 34,
    "start_time": "2021-12-16T15:37:48.362Z"
   },
   {
    "duration": 10,
    "start_time": "2021-12-16T15:37:48.398Z"
   },
   {
    "duration": 28,
    "start_time": "2021-12-16T15:37:48.410Z"
   },
   {
    "duration": 19,
    "start_time": "2021-12-16T15:37:48.440Z"
   },
   {
    "duration": 7,
    "start_time": "2021-12-16T15:37:48.461Z"
   },
   {
    "duration": 17,
    "start_time": "2021-12-16T15:37:48.470Z"
   },
   {
    "duration": 29,
    "start_time": "2021-12-16T15:37:48.489Z"
   },
   {
    "duration": 29,
    "start_time": "2021-12-16T15:37:48.520Z"
   },
   {
    "duration": 37,
    "start_time": "2021-12-16T15:37:48.551Z"
   },
   {
    "duration": 31,
    "start_time": "2021-12-16T15:37:48.590Z"
   },
   {
    "duration": 3750,
    "start_time": "2021-12-16T15:37:48.623Z"
   },
   {
    "duration": 5647,
    "start_time": "2021-12-16T15:37:52.375Z"
   },
   {
    "duration": 29,
    "start_time": "2021-12-16T15:37:58.023Z"
   },
   {
    "duration": 12,
    "start_time": "2021-12-16T15:37:58.053Z"
   },
   {
    "duration": 10,
    "start_time": "2021-12-16T15:37:58.067Z"
   },
   {
    "duration": 17,
    "start_time": "2021-12-16T15:37:58.078Z"
   },
   {
    "duration": 285,
    "start_time": "2021-12-16T15:37:58.097Z"
   },
   {
    "duration": 134,
    "start_time": "2021-12-16T15:37:58.250Z"
   },
   {
    "duration": 122,
    "start_time": "2021-12-16T15:37:58.263Z"
   },
   {
    "duration": 95,
    "start_time": "2021-12-16T15:37:58.291Z"
   },
   {
    "duration": 75,
    "start_time": "2021-12-16T15:37:58.312Z"
   },
   {
    "duration": 53,
    "start_time": "2021-12-16T15:40:36.746Z"
   },
   {
    "duration": 12,
    "start_time": "2021-12-16T15:40:36.801Z"
   },
   {
    "duration": 13,
    "start_time": "2021-12-16T15:40:36.816Z"
   },
   {
    "duration": 14,
    "start_time": "2021-12-16T15:40:36.831Z"
   },
   {
    "duration": 10,
    "start_time": "2021-12-16T15:40:36.847Z"
   },
   {
    "duration": 13,
    "start_time": "2021-12-16T15:40:36.859Z"
   },
   {
    "duration": 13,
    "start_time": "2021-12-16T15:40:36.875Z"
   },
   {
    "duration": 8,
    "start_time": "2021-12-16T15:40:36.890Z"
   },
   {
    "duration": 82,
    "start_time": "2021-12-16T15:40:36.899Z"
   },
   {
    "duration": 65,
    "start_time": "2021-12-16T15:40:36.983Z"
   },
   {
    "duration": 25,
    "start_time": "2021-12-16T15:40:37.049Z"
   },
   {
    "duration": 6,
    "start_time": "2021-12-16T15:40:37.076Z"
   },
   {
    "duration": 9,
    "start_time": "2021-12-16T15:40:37.084Z"
   },
   {
    "duration": 13,
    "start_time": "2021-12-16T15:40:37.095Z"
   },
   {
    "duration": 47,
    "start_time": "2021-12-16T15:40:37.110Z"
   },
   {
    "duration": 10,
    "start_time": "2021-12-16T15:40:37.159Z"
   },
   {
    "duration": 26,
    "start_time": "2021-12-16T15:40:37.171Z"
   },
   {
    "duration": 18,
    "start_time": "2021-12-16T15:40:37.199Z"
   },
   {
    "duration": 26,
    "start_time": "2021-12-16T15:40:37.219Z"
   },
   {
    "duration": 9,
    "start_time": "2021-12-16T15:40:37.248Z"
   },
   {
    "duration": 8,
    "start_time": "2021-12-16T15:40:37.258Z"
   },
   {
    "duration": 14,
    "start_time": "2021-12-16T15:40:37.267Z"
   },
   {
    "duration": 8,
    "start_time": "2021-12-16T15:40:37.283Z"
   },
   {
    "duration": 52,
    "start_time": "2021-12-16T15:40:37.292Z"
   },
   {
    "duration": 20,
    "start_time": "2021-12-16T15:40:37.347Z"
   },
   {
    "duration": 4,
    "start_time": "2021-12-16T15:40:37.369Z"
   },
   {
    "duration": 14,
    "start_time": "2021-12-16T15:40:37.375Z"
   },
   {
    "duration": 4,
    "start_time": "2021-12-16T15:40:37.391Z"
   },
   {
    "duration": 57,
    "start_time": "2021-12-16T15:40:37.397Z"
   },
   {
    "duration": 20,
    "start_time": "2021-12-16T15:40:37.456Z"
   },
   {
    "duration": 8,
    "start_time": "2021-12-16T15:40:37.477Z"
   },
   {
    "duration": 10,
    "start_time": "2021-12-16T15:40:37.487Z"
   },
   {
    "duration": 46,
    "start_time": "2021-12-16T15:40:37.499Z"
   },
   {
    "duration": 22,
    "start_time": "2021-12-16T15:40:37.547Z"
   },
   {
    "duration": 24,
    "start_time": "2021-12-16T15:40:37.570Z"
   },
   {
    "duration": 49,
    "start_time": "2021-12-16T15:40:37.596Z"
   },
   {
    "duration": 3804,
    "start_time": "2021-12-16T15:40:37.647Z"
   },
   {
    "duration": 5569,
    "start_time": "2021-12-16T15:40:41.453Z"
   },
   {
    "duration": 30,
    "start_time": "2021-12-16T15:40:47.023Z"
   },
   {
    "duration": 11,
    "start_time": "2021-12-16T15:40:47.055Z"
   },
   {
    "duration": 10,
    "start_time": "2021-12-16T15:40:47.068Z"
   },
   {
    "duration": 16,
    "start_time": "2021-12-16T15:40:47.080Z"
   },
   {
    "duration": 20,
    "start_time": "2021-12-16T15:40:47.098Z"
   },
   {
    "duration": 35,
    "start_time": "2021-12-16T15:40:47.120Z"
   },
   {
    "duration": 11,
    "start_time": "2021-12-16T15:40:47.157Z"
   },
   {
    "duration": 13,
    "start_time": "2021-12-16T15:40:47.169Z"
   },
   {
    "duration": 13,
    "start_time": "2021-12-16T15:40:47.184Z"
   },
   {
    "duration": 424,
    "start_time": "2021-12-16T19:26:51.394Z"
   },
   {
    "duration": 1313,
    "start_time": "2021-12-16T19:35:26.583Z"
   },
   {
    "duration": 302,
    "start_time": "2021-12-16T19:37:24.753Z"
   },
   {
    "duration": 13,
    "start_time": "2021-12-16T19:38:52.125Z"
   },
   {
    "duration": 8,
    "start_time": "2021-12-16T19:39:00.651Z"
   },
   {
    "duration": 8,
    "start_time": "2021-12-16T19:39:40.927Z"
   },
   {
    "duration": 336,
    "start_time": "2021-12-16T19:39:48.847Z"
   },
   {
    "duration": 308,
    "start_time": "2021-12-16T19:40:08.742Z"
   },
   {
    "duration": 426,
    "start_time": "2021-12-16T19:45:50.206Z"
   },
   {
    "duration": 454,
    "start_time": "2021-12-16T19:46:13.451Z"
   },
   {
    "duration": 573,
    "start_time": "2021-12-16T19:46:19.052Z"
   },
   {
    "duration": 485,
    "start_time": "2021-12-16T19:46:36.680Z"
   },
   {
    "duration": 292,
    "start_time": "2021-12-16T19:48:08.884Z"
   },
   {
    "duration": 298,
    "start_time": "2021-12-16T19:48:18.452Z"
   },
   {
    "duration": 288,
    "start_time": "2021-12-16T19:48:31.378Z"
   },
   {
    "duration": 312,
    "start_time": "2021-12-16T19:48:42.159Z"
   },
   {
    "duration": 492,
    "start_time": "2021-12-16T19:49:13.728Z"
   },
   {
    "duration": 307,
    "start_time": "2021-12-16T19:49:27.522Z"
   },
   {
    "duration": 303,
    "start_time": "2021-12-16T19:50:52.723Z"
   },
   {
    "duration": 78,
    "start_time": "2021-12-16T19:51:02.983Z"
   },
   {
    "duration": 20,
    "start_time": "2021-12-16T19:51:03.064Z"
   },
   {
    "duration": 15,
    "start_time": "2021-12-16T19:51:03.087Z"
   },
   {
    "duration": 17,
    "start_time": "2021-12-16T19:51:03.104Z"
   },
   {
    "duration": 61,
    "start_time": "2021-12-16T19:51:03.123Z"
   },
   {
    "duration": 48,
    "start_time": "2021-12-16T19:51:03.188Z"
   },
   {
    "duration": 35,
    "start_time": "2021-12-16T19:51:03.239Z"
   },
   {
    "duration": 25,
    "start_time": "2021-12-16T19:51:03.277Z"
   },
   {
    "duration": 92,
    "start_time": "2021-12-16T19:51:03.305Z"
   },
   {
    "duration": 85,
    "start_time": "2021-12-16T19:51:03.399Z"
   },
   {
    "duration": 37,
    "start_time": "2021-12-16T19:51:03.487Z"
   },
   {
    "duration": 43,
    "start_time": "2021-12-16T19:51:03.526Z"
   },
   {
    "duration": 11,
    "start_time": "2021-12-16T19:51:03.573Z"
   },
   {
    "duration": 20,
    "start_time": "2021-12-16T19:51:03.588Z"
   },
   {
    "duration": 68,
    "start_time": "2021-12-16T19:51:03.611Z"
   },
   {
    "duration": 19,
    "start_time": "2021-12-16T19:51:03.683Z"
   },
   {
    "duration": 25,
    "start_time": "2021-12-16T19:51:03.706Z"
   },
   {
    "duration": 24,
    "start_time": "2021-12-16T19:51:03.762Z"
   },
   {
    "duration": 45,
    "start_time": "2021-12-16T19:51:03.788Z"
   },
   {
    "duration": 43,
    "start_time": "2021-12-16T19:51:03.836Z"
   },
   {
    "duration": 22,
    "start_time": "2021-12-16T19:51:03.881Z"
   },
   {
    "duration": 33,
    "start_time": "2021-12-16T19:51:03.906Z"
   },
   {
    "duration": 34,
    "start_time": "2021-12-16T19:51:03.942Z"
   },
   {
    "duration": 40,
    "start_time": "2021-12-16T19:51:03.978Z"
   },
   {
    "duration": 48,
    "start_time": "2021-12-16T19:51:04.021Z"
   },
   {
    "duration": 8,
    "start_time": "2021-12-16T19:51:04.072Z"
   },
   {
    "duration": 46,
    "start_time": "2021-12-16T19:51:04.085Z"
   },
   {
    "duration": 7,
    "start_time": "2021-12-16T19:51:04.135Z"
   },
   {
    "duration": 81,
    "start_time": "2021-12-16T19:51:04.145Z"
   },
   {
    "duration": 39,
    "start_time": "2021-12-16T19:51:04.229Z"
   },
   {
    "duration": 10,
    "start_time": "2021-12-16T19:51:04.270Z"
   },
   {
    "duration": 36,
    "start_time": "2021-12-16T19:51:04.283Z"
   },
   {
    "duration": 61,
    "start_time": "2021-12-16T19:51:04.322Z"
   },
   {
    "duration": 62,
    "start_time": "2021-12-16T19:51:04.386Z"
   },
   {
    "duration": 31,
    "start_time": "2021-12-16T19:51:04.451Z"
   },
   {
    "duration": 52,
    "start_time": "2021-12-16T19:51:04.484Z"
   },
   {
    "duration": 5524,
    "start_time": "2021-12-16T19:51:04.539Z"
   },
   {
    "duration": 9040,
    "start_time": "2021-12-16T19:51:10.066Z"
   },
   {
    "duration": 76,
    "start_time": "2021-12-16T19:51:19.109Z"
   },
   {
    "duration": 18,
    "start_time": "2021-12-16T19:51:19.187Z"
   },
   {
    "duration": 16,
    "start_time": "2021-12-16T19:51:19.207Z"
   },
   {
    "duration": 53,
    "start_time": "2021-12-16T19:51:19.226Z"
   },
   {
    "duration": 35,
    "start_time": "2021-12-16T19:51:19.282Z"
   },
   {
    "duration": 28,
    "start_time": "2021-12-16T19:51:19.321Z"
   },
   {
    "duration": 36,
    "start_time": "2021-12-16T19:51:19.353Z"
   },
   {
    "duration": 41,
    "start_time": "2021-12-16T19:51:19.392Z"
   },
   {
    "duration": 535,
    "start_time": "2021-12-16T19:51:19.435Z"
   },
   {
    "duration": -928,
    "start_time": "2021-12-16T19:51:20.901Z"
   },
   {
    "duration": 25,
    "start_time": "2021-12-16T19:51:43.618Z"
   },
   {
    "duration": 301,
    "start_time": "2021-12-16T19:53:57.701Z"
   },
   {
    "duration": 22,
    "start_time": "2021-12-16T19:54:11.650Z"
   },
   {
    "duration": 293,
    "start_time": "2021-12-16T19:54:16.851Z"
   },
   {
    "duration": 288,
    "start_time": "2021-12-16T19:55:23.274Z"
   },
   {
    "duration": 312,
    "start_time": "2021-12-16T19:57:07.895Z"
   },
   {
    "duration": 312,
    "start_time": "2021-12-16T19:57:32.267Z"
   },
   {
    "duration": 331,
    "start_time": "2021-12-16T19:58:15.300Z"
   },
   {
    "duration": 770,
    "start_time": "2021-12-16T19:58:44.326Z"
   },
   {
    "duration": 43,
    "start_time": "2021-12-16T19:58:53.559Z"
   },
   {
    "duration": 328,
    "start_time": "2021-12-16T19:59:07.365Z"
   },
   {
    "duration": 273,
    "start_time": "2021-12-16T20:00:26.930Z"
   },
   {
    "duration": 544,
    "start_time": "2021-12-16T20:00:51.697Z"
   },
   {
    "duration": 311,
    "start_time": "2021-12-16T20:01:02.599Z"
   },
   {
    "duration": 324,
    "start_time": "2021-12-16T20:01:20.577Z"
   },
   {
    "duration": 305,
    "start_time": "2021-12-16T20:01:35.160Z"
   },
   {
    "duration": 252,
    "start_time": "2021-12-16T20:02:34.884Z"
   },
   {
    "duration": 267,
    "start_time": "2021-12-16T20:03:03.128Z"
   },
   {
    "duration": 281,
    "start_time": "2021-12-16T20:03:23.660Z"
   },
   {
    "duration": 905,
    "start_time": "2021-12-16T20:14:13.602Z"
   },
   {
    "duration": 305,
    "start_time": "2021-12-16T20:14:26.058Z"
   },
   {
    "duration": 331,
    "start_time": "2021-12-16T20:15:24.596Z"
   },
   {
    "duration": 420,
    "start_time": "2021-12-16T20:15:30.241Z"
   },
   {
    "duration": 828,
    "start_time": "2021-12-16T20:16:03.697Z"
   },
   {
    "duration": 552,
    "start_time": "2021-12-16T20:16:18.485Z"
   },
   {
    "duration": 266,
    "start_time": "2021-12-16T20:18:37.696Z"
   },
   {
    "duration": 292,
    "start_time": "2021-12-16T20:26:24.604Z"
   },
   {
    "duration": 274,
    "start_time": "2021-12-16T20:33:25.525Z"
   },
   {
    "duration": 275,
    "start_time": "2021-12-16T20:33:28.106Z"
   },
   {
    "duration": 293,
    "start_time": "2021-12-16T20:33:35.531Z"
   },
   {
    "duration": 264,
    "start_time": "2021-12-16T20:33:46.778Z"
   },
   {
    "duration": 299,
    "start_time": "2021-12-16T20:36:07.670Z"
   },
   {
    "duration": 75,
    "start_time": "2021-12-16T20:46:01.129Z"
   },
   {
    "duration": 19,
    "start_time": "2021-12-16T20:46:01.208Z"
   },
   {
    "duration": 37,
    "start_time": "2021-12-16T20:46:01.230Z"
   },
   {
    "duration": 37,
    "start_time": "2021-12-16T20:46:01.270Z"
   },
   {
    "duration": 45,
    "start_time": "2021-12-16T20:46:01.309Z"
   },
   {
    "duration": 23,
    "start_time": "2021-12-16T20:46:01.357Z"
   },
   {
    "duration": 21,
    "start_time": "2021-12-16T20:46:01.382Z"
   },
   {
    "duration": 47,
    "start_time": "2021-12-16T20:46:01.407Z"
   },
   {
    "duration": 105,
    "start_time": "2021-12-16T20:46:01.462Z"
   },
   {
    "duration": 35,
    "start_time": "2021-12-16T20:46:01.570Z"
   },
   {
    "duration": 74,
    "start_time": "2021-12-16T20:46:01.608Z"
   },
   {
    "duration": 9,
    "start_time": "2021-12-16T20:46:01.685Z"
   },
   {
    "duration": 25,
    "start_time": "2021-12-16T20:46:01.697Z"
   },
   {
    "duration": 24,
    "start_time": "2021-12-16T20:46:01.724Z"
   },
   {
    "duration": 38,
    "start_time": "2021-12-16T20:46:01.750Z"
   },
   {
    "duration": 15,
    "start_time": "2021-12-16T20:46:01.791Z"
   },
   {
    "duration": 35,
    "start_time": "2021-12-16T20:46:01.809Z"
   },
   {
    "duration": 51,
    "start_time": "2021-12-16T20:46:01.846Z"
   },
   {
    "duration": 44,
    "start_time": "2021-12-16T20:46:01.900Z"
   },
   {
    "duration": 32,
    "start_time": "2021-12-16T20:46:01.947Z"
   },
   {
    "duration": 30,
    "start_time": "2021-12-16T20:46:01.982Z"
   },
   {
    "duration": 49,
    "start_time": "2021-12-16T20:46:02.015Z"
   },
   {
    "duration": 42,
    "start_time": "2021-12-16T20:46:02.069Z"
   },
   {
    "duration": 53,
    "start_time": "2021-12-16T20:46:02.115Z"
   },
   {
    "duration": 39,
    "start_time": "2021-12-16T20:46:02.171Z"
   },
   {
    "duration": 14,
    "start_time": "2021-12-16T20:46:02.213Z"
   },
   {
    "duration": 46,
    "start_time": "2021-12-16T20:46:02.229Z"
   },
   {
    "duration": 16,
    "start_time": "2021-12-16T20:46:02.278Z"
   },
   {
    "duration": 81,
    "start_time": "2021-12-16T20:46:02.297Z"
   },
   {
    "duration": 27,
    "start_time": "2021-12-16T20:46:02.380Z"
   },
   {
    "duration": 39,
    "start_time": "2021-12-16T20:46:02.409Z"
   },
   {
    "duration": 41,
    "start_time": "2021-12-16T20:46:02.450Z"
   },
   {
    "duration": 58,
    "start_time": "2021-12-16T20:46:02.493Z"
   },
   {
    "duration": 29,
    "start_time": "2021-12-16T20:46:02.553Z"
   },
   {
    "duration": 36,
    "start_time": "2021-12-16T20:46:02.584Z"
   },
   {
    "duration": 59,
    "start_time": "2021-12-16T20:46:02.623Z"
   },
   {
    "duration": 5162,
    "start_time": "2021-12-16T20:46:02.685Z"
   },
   {
    "duration": 8698,
    "start_time": "2021-12-16T20:46:07.850Z"
   },
   {
    "duration": 31,
    "start_time": "2021-12-16T20:46:16.550Z"
   },
   {
    "duration": 16,
    "start_time": "2021-12-16T20:46:16.584Z"
   },
   {
    "duration": 16,
    "start_time": "2021-12-16T20:46:16.602Z"
   },
   {
    "duration": 57,
    "start_time": "2021-12-16T20:46:16.620Z"
   },
   {
    "duration": 26,
    "start_time": "2021-12-16T20:46:16.680Z"
   },
   {
    "duration": 20,
    "start_time": "2021-12-16T20:46:16.708Z"
   },
   {
    "duration": 45,
    "start_time": "2021-12-16T20:46:16.730Z"
   },
   {
    "duration": 20,
    "start_time": "2021-12-16T20:46:16.777Z"
   },
   {
    "duration": 22,
    "start_time": "2021-12-16T20:46:16.800Z"
   },
   {
    "duration": 315,
    "start_time": "2021-12-16T20:46:16.824Z"
   },
   {
    "duration": 420,
    "start_time": "2021-12-16T20:46:17.142Z"
   },
   {
    "duration": 285,
    "start_time": "2021-12-16T20:46:17.565Z"
   },
   {
    "duration": 302,
    "start_time": "2021-12-16T20:46:17.852Z"
   },
   {
    "duration": 832,
    "start_time": "2021-12-16T20:57:04.163Z"
   },
   {
    "duration": 29,
    "start_time": "2021-12-16T20:57:04.998Z"
   },
   {
    "duration": 35,
    "start_time": "2021-12-16T20:57:05.030Z"
   },
   {
    "duration": 5,
    "start_time": "2021-12-16T20:57:05.068Z"
   },
   {
    "duration": 12,
    "start_time": "2021-12-16T20:57:05.076Z"
   },
   {
    "duration": 20,
    "start_time": "2021-12-16T20:57:05.090Z"
   },
   {
    "duration": 62,
    "start_time": "2021-12-16T20:57:05.113Z"
   },
   {
    "duration": 11,
    "start_time": "2021-12-16T20:57:05.178Z"
   },
   {
    "duration": 114,
    "start_time": "2021-12-16T20:57:05.194Z"
   },
   {
    "duration": 76,
    "start_time": "2021-12-16T20:57:05.311Z"
   },
   {
    "duration": 50,
    "start_time": "2021-12-16T20:57:05.390Z"
   },
   {
    "duration": 13,
    "start_time": "2021-12-16T20:57:05.463Z"
   },
   {
    "duration": 10,
    "start_time": "2021-12-16T20:57:05.478Z"
   },
   {
    "duration": 12,
    "start_time": "2021-12-16T20:57:05.491Z"
   },
   {
    "duration": 61,
    "start_time": "2021-12-16T20:57:05.505Z"
   },
   {
    "duration": 19,
    "start_time": "2021-12-16T20:57:05.569Z"
   },
   {
    "duration": 15,
    "start_time": "2021-12-16T20:57:05.591Z"
   },
   {
    "duration": 62,
    "start_time": "2021-12-16T20:57:05.609Z"
   },
   {
    "duration": 14,
    "start_time": "2021-12-16T20:57:05.674Z"
   },
   {
    "duration": 11,
    "start_time": "2021-12-16T20:57:05.691Z"
   },
   {
    "duration": 10,
    "start_time": "2021-12-16T20:57:05.705Z"
   },
   {
    "duration": 61,
    "start_time": "2021-12-16T20:57:05.718Z"
   },
   {
    "duration": 17,
    "start_time": "2021-12-16T20:57:05.782Z"
   },
   {
    "duration": 18,
    "start_time": "2021-12-16T20:57:05.801Z"
   },
   {
    "duration": 54,
    "start_time": "2021-12-16T20:57:05.821Z"
   },
   {
    "duration": 6,
    "start_time": "2021-12-16T20:57:05.877Z"
   },
   {
    "duration": 17,
    "start_time": "2021-12-16T20:57:05.888Z"
   },
   {
    "duration": 7,
    "start_time": "2021-12-16T20:57:05.908Z"
   },
   {
    "duration": 72,
    "start_time": "2021-12-16T20:57:05.918Z"
   },
   {
    "duration": 29,
    "start_time": "2021-12-16T20:57:05.992Z"
   },
   {
    "duration": 43,
    "start_time": "2021-12-16T20:57:06.023Z"
   },
   {
    "duration": 14,
    "start_time": "2021-12-16T20:57:06.068Z"
   },
   {
    "duration": 20,
    "start_time": "2021-12-16T20:57:06.084Z"
   },
   {
    "duration": 77,
    "start_time": "2021-12-16T20:57:06.107Z"
   },
   {
    "duration": 40,
    "start_time": "2021-12-16T20:57:06.187Z"
   },
   {
    "duration": 80,
    "start_time": "2021-12-16T20:57:06.230Z"
   },
   {
    "duration": 4814,
    "start_time": "2021-12-16T20:57:06.313Z"
   },
   {
    "duration": 8798,
    "start_time": "2021-12-16T20:57:11.130Z"
   },
   {
    "duration": 38,
    "start_time": "2021-12-16T20:57:19.931Z"
   },
   {
    "duration": 17,
    "start_time": "2021-12-16T20:57:19.972Z"
   },
   {
    "duration": 16,
    "start_time": "2021-12-16T20:57:19.992Z"
   },
   {
    "duration": 55,
    "start_time": "2021-12-16T20:57:20.011Z"
   },
   {
    "duration": 26,
    "start_time": "2021-12-16T20:57:20.069Z"
   },
   {
    "duration": 21,
    "start_time": "2021-12-16T20:57:20.097Z"
   },
   {
    "duration": 43,
    "start_time": "2021-12-16T20:57:20.121Z"
   },
   {
    "duration": 20,
    "start_time": "2021-12-16T20:57:20.167Z"
   },
   {
    "duration": 20,
    "start_time": "2021-12-16T20:57:20.189Z"
   },
   {
    "duration": 483,
    "start_time": "2021-12-16T20:57:20.211Z"
   },
   {
    "duration": 298,
    "start_time": "2021-12-16T20:57:20.696Z"
   },
   {
    "duration": 287,
    "start_time": "2021-12-16T20:57:20.996Z"
   },
   {
    "duration": 290,
    "start_time": "2021-12-16T20:57:21.286Z"
   }
  ],
  "kernelspec": {
   "display_name": "Python 3 (ipykernel)",
   "language": "python",
   "name": "python3"
  },
  "language_info": {
   "codemirror_mode": {
    "name": "ipython",
    "version": 3
   },
   "file_extension": ".py",
   "mimetype": "text/x-python",
   "name": "python",
   "nbconvert_exporter": "python",
   "pygments_lexer": "ipython3",
   "version": "3.7.8"
  },
  "toc": {
   "base_numbering": 1,
   "nav_menu": {},
   "number_sections": true,
   "sideBar": true,
   "skip_h1_title": true,
   "title_cell": "Table of Contents",
   "title_sidebar": "Contents",
   "toc_cell": false,
   "toc_position": {
    "height": "calc(100% - 180px)",
    "left": "10px",
    "top": "150px",
    "width": "384px"
   },
   "toc_section_display": true,
   "toc_window_display": true
  }
 },
 "nbformat": 4,
 "nbformat_minor": 2
}
